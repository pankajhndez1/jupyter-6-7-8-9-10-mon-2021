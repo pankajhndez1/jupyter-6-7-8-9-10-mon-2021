{
 "cells": [
  {
   "cell_type": "markdown",
   "metadata": {},
   "source": [
    "# Date and Time :-"
   ]
  },
  {
   "cell_type": "code",
   "execution_count": 7,
   "metadata": {},
   "outputs": [
    {
     "name": "stdout",
     "output_type": "stream",
     "text": [
      "1624212375.4236326\n"
     ]
    }
   ],
   "source": [
    "from time import time,ctime,localtime\n",
    "\n",
    "epoch=time()\n",
    "print(epoch)"
   ]
  },
  {
   "cell_type": "code",
   "execution_count": 9,
   "metadata": {},
   "outputs": [
    {
     "name": "stdout",
     "output_type": "stream",
     "text": [
      "Sun Jun 20 23:36:15 2021\n"
     ]
    }
   ],
   "source": [
    "ct=ctime(epoch)\n",
    "print(ct)"
   ]
  },
  {
   "cell_type": "code",
   "execution_count": 15,
   "metadata": {},
   "outputs": [
    {
     "name": "stdout",
     "output_type": "stream",
     "text": [
      "Sun Jun 20 23:36:46 2021\n"
     ]
    }
   ],
   "source": [
    "print(ctime())"
   ]
  },
  {
   "cell_type": "code",
   "execution_count": 25,
   "metadata": {},
   "outputs": [
    {
     "name": "stdout",
     "output_type": "stream",
     "text": [
      "time.struct_time(tm_year=2021, tm_mon=6, tm_mday=20, tm_hour=23, tm_min=42, tm_sec=3, tm_wday=6, tm_yday=171, tm_isdst=0)\n",
      "\n",
      "2021\n",
      "\n",
      "6\n",
      "20\n"
     ]
    },
    {
     "data": {
      "text/plain": [
       "23"
      ]
     },
     "execution_count": 25,
     "metadata": {},
     "output_type": "execute_result"
    }
   ],
   "source": [
    "from time import time,ctime,localtime\n",
    "\n",
    "stobj=localtime()\n",
    "print(stobj)\n",
    "print()\n",
    "print(stobj.tm_year)\n",
    "print()\n",
    "print(stobj.tm_mon)\n",
    "print(stobj.tm_mday)\n",
    "stobj.tm_hour\n"
   ]
  },
  {
   "cell_type": "code",
   "execution_count": 28,
   "metadata": {},
   "outputs": [
    {
     "name": "stdout",
     "output_type": "stream",
     "text": [
      "time.struct_time(tm_year=2021, tm_mon=6, tm_mday=20, tm_hour=23, tm_min=45, tm_sec=31, tm_wday=6, tm_yday=171, tm_isdst=0)\n",
      "year : 2021\n",
      "month : 6\n",
      "day : 20\n",
      "hour: 23\n",
      "min: 45\n"
     ]
    }
   ],
   "source": [
    "from time import time,localtime,ctime\n",
    "\n",
    "stobj=localtime()\n",
    "print(stobj)\n",
    "print(\"year :\",stobj.tm_year)\n",
    "print(\"month :\",stobj.tm_mon)\n",
    "print(\"day :\",stobj.tm_mday)\n",
    "print(\"hour:\",stobj.tm_hour)\n",
    "print(\"min:\",stobj.tm_min)\n"
   ]
  },
  {
   "cell_type": "code",
   "execution_count": 41,
   "metadata": {},
   "outputs": [
    {
     "name": "stdout",
     "output_type": "stream",
     "text": [
      "time.struct_time(tm_year=2021, tm_mon=6, tm_mday=20, tm_hour=23, tm_min=53, tm_sec=5, tm_wday=6, tm_yday=171, tm_isdst=0)\n",
      "year : 2021/month : 6/day : 20/hour: 23:min: 53\n"
     ]
    }
   ],
   "source": [
    "from time import time,localtime,ctime\n",
    "\n",
    "stobj=localtime()\n",
    "print(stobj)\n",
    "print(\"year :\",stobj.tm_year ,end=\"/\")\n",
    "print(\"month :\",stobj.tm_mon,end=\"/\")\n",
    "print(\"day :\",stobj.tm_mday,end=\"/\")\n",
    "print(\"hour:\",stobj.tm_hour,end=\":\")\n",
    "print(\"min:\",stobj.tm_min)"
   ]
  },
  {
   "cell_type": "markdown",
   "metadata": {},
   "source": [
    "# datetime module:-"
   ]
  },
  {
   "cell_type": "raw",
   "metadata": {},
   "source": [
    "datetime class : it handles date and time . It has year ,month ,day, hour, minute, second,microsecond and tzinfo attributes\n",
    "\n",
    "date class : it handles dates of gregorian calender without taking time zone into consideration. It has year , month and Day  attributes\n",
    "\n",
    "time class : it handles time assuming that everyday has exactly  24*60*60 seconds. It has hour,minute,second,microsecond and tzinfo attributes\n",
    "\n",
    "timedelta class : it handles durations. The duration may be the difference b/w two date ,time or date instances"
   ]
  },
  {
   "cell_type": "markdown",
   "metadata": {},
   "source": [
    "# datetime class :"
   ]
  },
  {
   "cell_type": "raw",
   "metadata": {},
   "source": [
    "datetime object:- A datetime object is a single object containing all the information from a date object and a time object"
   ]
  },
  {
   "cell_type": "markdown",
   "metadata": {},
   "source": [
    "# creating object of datetime class :"
   ]
  },
  {
   "cell_type": "raw",
   "metadata": {},
   "source": [
    "object_name=datetime(year,month,day,hour=0,minute=0,second=0,microsecond=0,tzinfo=None, * , fold=0 ) \n",
    "\n",
    "\n",
    "the year,month and day arguments are mandatory i.e you must have to define these three parameters"
   ]
  },
  {
   "cell_type": "code",
   "execution_count": 50,
   "metadata": {},
   "outputs": [
    {
     "name": "stdout",
     "output_type": "stream",
     "text": [
      "2021-06-21 00:09:00\n"
     ]
    }
   ],
   "source": [
    "from datetime import datetime \n",
    "\n",
    "dt=datetime(year=2021,month=6, day=21,hour=0,minute=9)\n",
    "print(dt)"
   ]
  },
  {
   "cell_type": "raw",
   "metadata": {},
   "source": [
    "Note: it is not mandatory to write year=2021 we can simply write 2021"
   ]
  },
  {
   "cell_type": "code",
   "execution_count": 58,
   "metadata": {},
   "outputs": [
    {
     "name": "stdout",
     "output_type": "stream",
     "text": [
      "2021-06-21 00:09:00\n",
      "year is : 2021\n"
     ]
    }
   ],
   "source": [
    "from datetime import datetime \n",
    "\n",
    "dt=datetime(2021,6, 21,0,9)\n",
    "print(dt)\n",
    "print(\"year is :\",dt.year)  # after that we can access the date ,time and day too using object (dt)"
   ]
  },
  {
   "cell_type": "markdown",
   "metadata": {},
   "source": [
    "# Datetime class's method :-\n",
    "\n"
   ]
  },
  {
   "cell_type": "raw",
   "metadata": {},
   "source": [
    "1) now() method\n",
    "2) today() method"
   ]
  },
  {
   "cell_type": "code",
   "execution_count": 67,
   "metadata": {},
   "outputs": [
    {
     "name": "stdout",
     "output_type": "stream",
     "text": [
      "2021-06-21 00:24:20.199292\n",
      "year is : 2021\n",
      "month is : 6\n"
     ]
    }
   ],
   "source": [
    "from datetime import datetime \n",
    "\n",
    "ct=datetime.now()\n",
    "print(ct)\n",
    "print(\"year is :\",ct.year)\n",
    "print(\"month is :\",ct.month)"
   ]
  },
  {
   "cell_type": "code",
   "execution_count": 70,
   "metadata": {},
   "outputs": [
    {
     "name": "stdout",
     "output_type": "stream",
     "text": [
      "2021-06-21 00:25:03.859735\n",
      "2021\n",
      "6\n"
     ]
    }
   ],
   "source": [
    "from datetime import datetime \n",
    "\n",
    "ct=datetime.today()\n",
    "print(ct)\n",
    "print(ct.year)\n",
    "print(ct.month)"
   ]
  },
  {
   "cell_type": "markdown",
   "metadata": {},
   "source": [
    "# DATE CLASS:"
   ]
  },
  {
   "cell_type": "raw",
   "metadata": {},
   "source": [
    "date object :- a date object is an object containing information of year , month and day\n",
    "\n",
    "DATE CLASS's  METHOD :\n",
    "\n",
    ") today() method"
   ]
  },
  {
   "cell_type": "code",
   "execution_count": 82,
   "metadata": {},
   "outputs": [
    {
     "name": "stdout",
     "output_type": "stream",
     "text": [
      "2019-06-30\n",
      "year is : 2019\n",
      "month is : 6\n",
      "day is : 30\n",
      "todays date is : 2021-06-21\n"
     ]
    }
   ],
   "source": [
    "from datetime import date\n",
    "d=date(2019,6,30)\n",
    "print(d)\n",
    "print(\"year is :\",d.year)\n",
    "print(\"month is :\",d.month)\n",
    "print(\"day is :\",d.day)\n",
    "print(\"todays date is :\",date.today())"
   ]
  },
  {
   "cell_type": "markdown",
   "metadata": {},
   "source": [
    "# TIME CLASS :-"
   ]
  },
  {
   "cell_type": "raw",
   "metadata": {},
   "source": [
    "time object :- a time object is an object containing information of local time of day independent of any particular day , and subject to adjustment via a tzinfo object."
   ]
  },
  {
   "cell_type": "code",
   "execution_count": 89,
   "metadata": {},
   "outputs": [
    {
     "name": "stdout",
     "output_type": "stream",
     "text": [
      "05:34:12\n",
      "5\n",
      "12\n"
     ]
    }
   ],
   "source": [
    "from datetime import time\n",
    "t=time(hour=5,minute=34,second=12)\n",
    "print(t)\n",
    "print(t.hour)\n",
    "print(t.second)"
   ]
  },
  {
   "cell_type": "code",
   "execution_count": 90,
   "metadata": {},
   "outputs": [
    {
     "name": "stdout",
     "output_type": "stream",
     "text": [
      "05:04:12\n",
      "5\n",
      "12\n"
     ]
    }
   ],
   "source": [
    "from datetime import time\n",
    "t=time(5,4,12)\n",
    "print(t)\n",
    "print(t.hour)\n",
    "print(t.second)"
   ]
  },
  {
   "cell_type": "markdown",
   "metadata": {},
   "source": [
    "# time delta class :-"
   ]
  },
  {
   "cell_type": "raw",
   "metadata": {},
   "source": [
    "time delta object :- A datetime object represents a duration , the difference between two dates or time \n",
    "\n",
    "It is possible to know the future dates or previous dates using time delta"
   ]
  },
  {
   "cell_type": "code",
   "execution_count": 93,
   "metadata": {},
   "outputs": [
    {
     "name": "stdout",
     "output_type": "stream",
     "text": [
      "after 15 days the date will be  2021-07-06\n",
      "15 days before the date was 2021-06-06\n"
     ]
    }
   ],
   "source": [
    "from datetime import timedelta,date\n",
    "\n",
    "td = timedelta(days=15)\n",
    "d=date.today()\n",
    "print(\"after 15 days the date will be \",d+td)\n",
    "print(\"15 days before the date was\", d-td)"
   ]
  },
  {
   "cell_type": "markdown",
   "metadata": {},
   "source": [
    "# comparing two dates :"
   ]
  },
  {
   "cell_type": "code",
   "execution_count": 97,
   "metadata": {},
   "outputs": [
    {
     "name": "stdout",
     "output_type": "stream",
     "text": [
      "False\n",
      "True\n",
      "False\n"
     ]
    }
   ],
   "source": [
    "from datetime import date\n",
    "\n",
    "d1=date(2019,6,30)\n",
    "d2=date(2010,5,16)\n",
    "print(d1==d2)\n",
    "print(d1>d2)\n",
    "print(d1<d2)"
   ]
  },
  {
   "cell_type": "markdown",
   "metadata": {},
   "source": [
    "# formating DATE and TIME :-"
   ]
  },
  {
   "cell_type": "raw",
   "metadata": {},
   "source": [
    "strftime() method : this method is used to format the content of datetime ,date and time class (object.strftime) represents string format to time . This method convert the object into a specified format and returns the formatted string. \n",
    "\n",
    "\n",
    "\n",
    "\n",
    "do check out the : format codes in official documentation."
   ]
  },
  {
   "cell_type": "code",
   "execution_count": 106,
   "metadata": {},
   "outputs": [
    {
     "name": "stdout",
     "output_type": "stream",
     "text": [
      "2021-06-21 03:50:25.358886\n",
      "June ,21 ,2021\n",
      "June-21-2021\n",
      "21-06-2021\n"
     ]
    }
   ],
   "source": [
    "from datetime import datetime\n",
    "\n",
    "dt=datetime.today()\n",
    "print(dt)\n",
    "newdt=dt.strftime(\"%B ,%d ,%Y\")   # comma (,) format\n",
    "print(newdt)\n",
    "newdt=dt.strftime(\"%B-%d-%Y\")  # (-) format\n",
    "print(newdt)\n",
    "\n",
    "newdt1=dt.strftime(\"%d-%m-%Y\")\n",
    "print(newdt1)"
   ]
  },
  {
   "cell_type": "markdown",
   "metadata": {},
   "source": [
    "# sleep method in python : -"
   ]
  },
  {
   "cell_type": "raw",
   "metadata": {},
   "source": [
    "sleep() method is used to stop the execution of a program temprorarily for a given amount of time . When this functionis called ,pvm  stops program execution for given amount of time.\n",
    "\n",
    "\n",
    "note : it belongs to time module"
   ]
  },
  {
   "cell_type": "code",
   "execution_count": 108,
   "metadata": {},
   "outputs": [
    {
     "name": "stdout",
     "output_type": "stream",
     "text": [
      "0\n",
      "1\n",
      "2\n",
      "3\n",
      "4\n",
      "5\n",
      "6\n",
      "7\n",
      "8\n",
      "9\n",
      "10\n",
      "11\n",
      "12\n",
      "13\n",
      "14\n",
      "15\n",
      "16\n",
      "17\n",
      "18\n",
      "19\n"
     ]
    }
   ],
   "source": [
    "import time\n",
    "\n",
    "for i in range(20):\n",
    "    print(i)\n",
    "    if (i==10):\n",
    "        time.sleep(5)\n",
    "        "
   ]
  },
  {
   "cell_type": "code",
   "execution_count": null,
   "metadata": {},
   "outputs": [],
   "source": []
  }
 ],
 "metadata": {
  "kernelspec": {
   "display_name": "Python 3",
   "language": "python",
   "name": "python3"
  },
  "language_info": {
   "codemirror_mode": {
    "name": "ipython",
    "version": 3
   },
   "file_extension": ".py",
   "mimetype": "text/x-python",
   "name": "python",
   "nbconvert_exporter": "python",
   "pygments_lexer": "ipython3",
   "version": "3.8.5"
  }
 },
 "nbformat": 4,
 "nbformat_minor": 4
}
