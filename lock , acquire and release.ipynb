{
 "cells": [
  {
   "cell_type": "markdown",
   "metadata": {},
   "source": [
    "# multitasking using multiple thread  :"
   ]
  },
  {
   "cell_type": "raw",
   "metadata": {},
   "source": [
    "When multiple tasks are executed at a time, then it is called Multi-tasking. For this purpose we need more than one thread and when we use more than one thread, it is called multi threading. "
   ]
  },
  {
   "cell_type": "code",
   "execution_count": 5,
   "metadata": {},
   "outputs": [
    {
     "name": "stdout",
     "output_type": "stream",
     "text": [
      "take order from tableserve order to table 1\n",
      "serve order to table 2\n",
      "serve order to table 3\n",
      "serve order to table 4\n",
      " 1\n",
      "take order from table 2\n",
      "take order from table 3\n",
      "take order from table 4\n"
     ]
    }
   ],
   "source": [
    "from threading import Thread\n",
    "\n",
    "class Hotel:\n",
    "    def __init__(self,t):\n",
    "        self.t=t\n",
    "    def food(self):\n",
    "        for i in range(1,5):\n",
    "            print(self.t,i)\n",
    "    \n",
    "h1=Hotel(\"take order from table\")\n",
    "h2=Hotel(\"serve order to table\")\n",
    "t1=Thread(target=h1.food)\n",
    "t2=Thread(target=h2.food)\n",
    "t1.start()\n",
    "t2.start()\n",
    "\n",
    "# o/p will be different as we are using multithreading"
   ]
  },
  {
   "cell_type": "code",
   "execution_count": 8,
   "metadata": {},
   "outputs": [
    {
     "name": "stdout",
     "output_type": "stream",
     "text": [
      "take order from table 1\n",
      "take order from table 2serve order to table\n",
      " 1\n",
      "serve order to table 2\n",
      "serve order to table 3\n",
      "serve order to table 4\n",
      "take order from table 3\n",
      "take order from table 4\n"
     ]
    }
   ],
   "source": [
    "from threading import Thread\n",
    "\n",
    "class Hotel:\n",
    "    def __init__(self,t):\n",
    "        self.t=t\n",
    "    def food(self):\n",
    "        for i in range(1,5):\n",
    "            print(self.t,i)\n",
    "    \n",
    "h1=Hotel(\"take order from table\")\n",
    "t1=Thread(target=h1.food)\n",
    "t1.start()\n",
    "h2=Hotel(\"serve order to table\")\n",
    "t2=Thread(target=h2.food)\n",
    "t2.start()\n",
    "\n",
    "# o/p will be different as we are using multithreading"
   ]
  },
  {
   "cell_type": "code",
   "execution_count": 12,
   "metadata": {},
   "outputs": [
    {
     "name": "stdout",
     "output_type": "stream",
     "text": [
      "Thread-26\n",
      "take order from table 1\n",
      "take order from table 2Thread-27\n",
      "\n",
      "serve order to table 1\n",
      "serve order to table 2\n",
      "serve order to table 3\n",
      "serve order to table 4\n",
      "take order from table 3\n",
      "take order from table 4\n"
     ]
    }
   ],
   "source": [
    "from threading import Thread\n",
    "\n",
    "class Hotel:\n",
    "    def __init__(self,t):\n",
    "        self.t=t\n",
    "    def food(self):\n",
    "        for i in range(1,5):\n",
    "            print(self.t,i)\n",
    "    \n",
    "h1=Hotel(\"take order from table\")\n",
    "h2=Hotel(\"serve order to table\")\n",
    "t1=Thread(target=h1.food)\n",
    "print(t1.name)\n",
    "t1.start()                    \n",
    "t1=Thread(target=h2.food)\n",
    "print(t1.name)\n",
    "t1.start()\n",
    "\n",
    "# here using the same name thread doesnot mean that we have not created any new thread , using the same name tthread here means both\n",
    "# the threads are different from each other !! thread name -Thread-26 and Thread-27\n",
    "\n",
    "# o/p will be different as we are using multithreading"
   ]
  },
  {
   "cell_type": "markdown",
   "metadata": {},
   "source": [
    "# race condition :"
   ]
  },
  {
   "cell_type": "raw",
   "metadata": {},
   "source": [
    "Race condition is a situation that occurs when threads are acting in an unexpected sequence, thus leading to unreliable output. \n",
    "This can be eliminated using thread synchronization"
   ]
  },
  {
   "cell_type": "markdown",
   "metadata": {},
   "source": [
    "# plane ticket program"
   ]
  },
  {
   "cell_type": "code",
   "execution_count": 50,
   "metadata": {},
   "outputs": [
    {
     "name": "stdout",
     "output_type": "stream",
     "text": [
      " available seats are  1\n",
      "yes seats are available for  pankaj\n",
      "Now number of seats left are 0\n",
      " available seats are  0\n",
      "seats are not available\n"
     ]
    }
   ],
   "source": [
    "\n",
    "from threading import Thread, current_thread\n",
    "\n",
    "\n",
    "class Airplane:\n",
    "    def __init__(self, available_seats):\n",
    "        self.available_seats = available_seats\n",
    "    \n",
    "    def reserving_tickets(self, need_seats):\n",
    "        print(\" available seats are \", self.available_seats)\n",
    "        \n",
    "        if self.available_seats >= need_seats:\n",
    "            print(\"yes seats are available for \", current_thread().getName())\n",
    "            self.available_seats -= need_seats\n",
    "            print(\"Now number of seats left are\", self.available_seats)\n",
    "\n",
    "        else:\n",
    "            print(\"seats are not available\")\n",
    "\n",
    "\n",
    "air = Airplane(1)\n",
    "t1 = Thread(target=air.reserving_tickets, args=(1,), name=\"pankaj\")\n",
    "t1.start()\n",
    "t2 = Thread(target=air.reserving_tickets, args=(1,), name=\"rohit gupta\")\n",
    "t2.start()\n",
    "        \n",
    "# note here it is not like that, the completion of a particular thread ,will get completed and after that another thread will be acting\n",
    "# as multiple threads are used for multitasking  !! so o?p will be random this is called race condition"
   ]
  },
  {
   "cell_type": "markdown",
   "metadata": {},
   "source": [
    "# Thread Synchronization"
   ]
  },
  {
   "cell_type": "raw",
   "metadata": {},
   "source": [
    "Many threads trying to access the same object can lead to problems like making data inconsistent or getting unexpected output So When a thread is already accessing an object, preventing any other thread accessing the same object is called Thread Synchronization. \n",
    "\n",
    "The object on which the threads are synchronized is called Synchronized Object or Mutually Exclusive Lock(mutex).\n",
    "\n",
    "Thread Synchronization is recommended when multiple threads are acting on the same object simultaneously.\n",
    "\n",
    "There are following techniques to do Thread Synchronization:\n",
    "\n",
    "• Using Locks\n",
    "• Using RLock (Re-Entrant Lock)\n",
    "• Using Semaphores"
   ]
  },
  {
   "cell_type": "markdown",
   "metadata": {},
   "source": [
    "# Locks"
   ]
  },
  {
   "cell_type": "raw",
   "metadata": {},
   "source": [
    "Locks are typically used to synchronize access to a shared resource. Lock can be used to lock the object in which the thread is acting. A Lock has only two states,  locked and unlocked. It is created in the unlocked state."
   ]
  },
  {
   "cell_type": "markdown",
   "metadata": {},
   "source": [
    "# acquire( )"
   ]
  },
  {
   "cell_type": "raw",
   "metadata": {},
   "source": [
    "This method is used to changes the state to locked and returns immediately. When the state is locked, acquire() blocks until a call to release() in another thread changes it to unlocked, then the acquire() call resets it to locked and returns.\n",
    "\n",
    "\n",
    "\n",
    "Syntax:- acquire(blocking=True, timeout = -1)\n",
    "\n",
    "\n",
    "\n",
    "• True – It blocks until the lock is unlocked, then set it to locked and return True.\n",
    "\n",
    "• False - It does not block. If a call with blocking set to True would block, return False immediately; otherwise, set the lock to locked and return True.\n",
    "\n",
    "• Timeout - When invoked with the floating-point timeout argument set to a positive value, block for at most the number of seconds specified by timeout and as long as the lock cannot be acquired. A timeout argument of -1 specifies an unbounded wait. It is forbidden to specify a timeout when blocking is false.\n",
    "\n",
    "• The return value is True if the lock is acquired successfully, False if not (for example if the \n",
    "timeout expired)."
   ]
  },
  {
   "cell_type": "code",
   "execution_count": 5,
   "metadata": {},
   "outputs": [
    {
     "name": "stdout",
     "output_type": "stream",
     "text": [
      " available seats right now :  2\n",
      "seats available for pankaj\n",
      "now the number of available seats are 1\n",
      " available seats right now :  1\n",
      "seats available for rohit\n",
      "now the number of available seats are 0\n",
      "Sorry seats not available\n",
      "main thread\n"
     ]
    }
   ],
   "source": [
    "from threading import*\n",
    "\n",
    "class Airplane:\n",
    "    def __init__(self,av_seats):\n",
    "        self.av_seats=av_seats\n",
    "        self.l=Lock()\n",
    "        \n",
    "    def reserve_seats(self,need_seats):\n",
    "        self.l.acquire(blocking=True,timeout=-1)\n",
    "        \n",
    "        if self.av_seats>=need_seats:\n",
    "            print(\" available seats right now : \",self.av_seats)\n",
    "            name=current_thread().getName()\n",
    "            print(f\"seats available for {name}\")\n",
    "            self.av_seats-=need_seats\n",
    "            print(\"now the number of available seats are\",self.av_seats)\n",
    "        else:\n",
    "            print(\"Sorry seats not available\")\n",
    "        self.l.release()\n",
    "       \n",
    "            \n",
    "air=Airplane(2)\n",
    "t1=Thread(target=air.reserve_seats,args=(1,),name=\"pankaj\")\n",
    "t2=Thread(target=air.reserve_seats,args=(1,),name=\"rohit\")\n",
    "t3=Thread(target=air.reserve_seats,args=(1,),name=\"rupesh\")\n",
    "t1.start()\n",
    "t2.start()\n",
    "t3.start()\n",
    "t1.join()\n",
    "t2.join()\n",
    "t3.join()\n",
    "print(\"main thread\")\n",
    "\n",
    "\n",
    "# as we are using multithreading it is not neccessary that the O/P will be same each and everytime\n",
    "# as starting a thread first doesnot  neccessarily means that , the that particular thread will acts 1st\n",
    "# and after a thread is started , its corrosponding .join() method will be called !!!!\n",
    "\n",
    "\n",
    "\n",
    "# NOTE :\n",
    "\n",
    "# so O/p can also show us that the , rohit seats are allocated 1st then seats gets allocated to pankaj or rupesh !!!!\n",
    "        "
   ]
  },
  {
   "cell_type": "markdown",
   "metadata": {},
   "source": [
    "# {{ self.l.acquire() to self.l.release() }}"
   ]
  },
  {
   "cell_type": "raw",
   "metadata": {},
   "source": [
    "# {{  self.l.acquire()   to   self.l.release() }}   # iske andar ka area lock ho jayega !!\n",
    "\n",
    "means wha tk code acquire hoga us  particular thread k liye jo ispr act karega ."
   ]
  },
  {
   "cell_type": "markdown",
   "metadata": {},
   "source": [
    "# release() method:"
   ]
  },
  {
   "cell_type": "raw",
   "metadata": {},
   "source": [
    "It is used to release an acquired lock. If the lock is locked, this method will reset it to unlocked, and return. Also this method can be called from any thread.\n",
    "\n",
    "When this method is called, one out of the already waiting threads to acquire the lock is allowed to hold the lock.Also, it throws a RuntimeError if it is invoked on an unlocked lock."
   ]
  },
  {
   "cell_type": "raw",
   "metadata": {},
   "source": [
    "standard lock : in above case any thread can lock and another thread can unlock it. i.e if t1 thread had locked it then the t2 thread can unlock it"
   ]
  },
  {
   "cell_type": "markdown",
   "metadata": {},
   "source": [
    "# doubt given below"
   ]
  },
  {
   "cell_type": "raw",
   "metadata": {},
   "source": [
    "here in above case , the release () method will be called from same thread only because we have used {{    t.join()   }} method."
   ]
  },
  {
   "cell_type": "markdown",
   "metadata": {},
   "source": [
    "# release( )"
   ]
  },
  {
   "cell_type": "raw",
   "metadata": {},
   "source": [
    "This method is used to release a lock. This can be called from any thread, not only the thread which has acquired the lock.\n",
    "When the lock is locked, reset it to unlocked, and return. If any other threads are blocked waiting for the lock to become unlocked, allow exactly one of them to proceed.\n",
    "\n",
    "When invoked on an unlocked lock, a RuntimeError is raised.\n",
    "\n",
    "There is no return value.\n",
    "\n",
    "Syntax:- release( ) "
   ]
  },
  {
   "cell_type": "code",
   "execution_count": 18,
   "metadata": {},
   "outputs": [
    {
     "name": "stdout",
     "output_type": "stream",
     "text": [
      "<unlocked _thread.lock object at 0x000001ACBE0918D0>\n",
      "<locked _thread.lock object at 0x000001ACBE0918D0> pankaj\n",
      " available seats right now :  2\n",
      "seats available for pankaj\n",
      "now the number of available seats are 1\n",
      "<unlocked _thread.lock object at 0x000001ACBE0918D0> <locked _thread.lock object at 0x000001ACBE0918D0> rohit\n",
      " available seats right now :  1\n",
      "seats available for rohit\n",
      "now the number of available seats are 0\n",
      "<unlocked _thread.lock object at 0x000001ACBE0918D0> rohit\n",
      "pankaj\n",
      "<locked _thread.lock object at 0x000001ACBE0918D0> rupesh\n",
      "Sorry seats not available\n",
      "<unlocked _thread.lock object at 0x000001ACBE0918D0> rupesh\n",
      "main thread\n"
     ]
    }
   ],
   "source": [
    "from threading import*\n",
    "\n",
    "class Airplane:\n",
    "    def __init__(self,av_seats):\n",
    "        self.av_seats=av_seats\n",
    "        self.l=Lock()\n",
    "        print(self.l)\n",
    "        \n",
    "    def reserve_seats(self,need_seats):\n",
    "        self.l.acquire(blocking=True,timeout=-1)\n",
    "        print(self.l,current_thread().getName())\n",
    "        if self.av_seats>=need_seats:\n",
    "            print(\" available seats right now : \",self.av_seats)\n",
    "            name=current_thread().getName()\n",
    "            print(f\"seats available for {name}\")\n",
    "            self.av_seats-=need_seats\n",
    "            print(\"now the number of available seats are\",self.av_seats)\n",
    "        else:\n",
    "            print(\"Sorry seats not available\")\n",
    "        self.l.release()\n",
    "        print(self.l,current_thread().getName())\n",
    "       \n",
    "            \n",
    "air=Airplane(2)\n",
    "t1=Thread(target=air.reserve_seats,args=(1,),name=\"pankaj\")\n",
    "t2=Thread(target=air.reserve_seats,args=(1,),name=\"rohit\")\n",
    "t3=Thread(target=air.reserve_seats,args=(1,),name=\"rupesh\")\n",
    "t1.start()\n",
    "t2.start()\n",
    "t3.start()\n",
    "t1.join()\n",
    "t2.join()\n",
    "t3.join()\n",
    "print(\"main thread\")\n",
    "\n",
    "\n",
    "# as we are using multithreading it is not neccessary that the O/P will be same each and everytime\n",
    "# as starting a thread first doesnot  neccessarily means that , the that particular thread will acts 1st\n",
    "# and after a thread is started , its corrosponding .join() method will be called !!!!\n",
    "\n",
    "\n",
    "\n",
    "# NOTE :\n",
    "\n",
    "# so O/p can also show us that the , rohit seats are allocated 1st then seats gets allocated to pankaj or rupesh !!!!\n",
    "        "
   ]
  },
  {
   "cell_type": "markdown",
   "metadata": {},
   "source": [
    "# RLock() :"
   ]
  },
  {
   "cell_type": "raw",
   "metadata": {},
   "source": [
    "A reentrant lock is a synchronization primitive that may be acquired multiple times by the same thread. \n",
    "\n",
    "The standard Lock doesn’t know which thread is currently holding the lock. If the lock is held, any thread that attempts to acquire it will block, even if the same thread itself is already holding the lock. In such cases, RLock (re-entrant lock) is used. \n",
    "\n",
    "A reentrant lock must be released by the thread that acquired it. Once a thread has acquired a reentrant lock, the same thread may acquire it again without blocking; the thread must release it once for each time it has acquired it."
   ]
  },
  {
   "cell_type": "raw",
   "metadata": {},
   "source": [
    "so , here in Rlock case only that particular can release the Thread which acquires it."
   ]
  },
  {
   "cell_type": "code",
   "execution_count": 13,
   "metadata": {},
   "outputs": [
    {
     "name": "stdout",
     "output_type": "stream",
     "text": [
      "<unlocked _thread.RLock object owner=0 count=0 at 0x000001430FEC0630>\n",
      "<locked _thread.RLock object owner=9800 count=2 at 0x000001430FEC0630>\n",
      "\n",
      " available seats right now :  2\n",
      "seats available for pankaj\n",
      "now the number of available seats are 1\n",
      "<locked _thread.RLock object owner=16504 count=2 at 0x000001430FEC0630>\n",
      "\n",
      " available seats right now :  1\n",
      "seats available for rohit\n",
      "now the number of available seats are 0\n",
      "<locked _thread.RLock object owner=12372 count=2 at 0x000001430FEC0630>\n",
      "\n",
      "Sorry seats not available\n",
      "main thread\n"
     ]
    }
   ],
   "source": [
    "from threading import*\n",
    "\n",
    "class Airplane:\n",
    "    def __init__(self,av_seats):\n",
    "        self.av_seats=av_seats\n",
    "        self.l=RLock()\n",
    "        print(self.l)\n",
    "        \n",
    "    def reserve_seats(self,need_seats):\n",
    "        self.l.acquire(blocking=True,timeout=-1)  # 1st time accquired  # note acuire and release in case of Rlock will be done by the same thread\n",
    "        self.l.acquire(blocking=True,timeout=-1)  # 2nd time accquired  # note acuire and release in case of Rlock will be done by the same thread\n",
    "        print(self.l)\n",
    "        if self.av_seats>=need_seats:\n",
    "            print(\" available seats right now : \",self.av_seats)\n",
    "            name=current_thread().getName()\n",
    "            print(f\"seats available for {name}\")\n",
    "            self.av_seats-=need_seats\n",
    "            print(\"now the number of available seats are\",self.av_seats)\n",
    "        else:\n",
    "            print(\"Sorry seats not available\")\n",
    "        self.l.release()      #   1st time release  # note acuire and release in case of Rlock will be done by the same thread\n",
    "        self.l.release()      #  2nd time release  ## note acuire and release in case of Rlock will be done by the same thread\n",
    "    \n",
    "       \n",
    "            \n",
    "air=Airplane(2)\n",
    "t1=Thread(target=air.reserve_seats,args=(1,),name=\"pankaj\")\n",
    "t2=Thread(target=air.reserve_seats,args=(1,),name=\"rohit\")\n",
    "t3=Thread(target=air.reserve_seats,args=(1,),name=\"rupesh\")\n",
    "t1.start()\n",
    "\n",
    "print()\n",
    "\n",
    "\n",
    "t2.start()\n",
    "\n",
    "\n",
    "print()\n",
    "\n",
    "\n",
    "t3.start()\n",
    "\n",
    "\n",
    "print()\n",
    "\n",
    "\n",
    "t1.join()\n",
    "t2.join()\n",
    "t3.join()\n",
    "print(\"main thread\")\n",
    "\n",
    "\n",
    "# whichever thread starts , it will for sure acquire it two times, which means same thread can lock multiple times \n",
    "# and the number of times a thread locks it , then the same thread must unlock it same number of times!!  and the other thread can not unlock it !!"
   ]
  },
  {
   "cell_type": "raw",
   "metadata": {},
   "source": [
    "owner=7376   is the thread id in o/p  , and count=2  means that each particular thread had locked it two time."
   ]
  },
  {
   "cell_type": "code",
   "execution_count": 15,
   "metadata": {},
   "outputs": [
    {
     "name": "stdout",
     "output_type": "stream",
     "text": [
      "<unlocked _thread.RLock object owner=0 count=0 at 0x000001430FECC7B0>\n",
      "<unlocked _thread.RLock object owner=0 count=0 at 0x000001430FECC7B0>\n",
      "\n",
      " available seats right now :  2\n",
      "seats available for pankaj\n",
      "now the number of available seats are 1\n",
      "<unlocked _thread.RLock object owner=0 count=0 at 0x000001430FECC7B0>\n",
      "\n",
      " available seats right now :  1\n",
      "seats available for rohit\n",
      "now the number of available seats are 0\n",
      "<unlocked _thread.RLock object owner=0 count=0 at 0x000001430FECC7B0>\n",
      "Sorry seats not available\n",
      "\n",
      "main thread\n"
     ]
    }
   ],
   "source": [
    "from threading import*\n",
    "\n",
    "class Airplane:\n",
    "    def __init__(self,av_seats):\n",
    "        self.av_seats=av_seats\n",
    "        self.l=RLock()\n",
    "        print(self.l)\n",
    "        \n",
    "    def reserve_seats(self,need_seats):\n",
    "#         self.l.acquire(blocking=True,timeout=-1)  # 1st time accquired  # note acuire and release in case of Rlock will be done by the same thread\n",
    "#         self.l.acquire(blocking=True,timeout=-1)  # 2nd time accquired  # note acuire and release in case of Rlock will be done by the same thread\n",
    "        print(self.l)\n",
    "        if self.av_seats>=need_seats:\n",
    "            print(\" available seats right now : \",self.av_seats)\n",
    "            name=current_thread().getName()\n",
    "            print(f\"seats available for {name}\")\n",
    "            self.av_seats-=need_seats\n",
    "            print(\"now the number of available seats are\",self.av_seats)\n",
    "        else:\n",
    "            print(\"Sorry seats not available\")\n",
    "#         self.l.release()      #   1st time release  # note acuire and release in case of Rlock will be done by the same thread\n",
    "#         self.l.release()      #  2nd time release  ## note acuire and release in case of Rlock will be done by the same thread\n",
    "    \n",
    "       \n",
    "            \n",
    "air=Airplane(2)\n",
    "t1=Thread(target=air.reserve_seats,args=(1,),name=\"pankaj\")\n",
    "t2=Thread(target=air.reserve_seats,args=(1,),name=\"rohit\")\n",
    "t3=Thread(target=air.reserve_seats,args=(1,),name=\"rupesh\")\n",
    "t1.start()\n",
    "\n",
    "print()\n",
    "\n",
    "\n",
    "t2.start()\n",
    "\n",
    "\n",
    "print()\n",
    "\n",
    "\n",
    "t3.start()\n",
    "\n",
    "\n",
    "print()\n",
    "\n",
    "\n",
    "t1.join()\n",
    "t2.join()\n",
    "t3.join()\n",
    "print(\"main thread\")\n"
   ]
  },
  {
   "cell_type": "code",
   "execution_count": 16,
   "metadata": {},
   "outputs": [
    {
     "name": "stdout",
     "output_type": "stream",
     "text": [
      "Available Seats: 2\n",
      "1 seat is alloted for Rahul\n",
      "Available Seats: 1\n",
      "1 seat is alloted for Sonam\n",
      "Available Seats: 0\n",
      "Sorry! All seats has alloted\n",
      "Main Thread\n"
     ]
    }
   ],
   "source": [
    "# Multitasking using Multiple Thread\n",
    "# Two Threads acting on same method\n",
    "from threading import *\n",
    "class Flight:\n",
    "    def __init__(self, available_seat):\n",
    "        self.available_seat = available_seat\n",
    "        self.l = RLock()\n",
    "        #print(self.l)\n",
    "        \n",
    "    def reserve(self, need_seat):\n",
    "        self.l.acquire()\n",
    "        self.l.acquire()\n",
    "        #print(self.l)\n",
    "        print('Available Seats:', self.available_seat)\n",
    "        if(self.available_seat >= need_seat):\n",
    "            name = current_thread().name\n",
    "            print(f'{need_seat} seat is alloted for {name}')\n",
    "            self.available_seat -= need_seat\n",
    "        else:\n",
    "            print('Sorry! All seats has alloted')\n",
    "        self.l.release()\n",
    "        self.l.release()\n",
    "f = Flight(2)\n",
    "t1 = Thread(target=f.reserve, args=(1,), name='Rahul')\n",
    "t2 = Thread(target=f.reserve, args=(1,), name='Sonam')\n",
    "t3 = Thread(target=f.reserve, args=(1,), name='Raj')\n",
    "t1.start()\n",
    "t2.start()\n",
    "t3.start()\n",
    "t1.join()\n",
    "t2.join()\n",
    "t3.join()\n",
    "print(\"Main Thread\")"
   ]
  },
  {
   "cell_type": "code",
   "execution_count": 1,
   "metadata": {},
   "outputs": [
    {
     "name": "stdout",
     "output_type": "stream",
     "text": [
      "<unlocked _thread.RLock object owner=0 count=0 at 0x00000235AA801030>\n",
      "available seats right now 3\n",
      "seats available for {'pankaj'} is 3\n",
      " now the number of seats availbale are  2\n",
      "available seats right now 2\n",
      "seats available for {'rohit'} is 2\n",
      " now the number of seats availbale are  1\n",
      "available seats right now 1\n",
      "seats available for {'raman'} is 1\n",
      " now the number of seats availbale are  0\n",
      "main thread\n"
     ]
    }
   ],
   "source": [
    "from threading import*\n",
    "\n",
    "class Booking:\n",
    "    def __init__(self,av_seats):\n",
    "        self.av_seats=av_seats\n",
    "        self.l=RLock()\n",
    "        print(self.l)\n",
    "        \n",
    "    def reserve(self,need_seats):\n",
    "        self.l.acquire()\n",
    "        self.l.acquire()\n",
    "        print(\"available seats right now\",self.av_seats)\n",
    "        if self.av_seats>=need_seats:\n",
    "            name=current_thread().name\n",
    "            print(\"seats available for\",{name},\"is\",self.av_seats)\n",
    "            self.av_seats-=need_seats\n",
    "            print(\" now the number of seats availbale are \", self.av_seats)\n",
    "        else:\n",
    "            print(\" sorry seats are not available\",{name})\n",
    "        self.l.release()\n",
    "        self.l.release()\n",
    "        \n",
    "buk=Booking(3)\n",
    "t1=Thread(target=buk.reserve , args=(1,), name=\"pankaj\")\n",
    "t2=Thread(target=buk.reserve , args=(1,), name=\"rohit\")\n",
    "t3=Thread(target=buk.reserve , args=(1,), name=\"raman\")\n",
    "\n",
    "t1.start()\n",
    "t2.start()\n",
    "t3.start()\n",
    "\n",
    "t1.join()\n",
    "t2.join()\n",
    "t3.join()\n",
    "print(\"main thread\")\n",
    "\n",
    "\n",
    "       \n",
    "        "
   ]
  },
  {
   "cell_type": "markdown",
   "metadata": {},
   "source": [
    "# semaphore :"
   ]
  },
  {
   "cell_type": "raw",
   "metadata": {},
   "source": [
    "This is one of the oldest synchronization primitives in the history of computer science, invented by the early Dutch computer scientist Edsger W. Dijkstra,\n",
    "\n",
    "A semaphore manages an internal counter which is decremented by each acquire() call and incremented by each release() call. \n",
    "\n",
    "The counter can never go below zero; when acquire() finds that it is zero, it blocks, waiting until some other thread calls release().\n",
    "\n",
    "It’s usually better to use the BoundedSemaphore class, which considers it to be an error to call release more often than you’ve called acquire."
   ]
  },
  {
   "cell_type": "code",
   "execution_count": null,
   "metadata": {},
   "outputs": [
    {
     "name": "stdout",
     "output_type": "stream",
     "text": [
      "<threading.BoundedSemaphore object at 0x000002724D273220>\n",
      "1\n",
      "Available Seats: 2\n",
      "1 seat is alloted for Rahul\n",
      "0\n",
      "Available Seats: 1\n",
      "1 seat is alloted for Sonam\n"
     ]
    }
   ],
   "source": [
    "# Multitasking using Multiple Thread\n",
    "# Two Threads acting on same method\n",
    "\n",
    "from threading import *\n",
    "class Flight:\n",
    "    def __init__(self, available_seat):\n",
    "        self.available_seat = available_seat\n",
    "        self.l = BoundedSemaphore(2)\n",
    "        print(self.l)\n",
    "\n",
    "    def reserve(self, need_seat):\n",
    "        self.l.acquire()\n",
    "        print(self.l._value)\n",
    "        print('Available Seats:', self.available_seat)\n",
    "        if(self.available_seat >= need_seat):\n",
    "            name = current_thread().name\n",
    "            print(f'{need_seat} seat is alloted for {name}')\n",
    "            self.available_seat -= need_seat\n",
    "        else:\n",
    "            print('Sorry! All seats has alloted')\n",
    "            self.l.release()\n",
    "f = Flight(2)\n",
    "t1 = Thread(target=f.reserve, args=(1,), name='Rahul')\n",
    "t2 = Thread(target=f.reserve, args=(1,), name='Sonam')\n",
    "t3 = Thread(target=f.reserve, args=(1,), name='Raj')\n",
    "t1.start()\n",
    "t2.start()\n",
    "t3.start()\n",
    "t1.join()\n",
    "t2.join()\n",
    "t3.join()\n",
    "print(\"Main Thread\")\n",
    "\n",
    "\n",
    "\n"
   ]
  },
  {
   "cell_type": "markdown",
   "metadata": {},
   "source": [
    "# thread communication :"
   ]
  },
  {
   "cell_type": "raw",
   "metadata": {},
   "source": [
    "Two or more threads communicate with each other.\n",
    "\n",
    "• Event\n",
    "• Condition\n",
    "• Queue\n"
   ]
  },
  {
   "cell_type": "markdown",
   "metadata": {},
   "source": [
    "# flag :"
   ]
  },
  {
   "cell_type": "raw",
   "metadata": {},
   "source": [
    "A flag in Python acts as a signal to the program to determine whether or not the program as a whole or a specific section of the program should run. In other words, you can set the flag to True and the program will run continuously until any type of event makes it False."
   ]
  },
  {
   "cell_type": "markdown",
   "metadata": {},
   "source": [
    "# Event :"
   ]
  },
  {
   "cell_type": "raw",
   "metadata": {},
   "source": [
    "This is one of the simplest mechanisms for communication between threads: one thread signals an event and other threads wait for it.\n",
    "\n",
    "An event object manages an internal flag that can be set to true with the set() method and reset to false with the clear() method. The wait() method blocks until the flag is true. The flag is initially false.\n"
   ]
  },
  {
   "cell_type": "markdown",
   "metadata": {},
   "source": [
    "# syntax"
   ]
  },
  {
   "cell_type": "raw",
   "metadata": {},
   "source": [
    "Create Event Object\n",
    "\n",
    "from threading import Event\n",
    "e = Event()"
   ]
  },
  {
   "cell_type": "markdown",
   "metadata": {},
   "source": [
    "# Event Methods"
   ]
  },
  {
   "cell_type": "raw",
   "metadata": {},
   "source": [
    "set()- It sets the internal flag to true. All threads waiting for it to become true are awakened. Threads that call wait() once the flag is true will not block at all.\n",
    "\n",
    "clear()- It resets the internal flag to false. Subsequently, threads calling wait() will block until set() is called to set the internal flag to true again.\n",
    "\n",
    "is_set() – It returns true if and only if the internal flag is true"
   ]
  },
  {
   "cell_type": "markdown",
   "metadata": {},
   "source": [
    "# Event Methods"
   ]
  },
  {
   "cell_type": "raw",
   "metadata": {},
   "source": [
    "\n",
    "wait(timeout=None) – It blocks until the internal flag is true. If the internal flag is true on entry, return immediately. Otherwise, block until another thread calls set() to set the flag to true, or until the optional timeout occurs.\n",
    "\n",
    "When the timeout argument is present and not None, it should be a floating point number specifying a timeout for the operation in seconds (or fractions thereof).\n",
    "\n",
    "This method returns true if and only if the internal flag has been set to true, either before the wait call or after the wait starts, so it will always return True except if a timeout is given and the operation times out"
   ]
  },
  {
   "cell_type": "markdown",
   "metadata": {},
   "source": [
    "# red light and green light program using thread"
   ]
  },
  {
   "cell_type": "code",
   "execution_count": 8,
   "metadata": {},
   "outputs": [
    {
     "name": "stdout",
     "output_type": "stream",
     "text": [
      "green light ON !!you can go !!\n",
      "\n",
      "you can go !!\n",
      "you can go !!\n",
      "you can go !!\n",
      "you can go !!\n",
      "you can go !!\n",
      "you can go !!\n",
      "you can go !!\n",
      "you can go !!\n",
      "you can go !!\n",
      "red light ON\n",
      "program done !!\n"
     ]
    }
   ],
   "source": [
    "from threading import Thread,Event\n",
    "from time import sleep\n",
    "\n",
    "def light_switch():\n",
    "    sleep(3)\n",
    "    e.set()\n",
    "    print(\"green light ON !!\")\n",
    "    sleep(5)\n",
    "    print(\"red light ON\")\n",
    "    e.clear()\n",
    "    \n",
    "def traffic():\n",
    "    e.wait()\n",
    "    while e.is_set():\n",
    "        print(\"you can go !!\")\n",
    "        sleep(.5)\n",
    "    print(\"program done !!\")\n",
    "\n",
    "e=Event()\n",
    "t1=Thread(target=light_switch)\n",
    "t2=Thread(target=traffic)\n",
    "t1.start()\n",
    "t2.start()"
   ]
  },
  {
   "cell_type": "markdown",
   "metadata": {},
   "source": [
    "# Condition"
   ]
  },
  {
   "cell_type": "raw",
   "metadata": {},
   "source": [
    "Condition class is used to improve speed of communication between Threads. The condition class object is called condition variable. \n",
    "\n",
    "A condition variable is always associated with some kind of lock; this can be passed in or one will be created by default. Passing one in is useful when several condition variables must share the same lock. The lock is part of the condition object: you don’t have to track it separately.\n",
    "\n",
    "A condition is a more advanced version of the event object."
   ]
  },
  {
   "cell_type": "markdown",
   "metadata": {},
   "source": [
    "# syntax:"
   ]
  },
  {
   "cell_type": "raw",
   "metadata": {},
   "source": [
    "# Create Condition Object\n",
    "\n",
    "\n",
    "from threading import Condition\n",
    "cv = Condition()"
   ]
  },
  {
   "cell_type": "markdown",
   "metadata": {},
   "source": [
    "# Condition Method"
   ]
  },
  {
   "cell_type": "raw",
   "metadata": {},
   "source": [
    "• notify(n=1) – This method is used to immediately wake up one thread waiting on the condition. Where n is number of thread need to wake up.\n",
    "\n",
    "• notify_all() – This method is used to wake up all threads waiting on the condition.\n",
    "\n",
    "• wait(timeout=None) – This method wait until notified or until a timeout occurs. If the calling thread has not acquired the lock when this method is called, a RuntimeError is raised. Wait terminates when invokes notify() method or notify_all() method. The return value is True unless a given timeout expired, in which case it is False."
   ]
  },
  {
   "cell_type": "raw",
   "metadata": {},
   "source": [
    "The wait() method releases the lock, and then blocks until another thread awakens it by calling notify() or notify_all() . Once awakened, wait() re-acquires the lock and returns. It is also possible to specify a timeout.\n",
    "\n",
    "also wait() The threading module provides an Event() that you can use like time. ... sleep() , your code will need to wait for the Python sleep() call to finish before the thread can exit. The reason you'd want to use wait() here is because wait() is non-blocking, whereas time. sleep() is blocking\n",
    "\n",
    "note : in program given below cv.notify() will notify the consumer that he can now take away the product which we make using for loop, and the notification of waking up another thread will go to cv.wait(timeout=0)\n",
    "\n",
    "due to which t2 thread will acquire the lock and the cv.wait(timeout=0) is already waken up by cv.notify() , and then after that cv.release() will release the lock, and will print the list which is produced by produce function."
   ]
  },
  {
   "cell_type": "markdown",
   "metadata": {},
   "source": [
    "# product program :"
   ]
  },
  {
   "cell_type": "code",
   "execution_count": 13,
   "metadata": {},
   "outputs": [
    {
     "name": "stdout",
     "output_type": "stream",
     "text": [
      "acquring 1\n",
      "acquring 2\n",
      "acquring 3\n",
      "acquring 4\n",
      "acquring 5\n",
      "list is acquired now now call the consumer to take the product\n",
      "[1, 2, 3, 4, 5]\n"
     ]
    }
   ],
   "source": [
    "from threading import Thread,Condition\n",
    "from time import sleep\n",
    "lst=[]\n",
    "\n",
    "def produce():\n",
    "    cv.acquire()\n",
    "    for i in range(1,6):\n",
    "        print(\"acquring\",i)\n",
    "        lst.append(i)\n",
    "        sleep(1)\n",
    "    print(\"list is acquired now now call the consumer to take the product\")\n",
    "    cv.notify()\n",
    "    cv.release()\n",
    "    \n",
    "def consumer():\n",
    "    cv.acquire()\n",
    "    cv.wait(timeout=0)\n",
    "    cv.release()\n",
    "    print(lst)\n",
    "    \n",
    "cv=Condition()\n",
    "t1=Thread(target=produce)\n",
    "t2=Thread(target=consumer)\n",
    "t1.start()\n",
    "t2.start()\n",
    "\n",
    "\n"
   ]
  },
  {
   "cell_type": "markdown",
   "metadata": {},
   "source": [
    "# Queue"
   ]
  },
  {
   "cell_type": "raw",
   "metadata": {},
   "source": [
    "The Queue class of queue module is useful to create a queue that holds the data produced by the producer. \n",
    "\n",
    "The data can be taken from the queue and utilized by the consumer. We need not use locks since queues are thread safe."
   ]
  },
  {
   "cell_type": "markdown",
   "metadata": {},
   "source": [
    "# syntax:"
   ]
  },
  {
   "cell_type": "raw",
   "metadata": {},
   "source": [
    "Create Queue Object:\n",
    "    \n",
    "from queue import Queue\n",
    "q = Queue()"
   ]
  },
  {
   "cell_type": "markdown",
   "metadata": {},
   "source": [
    "# Queue Methods"
   ]
  },
  {
   "cell_type": "raw",
   "metadata": {},
   "source": [
    "put ( ) – This method is used by Producer to insert items into the queue. \n",
    "\n",
    "Syntax:- queue_object.put(item)\n",
    "    \n",
    "Ex:- q.put(i)\n",
    "    \n",
    "get ( ) – This method is used by Consumer to retrieve items from the queue. \n",
    "\n",
    "Syntax:- producer_object.queue_object.get(item)\n",
    "    \n",
    "Ex:- p.q.get(i)\n",
    "    \n",
    "empty() – This method returns True if queue is Empty else returns False.\n",
    "\n",
    "Ex:- q.empty()\n",
    "    \n",
    "full() – This method returns True if queue is Full else returns False.\n",
    "\n",
    "Ex:- q.full()"
   ]
  },
  {
   "cell_type": "code",
   "execution_count": 16,
   "metadata": {},
   "outputs": [
    {
     "name": "stdout",
     "output_type": "stream",
     "text": [
      "Item produced 1\n",
      "Item Received 1\n",
      "Item produced 2\n",
      "Item Received 2\n",
      "Item produced 3\n",
      "Item Received 3\n",
      "Item produced 4\n",
      "Item Received 4\n",
      "Item produced 5\n",
      "Item Received 5\n"
     ]
    }
   ],
   "source": [
    "from  threading import Thread\n",
    "from time import sleep\n",
    "from queue import Queue   # queue is module here\n",
    "class Producer:\n",
    "    def __init__(self):\n",
    "        self.q = Queue()    # object of Queue class is inside the constructor i.e self.q=Queue()\n",
    "                            # so to make object of a class inside the constructor we use self keyword , so self.q=Queue()\n",
    "    def produce(self):\n",
    "        for i in range(1, 6):\n",
    "            print('Item produced', i)\n",
    "            self.q.put(i)   # this method is used by Producer to insert items into the queue. \n",
    "            sleep(1)\n",
    "\n",
    "class Consumer:\n",
    "    def __init__(self, prod):\n",
    "        self.prod = prod\n",
    "        \n",
    "    def consume(self):\n",
    "        for i in range(1, 6):\n",
    "            print('Item Received', self.prod.q.get(i))  \n",
    "\n",
    "p = Producer()\n",
    "c = Consumer(p)\n",
    "\n",
    "t1 = Thread(target=p.produce)\n",
    "t2 = Thread(target=c.consume)\n",
    "\n",
    "t1.start()\n",
    "t2.start()\n"
   ]
  },
  {
   "cell_type": "code",
   "execution_count": 23,
   "metadata": {},
   "outputs": [
    {
     "name": "stdout",
     "output_type": "stream",
     "text": [
      "Item produced 1\n",
      "Item Received 1\n",
      "Item produced 2\n",
      "Item Received 2\n",
      "Item produced 3\n",
      "Item Received 3\n",
      "Item produced 4\n",
      "Item Received 4\n",
      "Item produced 5\n",
      "Item Received 5\n"
     ]
    }
   ],
   "source": [
    "from  threading import Thread\n",
    "from time import sleep\n",
    "from queue import Queue   # queue is module here\n",
    "class Producer:\n",
    "    def __init__(self):\n",
    "        self.q = Queue()    # object of Queue class is inside the constructor i.e self.q=Queue()\n",
    "                            # so to make object of a class inside the constructor we use self keyword , so self.q=Queue()\n",
    "    def produce(self):\n",
    "        for i in range(1, 6):\n",
    "            print('Item produced', i)\n",
    "            self.q.put(i)   # this method is used by Producer to insert items into the queue. \n",
    "            sleep(1)\n",
    "\n",
    "class Consumer:\n",
    "    def __init__(self, prod):\n",
    "        self.prod = prod\n",
    "        \n",
    "    def consume(self):\n",
    "        for i in range(1, 6):\n",
    "            print('Item Received', self.prod.q.get())  # can be used without (i) too!!\n",
    "\n",
    "p = Producer()\n",
    "c = Consumer(p)\n",
    "\n",
    "t1 = Thread(target=p.produce)\n",
    "t2 = Thread(target=c.consume)\n",
    "\n",
    "t1.start()\n",
    "t2.start()"
   ]
  },
  {
   "cell_type": "code",
   "execution_count": 24,
   "metadata": {},
   "outputs": [
    {
     "name": "stdout",
     "output_type": "stream",
     "text": [
      "Item produced 1\n",
      "Item Received 1\n",
      "Item produced 2\n",
      "Item Received 2\n",
      "Item produced 3\n",
      "Item Received 3\n",
      "Item produced 4\n",
      "Item Received 4\n",
      "Item produced 5\n",
      "Item Received 5\n"
     ]
    }
   ],
   "source": [
    "from  threading import Thread\n",
    "from time import sleep\n",
    "from queue import Queue   # queue is module here\n",
    "class Producer:\n",
    "    def __init__(self):\n",
    "        self.q = Queue()    # object of Queue class is inside the constructor i.e self.q=Queue()\n",
    "                            # so to make object of a class inside the constructor we use self keyword , so self.q=Queue()\n",
    "    def produce(self):\n",
    "        for i in range(1, 6):\n",
    "            print('Item produced', i)\n",
    "            self.q.put(i)   # this method is used by Producer to insert items into the queue. \n",
    "            sleep(1)\n",
    "\n",
    "class Consumer:\n",
    "    def __init__(self, prod):\n",
    "        self.prod = prod\n",
    "        \n",
    "    def consume(self):\n",
    "        for a in range(1, 6):\n",
    "            print('Item Received', self.prod.q.get())  # can be used without (i) too!!\n",
    "            \n",
    "\n",
    "p = Producer()\n",
    "c = Consumer(p)\n",
    "\n",
    "t1 = Thread(target=p.produce)\n",
    "t2 = Thread(target=c.consume)\n",
    "\n",
    "t1.start()\n",
    "t2.start()"
   ]
  },
  {
   "cell_type": "code",
   "execution_count": 1,
   "metadata": {},
   "outputs": [
    {
     "name": "stdout",
     "output_type": "stream",
     "text": [
      "item producing 1\n",
      "recieving the item 1\n",
      "item producing 2\n",
      "recieving the item 2\n",
      "item producing 3\n",
      "recieving the item 3\n",
      "item producing 4\n",
      "recieving the item 4\n",
      "item producing 5\n",
      "recieving the item 5\n",
      "all item produced\n"
     ]
    }
   ],
   "source": [
    "from threading import Thread\n",
    "from time import sleep\n",
    "from queue import Queue\n",
    "\n",
    "class Producer:\n",
    "    def __init__(self):\n",
    "        self.q=Queue()\n",
    "    def produce(self):\n",
    "        for i in range(1,6):\n",
    "            print(\"item producing\",i)\n",
    "            self.q.put(i)\n",
    "            sleep(1)\n",
    "        print(\"all item produced\")\n",
    "\n",
    "class Consumer:\n",
    "    def __init__(self,pro):\n",
    "        self.pro=pro\n",
    "        \n",
    "    def consume(self):\n",
    "        for i in range(1,6):\n",
    "            print(\"recieving the item\",self.pro.q.get())\n",
    "\n",
    "p=Producer()\n",
    "c=Consumer(p)\n",
    "t1=Thread(target=p.produce)\n",
    "t2=Thread(target=c.consume)\n",
    "t1.start()\n",
    "t2.start()"
   ]
  },
  {
   "cell_type": "code",
   "execution_count": null,
   "metadata": {},
   "outputs": [],
   "source": [
    "    "
   ]
  }
 ],
 "metadata": {
  "kernelspec": {
   "display_name": "Python 3",
   "language": "python",
   "name": "python3"
  },
  "language_info": {
   "codemirror_mode": {
    "name": "ipython",
    "version": 3
   },
   "file_extension": ".py",
   "mimetype": "text/x-python",
   "name": "python",
   "nbconvert_exporter": "python",
   "pygments_lexer": "ipython3",
   "version": "3.8.5"
  }
 },
 "nbformat": 4,
 "nbformat_minor": 4
}
