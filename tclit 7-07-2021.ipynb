{
 "cells": [
  {
   "cell_type": "markdown",
   "metadata": {},
   "source": [
    "# 7-07-2021"
   ]
  },
  {
   "cell_type": "raw",
   "metadata": {},
   "source": [
    " list= list is an ordered collections of elements enclosed within []\n",
    "list are mutable(data can be modified)\n",
    "\n",
    "eg:- l1=[1,\"a\",true,4.5,\"hello]\n",
    "     l2=[\"apple\",\"grapes\",\"melon\"]\n",
    "     \n",
    "     firstindex= l1[0]  # 1\n",
    "     last index=l1[-1]  # \"hello\"\n",
    "     \n",
    "Extracting individual elements from a list\n",
    "\n",
    "     l1[1]  # \"a\"\n",
    "     \n",
    "     - sequenceof elements means : it goes according to the index positions\n",
    "     \n",
    "list1=[\"rahul\",\"pankaj\",\"sam\",True,False,0,1,3,\"hey there\"]\n",
    "     \n",
    "\n",
    "\n",
    "list1.reverse()   # reverse method\n",
    "\n",
    "print(list1)\n",
    "\n",
    "# ['hey there', 3, 1, 0, False, True, 'sam', 'pankaj', 'rahul']\n",
    "\n",
    "print(list1[0])   # heythere\n",
    " \n",
    "print(list1[2])   #1\n",
    "\n",
    "list1.insert(0,\"testing\")\n",
    "\n",
    "print(list1)\n",
    "\n",
    "\n",
    "# ['testing','hey there', 3, 1, 0, False, True, 'sam', 'pankaj', 'rahul']\n",
    "\n",
    " list1=[\"a\",\"c\",\"d\",\"b\"]\n",
    "\n",
    " list1.sort()\n",
    "\n",
    " print(list1)\n",
    "\n",
    " # [\"a,\"b\",\"c\",\"d\"]\n",
    "\n",
    " list1=[2,3,1]\n",
    " \n",
    " list2=['b','c','a']\n",
    " \n",
    " list3=list1 + list2\n",
    " \n",
    " print(list3)\n",
    " \n",
    " # [2,3,1,\"b\",\"c\",\"a\"]\n",
    "\n",
    "     "
   ]
  },
  {
   "cell_type": "code",
   "execution_count": 24,
   "metadata": {},
   "outputs": [],
   "source": [
    "list1=[\"rahul\",\"pankaj\",\"sam\",True,False,0,1,3,\"hey there\"]"
   ]
  },
  {
   "cell_type": "code",
   "execution_count": 25,
   "metadata": {},
   "outputs": [
    {
     "data": {
      "text/plain": [
       "'rahul'"
      ]
     },
     "execution_count": 25,
     "metadata": {},
     "output_type": "execute_result"
    }
   ],
   "source": [
    "list1[0]"
   ]
  },
  {
   "cell_type": "code",
   "execution_count": 26,
   "metadata": {},
   "outputs": [
    {
     "data": {
      "text/plain": [
       "'hey there'"
      ]
     },
     "execution_count": 26,
     "metadata": {},
     "output_type": "execute_result"
    }
   ],
   "source": [
    "list1[-1]"
   ]
  },
  {
   "cell_type": "code",
   "execution_count": 27,
   "metadata": {},
   "outputs": [],
   "source": [
    "x=len(list1)"
   ]
  },
  {
   "cell_type": "code",
   "execution_count": 28,
   "metadata": {},
   "outputs": [
    {
     "data": {
      "text/plain": [
       "9"
      ]
     },
     "execution_count": 28,
     "metadata": {},
     "output_type": "execute_result"
    }
   ],
   "source": [
    "x"
   ]
  },
  {
   "cell_type": "code",
   "execution_count": 30,
   "metadata": {},
   "outputs": [
    {
     "name": "stdout",
     "output_type": "stream",
     "text": [
      "rahul\n",
      "pankaj\n",
      "sam\n",
      "True\n",
      "False\n",
      "0\n",
      "1\n",
      "3\n",
      "hey there\n"
     ]
    }
   ],
   "source": [
    "list1=[\"rahul\",\"pankaj\",\"sam\",True,False,0,1,3,\"hey there\"]\n",
    "x=len(list1)\n",
    "\n",
    "for i in range(x):\n",
    "    print(list1[i])"
   ]
  },
  {
   "cell_type": "code",
   "execution_count": 2,
   "metadata": {},
   "outputs": [],
   "source": [
    "list1=[\"rahul\",\"pankaj\",\"sam\",True,False,0,1,3,\"hey there\"]"
   ]
  },
  {
   "cell_type": "code",
   "execution_count": 3,
   "metadata": {},
   "outputs": [
    {
     "name": "stdout",
     "output_type": "stream",
     "text": [
      "['rahul', 'pankaj', 'sam', True, False, 0, 1, 3, 'hey there']\n"
     ]
    }
   ],
   "source": [
    "print(list1)"
   ]
  },
  {
   "cell_type": "code",
   "execution_count": 4,
   "metadata": {},
   "outputs": [
    {
     "data": {
      "text/plain": [
       "['rahul', 'pankaj', 'sam']"
      ]
     },
     "execution_count": 4,
     "metadata": {},
     "output_type": "execute_result"
    }
   ],
   "source": [
    "list1[0:3]"
   ]
  },
  {
   "cell_type": "code",
   "execution_count": 5,
   "metadata": {},
   "outputs": [],
   "source": [
    "list1.reverse()"
   ]
  },
  {
   "cell_type": "code",
   "execution_count": 6,
   "metadata": {},
   "outputs": [
    {
     "name": "stdout",
     "output_type": "stream",
     "text": [
      "['hey there', 3, 1, 0, False, True, 'sam', 'pankaj', 'rahul']\n"
     ]
    }
   ],
   "source": [
    "print(list1)"
   ]
  },
  {
   "cell_type": "markdown",
   "metadata": {},
   "source": [
    "# homework 7-07-2021"
   ]
  },
  {
   "cell_type": "code",
   "execution_count": 7,
   "metadata": {},
   "outputs": [
    {
     "name": "stdout",
     "output_type": "stream",
     "text": [
      "1\n",
      "2\n",
      "3\n",
      "4\n",
      "5\n"
     ]
    }
   ],
   "source": [
    "a=[1,2,3,4,5]\n",
    "\n",
    "for num in a:\n",
    "    print(num)"
   ]
  },
  {
   "cell_type": "code",
   "execution_count": 11,
   "metadata": {},
   "outputs": [
    {
     "name": "stdout",
     "output_type": "stream",
     "text": [
      "odd 1\n",
      "even 2\n",
      "odd 3\n",
      "even 4\n",
      "odd 5\n"
     ]
    }
   ],
   "source": [
    "a=[1,2,3,4,5]\n",
    "\n",
    "for num in a:\n",
    "    if num%2==0:\n",
    "        print(\"even\",num)\n",
    "    else:\n",
    "        print(\"odd\",num)"
   ]
  },
  {
   "cell_type": "code",
   "execution_count": 11,
   "metadata": {},
   "outputs": [
    {
     "name": "stdout",
     "output_type": "stream",
     "text": [
      "even list [2, 4, 6]\n",
      "odd list [1, 3, 5]\n"
     ]
    }
   ],
   "source": [
    "a=[1,2,3,4,5,6]\n",
    "list1=[]\n",
    "list2=[]\n",
    "\n",
    "for num in a:\n",
    "    if num%2==0:\n",
    "        list1.append(num)\n",
    "    else:\n",
    "        list2.append(num)\n",
    "\n",
    "print(\"even list\",list1)\n",
    "print(\"odd list\",list2)      "
   ]
  },
  {
   "cell_type": "code",
   "execution_count": 12,
   "metadata": {},
   "outputs": [
    {
     "name": "stdout",
     "output_type": "stream",
     "text": [
      "['testing', 2, 4, 6]\n"
     ]
    }
   ],
   "source": [
    "list1.insert(0,\"testing\")\n",
    "print(list1)"
   ]
  },
  {
   "cell_type": "code",
   "execution_count": 27,
   "metadata": {},
   "outputs": [
    {
     "name": "stdout",
     "output_type": "stream",
     "text": [
      "0 heha\n",
      "3 haha\n",
      "5 hehe\n",
      "6 haha\n",
      "9 haha\n",
      "10 hehe\n",
      "12 haha\n",
      "15 heha\n",
      "18 haha\n",
      "20 hehe\n",
      "21 haha\n",
      "24 haha\n",
      "25 hehe\n",
      "27 haha\n",
      "30 heha\n",
      "33 haha\n",
      "35 hehe\n",
      "36 haha\n",
      "39 haha\n",
      "40 hehe\n",
      "42 haha\n",
      "45 heha\n",
      "48 haha\n"
     ]
    }
   ],
   "source": [
    "list1=[]\n",
    "list2=[]\n",
    "list3=[]\n",
    "\n",
    "for num in range(0,50):\n",
    "    if num%3==0 and num%5==0:\n",
    "        print(num,\"heha\")\n",
    "    elif num%3==0:\n",
    "        print(num,\"haha\")\n",
    "    elif num%5==0:\n",
    "        print(num,\"hehe\")\n",
    "    \n",
    "\n"
   ]
  },
  {
   "cell_type": "code",
   "execution_count": 30,
   "metadata": {},
   "outputs": [
    {
     "name": "stdout",
     "output_type": "stream",
     "text": [
      "11\n",
      "12\n",
      "13\n",
      "14\n",
      "15\n",
      "16\n",
      "17\n",
      "18\n",
      "19\n",
      "20\n",
      "21\n",
      "22\n",
      "23\n",
      "24\n",
      "25\n",
      "26\n",
      "27\n",
      "28\n",
      "29\n",
      "30\n"
     ]
    }
   ],
   "source": [
    "for num in range(0,50):\n",
    "    if num<10:\n",
    "        pass\n",
    "    elif num>30:\n",
    "        break\n",
    "    elif num>10:\n",
    "        print(num)\n"
   ]
  },
  {
   "cell_type": "code",
   "execution_count": 2,
   "metadata": {},
   "outputs": [
    {
     "name": "stdout",
     "output_type": "stream",
     "text": [
      "55\n",
      "75\n"
     ]
    }
   ],
   "source": [
    "sum=0\n",
    "for num in range(0,11):   #ask sir ki yha pr sum ki value bs loop k liye change ho rhi hai ya globally change ho rhi hai\n",
    "    sum=sum+num\n",
    "print(sum)\n",
    "\n",
    "print(sum+20)"
   ]
  },
  {
   "cell_type": "code",
   "execution_count": 1,
   "metadata": {},
   "outputs": [
    {
     "name": "stdout",
     "output_type": "stream",
     "text": [
      "55\n"
     ]
    }
   ],
   "source": [
    "sum=0\n",
    "i=0\n",
    "while i<=10:\n",
    "    sum=sum+i\n",
    "    i=i+1\n",
    "print(sum)"
   ]
  },
  {
   "cell_type": "code",
   "execution_count": 4,
   "metadata": {},
   "outputs": [
    {
     "name": "stdout",
     "output_type": "stream",
     "text": [
      "[0, 9, 36, 81, 144, 225, 324]\n"
     ]
    }
   ],
   "source": [
    "list1=[]\n",
    "for num in range(0,20):\n",
    "    if num%3==0:\n",
    "        list1.append(num**2)\n",
    "    else:\n",
    "        pass\n",
    "    \n",
    "print(list1)"
   ]
  },
  {
   "cell_type": "code",
   "execution_count": 3,
   "metadata": {},
   "outputs": [
    {
     "name": "stdout",
     "output_type": "stream",
     "text": [
      "enter the value of length=4\n",
      "enter the value of breadth=4\n",
      "it is a sqaure\n"
     ]
    }
   ],
   "source": [
    "length=int(input(\"enter the value of length=\"))\n",
    "breadth=int(input(\"enter the value of breadth=\"))\n",
    "\n",
    "if length==breadth:\n",
    "    print(\"it is a sqaure\")\n",
    "else:\n",
    "    print(\"it is a rectangle\")"
   ]
  },
  {
   "cell_type": "code",
   "execution_count": 5,
   "metadata": {},
   "outputs": [
    {
     "name": "stdout",
     "output_type": "stream",
     "text": [
      "enter the marks of the student5\n",
      "grade F\n"
     ]
    }
   ],
   "source": [
    "marks=int(input(\"enter the marks of the student\"))\n",
    "\n",
    "if marks>80:\n",
    "    print(\"grade A\")\n",
    "elif marks>=60 and  marks<80:\n",
    "    print(\"grade B\")\n",
    "elif marks>=50 and marks<60:\n",
    "    print(\"grade C\")\n",
    "elif marks>=45 and marks<50:\n",
    "    print(\"grade D\")\n",
    "elif marks>=25 and marks<45:\n",
    "    print(\"grade E\")\n",
    "else:\n",
    "    print(\"grade F\")"
   ]
  },
  {
   "cell_type": "code",
   "execution_count": 8,
   "metadata": {},
   "outputs": [
    {
     "name": "stdout",
     "output_type": "stream",
     "text": [
      "enter the marks of the student61\n",
      "grade B\n"
     ]
    }
   ],
   "source": [
    "marks=int(input(\"enter the marks of the student\"))\n",
    "\n",
    "if marks>80:\n",
    "    print(\"grade A\")\n",
    "elif marks<=80 and  marks>60:\n",
    "    print(\"grade B\")\n",
    "elif marks<=60 and marks>50:\n",
    "    print(\"grade C\")\n",
    "elif marks<=50 and marks>45:\n",
    "    print(\"grade D\")\n",
    "elif marks<=45 and marks>25:\n",
    "    print(\"grade E\")\n",
    "else:\n",
    "    print(\"grade F\")"
   ]
  },
  {
   "cell_type": "code",
   "execution_count": 25,
   "metadata": {},
   "outputs": [
    {
     "name": "stdout",
     "output_type": "stream",
     "text": [
      "enter the no. of classes you have attended=10\n",
      "not eligible\n"
     ]
    }
   ],
   "source": [
    "total_class=50\n",
    "classes=int(input(\"enter the no. of classes you have attended=\"))\n",
    "\n",
    "if classes<=50:\n",
    "    if (classes/total_class)*100>=75:\n",
    "        print(\"eligible\")\n",
    "    else:\n",
    "        print(\"not eligible\")\n",
    "else:\n",
    "    print(\"you are lying\")"
   ]
  },
  {
   "cell_type": "code",
   "execution_count": null,
   "metadata": {},
   "outputs": [],
   "source": [
    "x=0\n",
    "while x<10:\n",
    "    print(x)                                                 \n",
    "    if x==3:\n",
    "        continue # yha pr continue likhne se wo wapas loop k pass chla jayega w/o incremement so \"x\" will remain 3 forever\n",
    "    x=x+1\n",
    "    \n",
    "    \n",
    "# do not run it"
   ]
  },
  {
   "cell_type": "code",
   "execution_count": 5,
   "metadata": {},
   "outputs": [
    {
     "name": "stdout",
     "output_type": "stream",
     "text": [
      "['a', 3, 2, 1]\n"
     ]
    }
   ],
   "source": [
    "list1=[1,2,3,'a']\n",
    "list2=[]\n",
    "\n",
    "x=len(list1)\n",
    "\n",
    "for i in range(x):\n",
    "    a=x-(i+1)\n",
    "    list2.append(list1[a])\n",
    "\n",
    "print(list2)\n",
    "    "
   ]
  },
  {
   "cell_type": "code",
   "execution_count": 29,
   "metadata": {},
   "outputs": [
    {
     "name": "stdout",
     "output_type": "stream",
     "text": [
      "9\n"
     ]
    }
   ],
   "source": [
    "list1=[11,12,25,14,1,2,3,\"a\",\"c\"]\n",
    "\n",
    "x=len(list1)\n",
    "print(x)\n",
    "\n"
   ]
  },
  {
   "cell_type": "code",
   "execution_count": 32,
   "metadata": {},
   "outputs": [
    {
     "name": "stdout",
     "output_type": "stream",
     "text": [
      "enter the value=1\n",
      "yes it is present \n",
      "the element present at index position 4\n"
     ]
    }
   ],
   "source": [
    "value=int(input(\"enter the value=\"))\n",
    "for i in range(x):\n",
    "    if list1[i]==value:\n",
    "        print(\"yes it is present \")\n",
    "        print(\"the element present at index position\",i)\n",
    "        \n",
    "    else:\n",
    "        pass\n",
    "            "
   ]
  },
  {
   "cell_type": "raw",
   "metadata": {},
   "source": [
    "Q. removing duplacte items in a list"
   ]
  },
  {
   "cell_type": "code",
   "execution_count": 10,
   "metadata": {},
   "outputs": [
    {
     "name": "stdout",
     "output_type": "stream",
     "text": [
      "7\n"
     ]
    }
   ],
   "source": [
    "list1=[1,1,2,2,3,5,7]\n",
    "x=len(list1)\n",
    "print(x)"
   ]
  },
  {
   "cell_type": "code",
   "execution_count": 13,
   "metadata": {},
   "outputs": [
    {
     "name": "stdout",
     "output_type": "stream",
     "text": [
      "[1, 1, 1, 1, 2, 2, 2, 2, 3, 5, 7]\n"
     ]
    }
   ],
   "source": [
    "# a=-1\n",
    "# list2=[].\n",
    "# for i in range(x):\n",
    "#     for c in range(x):\n",
    "#         if list1[(c+1)-x]==list1[i]:\n",
    "#             list2.append(list1[i])\n",
    "#         else:\n",
    "#             pass\n",
    "            \n",
    "# print(list2)\n",
    "       \n",
    "            \n",
    "        "
   ]
  },
  {
   "cell_type": "code",
   "execution_count": null,
   "metadata": {},
   "outputs": [],
   "source": []
  },
  {
   "cell_type": "code",
   "execution_count": 5,
   "metadata": {},
   "outputs": [
    {
     "name": "stdout",
     "output_type": "stream",
     "text": [
      "1\n",
      "1\n",
      "1\n",
      "1\n"
     ]
    }
   ],
   "source": [
    "list1=[1,2,4,5]\n",
    "for num in list1:\n",
    "    print(list1[0])"
   ]
  },
  {
   "cell_type": "markdown",
   "metadata": {},
   "source": [
    "# 08-07-2021  tcl it"
   ]
  },
  {
   "cell_type": "raw",
   "metadata": {},
   "source": [
    "\tSet in Python\n",
    "\t\n",
    "\tSet is an unordered and unindexed collection of elements enclosed with{}\n",
    "\tDuplicates are not allowed in Set\n",
    "\t\n",
    "\ts1= {1, 'a', True, 1}\n",
    "\tprint(s1) =  {1, 'a'}\n",
    "\n",
    "\t=> Adding a new element\n",
    "    \n",
    "\t\ts1.add(\"Hello\")\n",
    "        \n",
    "\ts1 = {1, 'a', 'Hello', True}\tadd randomly as Set is unindexed collection\n",
    "\n",
    "\t\n",
    "    \n",
    "    => Updating multiple elements\n",
    "\t\ts1.update({10, 20, 30})\n",
    "\ts1= {1, 'a', 10, 'Hello', 20, 30, True}\n",
    "\t\n",
    "\t=> Removing element \n",
    "\t\ts1.remove(\"a\")\n",
    "\ts1 = {1, True,  'Hello'}\n",
    "\n",
    "\t=> Union of two sets\n",
    "\ts1 = {1,2,3}\n",
    "\ts2 = {'a', 'b', 'c'}\n",
    "\t\ts1.union(s2)\n",
    "\t{1,2,3,'a','b','c'}\n",
    "\n",
    "\t=> intersection of two sets :\n",
    "\ts1 = {1,2,3,4,5,6}\n",
    "\ts2 = {5,6,7,2,1}\n",
    "\t\n",
    "\ts1.intersection(s2)\n",
    "\t{1,5,6}\n"
   ]
  },
  {
   "cell_type": "code",
   "execution_count": 9,
   "metadata": {},
   "outputs": [
    {
     "name": "stdout",
     "output_type": "stream",
     "text": [
      "{1, 'a'}\n"
     ]
    }
   ],
   "source": [
    "s1={1,\"a\",True,1}\n",
    "print(s1)"
   ]
  },
  {
   "cell_type": "code",
   "execution_count": 10,
   "metadata": {},
   "outputs": [
    {
     "name": "stdout",
     "output_type": "stream",
     "text": [
      "{1, 'hello', 'a'}\n"
     ]
    }
   ],
   "source": [
    "s1.add(\"hello\")\n",
    "print(s1)"
   ]
  },
  {
   "cell_type": "code",
   "execution_count": 15,
   "metadata": {},
   "outputs": [
    {
     "name": "stdout",
     "output_type": "stream",
     "text": [
      "{1, 10, 45, 20, 'hello', 30}\n"
     ]
    }
   ],
   "source": [
    "s1.update({10,20,30,45})\n",
    "print(s1)"
   ]
  },
  {
   "cell_type": "code",
   "execution_count": 17,
   "metadata": {},
   "outputs": [],
   "source": [
    "s1.remove(20)"
   ]
  },
  {
   "cell_type": "code",
   "execution_count": 18,
   "metadata": {},
   "outputs": [
    {
     "name": "stdout",
     "output_type": "stream",
     "text": [
      "{1, 10, 45, 'hello', 30}\n"
     ]
    }
   ],
   "source": [
    "print(s1)"
   ]
  },
  {
   "cell_type": "markdown",
   "metadata": {},
   "source": [
    "# sets "
   ]
  },
  {
   "cell_type": "raw",
   "metadata": {},
   "source": [
    "sets in python"
   ]
  },
  {
   "cell_type": "raw",
   "metadata": {},
   "source": [
    "set is an unordered and unindexed collection of elements enclosed with {} \n",
    "Duplicates are not allowed in sets"
   ]
  },
  {
   "cell_type": "code",
   "execution_count": 3,
   "metadata": {},
   "outputs": [],
   "source": [
    "s1={False,2,1,\"a\",True,1}"
   ]
  },
  {
   "cell_type": "code",
   "execution_count": 4,
   "metadata": {},
   "outputs": [
    {
     "name": "stdout",
     "output_type": "stream",
     "text": [
      "{False, 1, 2, 'a'}\n"
     ]
    }
   ],
   "source": [
    "print(s1)"
   ]
  },
  {
   "cell_type": "code",
   "execution_count": 33,
   "metadata": {},
   "outputs": [],
   "source": [
    "s1={False,True,2,1,\"a\",1}"
   ]
  },
  {
   "cell_type": "code",
   "execution_count": 34,
   "metadata": {},
   "outputs": [
    {
     "name": "stdout",
     "output_type": "stream",
     "text": [
      "{False, True, 2, 'a'}\n"
     ]
    }
   ],
   "source": [
    "print(s1)"
   ]
  },
  {
   "cell_type": "markdown",
   "metadata": {},
   "source": [
    "# most imp line***"
   ]
  },
  {
   "cell_type": "raw",
   "metadata": {},
   "source": [
    "False is equivalent to 0 and True is equivalent to 1. In this set, {False,2,1,\"a\",True,1}, since you have a 1 before the True, the True and the last one are both eliminated as being duplicates. If you put the True first, then it stays in, and both ones are eliminated."
   ]
  },
  {
   "cell_type": "markdown",
   "metadata": {},
   "source": [
    "# adding a new element   [add method]"
   ]
  },
  {
   "cell_type": "code",
   "execution_count": 12,
   "metadata": {},
   "outputs": [],
   "source": [
    "s1.add(\"hello\")"
   ]
  },
  {
   "cell_type": "code",
   "execution_count": 13,
   "metadata": {},
   "outputs": [
    {
     "name": "stdout",
     "output_type": "stream",
     "text": [
      "{False, True, 2, 'a', 10, 20, 'hello', 30}\n"
     ]
    }
   ],
   "source": [
    "print(s1)"
   ]
  },
  {
   "cell_type": "markdown",
   "metadata": {},
   "source": [
    "# updating multiple elements   [ update method ]"
   ]
  },
  {
   "cell_type": "code",
   "execution_count": 14,
   "metadata": {},
   "outputs": [],
   "source": [
    "s1.update({10,20,30})"
   ]
  },
  {
   "cell_type": "code",
   "execution_count": 15,
   "metadata": {},
   "outputs": [
    {
     "name": "stdout",
     "output_type": "stream",
     "text": [
      "{False, True, 2, 'a', 10, 20, 'hello', 30}\n"
     ]
    }
   ],
   "source": [
    "print(s1)"
   ]
  },
  {
   "cell_type": "markdown",
   "metadata": {},
   "source": [
    "# removing elements  [remove method]"
   ]
  },
  {
   "cell_type": "code",
   "execution_count": 16,
   "metadata": {},
   "outputs": [],
   "source": [
    "s1.remove(\"a\")"
   ]
  },
  {
   "cell_type": "code",
   "execution_count": 17,
   "metadata": {},
   "outputs": [
    {
     "name": "stdout",
     "output_type": "stream",
     "text": [
      "{False, True, 2, 10, 20, 'hello', 30}\n"
     ]
    }
   ],
   "source": [
    "print(s1)"
   ]
  },
  {
   "cell_type": "markdown",
   "metadata": {},
   "source": [
    "# union of two sets  [union method]"
   ]
  },
  {
   "cell_type": "code",
   "execution_count": 21,
   "metadata": {},
   "outputs": [],
   "source": [
    "s1={1,2,3}\n",
    "s2={\"a\",\"b\",\"c\"}"
   ]
  },
  {
   "cell_type": "code",
   "execution_count": 22,
   "metadata": {},
   "outputs": [
    {
     "data": {
      "text/plain": [
       "{1, 2, 3, 'a', 'b', 'c'}"
      ]
     },
     "execution_count": 22,
     "metadata": {},
     "output_type": "execute_result"
    }
   ],
   "source": [
    "s1.union(s2)"
   ]
  },
  {
   "cell_type": "markdown",
   "metadata": {},
   "source": [
    "# intersections of two sets"
   ]
  },
  {
   "cell_type": "code",
   "execution_count": 25,
   "metadata": {},
   "outputs": [],
   "source": [
    "s1={1,2,3,4,5,6}\n",
    "s2={5,6,7,2.1}"
   ]
  },
  {
   "cell_type": "code",
   "execution_count": 26,
   "metadata": {},
   "outputs": [
    {
     "data": {
      "text/plain": [
       "{5, 6}"
      ]
     },
     "execution_count": 26,
     "metadata": {},
     "output_type": "execute_result"
    }
   ],
   "source": [
    "s1.intersection(s2)"
   ]
  },
  {
   "cell_type": "markdown",
   "metadata": {},
   "source": [
    "# 09-07-2021  tcl it"
   ]
  },
  {
   "cell_type": "code",
   "execution_count": 1,
   "metadata": {},
   "outputs": [
    {
     "name": "stdout",
     "output_type": "stream",
     "text": [
      "{67, 4, 5, 6, 7}\n",
      "[67, 4, 5, 6, 7]\n"
     ]
    }
   ],
   "source": [
    "list1 = [4,5,6,67,7,4,5]\n",
    "\n",
    "# for i in range(len(list1)):\n",
    "#     for j in range(i+1, len(list1)):\n",
    "#         if list1[i]==list1[j]:\n",
    "#             print(list1[j])\n",
    "\n",
    "myset =set(list1)\n",
    "print(myset)\n",
    "\n",
    "newList = list(myset)\n",
    "print(newList)\n",
    "\n"
   ]
  },
  {
   "cell_type": "markdown",
   "metadata": {},
   "source": [
    "# 13-07-2021  tclit"
   ]
  },
  {
   "cell_type": "raw",
   "metadata": {},
   "source": [
    "data structure in python :\n",
    "list\n",
    "1) tuples\n",
    "2) list -sequence ,duplicates allowed\n",
    "3) dictionary\n",
    "4) set-  non sequence , duplicates are not allowed\n",
    "\n",
    "\n",
    "list1=[4,5,6,7,8,8]\n",
    "myset=set(list1)\n",
    "print(myset)={4,5,6,7,8}"
   ]
  },
  {
   "cell_type": "markdown",
   "metadata": {},
   "source": [
    "# Tuples"
   ]
  },
  {
   "cell_type": "raw",
   "metadata": {},
   "source": [
    "Tuples are used to store multiple items in a single variable.\n",
    "\n",
    "Tuple is one of 4 built-in data types in Python used to store collections of data, the other 3 are List, Set, and Dictionary, all with different qualities and usage.\n",
    "\n",
    "A tuple is a collection which is ordered and unchangeable.\n",
    "\n",
    "Tuples are written with round brackets."
   ]
  },
  {
   "cell_type": "code",
   "execution_count": 2,
   "metadata": {},
   "outputs": [
    {
     "name": "stdout",
     "output_type": "stream",
     "text": [
      "('apple', 'banana', 'cherry')\n"
     ]
    }
   ],
   "source": [
    "thistuple = (\"apple\", \"banana\", \"cherry\")\n",
    "print(thistuple)"
   ]
  },
  {
   "cell_type": "raw",
   "metadata": {},
   "source": [
    "Tuple Items:\n",
    "\n",
    "Tuple items are ordered, unchangeable, and allow duplicate values.\n",
    "\n",
    "Tuple items are indexed, the first item has index [0], the second item has index [1] etc."
   ]
  },
  {
   "cell_type": "raw",
   "metadata": {},
   "source": [
    "Ordered:\n",
    "    \n",
    "When we say that tuples are ordered, it means that the items have a defined order, and that order will not change."
   ]
  },
  {
   "cell_type": "raw",
   "metadata": {},
   "source": [
    "Unchangeable:\n",
    "\n",
    "Tuples are unchangeable, meaning that we cannot change, add or remove items after the tuple has been created.\n",
    "\n",
    "Allow Duplicates:\n",
    "\n",
    "Since tuples are indexed, they can have items with the same value:"
   ]
  },
  {
   "cell_type": "code",
   "execution_count": 25,
   "metadata": {},
   "outputs": [],
   "source": [
    "list1=[1,2,3,4,5,6,6]\n"
   ]
  },
  {
   "cell_type": "code",
   "execution_count": 26,
   "metadata": {},
   "outputs": [],
   "source": [
    "x=tuple(list1)"
   ]
  },
  {
   "cell_type": "code",
   "execution_count": 27,
   "metadata": {},
   "outputs": [
    {
     "name": "stdout",
     "output_type": "stream",
     "text": [
      "(1, 2, 3, 4, 5, 6, 6)\n"
     ]
    }
   ],
   "source": [
    "print(x)"
   ]
  },
  {
   "cell_type": "code",
   "execution_count": 28,
   "metadata": {},
   "outputs": [
    {
     "ename": "AttributeError",
     "evalue": "'tuple' object has no attribute 'pop'",
     "output_type": "error",
     "traceback": [
      "\u001b[1;31m---------------------------------------------------------------------------\u001b[0m",
      "\u001b[1;31mAttributeError\u001b[0m                            Traceback (most recent call last)",
      "\u001b[1;32m<ipython-input-28-22e0729a7b70>\u001b[0m in \u001b[0;36m<module>\u001b[1;34m\u001b[0m\n\u001b[1;32m----> 1\u001b[1;33m \u001b[0mx\u001b[0m\u001b[1;33m.\u001b[0m\u001b[0mpop\u001b[0m\u001b[1;33m(\u001b[0m\u001b[1;33m)\u001b[0m\u001b[1;33m\u001b[0m\u001b[1;33m\u001b[0m\u001b[0m\n\u001b[0m",
      "\u001b[1;31mAttributeError\u001b[0m: 'tuple' object has no attribute 'pop'"
     ]
    }
   ],
   "source": [
    "x.pop()"
   ]
  },
  {
   "cell_type": "code",
   "execution_count": 10,
   "metadata": {},
   "outputs": [
    {
     "ename": "AttributeError",
     "evalue": "'tuple' object has no attribute 'append'",
     "output_type": "error",
     "traceback": [
      "\u001b[1;31m---------------------------------------------------------------------------\u001b[0m",
      "\u001b[1;31mAttributeError\u001b[0m                            Traceback (most recent call last)",
      "\u001b[1;32m<ipython-input-10-6a887ece7ede>\u001b[0m in \u001b[0;36m<module>\u001b[1;34m\u001b[0m\n\u001b[1;32m----> 1\u001b[1;33m \u001b[0mx\u001b[0m\u001b[1;33m.\u001b[0m\u001b[0mappend\u001b[0m\u001b[1;33m(\u001b[0m\u001b[1;36m1\u001b[0m\u001b[1;33m)\u001b[0m\u001b[1;33m\u001b[0m\u001b[1;33m\u001b[0m\u001b[0m\n\u001b[0m",
      "\u001b[1;31mAttributeError\u001b[0m: 'tuple' object has no attribute 'append'"
     ]
    }
   ],
   "source": [
    "x.append(1)"
   ]
  },
  {
   "cell_type": "code",
   "execution_count": 11,
   "metadata": {},
   "outputs": [
    {
     "name": "stdout",
     "output_type": "stream",
     "text": [
      "(1, 2, 3, 4, 5, 6, 6)\n"
     ]
    }
   ],
   "source": [
    "print(x)"
   ]
  },
  {
   "cell_type": "code",
   "execution_count": 13,
   "metadata": {},
   "outputs": [
    {
     "name": "stdout",
     "output_type": "stream",
     "text": [
      "1\n"
     ]
    }
   ],
   "source": [
    "print(x[0])"
   ]
  },
  {
   "cell_type": "code",
   "execution_count": 15,
   "metadata": {},
   "outputs": [
    {
     "name": "stdout",
     "output_type": "stream",
     "text": [
      "3\n"
     ]
    }
   ],
   "source": [
    "print(x[2])"
   ]
  },
  {
   "cell_type": "code",
   "execution_count": 16,
   "metadata": {},
   "outputs": [
    {
     "ename": "TypeError",
     "evalue": "'tuple' object does not support item assignment",
     "output_type": "error",
     "traceback": [
      "\u001b[1;31m---------------------------------------------------------------------------\u001b[0m",
      "\u001b[1;31mTypeError\u001b[0m                                 Traceback (most recent call last)",
      "\u001b[1;32m<ipython-input-16-c630ba7814b1>\u001b[0m in \u001b[0;36m<module>\u001b[1;34m\u001b[0m\n\u001b[1;32m----> 1\u001b[1;33m \u001b[0mx\u001b[0m\u001b[1;33m[\u001b[0m\u001b[1;36m0\u001b[0m\u001b[1;33m]\u001b[0m\u001b[1;33m=\u001b[0m\u001b[1;36m5\u001b[0m\u001b[1;33m\u001b[0m\u001b[1;33m\u001b[0m\u001b[0m\n\u001b[0m\u001b[0;32m      2\u001b[0m \u001b[0mprint\u001b[0m\u001b[1;33m(\u001b[0m\u001b[0mx\u001b[0m\u001b[1;33m)\u001b[0m\u001b[1;33m\u001b[0m\u001b[1;33m\u001b[0m\u001b[0m\n",
      "\u001b[1;31mTypeError\u001b[0m: 'tuple' object does not support item assignment"
     ]
    }
   ],
   "source": [
    "x[0]=5\n",
    "print(x)"
   ]
  },
  {
   "cell_type": "code",
   "execution_count": 18,
   "metadata": {},
   "outputs": [
    {
     "name": "stdout",
     "output_type": "stream",
     "text": [
      "7\n"
     ]
    }
   ],
   "source": [
    "print(len(x))"
   ]
  },
  {
   "cell_type": "code",
   "execution_count": 20,
   "metadata": {},
   "outputs": [
    {
     "name": "stdout",
     "output_type": "stream",
     "text": [
      "<class 'tuple'>\n"
     ]
    }
   ],
   "source": [
    "thistuple = (\"apple\",)\n",
    "print(type(thistuple))"
   ]
  },
  {
   "cell_type": "code",
   "execution_count": 21,
   "metadata": {},
   "outputs": [
    {
     "name": "stdout",
     "output_type": "stream",
     "text": [
      "<class 'str'>\n"
     ]
    }
   ],
   "source": [
    "thistuple = (\"apple\")\n",
    "print(type(thistuple))"
   ]
  },
  {
   "cell_type": "raw",
   "metadata": {},
   "source": [
    "Tuple Items - Data Types\n",
    "\n",
    "Tuple items can be of any data type"
   ]
  },
  {
   "cell_type": "code",
   "execution_count": 22,
   "metadata": {},
   "outputs": [],
   "source": [
    "tuple1 = (\"apple\", \"banana\", \"cherry\")\n",
    "tuple2 = (1, 5, 7, 9, 3)\n",
    "tuple3 = (True, False, False)"
   ]
  },
  {
   "cell_type": "code",
   "execution_count": 23,
   "metadata": {},
   "outputs": [
    {
     "name": "stdout",
     "output_type": "stream",
     "text": [
      "('apple', 'banana', 'cherry', 'apple', 'banana', 'cherry')\n"
     ]
    }
   ],
   "source": [
    "print(tuple1*2)"
   ]
  },
  {
   "cell_type": "code",
   "execution_count": 36,
   "metadata": {},
   "outputs": [],
   "source": [
    "x=tuple1+tuple2+tuple3"
   ]
  },
  {
   "cell_type": "code",
   "execution_count": 37,
   "metadata": {},
   "outputs": [
    {
     "name": "stdout",
     "output_type": "stream",
     "text": [
      "('apple', 'banana', 'cherry', 1, 5, 7, 9, 3, True, False, False)\n"
     ]
    }
   ],
   "source": [
    "print(x)"
   ]
  },
  {
   "cell_type": "code",
   "execution_count": 38,
   "metadata": {},
   "outputs": [
    {
     "name": "stdout",
     "output_type": "stream",
     "text": [
      "<class 'tuple'>\n"
     ]
    }
   ],
   "source": [
    "print(type(x))"
   ]
  },
  {
   "cell_type": "code",
   "execution_count": 33,
   "metadata": {},
   "outputs": [
    {
     "name": "stdout",
     "output_type": "stream",
     "text": [
      "('apple', 'banana', 'cherry', 1, 5, 7, 9, 3, True, False, False)\n"
     ]
    }
   ],
   "source": [
    "print(x)"
   ]
  },
  {
   "cell_type": "code",
   "execution_count": 40,
   "metadata": {},
   "outputs": [
    {
     "name": "stdout",
     "output_type": "stream",
     "text": [
      "apple\n"
     ]
    }
   ],
   "source": [
    "print(x[0])"
   ]
  },
  {
   "cell_type": "code",
   "execution_count": 42,
   "metadata": {},
   "outputs": [
    {
     "name": "stdout",
     "output_type": "stream",
     "text": [
      "False\n"
     ]
    }
   ],
   "source": [
    "print(x[-1])"
   ]
  },
  {
   "cell_type": "code",
   "execution_count": 43,
   "metadata": {},
   "outputs": [
    {
     "name": "stdout",
     "output_type": "stream",
     "text": [
      "9\n"
     ]
    }
   ],
   "source": [
    "print(x[-5])"
   ]
  },
  {
   "cell_type": "code",
   "execution_count": 44,
   "metadata": {},
   "outputs": [
    {
     "name": "stdout",
     "output_type": "stream",
     "text": [
      "('cherry', 'orange', 'kiwi')\n"
     ]
    }
   ],
   "source": [
    "thistuple = (\"apple\", \"banana\", \"cherry\", \"orange\", \"kiwi\", \"melon\", \"mango\")\n",
    "print(thistuple[2:5])"
   ]
  },
  {
   "cell_type": "code",
   "execution_count": 6,
   "metadata": {},
   "outputs": [
    {
     "name": "stdout",
     "output_type": "stream",
     "text": [
      "('apple', 'banana', 'cherry', 'orange')\n"
     ]
    }
   ],
   "source": [
    "thistuple = (\"apple\", \"banana\", \"cherry\", \"orange\", \"kiwi\", \"melon\", \"mango\")\n",
    "print(thistuple[:4])"
   ]
  },
  {
   "cell_type": "code",
   "execution_count": 7,
   "metadata": {},
   "outputs": [
    {
     "name": "stdout",
     "output_type": "stream",
     "text": [
      "('cherry', 'orange', 'kiwi', 'melon', 'mango')\n"
     ]
    }
   ],
   "source": [
    "thistuple = (\"apple\", \"banana\", \"cherry\", \"orange\", \"kiwi\", \"melon\", \"mango\")\n",
    "print(thistuple[2:])"
   ]
  },
  {
   "cell_type": "code",
   "execution_count": 8,
   "metadata": {},
   "outputs": [
    {
     "name": "stdout",
     "output_type": "stream",
     "text": [
      "('orange', 'kiwi', 'melon')\n"
     ]
    }
   ],
   "source": [
    "thistuple = (\"apple\", \"banana\", \"cherry\", \"orange\", \"kiwi\", \"melon\", \"mango\")\n",
    "print(thistuple[-4:-1])"
   ]
  },
  {
   "cell_type": "code",
   "execution_count": 9,
   "metadata": {},
   "outputs": [
    {
     "name": "stdout",
     "output_type": "stream",
     "text": [
      "('apple', 'banana', 'cherry')\n"
     ]
    }
   ],
   "source": [
    "thistuple = (\"apple\", \"banana\", \"cherry\", \"orange\", \"kiwi\", \"melon\", \"mango\")\n",
    "print(thistuple[-7:-4])"
   ]
  },
  {
   "cell_type": "code",
   "execution_count": 10,
   "metadata": {},
   "outputs": [],
   "source": [
    "color={'green':10,\"black\":25,\"key3\":23}"
   ]
  },
  {
   "cell_type": "code",
   "execution_count": 11,
   "metadata": {},
   "outputs": [
    {
     "name": "stdout",
     "output_type": "stream",
     "text": [
      "{'green': 10, 'black': 25, 'key3': 23}\n"
     ]
    }
   ],
   "source": [
    "print(color)"
   ]
  },
  {
   "cell_type": "code",
   "execution_count": 12,
   "metadata": {},
   "outputs": [
    {
     "data": {
      "text/plain": [
       "10"
      ]
     },
     "execution_count": 12,
     "metadata": {},
     "output_type": "execute_result"
    }
   ],
   "source": [
    "color['green']"
   ]
  },
  {
   "cell_type": "code",
   "execution_count": 13,
   "metadata": {},
   "outputs": [
    {
     "name": "stdout",
     "output_type": "stream",
     "text": [
      "25\n"
     ]
    }
   ],
   "source": [
    "print(color['black'])"
   ]
  },
  {
   "cell_type": "code",
   "execution_count": 14,
   "metadata": {},
   "outputs": [
    {
     "name": "stdout",
     "output_type": "stream",
     "text": [
      "10\n"
     ]
    }
   ],
   "source": [
    "print(color[\"green\"])"
   ]
  },
  {
   "cell_type": "code",
   "execution_count": 1,
   "metadata": {},
   "outputs": [],
   "source": [
    "data=[{\"name\": \"pankaj\" , \"age\": 25, \"emp_id\":12003},\n",
    "       {\"name\": \"ajay\" , \"age \":18 ,\"emp_id\":120005},\n",
    "       {\"name \":\"himanshu\",\"age\":25 ,\"emp_id\":120056}]"
   ]
  },
  {
   "cell_type": "code",
   "execution_count": 2,
   "metadata": {},
   "outputs": [
    {
     "name": "stdout",
     "output_type": "stream",
     "text": [
      "{'name': 'pankaj', 'age': 25, 'emp_id': 12003}\n"
     ]
    }
   ],
   "source": [
    "print(data[0])"
   ]
  },
  {
   "cell_type": "code",
   "execution_count": 5,
   "metadata": {},
   "outputs": [
    {
     "name": "stdout",
     "output_type": "stream",
     "text": [
      "pankaj\n"
     ]
    }
   ],
   "source": [
    "print(data[0][\"name\"])"
   ]
  },
  {
   "cell_type": "code",
   "execution_count": 6,
   "metadata": {},
   "outputs": [
    {
     "name": "stdout",
     "output_type": "stream",
     "text": [
      "12003\n"
     ]
    }
   ],
   "source": [
    "print(data[0][\"emp_id\"])"
   ]
  },
  {
   "cell_type": "markdown",
   "metadata": {},
   "source": [
    "# dictionary :"
   ]
  },
  {
   "cell_type": "raw",
   "metadata": {},
   "source": [
    "\n",
    "\tDictionary =>\n",
    "\n",
    " \tDictionary is an ordered collection of key-value pairs enclosed with{}\n",
    "\tit is mutable\n",
    "\t\n",
    "\teg:-\tcolor = {'Green': 10, 'Black': 5, 'White':15}\n",
    "\t\t\t\tempData=[\n",
    "\t\t\t\t\t\t{'emp_name': abc, emp_id:111, },\n",
    "\t\t\t\t\t\t{'emp_name': xyz, emp_id:211},\n",
    "\t\t\t\t\t\t{'emp_name': mnb, emp_id:311},\n",
    "\t\t\t\t\t   ]\n",
    "\n",
    "\t\tempData[0].emp_name  // abc\n",
    "\t\n",
    "\t=> Extract keys and value \n",
    "\t\tExtracting keys :-\n",
    "\t\t\tcolor.keys()\n",
    "\t\t\t//result=dict_keys(['Green', 'Black', 'White'])\n",
    "\t\t\n",
    "\t\tExtracting values\n",
    "\t\t\tcolor.values()\n",
    "\t\t\t//result=dict_keys([10,5,15])\n",
    "\n",
    "\t=> Modifying a Dictionary\n",
    "\t\t=> Adding a new Element\n",
    "\t\t\tcolor['Red' = 12]\n",
    "\t\t\tcolor\n",
    "\t\t=> changing an existing element\n",
    "\t\t\tcolor['Green'] = 100\n",
    "\t\t\tcolor\n",
    "\t\t=> update the dictionary\n",
    "\t\t\tcolor1 ={'red'=10, 'black'=20}\n",
    "\t\t\tcolor2= {'white'= 25, 'grey'= 30}\n",
    "\t\t\tcolor1.update(color2)\n",
    "\t\t\tcolor1\n",
    "\t\t\t{'red'=10, 'black'=20, 'white'= 25, 'grey'= 30} // color1 updated\n",
    "\n",
    "\t\t=> pop out the specific key-value pair\n",
    "\t\t\tcolor1.pop('red')\n",
    "\t\t\tcolor1\n",
    "\t\t\t{'black'=20}"
   ]
  },
  {
   "cell_type": "code",
   "execution_count": 52,
   "metadata": {},
   "outputs": [],
   "source": [
    "color={'green':50,\"red\":52,\"yellow\":25}\n"
   ]
  },
  {
   "cell_type": "code",
   "execution_count": 53,
   "metadata": {},
   "outputs": [
    {
     "name": "stdout",
     "output_type": "stream",
     "text": [
      "{'green': 50, 'red': 52, 'yellow': 25}\n"
     ]
    }
   ],
   "source": [
    "print(color)"
   ]
  },
  {
   "cell_type": "code",
   "execution_count": 32,
   "metadata": {},
   "outputs": [
    {
     "data": {
      "text/plain": [
       "50"
      ]
     },
     "execution_count": 32,
     "metadata": {},
     "output_type": "execute_result"
    }
   ],
   "source": [
    "color[\"green\"]"
   ]
  },
  {
   "cell_type": "code",
   "execution_count": 33,
   "metadata": {},
   "outputs": [
    {
     "data": {
      "text/plain": [
       "dict_keys(['green', 'red', 'yellow'])"
      ]
     },
     "execution_count": 33,
     "metadata": {},
     "output_type": "execute_result"
    }
   ],
   "source": [
    "color.keys()"
   ]
  },
  {
   "cell_type": "code",
   "execution_count": 34,
   "metadata": {},
   "outputs": [
    {
     "data": {
      "text/plain": [
       "dict_values([50, 52, 25])"
      ]
     },
     "execution_count": 34,
     "metadata": {},
     "output_type": "execute_result"
    }
   ],
   "source": [
    "color.values()"
   ]
  },
  {
   "cell_type": "code",
   "execution_count": 38,
   "metadata": {},
   "outputs": [
    {
     "name": "stdout",
     "output_type": "stream",
     "text": [
      "{'green': 50, 'red': 52, 'yellow': 25, 'orange': 12}\n"
     ]
    }
   ],
   "source": [
    "color[\"orange\"]=12\n",
    "print(color)"
   ]
  },
  {
   "cell_type": "code",
   "execution_count": 56,
   "metadata": {},
   "outputs": [
    {
     "name": "stdout",
     "output_type": "stream",
     "text": [
      "{'white': 25, 'grey': 56, 'pink': 59, 'purple': 58, 'black': 5}\n"
     ]
    }
   ],
   "source": [
    "color1={\"white\":25,\"grey\":56,\"pink\":59}\n",
    "color2={\"purple\":58,\"black\":5}\n",
    "\n",
    "color1.update(color2)\n",
    "print(color1)"
   ]
  },
  {
   "cell_type": "code",
   "execution_count": 57,
   "metadata": {},
   "outputs": [
    {
     "name": "stdout",
     "output_type": "stream",
     "text": [
      "{'white': 25, 'grey': 56, 'pink': 59, 'purple': 58, 'black': 5}\n"
     ]
    }
   ],
   "source": [
    "print(color1)"
   ]
  },
  {
   "cell_type": "code",
   "execution_count": 58,
   "metadata": {},
   "outputs": [
    {
     "data": {
      "text/plain": [
       "25"
      ]
     },
     "execution_count": 58,
     "metadata": {},
     "output_type": "execute_result"
    }
   ],
   "source": [
    "color1.pop(\"white\")"
   ]
  },
  {
   "cell_type": "code",
   "execution_count": 59,
   "metadata": {},
   "outputs": [
    {
     "name": "stdout",
     "output_type": "stream",
     "text": [
      "{'grey': 56, 'pink': 59, 'purple': 58, 'black': 5}\n"
     ]
    }
   ],
   "source": [
    "print(color1)"
   ]
  },
  {
   "cell_type": "code",
   "execution_count": null,
   "metadata": {},
   "outputs": [],
   "source": []
  }
 ],
 "metadata": {
  "kernelspec": {
   "display_name": "Python 3",
   "language": "python",
   "name": "python3"
  },
  "language_info": {
   "codemirror_mode": {
    "name": "ipython",
    "version": 3
   },
   "file_extension": ".py",
   "mimetype": "text/x-python",
   "name": "python",
   "nbconvert_exporter": "python",
   "pygments_lexer": "ipython3",
   "version": "3.8.5"
  }
 },
 "nbformat": 4,
 "nbformat_minor": 4
}
