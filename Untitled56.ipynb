{
 "cells": [
  {
   "cell_type": "raw",
   "metadata": {},
   "source": [
    "greatest between three nunmbers"
   ]
  },
  {
   "cell_type": "code",
   "execution_count": 8,
   "metadata": {},
   "outputs": [
    {
     "name": "stdout",
     "output_type": "stream",
     "text": [
      " enter the value of a =45\n",
      " enter the value of b =48\n",
      " enter the value of c =8\n",
      " b is greatest\n"
     ]
    }
   ],
   "source": [
    "a=int(input(\" enter the value of a =\"))\n",
    "b=int(input(\" enter the value of b =\"))\n",
    "c=int(input(\" enter the value of c =\"))\n",
    "\n",
    "if a>b and a>c:\n",
    "    print(  \" a is greatest\")\n",
    "elif b>c:\n",
    "    print( \" b is greatest\")\n",
    "else:\n",
    "    print(\"  c is greatest\")\n",
    "    "
   ]
  },
  {
   "cell_type": "code",
   "execution_count": 17,
   "metadata": {},
   "outputs": [
    {
     "name": "stdout",
     "output_type": "stream",
     "text": [
      " enter the value of a =7\n",
      " enter the value of b =9\n",
      " enter the value of c =8\n",
      "  b is greatest\n"
     ]
    }
   ],
   "source": [
    "a=int(input(\" enter the value of a =\"))\n",
    "b=int(input(\" enter the value of b =\"))\n",
    "c=int(input(\" enter the value of c =\"))\n",
    "\n",
    "if a>b and a>c:\n",
    "    print(  \" a is greatest\")\n",
    "elif c>b:\n",
    "    print( \" c is greatest\")\n",
    "else:\n",
    "    print(\"  b is greatest\")"
   ]
  },
  {
   "cell_type": "code",
   "execution_count": 6,
   "metadata": {},
   "outputs": [
    {
     "name": "stdout",
     "output_type": "stream",
     "text": [
      " enter the value of a =15\n",
      " enter the value of b =56\n",
      " enter the value of c =58\n",
      " enter the value of d =89\n",
      "d is greatest\n"
     ]
    }
   ],
   "source": [
    "a=int(input(\" enter the value of a =\"))\n",
    "b=int(input(\" enter the value of b =\"))\n",
    "c=int(input(\" enter the value of c =\"))\n",
    "\n",
    "d=int(input(\" enter the value of d =\"))\n",
    "\n",
    "if a>b and a>c and a>d:\n",
    "    print( \" a is greatest\")\n",
    "elif b>c and b>d:\n",
    "    print( \" b is greatest\")\n",
    "elif c>d and c>b:\n",
    "    print( \" c is greatest\")\n",
    "else:\n",
    "    print(\"d is greatest\")"
   ]
  },
  {
   "cell_type": "markdown",
   "metadata": {},
   "source": [
    "# now using nested if else to find greatest of three numbers"
   ]
  },
  {
   "cell_type": "code",
   "execution_count": 10,
   "metadata": {},
   "outputs": [
    {
     "name": "stdout",
     "output_type": "stream",
     "text": [
      " enter the value of a =45\n",
      " enter the value of b =24\n",
      " enter the value of c =565\n",
      " c is greatest\n"
     ]
    }
   ],
   "source": [
    "a=int(input(\" enter the value of a =\"))\n",
    "b=int(input(\" enter the value of b =\"))\n",
    "c=int(input(\" enter the value of c =\"))\n",
    "\n",
    "if a>b:\n",
    "    if a >c:\n",
    "        print(\" a is greatest\")\n",
    "    else:\n",
    "        print(\" c is greatest\")\n",
    "elif b>c:\n",
    "    print(\" b is greatest \")\n",
    "else:\n",
    "    print(\" c is greatest\")\n",
    "        \n"
   ]
  },
  {
   "cell_type": "markdown",
   "metadata": {},
   "source": [
    "# now using nested if else to find greatest of four numbers"
   ]
  },
  {
   "cell_type": "code",
   "execution_count": 28,
   "metadata": {},
   "outputs": [
    {
     "name": "stdout",
     "output_type": "stream",
     "text": [
      " enter the value of a =7\n",
      " enter the value of b =8\n",
      " enter the value of c =10\n",
      " enter the value of d =9\n",
      " c is greatest\n"
     ]
    }
   ],
   "source": [
    "a=int(input(\" enter the value of a =\"))\n",
    "b=int(input(\" enter the value of b =\"))\n",
    "c=int(input(\" enter the value of c =\"))\n",
    "d=int(input(\" enter the value of d =\"))\n",
    "\n",
    "if a>b:\n",
    "    if a >c and a>d:\n",
    "        print(\" a is greatest\")\n",
    "    elif d>a:\n",
    "        print(\" d is greatest\")\n",
    "    elif c>a:\n",
    "        print(\" c is greatest\")\n",
    "    else:\n",
    "        print(\" b is greatest\")\n",
    "elif b>c:\n",
    "    if b>d:\n",
    "        print(\" b is greatest \")\n",
    "    else:\n",
    "        print(\"d is greatest\")\n",
    "elif d>c:\n",
    "    print(\"d is greatest\")\n",
    "else:\n",
    "    print(\" c is greatest\")\n",
    "    "
   ]
  },
  {
   "cell_type": "code",
   "execution_count": 37,
   "metadata": {},
   "outputs": [
    {
     "name": "stdout",
     "output_type": "stream",
     "text": [
      " enter the value of a =45\n",
      " enter the value of b =46\n",
      " enter the value of c =78\n",
      " enter the value of d =9\n",
      " c is greatest\n"
     ]
    }
   ],
   "source": [
    "a=int(input(\" enter the value of a =\"))\n",
    "b=int(input(\" enter the value of b =\"))\n",
    "c=int(input(\" enter the value of c =\"))\n",
    "d=int(input(\" enter the value of d =\"))\n",
    "\n",
    "if a>b:\n",
    "    if a >c and a>d:\n",
    "        print(\" a is greatest\")\n",
    "    else:\n",
    "        print(\" d is greatest\")\n",
    "    \n",
    "elif b>c:\n",
    "    if b>d:\n",
    "        print(\" b is greatest \")\n",
    "    else:\n",
    "        print(\"d is greatest\")\n",
    "elif d>c:\n",
    "    print(\"d is greatest\")\n",
    "else:\n",
    "    print(\" c is greatest\")\n",
    "    "
   ]
  },
  {
   "cell_type": "code",
   "execution_count": 45,
   "metadata": {},
   "outputs": [
    {
     "name": "stdout",
     "output_type": "stream",
     "text": [
      " enter the value of a =\n"
     ]
    },
    {
     "ename": "ValueError",
     "evalue": "invalid literal for int() with base 10: ''",
     "output_type": "error",
     "traceback": [
      "\u001b[1;31m---------------------------------------------------------------------------\u001b[0m",
      "\u001b[1;31mValueError\u001b[0m                                Traceback (most recent call last)",
      "\u001b[1;32m<ipython-input-45-43c276aca1a3>\u001b[0m in \u001b[0;36m<module>\u001b[1;34m\u001b[0m\n\u001b[1;32m----> 1\u001b[1;33m \u001b[0ma\u001b[0m\u001b[1;33m=\u001b[0m\u001b[0mint\u001b[0m\u001b[1;33m(\u001b[0m\u001b[0minput\u001b[0m\u001b[1;33m(\u001b[0m\u001b[1;34m\" enter the value of a =\"\u001b[0m\u001b[1;33m)\u001b[0m\u001b[1;33m)\u001b[0m\u001b[1;33m\u001b[0m\u001b[1;33m\u001b[0m\u001b[0m\n\u001b[0m\u001b[0;32m      2\u001b[0m \u001b[0mb\u001b[0m\u001b[1;33m=\u001b[0m\u001b[0mint\u001b[0m\u001b[1;33m(\u001b[0m\u001b[0minput\u001b[0m\u001b[1;33m(\u001b[0m\u001b[1;34m\" enter the value of b =\"\u001b[0m\u001b[1;33m)\u001b[0m\u001b[1;33m)\u001b[0m\u001b[1;33m\u001b[0m\u001b[1;33m\u001b[0m\u001b[0m\n\u001b[0;32m      3\u001b[0m \u001b[0mc\u001b[0m\u001b[1;33m=\u001b[0m\u001b[0mint\u001b[0m\u001b[1;33m(\u001b[0m\u001b[0minput\u001b[0m\u001b[1;33m(\u001b[0m\u001b[1;34m\" enter the value of c =\"\u001b[0m\u001b[1;33m)\u001b[0m\u001b[1;33m)\u001b[0m\u001b[1;33m\u001b[0m\u001b[1;33m\u001b[0m\u001b[0m\n\u001b[0;32m      4\u001b[0m \u001b[0md\u001b[0m\u001b[1;33m=\u001b[0m\u001b[0mint\u001b[0m\u001b[1;33m(\u001b[0m\u001b[0minput\u001b[0m\u001b[1;33m(\u001b[0m\u001b[1;34m\" enter the value of d =\"\u001b[0m\u001b[1;33m)\u001b[0m\u001b[1;33m)\u001b[0m\u001b[1;33m\u001b[0m\u001b[1;33m\u001b[0m\u001b[0m\n\u001b[0;32m      5\u001b[0m \u001b[1;33m\u001b[0m\u001b[0m\n",
      "\u001b[1;31mValueError\u001b[0m: invalid literal for int() with base 10: ''"
     ]
    }
   ],
   "source": [
    "a=int(input(\" enter the value of a =\"))\n",
    "b=int(input(\" enter the value of b =\"))\n",
    "c=int(input(\" enter the value of c =\"))\n",
    "d=int(input(\" enter the value of d =\"))\n",
    "\n",
    "if a>b:\n",
    "    if a >c and a>d:\n",
    "        print(\" a is greatest\")\n",
    "    else:\n",
    "        print(\" d is greatest\")\n",
    "    \n",
    "elif b>c:\n",
    "    if b>d:\n",
    "        print(\" b is greatest \")\n",
    "    else:\n",
    "        print(\"d is greatest\")\n",
    "elif d>c:\n",
    "    print(\"d is greatest\")\n",
    "else:\n",
    "    print(\" c is greatest\")\n",
    "    "
   ]
  },
  {
   "cell_type": "code",
   "execution_count": 47,
   "metadata": {},
   "outputs": [
    {
     "name": "stdout",
     "output_type": "stream",
     "text": [
      " enter the value of a =89\n",
      " enter the value of b =90\n",
      " enter the value of c =95\n",
      " enter the value of d =5\n",
      "d is greatest\n"
     ]
    }
   ],
   "source": [
    "a=int(input(\" enter the value of a =\"))\n",
    "b=int(input(\" enter the value of b =\"))\n",
    "c=int(input(\" enter the value of c =\"))\n",
    "d=int(input(\" enter the value of d =\"))\n",
    "\n",
    "if a>b:\n",
    "    if a >c and a>d:\n",
    "        print(\" a is greatest\")\n",
    "    elif c>b and c>d:\n",
    "        print(\" c is greatest\")\n",
    "    elif d>b and d>c:\n",
    "        print(\" d is greatest\")\n",
    "    else:\n",
    "        print(\"b is greatest\")\n",
    "elif b>c:\n",
    "    if b>d:\n",
    "        print(\"b is greatest\")\n",
    "    elif d>a and d>c:\n",
    "        print(\"d is greatest\")\n",
    "else:\n",
    "    print(\"d is greatest\")"
   ]
  },
  {
   "cell_type": "code",
   "execution_count": null,
   "metadata": {},
   "outputs": [],
   "source": []
  },
  {
   "cell_type": "code",
   "execution_count": null,
   "metadata": {},
   "outputs": [],
   "source": []
  }
 ],
 "metadata": {
  "kernelspec": {
   "display_name": "Python 3",
   "language": "python",
   "name": "python3"
  },
  "language_info": {
   "codemirror_mode": {
    "name": "ipython",
    "version": 3
   },
   "file_extension": ".py",
   "mimetype": "text/x-python",
   "name": "python",
   "nbconvert_exporter": "python",
   "pygments_lexer": "ipython3",
   "version": "3.8.5"
  }
 },
 "nbformat": 4,
 "nbformat_minor": 4
}
