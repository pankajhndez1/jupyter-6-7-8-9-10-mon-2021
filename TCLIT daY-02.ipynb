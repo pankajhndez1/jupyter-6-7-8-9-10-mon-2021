{
 "cells": [
  {
   "cell_type": "markdown",
   "metadata": {},
   "source": [
    "# conditional statements :"
   ]
  },
  {
   "cell_type": "raw",
   "metadata": {},
   "source": [
    "if : it is not necessary to have else for if statement , but if we have only else satement then we must have if statemnet for else statement.\n",
    "\n",
    "else : if we have only else satement then we must have if statemnet for else statement.\n",
    "\n",
    "\n",
    "if else : used together\n",
    "\n",
    "elif :\n",
    "\n",
    "nested if else :"
   ]
  },
  {
   "cell_type": "code",
   "execution_count": 2,
   "metadata": {},
   "outputs": [
    {
     "name": "stdout",
     "output_type": "stream",
     "text": [
      "number is negative\n"
     ]
    }
   ],
   "source": [
    "a=0\n",
    "b=-1\n",
    "\n",
    "if b>a:\n",
    "    print(\"number is positive\")\n",
    "else:\n",
    "    print(\"number is negative\")"
   ]
  },
  {
   "cell_type": "code",
   "execution_count": 6,
   "metadata": {},
   "outputs": [
    {
     "name": "stdout",
     "output_type": "stream",
     "text": [
      "a is positive\n",
      "a value is 5 \n"
     ]
    }
   ],
   "source": [
    "a=5\n",
    "if a>0:\n",
    "    print(\"a is positive\")\n",
    "if a==5:\n",
    "    print(\"a value is 5 \")\n",
    "else:\n",
    "    print(\"a value is not 5\")"
   ]
  },
  {
   "cell_type": "code",
   "execution_count": 7,
   "metadata": {},
   "outputs": [
    {
     "name": "stdout",
     "output_type": "stream",
     "text": [
      "a is positive\n",
      "a value is not 5\n"
     ]
    }
   ],
   "source": [
    "a=6\n",
    "if a>0:\n",
    "    print(\"a is positive\")\n",
    "if a==5:\n",
    "    print(\"a value is 5 \")\n",
    "else:\n",
    "    print(\"a value is not 5\")"
   ]
  },
  {
   "cell_type": "code",
   "execution_count": null,
   "metadata": {},
   "outputs": [],
   "source": []
  }
 ],
 "metadata": {
  "kernelspec": {
   "display_name": "Python 3",
   "language": "python",
   "name": "python3"
  },
  "language_info": {
   "codemirror_mode": {
    "name": "ipython",
    "version": 3
   },
   "file_extension": ".py",
   "mimetype": "text/x-python",
   "name": "python",
   "nbconvert_exporter": "python",
   "pygments_lexer": "ipython3",
   "version": "3.8.5"
  }
 },
 "nbformat": 4,
 "nbformat_minor": 4
}
