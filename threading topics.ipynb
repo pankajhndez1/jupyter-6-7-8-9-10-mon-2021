{
 "cells": [
  {
   "cell_type": "markdown",
   "metadata": {},
   "source": [
    "# multi tasking in python :"
   ]
  },
  {
   "cell_type": "raw",
   "metadata": {},
   "source": [
    "multitasking :  executing multiple task at the same time\n",
    "\n",
    "types of multitasking:\n",
    "\n",
    "1) process based multitasking\n",
    "2) thread based multitasking\n",
    "\n",
    "thread: thread is a separate flow of execution. Every thread has a task."
   ]
  },
  {
   "cell_type": "markdown",
   "metadata": {},
   "source": [
    "# main thread:"
   ]
  },
  {
   "cell_type": "raw",
   "metadata": {},
   "source": [
    "when we start any program , one thread begins running immediately, which is called Main thread of that program created by    pvm-( python virtual machine ) .\n",
    "\n",
    "The main thread is created automatically when your program is started."
   ]
  },
  {
   "cell_type": "code",
   "execution_count": 3,
   "metadata": {},
   "outputs": [
    {
     "name": "stdout",
     "output_type": "stream",
     "text": [
      "MainThread\n"
     ]
    }
   ],
   "source": [
    "import threading\n",
    "\n",
    "t=threading.current_thread().getName()\n",
    "print(t)"
   ]
  },
  {
   "cell_type": "code",
   "execution_count": 4,
   "metadata": {},
   "outputs": [
    {
     "name": "stdout",
     "output_type": "stream",
     "text": [
      "geekyshows\n",
      "MainThread\n"
     ]
    }
   ],
   "source": [
    "import threading\n",
    "\n",
    "t=threading.current_thread().getName()\n",
    "print(\"geekyshows\")\n",
    "print(t)"
   ]
  },
  {
   "cell_type": "markdown",
   "metadata": {},
   "source": [
    "# creating a thread :"
   ]
  },
  {
   "cell_type": "raw",
   "metadata": {},
   "source": [
    "1) Thread class of threading module is used to create threads .\n",
    "2) to create our own thread we need to create an object of Thread class.\n",
    "\n",
    "\n",
    "# following are the ways of creating threads:\n",
    "\n",
    "1) creating a thread without using a class  (but will use only Thread class)\n",
    "\n",
    "2) creating a thread by creating a child class to Thread class.\n",
    "\n",
    "3) creating a thread without creating child class to thread class"
   ]
  },
  {
   "cell_type": "markdown",
   "metadata": {},
   "source": [
    "# creating a thread without using a class  :"
   ]
  },
  {
   "cell_type": "raw",
   "metadata": {},
   "source": [
    "from threading import Thread\n",
    "\n",
    "thread_object=Thread(target=Function_name , args=(arg1,arg2))\n",
    "\n",
    "1) thread_object -> it represents our thread\n",
    "\n",
    "2) target -> it represents the function on which the thread will act\n",
    "\n",
    "3) args -> it represents a tuple of arguments which are passed to the function.\n",
    "\n",
    "\n",
    "example =>  \n",
    "          t=Thread(target=disp,args=(10,20))\n"
   ]
  },
  {
   "cell_type": "markdown",
   "metadata": {},
   "source": [
    "# starting a thread :-"
   ]
  },
  {
   "cell_type": "code",
   "execution_count": 6,
   "metadata": {},
   "outputs": [
    {
     "name": "stdout",
     "output_type": "stream",
     "text": [
      " thread running 10\n"
     ]
    }
   ],
   "source": [
    "from threading import Thread\n",
    "\n",
    "def disp(a):\n",
    "    print(\" thread running\",a)\n",
    "t=Thread(target=disp, args=(10,))  # args=(10,)) note while writting tuple must write (10,)  if using single element inside tuple\n",
    " \n",
    "t.start()\n",
    "\n",
    " \n"
   ]
  },
  {
   "cell_type": "code",
   "execution_count": 8,
   "metadata": {},
   "outputs": [
    {
     "name": "stdout",
     "output_type": "stream",
     "text": [
      " thread running 10\n"
     ]
    }
   ],
   "source": [
    "from threading import Thread\n",
    "\n",
    "def disp(a):\n",
    "    print(\" thread running\",a)\n",
    "t=Thread(target=disp, args=(10,))  # args=(10,)) note while writting tuple must write (10,)  if using single element inside tuple\n",
    " \n",
    "t.start()\n"
   ]
  },
  {
   "cell_type": "code",
   "execution_count": 6,
   "metadata": {},
   "outputs": [
    {
     "name": "stdout",
     "output_type": "stream",
     "text": [
      "thread running 10 20\n",
      "thread running 10 20\n",
      "thread running 10 20\n",
      "thread running 10 20\n",
      "thread running 10 20\n"
     ]
    }
   ],
   "source": [
    "from threading import Thread\n",
    "\n",
    "def disp(a,b):\n",
    "    print(\"thread running\",a,b)\n",
    "for i in range(5):\n",
    "    t=Thread(target=disp,args=(10,20))\n",
    "    t.start()"
   ]
  },
  {
   "cell_type": "code",
   "execution_count": 12,
   "metadata": {},
   "outputs": [
    {
     "name": "stdout",
     "output_type": "stream",
     "text": [
      "0 thread running 10 20\n",
      "1 thread running 10 20\n",
      "2 thread running 10 20\n",
      "3 thread running 10 20\n",
      "4 thread running 10 20\n"
     ]
    }
   ],
   "source": [
    "from threading import Thread\n",
    "\n",
    "def disp(a,b):\n",
    "    print(i,\"thread running\",a,b)\n",
    "for i in range(5):\n",
    "    t=Thread(target=disp,args=(10,20))\n",
    "    t.start()"
   ]
  },
  {
   "cell_type": "code",
   "execution_count": 13,
   "metadata": {},
   "outputs": [
    {
     "name": "stdout",
     "output_type": "stream",
     "text": [
      "MainThread\n"
     ]
    }
   ],
   "source": [
    "import threading\n",
    "\n",
    "t=threading.current_thread().getName()\n",
    "print(t)"
   ]
  },
  {
   "cell_type": "markdown",
   "metadata": {},
   "source": [
    "# exmples of multithreading :"
   ]
  },
  {
   "cell_type": "code",
   "execution_count": 63,
   "metadata": {},
   "outputs": [
    {
     "name": "stdout",
     "output_type": "stream",
     "text": [
      " child thread  main thread \n",
      " child thread \n",
      " child thread \n",
      " child thread \n",
      " child thread \n",
      "\n",
      " main thread \n",
      " main thread \n",
      " main thread \n",
      " main thread \n"
     ]
    }
   ],
   "source": [
    "from threading import Thread\n",
    "\n",
    "def disp():\n",
    "    for i in range(5):\n",
    "        print(\" child thread \")\n",
    "t=Thread(target=disp)\n",
    "t.start()\n",
    "\n",
    "for i in range(5):\n",
    "    print(\" main thread \")\n",
    "        "
   ]
  },
  {
   "cell_type": "code",
   "execution_count": 64,
   "metadata": {},
   "outputs": [
    {
     "name": "stdout",
     "output_type": "stream",
     "text": [
      " video M video C\n",
      " video M\n",
      " video M\n",
      " video M\n",
      " video M\n",
      "\n",
      " video C\n",
      " video C\n",
      " video C\n",
      " video C\n"
     ]
    }
   ],
   "source": [
    "from threading import Thread\n",
    "\n",
    "def disp():\n",
    "    for i in range(5):\n",
    "        print(\" video M\")\n",
    "t=Thread(target=disp)\n",
    "t.start()\n",
    "\n",
    "for i in range(5):\n",
    "    print(\" video C\")"
   ]
  },
  {
   "cell_type": "code",
   "execution_count": 66,
   "metadata": {},
   "outputs": [
    {
     "name": "stdout",
     "output_type": "stream",
     "text": [
      " child thread  main thread \n",
      " child thread \n",
      " child thread \n",
      " child thread \n",
      " child thread \n",
      "\n",
      " main thread \n",
      " main thread \n",
      " main thread \n",
      " main thread \n"
     ]
    }
   ],
   "source": [
    "from threading import Thread\n",
    "\n",
    "def disp():\n",
    "    for i in range(5):\n",
    "        print(\" child thread \")\n",
    "t=Thread(target=disp)\n",
    "t.start()\n",
    "\n",
    "for i in range(5):\n",
    "    print(\" main thread \")"
   ]
  },
  {
   "cell_type": "raw",
   "metadata": {},
   "source": [
    "so if we do not use multithreading and wants to publish videos , then we can use for loop too but the for loop will take more \n",
    "time as compared to mutithreading as multithreading shows us the random output but for loop goes one by one and shows the o/p .\n",
    "so multitasking takes the lesser amount of time."
   ]
  },
  {
   "cell_type": "code",
   "execution_count": 1,
   "metadata": {},
   "outputs": [
    {
     "name": "stdout",
     "output_type": "stream",
     "text": [
      " main thread \n",
      " main thread \n",
      " main thread \n",
      " main thread \n",
      " main thread \n"
     ]
    }
   ],
   "source": [
    "for i in range(5):\n",
    "    print(\" main thread \")"
   ]
  },
  {
   "cell_type": "markdown",
   "metadata": {},
   "source": [
    "# Thread Identification Number"
   ]
  },
  {
   "cell_type": "raw",
   "metadata": {},
   "source": [
    "Every thread has an unique identification number which can be accessed using variable ident.\n",
    "\n",
    "Syntax:- Thread_object.ident\n",
    "\n",
    "Ex:- t.iden"
   ]
  },
  {
   "cell_type": "markdown",
   "metadata": {},
   "source": [
    "# 46. set and get thread name in python"
   ]
  },
  {
   "cell_type": "raw",
   "metadata": {},
   "source": [
    "1) current_thread() : this function returns current thread object\n",
    "    \n",
    "2) getName() : every thread has a name by default, to get the name of thread we can use getName\n",
    "\n",
    "3) setName(name) – This method is used to set the name of thread.\n",
    "\n",
    "4) name Property – This property is used to get or set name of the thread.\n",
    "\n",
    "Ex:-\n",
    "\n",
    "thread_object.name = ‘String’\n",
    "print(thread_object.name)"
   ]
  },
  {
   "cell_type": "code",
   "execution_count": 51,
   "metadata": {},
   "outputs": [
    {
     "name": "stdout",
     "output_type": "stream",
     "text": [
      "child thread object main thread <Thread(Thread-51, started 1268)>\n",
      " <_MainThread(geekyshows thread, started 15812)>\n"
     ]
    }
   ],
   "source": [
    "from threading import Thread,current_thread\n",
    "\n",
    "def disp():\n",
    "    print(\"child thread object \",current_thread())  # here after execution of this code current_thread() is having child thread object i.e (t)\n",
    "    \n",
    "t=Thread(target=disp) # the function which is written under target will be run with the help of child thread\n",
    "t.start()   # must start our created thread in order to use it\n",
    "\n",
    "print(\"main thread\",current_thread())  #here current thread is having main thread object"
   ]
  },
  {
   "cell_type": "markdown",
   "metadata": {},
   "source": [
    "# note***"
   ]
  },
  {
   "cell_type": "raw",
   "metadata": {},
   "source": [
    "two threads cannot have same identity number, and the identity number changes every time we execute our code"
   ]
  },
  {
   "cell_type": "markdown",
   "metadata": {},
   "source": [
    "# getName() : \n",
    "\n",
    "every thread has a name by default, to get the name of thread we can use getName"
   ]
  },
  {
   "cell_type": "code",
   "execution_count": 42,
   "metadata": {},
   "outputs": [
    {
     "name": "stdout",
     "output_type": "stream",
     "text": [
      "child thread Name Thread-44\n",
      "main thread name geekyshows thread\n"
     ]
    }
   ],
   "source": [
    "from threading import Thread,current_thread\n",
    "\n",
    "def disp():\n",
    "    print(\"child thread Name\",current_thread().getName())   # current thread = ( t ) \n",
    "t=Thread(target=disp)\n",
    "t.start()\n",
    "\n",
    "print(\"main thread name\",current_thread().getName())"
   ]
  },
  {
   "cell_type": "code",
   "execution_count": 44,
   "metadata": {},
   "outputs": [
    {
     "name": "stdout",
     "output_type": "stream",
     "text": [
      "child thread name : Thread-47\n",
      "child thread name : Thread-48\n",
      "main thread Name : geekyshows thread\n"
     ]
    }
   ],
   "source": [
    "from threading import Thread,current_thread\n",
    "\n",
    "def disp():\n",
    "    print(\"child thread name :\",current_thread().getName())\n",
    "t1=Thread(target=disp)\n",
    "t2=Thread(target=disp)\n",
    "\n",
    "t1.start()\n",
    "t2.start()\n",
    "\n",
    "print(\"main thread Name :\",current_thread().getName())"
   ]
  },
  {
   "cell_type": "markdown",
   "metadata": {},
   "source": [
    "# setName(name) – This method is used to set the name of thread."
   ]
  },
  {
   "cell_type": "code",
   "execution_count": 29,
   "metadata": {},
   "outputs": [
    {
     "name": "stdout",
     "output_type": "stream",
     "text": [
      "child thread name  Thread-36\n",
      "new child thread name  doc thread\n",
      "main thread is  geekyshows thread\n",
      "new main thread name geekyshows thread\n"
     ]
    }
   ],
   "source": [
    "from threading import Thread,current_thread\n",
    "\n",
    "def disp():\n",
    "    print(\"child thread name \",current_thread().getName())\n",
    "    current_thread().setName(\"doc thread\")\n",
    "    print(\"new child thread name \",current_thread().getName())\n",
    "    \n",
    "t=Thread(target=disp)\n",
    "t.start()\n",
    "\n",
    "#note : after starting our thread we now have child thread which is having default name Thread 1 along with the main thread \n",
    "# here child is only responsiple for running the particular function which is written under the target i.e (target=disp)\n",
    "# and the below code is run under the main  thread\n",
    "\n",
    "print(\"main thread is \",current_thread().getName())  #here main thread is Mainthread\n",
    "current_thread().setName(\"geekyshows thread\")\n",
    "print(\"new main thread name\",current_thread().getName()) # here Mainthread name is geekyshows thread"
   ]
  },
  {
   "cell_type": "markdown",
   "metadata": {},
   "source": [
    "# name Property – \n",
    "\n",
    "This property is used to get or set name of the thread.\n"
   ]
  },
  {
   "cell_type": "code",
   "execution_count": 34,
   "metadata": {},
   "outputs": [
    {
     "name": "stdout",
     "output_type": "stream",
     "text": [
      "child thread name  Thread-37\n"
     ]
    }
   ],
   "source": [
    "from threading import Thread\n",
    "\n",
    "def disp():\n",
    "    print(\"child thread name \",current_thread().getName())\n",
    "t=Thread(target=disp)\n",
    "t.start()"
   ]
  },
  {
   "cell_type": "raw",
   "metadata": {},
   "source": [
    "now to get the name of our child thread it is not neccessary to get the name of our child thread inside the function always we can also get the name of child thread outside our function by using Name property."
   ]
  },
  {
   "cell_type": "code",
   "execution_count": 46,
   "metadata": {},
   "outputs": [
    {
     "name": "stdout",
     "output_type": "stream",
     "text": [
      "default name of our created thread is  Thread-50\n",
      "flying thread\n"
     ]
    }
   ],
   "source": [
    "from threading import Thread\n",
    "\n",
    "def disp():\n",
    "    pass\n",
    "\n",
    "t=Thread(target=disp)\n",
    "t.start()\n",
    "print(\"default name of our created thread is \",t.name)   # here t is acting as ( current_thread ) which is used to give the current thread object \n",
    "t.name=\"flying thread\"\n",
    "print(t.name)"
   ]
  },
  {
   "cell_type": "markdown",
   "metadata": {},
   "source": [
    "# note***"
   ]
  },
  {
   "cell_type": "raw",
   "metadata": {},
   "source": [
    "we can give our thread a particular name by passing (name= \" \") parameter while creating a thread."
   ]
  },
  {
   "cell_type": "code",
   "execution_count": 3,
   "metadata": {},
   "outputs": [
    {
     "name": "stdout",
     "output_type": "stream",
     "text": [
      "pankaj thread\n"
     ]
    }
   ],
   "source": [
    "from threading import Thread\n",
    "\n",
    "def disp():\n",
    "    pass\n",
    "t=Thread(target=disp,name=\"pankaj thread\")\n",
    "print(t.name)\n",
    "\n"
   ]
  },
  {
   "cell_type": "markdown",
   "metadata": {},
   "source": [
    "# note*****"
   ]
  },
  {
   "cell_type": "code",
   "execution_count": 7,
   "metadata": {},
   "outputs": [
    {
     "name": "stdout",
     "output_type": "stream",
     "text": [
      "pankaj thread\n",
      "pankaj thread\n"
     ]
    }
   ],
   "source": [
    "from threading import Thread,current_thread\n",
    "\n",
    "def disp():\n",
    "    print(current_thread().getName()) # current thread mai (t ) hoga\n",
    "    print(t.name)\n",
    "t=Thread(target=disp,name=\"pankaj thread\")   # (t) is thread object , and the created thread name is pankaj thread   ,means\n",
    "t.start()                                    # { t=Thread(target=disp,name=\"pankaj thread\") } this whole will be known as pankaj thread\n",
    "                                             # and this thread has object name (t)\n",
    "\n",
    "\n"
   ]
  },
  {
   "cell_type": "markdown",
   "metadata": {},
   "source": [
    "# 47. creating a Thread by creating child class to thread class"
   ]
  },
  {
   "cell_type": "raw",
   "metadata": {},
   "source": [
    "# Creating a thread by creating a child class to Thread class\n",
    "\n",
    "We can create our own thread child class by inheriting Thread Class from threading module."
   ]
  },
  {
   "cell_type": "markdown",
   "metadata": {},
   "source": [
    "# syntax"
   ]
  },
  {
   "cell_type": "raw",
   "metadata": {},
   "source": [
    "class ChildClassName(Thread):\n",
    "statements\n",
    "\n",
    "Thread_object = ChildClassName ()"
   ]
  },
  {
   "cell_type": "raw",
   "metadata": {},
   "source": [
    "Example:-\n",
    "    \n",
    "class Mythread(Thread):\n",
    "pass\n",
    "\n",
    "t = Mythread()"
   ]
  },
  {
   "cell_type": "markdown",
   "metadata": {},
   "source": [
    "# Thread Class’s Methods"
   ]
  },
  {
   "cell_type": "markdown",
   "metadata": {},
   "source": [
    "# •  start ( ) "
   ]
  },
  {
   "cell_type": "raw",
   "metadata": {},
   "source": [
    "Once a thread is created it should be started by calling start() Method."
   ]
  },
  {
   "cell_type": "markdown",
   "metadata": {},
   "source": [
    "# •  run( ) "
   ]
  },
  {
   "cell_type": "raw",
   "metadata": {},
   "source": [
    "Every thread will run this method when thread is started. We can override this method and write our own code as body of the method. A thread will terminate automatically when it comes out of the run( ) Method.\n",
    "\n",
    "also****note**** \n",
    "\n",
    "that our thread class have the run method . So as we are using inheritance here we can use run method inside our created class which will be acting as run method overriding"
   ]
  },
  {
   "cell_type": "markdown",
   "metadata": {},
   "source": [
    "# •  join ( ) "
   ]
  },
  {
   "cell_type": "raw",
   "metadata": {},
   "source": [
    "This method is used to wait till the thread completely executes the run ( ) method."
   ]
  },
  {
   "cell_type": "code",
   "execution_count": 55,
   "metadata": {},
   "outputs": [
    {
     "name": "stdout",
     "output_type": "stream",
     "text": [
      "run method running\n"
     ]
    }
   ],
   "source": [
    "from threading import Thread\n",
    "\n",
    "class Mythread(Thread):       # inheritance\n",
    "    def run(self):            # run method will execute automatically ,when we starts our thread here we don't need to set target=run()\n",
    "        print(\"run method running\")\n",
    "\n",
    "t=Mythread()\n",
    "t.start() "
   ]
  },
  {
   "cell_type": "code",
   "execution_count": 1,
   "metadata": {},
   "outputs": [
    {
     "name": "stdout",
     "output_type": "stream",
     "text": [
      "run method running , child threadmain thread \n",
      "main thread \n",
      "main thread \n",
      "main thread \n",
      "main thread \n",
      "\n",
      "run method running , child thread\n",
      "run method running , child thread\n",
      "run method running , child thread\n",
      "run method running , child thread\n"
     ]
    }
   ],
   "source": [
    "from threading import Thread\n",
    "\n",
    "class Mythread(Thread):  # inheritance\n",
    "    def run(self):       # run method overriding\n",
    "        for i in range(5):\n",
    "            print(\"run method running , child thread\")          \n",
    "t=Mythread() \n",
    "t.start()               # child thread will execute the run method\n",
    "\n",
    "for i in range(5):         # main thread will execute the for loop \n",
    "    print(\"main thread \")\n",
    "    \n",
    "    \n",
    "# note the o/p will be uncertain as we are using multiple inheritance here !!\n"
   ]
  },
  {
   "cell_type": "markdown",
   "metadata": {},
   "source": [
    "# now using join method :"
   ]
  },
  {
   "cell_type": "code",
   "execution_count": 2,
   "metadata": {},
   "outputs": [
    {
     "name": "stdout",
     "output_type": "stream",
     "text": [
      "run method running\n",
      "run method running\n",
      "run method running\n",
      "run method running\n",
      "run method running\n",
      "main thread running\n",
      "main thread running\n",
      "main thread running\n",
      "main thread running\n",
      "main thread running\n"
     ]
    }
   ],
   "source": [
    "from threading import Thread\n",
    "\n",
    "class Myclass(Thread):\n",
    "        def run(self):     # run method overriding\n",
    "              for i in range(5):      # child method will execute the run method\n",
    "                    print(\"run method running\")\n",
    "t=Myclass()\n",
    "t.start()\n",
    "t.join()\n",
    "\n",
    "for i in range(5):\n",
    "    print(\"main thread running\")\n",
    "    \n",
    "    \n",
    "# here run method will execute 1st COMPLETELY then other threads executions will take slace\n",
    "\n",
    "    \n",
    "# so note whenever we use the join method will a particular thread let say(t) ,then the complete execution of the child thread (t) will take place 1st\n",
    "# then the execution of other threads will take place i.e after that main thread will get executed .\n",
    "\n",
    "# also note we can use the join method with multiple threads , and set priority according to our choice . i.e  according to our priority we use join method and \n",
    "#execution of the threads will take place acc to the priorities"
   ]
  },
  {
   "cell_type": "markdown",
   "metadata": {},
   "source": [
    "# 48. Thread child class with constructor in python"
   ]
  },
  {
   "cell_type": "code",
   "execution_count": 86,
   "metadata": {},
   "outputs": [],
   "source": [
    "from threading import Thread\n",
    "\n",
    "class Mythread(Thread):\n",
    "    def __init__(self,a):       # child class (Mythread) constructor\n",
    "        Thread.__init__(self)\n",
    "        self.a=a\n",
    "t=Mythread(10)"
   ]
  },
  {
   "cell_type": "code",
   "execution_count": 89,
   "metadata": {},
   "outputs": [
    {
     "name": "stdout",
     "output_type": "stream",
     "text": [
      "child thread constructor\n"
     ]
    },
    {
     "ename": "RuntimeError",
     "evalue": "thread.__init__() not called",
     "output_type": "error",
     "traceback": [
      "\u001b[1;31m---------------------------------------------------------------------------\u001b[0m",
      "\u001b[1;31mRuntimeError\u001b[0m                              Traceback (most recent call last)",
      "\u001b[1;32m<ipython-input-89-6ba14f0d63b8>\u001b[0m in \u001b[0;36m<module>\u001b[1;34m\u001b[0m\n\u001b[0;32m      8\u001b[0m \u001b[1;33m\u001b[0m\u001b[0m\n\u001b[0;32m      9\u001b[0m \u001b[0mt\u001b[0m\u001b[1;33m=\u001b[0m\u001b[0mMythread\u001b[0m\u001b[1;33m(\u001b[0m\u001b[1;33m)\u001b[0m\u001b[1;33m\u001b[0m\u001b[1;33m\u001b[0m\u001b[0m\n\u001b[1;32m---> 10\u001b[1;33m \u001b[0mt\u001b[0m\u001b[1;33m.\u001b[0m\u001b[0mstart\u001b[0m\u001b[1;33m(\u001b[0m\u001b[1;33m)\u001b[0m\u001b[1;33m\u001b[0m\u001b[1;33m\u001b[0m\u001b[0m\n\u001b[0m\u001b[0;32m     11\u001b[0m \u001b[1;33m\u001b[0m\u001b[0m\n\u001b[0;32m     12\u001b[0m \u001b[0mprint\u001b[0m\u001b[1;33m(\u001b[0m\u001b[1;34m\"main thread\"\u001b[0m\u001b[1;33m)\u001b[0m\u001b[1;33m\u001b[0m\u001b[1;33m\u001b[0m\u001b[0m\n",
      "\u001b[1;32m~\\2018 PO\\lib\\threading.py\u001b[0m in \u001b[0;36mstart\u001b[1;34m(self)\u001b[0m\n\u001b[0;32m    843\u001b[0m         \"\"\"\n\u001b[0;32m    844\u001b[0m         \u001b[1;32mif\u001b[0m \u001b[1;32mnot\u001b[0m \u001b[0mself\u001b[0m\u001b[1;33m.\u001b[0m\u001b[0m_initialized\u001b[0m\u001b[1;33m:\u001b[0m\u001b[1;33m\u001b[0m\u001b[1;33m\u001b[0m\u001b[0m\n\u001b[1;32m--> 845\u001b[1;33m             \u001b[1;32mraise\u001b[0m \u001b[0mRuntimeError\u001b[0m\u001b[1;33m(\u001b[0m\u001b[1;34m\"thread.__init__() not called\"\u001b[0m\u001b[1;33m)\u001b[0m\u001b[1;33m\u001b[0m\u001b[1;33m\u001b[0m\u001b[0m\n\u001b[0m\u001b[0;32m    846\u001b[0m \u001b[1;33m\u001b[0m\u001b[0m\n\u001b[0;32m    847\u001b[0m         \u001b[1;32mif\u001b[0m \u001b[0mself\u001b[0m\u001b[1;33m.\u001b[0m\u001b[0m_started\u001b[0m\u001b[1;33m.\u001b[0m\u001b[0mis_set\u001b[0m\u001b[1;33m(\u001b[0m\u001b[1;33m)\u001b[0m\u001b[1;33m:\u001b[0m\u001b[1;33m\u001b[0m\u001b[1;33m\u001b[0m\u001b[0m\n",
      "\u001b[1;31mRuntimeError\u001b[0m: thread.__init__() not called"
     ]
    }
   ],
   "source": [
    "from threading import Thread\n",
    "\n",
    "class Mythread(Thread):\n",
    "    def __init__(self):                       # only child class constructor\n",
    "        print(\"child thread constructor\")\n",
    "    def run(self):\n",
    "        pass\n",
    "\n",
    "t=Mythread()\n",
    "t.start()\n",
    "\n",
    "print(\"main thread\")\n",
    "\n",
    "# so this will giue us error bcoz we haven't called the parent class constructor\n",
    "\n",
    "# i.e error  thread.__init__() not called !!"
   ]
  },
  {
   "cell_type": "markdown",
   "metadata": {},
   "source": [
    "# so calling parent class constructor"
   ]
  },
  {
   "cell_type": "code",
   "execution_count": 90,
   "metadata": {},
   "outputs": [
    {
     "name": "stdout",
     "output_type": "stream",
     "text": [
      "child thread constructor\n",
      "main thread\n"
     ]
    }
   ],
   "source": [
    "from threading import Thread\n",
    "\n",
    "class Mythread(Thread):\n",
    "    def __init__(self):      # child class constructor\n",
    "        Thread.__init__(self)    # parent class constructor\n",
    "        print(\"child thread constructor\")\n",
    "    def run(self):\n",
    "        pass\n",
    "\n",
    "t=Mythread()\n",
    "t.start()\n",
    "\n",
    "print(\"main thread\")"
   ]
  },
  {
   "cell_type": "markdown",
   "metadata": {},
   "source": [
    "# passing the parameters for our child class constructor"
   ]
  },
  {
   "cell_type": "code",
   "execution_count": 91,
   "metadata": {},
   "outputs": [
    {
     "name": "stdout",
     "output_type": "stream",
     "text": [
      "child class contructor 10\n"
     ]
    }
   ],
   "source": [
    "from threading import Thread\n",
    "\n",
    "class Mythread(Thread):\n",
    "    def __init__(self,a):\n",
    "        Thread.__init__(self)\n",
    "        print(\"child class contructor\",a)\n",
    "    def run(self):\n",
    "        pass\n",
    "    \n",
    "t=Mythread(10)\n",
    "\n",
    "\n"
   ]
  },
  {
   "cell_type": "code",
   "execution_count": 97,
   "metadata": {},
   "outputs": [
    {
     "name": "stdout",
     "output_type": "stream",
     "text": [
      "child class contructor 10 volume and area\n"
     ]
    }
   ],
   "source": [
    "from threading import Thread\n",
    "\n",
    "class Mythread(Thread):\n",
    "    def __init__(self,a):\n",
    "        self.v=\"volume\"       #creating the additional variables\n",
    "        self.ar=\"area\"    \n",
    "        Thread.__init__(self)\n",
    "        print(\"child class contructor\",a,self.v,\"and\",self.ar)\n",
    "    def run(self):\n",
    "        pass\n",
    "    \n",
    "t=Mythread(10)\n"
   ]
  },
  {
   "cell_type": "markdown",
   "metadata": {},
   "source": [
    "# 49. creating a thread without creating child class to thread class "
   ]
  },
  {
   "cell_type": "raw",
   "metadata": {},
   "source": [
    "We can create an independent thread child class that does not inherit from Thread Class from threading module."
   ]
  },
  {
   "cell_type": "markdown",
   "metadata": {},
   "source": [
    "# syntax"
   ]
  },
  {
   "cell_type": "raw",
   "metadata": {},
   "source": [
    "class ClassName:\n",
    "    statements\n",
    "object_name = ClassName ()\n",
    "\n",
    "Thread_object = Thread(target=object_name.function_name, args=(arg1, arg2,…))   "
   ]
  },
  {
   "cell_type": "code",
   "execution_count": 99,
   "metadata": {},
   "outputs": [
    {
     "name": "stdout",
     "output_type": "stream",
     "text": [
      "10 20\n"
     ]
    }
   ],
   "source": [
    "class Mythread:\n",
    "    def disp(self,a,b):\n",
    "        print(a,b)\n",
    "myt=Mythread()\n",
    "\n",
    "t=Thread(target=myt.disp,args=(10,20))\n",
    "t.start()"
   ]
  },
  {
   "cell_type": "code",
   "execution_count": 3,
   "metadata": {},
   "outputs": [
    {
     "name": "stdout",
     "output_type": "stream",
     "text": [
      "10 20\n"
     ]
    }
   ],
   "source": [
    "from threading import Thread\n",
    "\n",
    "class Mythread:\n",
    "    def disp(self,a,b):\n",
    "        print(a,b)\n",
    "myt=Mythread()\n",
    "\n",
    "t=Thread(target=myt.disp,args=(10,20))\n",
    "t.start()"
   ]
  },
  {
   "cell_type": "markdown",
   "metadata": {},
   "source": [
    "# 50. single tasking using a thread"
   ]
  },
  {
   "cell_type": "raw",
   "metadata": {},
   "source": [
    "When multiple tasks are executed by a thread one by one, then it called single tasking.\n",
    "\n",
    "\n",
    "EXAMPLE :\n",
    "\n",
    "Writing Examination\n",
    "\n",
    "• Question 1\n",
    "• Question 2\n",
    "• Question 3"
   ]
  },
  {
   "cell_type": "code",
   "execution_count": 101,
   "metadata": {},
   "outputs": [
    {
     "name": "stdout",
     "output_type": "stream",
     "text": [
      "question 1 solved\n",
      "question 2 solved\n",
      "question 3 solved\n"
     ]
    }
   ],
   "source": [
    "from threading import Thread\n",
    "\n",
    "class Myexam:\n",
    "    def solve_questions(self):\n",
    "        self.q1()\n",
    "        self.q2()\n",
    "        self.q3()\n",
    "    def q1(self):\n",
    "        print(\"question 1 solved\")\n",
    "    def q2(self):\n",
    "        print(\"question 2 solved\")\n",
    "    def q3(self):\n",
    "        print(\"question 3 solved\")\n",
    "        \n",
    "myt=Myexam()\n",
    "t=Thread(target=myt.solve_questions)\n",
    "t.start()"
   ]
  },
  {
   "cell_type": "markdown",
   "metadata": {},
   "source": [
    "# we can use the sleep method too , to produce o/p  with time gap"
   ]
  },
  {
   "cell_type": "code",
   "execution_count": 103,
   "metadata": {},
   "outputs": [
    {
     "name": "stdout",
     "output_type": "stream",
     "text": [
      "qusetion 1 solved\n",
      "qusetion 2 solved\n",
      "qusetion 3 solved\n"
     ]
    }
   ],
   "source": [
    "from threading import Thread\n",
    "from time import sleep\n",
    "\n",
    "class Myexam:\n",
    "    def solve_questions(self):\n",
    "        self.q1()\n",
    "        self.q2()\n",
    "        self.q3()\n",
    "    \n",
    "    def q1(self):\n",
    "        print(\"qusetion 1 solved\")\n",
    "        sleep(3)\n",
    "        \n",
    "    def q2(self):\n",
    "        print(\"qusetion 2 solved\")\n",
    "        sleep(3)\n",
    "        \n",
    "    def q3(self):\n",
    "        print(\"qusetion 3 solved\")\n",
    "        sleep(3)\n",
    "        \n",
    "myt=Myexam()\n",
    "t=Thread(target=myt.solve_questions)\n",
    "t.start()"
   ]
  },
  {
   "cell_type": "code",
   "execution_count": null,
   "metadata": {},
   "outputs": [],
   "source": []
  },
  {
   "cell_type": "code",
   "execution_count": null,
   "metadata": {},
   "outputs": [],
   "source": []
  }
 ],
 "metadata": {
  "kernelspec": {
   "display_name": "Python 3",
   "language": "python",
   "name": "python3"
  },
  "language_info": {
   "codemirror_mode": {
    "name": "ipython",
    "version": 3
   },
   "file_extension": ".py",
   "mimetype": "text/x-python",
   "name": "python",
   "nbconvert_exporter": "python",
   "pygments_lexer": "ipython3",
   "version": "3.8.5"
  }
 },
 "nbformat": 4,
 "nbformat_minor": 4
}
