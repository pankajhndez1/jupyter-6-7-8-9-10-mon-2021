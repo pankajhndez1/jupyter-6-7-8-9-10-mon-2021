{
 "cells": [
  {
   "cell_type": "markdown",
   "metadata": {},
   "source": [
    "# 15-07-2021 tclit"
   ]
  },
  {
   "cell_type": "code",
   "execution_count": 14,
   "metadata": {},
   "outputs": [
    {
     "name": "stdout",
     "output_type": "stream",
     "text": [
      "enter the value of a=45\n",
      "enter the value of b=55\n",
      "100\n",
      "non prime\n"
     ]
    }
   ],
   "source": [
    "a=int(input(\"enter the value of a=\"))\n",
    "b=int(input(\"enter the value of b=\"))\n",
    "\n",
    "def add(a,b):\n",
    "    return a+b\n",
    "\n",
    "def square(c):\n",
    "    if c<50:\n",
    "        print(\"square is \",c**2)\n",
    "    else:\n",
    "        counter=0\n",
    "        for i in range(1,c+1):\n",
    "            if c%i==0:\n",
    "                counter=counter+1\n",
    "            else:\n",
    "                pass\n",
    "\n",
    "        if counter == 2:\n",
    "            print(\"prime\")\n",
    "        else:\n",
    "            print(\"non prime\")\n",
    "\n",
    "c=add(a,b)\n",
    "print(c)\n",
    "square(c)\n",
    "\n",
    " "
   ]
  },
  {
   "cell_type": "markdown",
   "metadata": {},
   "source": [
    "# function reciving the list"
   ]
  },
  {
   "cell_type": "code",
   "execution_count": 9,
   "metadata": {},
   "outputs": [
    {
     "name": "stdout",
     "output_type": "stream",
     "text": [
      "even list is [2, 6, 8]\n",
      "odd list is [1, 5, 7]\n"
     ]
    }
   ],
   "source": [
    "x=[1,5,2,6,7,8]\n",
    "even_list=[]\n",
    "\n",
    "odd_list=[]\n",
    "\n",
    "def disp(x):\n",
    "    for num in x:\n",
    "        if num %2==0:\n",
    "            even_list.append(num)\n",
    "        else:\n",
    "            odd_list.append(num)\n",
    "\n",
    "    print(\"even list is\",even_list)\n",
    "    print(\"odd list is\",odd_list)\n",
    "\n",
    "disp(x)\n",
    "     "
   ]
  },
  {
   "cell_type": "code",
   "execution_count": 23,
   "metadata": {},
   "outputs": [
    {
     "name": "stdout",
     "output_type": "stream",
     "text": [
      "sum is = 30\n",
      "square of num is  900\n"
     ]
    }
   ],
   "source": [
    "def add(a,b):\n",
    "    return a+b\n",
    "\n",
    "def square(c):\n",
    "    print(\"square of num is \",c**2)\n",
    "    \n",
    "    \n",
    "z=add(10,20)\n",
    "print(\"sum is =\",z)\n",
    "square(z)"
   ]
  },
  {
   "cell_type": "markdown",
   "metadata": {},
   "source": [
    "# power and base"
   ]
  },
  {
   "cell_type": "code",
   "execution_count": 2,
   "metadata": {},
   "outputs": [
    {
     "name": "stdout",
     "output_type": "stream",
     "text": [
      "enter the number2\n",
      "enter the power3\n",
      "result is 8\n"
     ]
    }
   ],
   "source": [
    "a=int(input(\"enter the number\"))\n",
    "b=int(input(\"enter the power\"))\n",
    "\n",
    "\n",
    "def myfunc(a,b):\n",
    "    return a**b\n",
    "\n",
    "result=myfunc(2,3)\n",
    "print(\"result is\",result)\n",
    "    "
   ]
  },
  {
   "cell_type": "markdown",
   "metadata": {},
   "source": [
    "# continue :"
   ]
  },
  {
   "cell_type": "raw",
   "metadata": {},
   "source": [
    "Definition and Usage:\n",
    "    \n",
    "The continue keyword is used to end the current iteration in a for loop (or a while loop), and continues to the next iteration."
   ]
  },
  {
   "cell_type": "code",
   "execution_count": 6,
   "metadata": {},
   "outputs": [
    {
     "name": "stdout",
     "output_type": "stream",
     "text": [
      "0\n",
      "hello\n",
      "hey there\n",
      "1\n",
      "hello\n",
      "hey there\n",
      "2\n",
      "hello\n",
      "hey there\n",
      "4\n",
      "hello\n",
      "hey there\n",
      "5\n",
      "hello\n",
      "hey there\n",
      "6\n",
      "hello\n",
      "hey there\n",
      "7\n",
      "hello\n",
      "hey there\n",
      "8\n",
      "hello\n",
      "hey there\n"
     ]
    }
   ],
   "source": [
    "for i in range(9):\n",
    "    if i == 3:\n",
    "        continue\n",
    "    print(i)\n",
    "    print(\"hello\")     # continue will not execute the statements under the  (  FOR LOOP  ) at the given particular condition!!\n",
    "    print(\"hey there\")"
   ]
  },
  {
   "cell_type": "markdown",
   "metadata": {},
   "source": [
    "# break :"
   ]
  },
  {
   "cell_type": "raw",
   "metadata": {},
   "source": [
    "Definition and Usage\n",
    "\n",
    "The break keyword is used to break out a for loop, or a while loop."
   ]
  },
  {
   "cell_type": "code",
   "execution_count": 10,
   "metadata": {},
   "outputs": [
    {
     "name": "stdout",
     "output_type": "stream",
     "text": [
      "enter the number-2\n",
      "0\n",
      "-1\n"
     ]
    }
   ],
   "source": [
    "n=int(input(\"enter the number\"))\n",
    "\n",
    "for i in range(0,n,-1):\n",
    "    print(i)\n",
    "    \n",
    "    "
   ]
  },
  {
   "cell_type": "code",
   "execution_count": 6,
   "metadata": {},
   "outputs": [
    {
     "name": "stdout",
     "output_type": "stream",
     "text": [
      "enter the number-8\n"
     ]
    }
   ],
   "source": [
    "x=int(input(\"enter the number\"))\n",
    "\n",
    "for i in range(x):\n",
    "    if x<0:\n",
    "        pass\n",
    "    else:\n",
    "        print(i)"
   ]
  },
  {
   "cell_type": "code",
   "execution_count": 15,
   "metadata": {},
   "outputs": [
    {
     "name": "stdout",
     "output_type": "stream",
     "text": [
      "0\n",
      "-1\n",
      "-2\n",
      "-3\n",
      "-4\n",
      "-5\n",
      "-6\n",
      "-7\n",
      "-8\n",
      "-9\n"
     ]
    }
   ],
   "source": [
    "for i in range(0,-10,-1):\n",
    "    print(i)"
   ]
  },
  {
   "cell_type": "code",
   "execution_count": 17,
   "metadata": {},
   "outputs": [
    {
     "name": "stdout",
     "output_type": "stream",
     "text": [
      "0\n",
      "2\n",
      "4\n",
      "6\n",
      "8\n",
      "10\n",
      "12\n",
      "14\n",
      "16\n",
      "18\n"
     ]
    }
   ],
   "source": [
    "for i in range(0,20,2):\n",
    "    print(i)"
   ]
  },
  {
   "cell_type": "code",
   "execution_count": null,
   "metadata": {},
   "outputs": [],
   "source": [
    "for i in range(0,20,2):\n",
    "    print(i)"
   ]
  }
 ],
 "metadata": {
  "kernelspec": {
   "display_name": "Python 3",
   "language": "python",
   "name": "python3"
  },
  "language_info": {
   "codemirror_mode": {
    "name": "ipython",
    "version": 3
   },
   "file_extension": ".py",
   "mimetype": "text/x-python",
   "name": "python",
   "nbconvert_exporter": "python",
   "pygments_lexer": "ipython3",
   "version": "3.8.5"
  }
 },
 "nbformat": 4,
 "nbformat_minor": 4
}
