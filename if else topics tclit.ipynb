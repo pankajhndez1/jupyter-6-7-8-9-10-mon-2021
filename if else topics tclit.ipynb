{
 "cells": [
  {
   "cell_type": "markdown",
   "metadata": {},
   "source": [
    "# note***"
   ]
  },
  {
   "cell_type": "raw",
   "metadata": {},
   "source": [
    "in  case of if ,elif and else once the condition is met o/p will get printed ...no matter even if the elif condition is true or not !! the other conditions in elif and else won't be checked  further."
   ]
  },
  {
   "cell_type": "markdown",
   "metadata": {},
   "source": [
    "# if:"
   ]
  },
  {
   "cell_type": "raw",
   "metadata": {},
   "source": [
    "Python if Statement is used for decision-making operations. It contains a body of code which runs only when the condition given in the if statement is true. "
   ]
  },
  {
   "cell_type": "markdown",
   "metadata": {},
   "source": [
    "# Elif:"
   ]
  },
  {
   "cell_type": "raw",
   "metadata": {},
   "source": [
    " The elif keyword is pythons way of saying \"if the previous conditions were not true, then try this condition\"."
   ]
  },
  {
   "cell_type": "code",
   "execution_count": 4,
   "metadata": {},
   "outputs": [
    {
     "name": "stdout",
     "output_type": "stream",
     "text": [
      "b is 33\n"
     ]
    }
   ],
   "source": [
    "a = 33\n",
    "b = 33\n",
    "if b==33:\n",
    "    print(\"b is 33\")\n",
    "elif a == b:\n",
    "    print(\"a and b are equal\")\n"
   ]
  },
  {
   "cell_type": "code",
   "execution_count": 7,
   "metadata": {},
   "outputs": [
    {
     "name": "stdout",
     "output_type": "stream",
     "text": [
      "b is 33\n",
      "a and b are equal\n"
     ]
    }
   ],
   "source": [
    "a = 33\n",
    "b = 33\n",
    "if b==33:\n",
    "    print(\"b is 33\")\n",
    "if a == b:\n",
    "    print(\"a and b are equal\")"
   ]
  },
  {
   "cell_type": "markdown",
   "metadata": {},
   "source": [
    "# Else:"
   ]
  },
  {
   "cell_type": "raw",
   "metadata": {},
   "source": [
    "The else keyword catches anything which isn't caught by the preceding conditions."
   ]
  },
  {
   "cell_type": "code",
   "execution_count": 6,
   "metadata": {},
   "outputs": [
    {
     "name": "stdout",
     "output_type": "stream",
     "text": [
      "b is 33\n"
     ]
    }
   ],
   "source": [
    "a = 33\n",
    "b = 33\n",
    "if b==33:\n",
    "    print(\"b is 33\")\n",
    "elif a == b:\n",
    "    print(\"a and b are equal\")\n",
    "else:\n",
    "    print(\" i don't know much\")"
   ]
  },
  {
   "cell_type": "markdown",
   "metadata": {},
   "source": [
    "# nested if elif else:"
   ]
  },
  {
   "cell_type": "code",
   "execution_count": 10,
   "metadata": {},
   "outputs": [
    {
     "name": "stdout",
     "output_type": "stream",
     "text": [
      "Above ten,\n",
      "and also above 20!\n"
     ]
    }
   ],
   "source": [
    "x = 41\n",
    "\n",
    "if x > 10:\n",
    "    print(\"Above ten,\")\n",
    "    if x > 20:\n",
    "        print(\"and also above 20!\")\n",
    "    else:\n",
    "        print(\"but not above 20.\")\n"
   ]
  },
  {
   "cell_type": "code",
   "execution_count": 15,
   "metadata": {},
   "outputs": [
    {
     "name": "stdout",
     "output_type": "stream",
     "text": [
      "Above ten,\n",
      "and also above 20!\n"
     ]
    }
   ],
   "source": [
    "x = 41\n",
    "\n",
    "if x > 10:\n",
    "    print(\"Above ten,\")\n",
    "    if x > 20:\n",
    "        print(\"and also above 20!\")\n",
    "    else:\n",
    "        print(\"but not above 20.\")\n",
    "elif x==41:                        # note even here elif condition is true but still once the condition is met previously \n",
    "    print(\"a is 41\")               # it won't be checking further\n",
    "\n"
   ]
  },
  {
   "cell_type": "code",
   "execution_count": 16,
   "metadata": {},
   "outputs": [
    {
     "name": "stdout",
     "output_type": "stream",
     "text": [
      "Above ten,\n",
      "and also above 20!\n",
      "x is 41\n"
     ]
    }
   ],
   "source": [
    "x = 41\n",
    "\n",
    "if x > 10:\n",
    "    print(\"Above ten,\")\n",
    "    if x > 20:\n",
    "        print(\"and also above 20!\")\n",
    "    else:\n",
    "        print(\"but not above 20.\")\n",
    "if x==41:                           # as if is a strong statement hence again if condition will be met !! and we will have o/p\n",
    "    print(\"x is 41\")\n"
   ]
  },
  {
   "cell_type": "code",
   "execution_count": null,
   "metadata": {},
   "outputs": [],
   "source": []
  },
  {
   "cell_type": "code",
   "execution_count": null,
   "metadata": {},
   "outputs": [],
   "source": []
  },
  {
   "cell_type": "code",
   "execution_count": null,
   "metadata": {},
   "outputs": [],
   "source": []
  },
  {
   "cell_type": "raw",
   "metadata": {},
   "source": [
    "greatest between three nunmbers"
   ]
  },
  {
   "cell_type": "code",
   "execution_count": 12,
   "metadata": {},
   "outputs": [
    {
     "name": "stdout",
     "output_type": "stream",
     "text": [
      " enter the value of a =100\n",
      " enter the value of b =5\n",
      " enter the value of c =120\n",
      "  c is greatest\n"
     ]
    }
   ],
   "source": [
    "a=int(input(\" enter the value of a =\"))\n",
    "b=int(input(\" enter the value of b =\"))\n",
    "c=int(input(\" enter the value of c =\"))\n",
    "\n",
    "if a>b and a>c:\n",
    "    print(  \" a is greatest\")\n",
    "elif b>c:\n",
    "    print( \" b is greatest\")\n",
    "else:\n",
    "    print(\"  c is greatest\")\n",
    "    "
   ]
  },
  {
   "cell_type": "code",
   "execution_count": 9,
   "metadata": {},
   "outputs": [
    {
     "name": "stdout",
     "output_type": "stream",
     "text": [
      " enter the value of a =5\n",
      " enter the value of b =4\n",
      " enter the value of c =8\n",
      " c is greatest\n"
     ]
    }
   ],
   "source": [
    "a=int(input(\" enter the value of a =\"))\n",
    "b=int(input(\" enter the value of b =\"))\n",
    "c=int(input(\" enter the value of c =\"))\n",
    "\n",
    "if a>b and a>c:\n",
    "    print(  \" a is greatest\")\n",
    "elif c>b:\n",
    "    print( \" c is greatest\")\n",
    "else:\n",
    "    print(\"  b is greatest\")"
   ]
  },
  {
   "cell_type": "code",
   "execution_count": 6,
   "metadata": {},
   "outputs": [
    {
     "name": "stdout",
     "output_type": "stream",
     "text": [
      " enter the value of a =15\n",
      " enter the value of b =56\n",
      " enter the value of c =58\n",
      " enter the value of d =89\n",
      "d is greatest\n"
     ]
    }
   ],
   "source": [
    "a=int(input(\" enter the value of a =\"))\n",
    "b=int(input(\" enter the value of b =\"))\n",
    "c=int(input(\" enter the value of c =\"))\n",
    "\n",
    "d=int(input(\" enter the value of d =\"))\n",
    "\n",
    "if a>b and a>c and a>d:\n",
    "    print( \" a is greatest\")\n",
    "elif b>c and b>d:\n",
    "    print( \" b is greatest\")\n",
    "elif c>d and c>b:\n",
    "    print( \" c is greatest\")\n",
    "else:\n",
    "    print(\"d is greatest\")"
   ]
  },
  {
   "cell_type": "markdown",
   "metadata": {},
   "source": [
    "# now using nested if else to find greatest of three numbers"
   ]
  },
  {
   "cell_type": "code",
   "execution_count": 10,
   "metadata": {},
   "outputs": [
    {
     "name": "stdout",
     "output_type": "stream",
     "text": [
      " enter the value of a =45\n",
      " enter the value of b =24\n",
      " enter the value of c =565\n",
      " c is greatest\n"
     ]
    }
   ],
   "source": [
    "a=int(input(\" enter the value of a =\"))\n",
    "b=int(input(\" enter the value of b =\"))\n",
    "c=int(input(\" enter the value of c =\"))\n",
    "\n",
    "if a>b:\n",
    "    if a >c:\n",
    "        print(\" a is greatest\")\n",
    "    else:\n",
    "        print(\" c is greatest\")\n",
    "elif b>c:\n",
    "    print(\" b is greatest \")\n",
    "else:\n",
    "    print(\" c is greatest\")\n",
    "        \n"
   ]
  },
  {
   "cell_type": "markdown",
   "metadata": {},
   "source": [
    "# now using nested if else to find greatest of four numbers"
   ]
  },
  {
   "cell_type": "code",
   "execution_count": 10,
   "metadata": {},
   "outputs": [
    {
     "name": "stdout",
     "output_type": "stream",
     "text": [
      " enter the value of a =145\n",
      " enter the value of b =45\n",
      " enter the value of c =78\n",
      " enter the value of d =98\n",
      " a is greatest\n"
     ]
    }
   ],
   "source": [
    "# this logic works:\n",
    "\n",
    "\n",
    "a=int(input(\" enter the value of a =\"))\n",
    "b=int(input(\" enter the value of b =\"))\n",
    "c=int(input(\" enter the value of c =\"))\n",
    "d=int(input(\" enter the value of d =\"))\n",
    "\n",
    "if a>b:\n",
    "    if a >c and a>d:\n",
    "        print(\" a is greatest\")\n",
    "    elif d>a:\n",
    "        print(\" d is greatest\")\n",
    "    elif c>a:\n",
    "        print(\" c is greatest\")\n",
    "    \n",
    "elif b>c:\n",
    "    if b>d:\n",
    "        print(\" b is greatest \")\n",
    "    else:\n",
    "        print(\"d is greatest\")\n",
    "elif d>c:\n",
    "    print(\"d is greatest\")\n",
    "else:\n",
    "    print(\" c is greatest\")\n",
    "    "
   ]
  },
  {
   "cell_type": "markdown",
   "metadata": {},
   "source": [
    "# this is correct !!  # ye use krna in future !!! below one !!"
   ]
  },
  {
   "cell_type": "code",
   "execution_count": 1,
   "metadata": {},
   "outputs": [
    {
     "name": "stdout",
     "output_type": "stream",
     "text": [
      " enter the value of a =2\n",
      " enter the value of b =5\n",
      " enter the value of c =6\n",
      " enter the value of d =9\n",
      "d is greatest\n"
     ]
    }
   ],
   "source": [
    "# this is correct !!  # ye use krna in future !!!\n",
    "\n",
    "a=int(input(\" enter the value of a =\"))\n",
    "b=int(input(\" enter the value of b =\"))\n",
    "c=int(input(\" enter the value of c =\"))\n",
    "d=int(input(\" enter the value of d =\"))\n",
    "\n",
    "if a>b:\n",
    "    if a >c and a>d:                # 1st a>c condition ko galat lekr aage code krna i.e a>b,c>a --> c>a>b\n",
    "        print(\" a is greatest\")\n",
    "    elif d>c:\n",
    "        print(\"d is greatest\")\n",
    "    else:\n",
    "        print(\" c is greatest\")\n",
    "    \n",
    "elif b>c:\n",
    "    if b>d:\n",
    "        print(\" b is greatest \")\n",
    "    else:\n",
    "        print(\"d is greatest\")\n",
    "elif d>c:\n",
    "    print(\"d is greatest\")\n",
    "else:\n",
    "    print(\" c is greatest\")\n",
    "    "
   ]
  },
  {
   "cell_type": "code",
   "execution_count": 8,
   "metadata": {},
   "outputs": [
    {
     "name": "stdout",
     "output_type": "stream",
     "text": [
      " enter the age of person19\n",
      " enter weight of person54\n",
      "not eligilbe\n"
     ]
    }
   ],
   "source": [
    "# home work\n",
    "\n",
    "age= int(input(\" enter the age of person\"))\n",
    "weight=int(input(\" enter weight of person\"))\n",
    "\n",
    "if age>=18 and weight>=55:\n",
    "    print(\"yes age is greater than or equals to 18  ELIGIBLE\")\n",
    "elif age<18 and weight<55 :\n",
    "    print(\" not eligible\")\n",
    "elif age<18 and weight>55 :\n",
    "    print(\" not eligible\")\n",
    "elif age>18 and weight<55:\n",
    "    print(\"not eligilbe\")\n"
   ]
  },
  {
   "cell_type": "code",
   "execution_count": 1,
   "metadata": {},
   "outputs": [
    {
     "name": "stdout",
     "output_type": "stream",
     "text": [
      " enter the age of person17\n",
      " enter weight of person45\n",
      " enter the height of a person56\n",
      "under age\n"
     ]
    }
   ],
   "source": [
    "# home work\n",
    "\n",
    "age=int(input(\" enter the age of person\"))\n",
    "weight=int(input(\" enter weight of person\"))\n",
    "height=int(input(\" enter the height of a person\"))\n",
    "\n",
    "if age>=18:\n",
    "    if weight>=55:\n",
    "        if height>=170:\n",
    "            print(\"eligible\")\n",
    "        else:                         # height else\n",
    "            print(\"under height\")\n",
    "    else:                          # weight else\n",
    "        print(\"under weight\")\n",
    "else:                            # age else\n",
    "    print(\"under age\")\n"
   ]
  },
  {
   "cell_type": "code",
   "execution_count": 9,
   "metadata": {},
   "outputs": [
    {
     "name": "stdout",
     "output_type": "stream",
     "text": [
      " bread and eggs are available\n",
      " i will make BREAD OMELET \n"
     ]
    }
   ],
   "source": [
    "# market\n",
    "\n",
    "bread=True\n",
    "egg=True\n",
    "\n",
    "\n",
    "if bread==True:\n",
    "    if egg==True:                           # nested if\n",
    "        print(\" bread and eggs are available\")\n",
    "        print(\" i will make BREAD OMELET \")\n",
    "    else:                                   # nested else\n",
    "        print(\" i will make SANWICH \")\n",
    "elif bread!=True:  # elif k andr nested if else\n",
    "    \n",
    "    if egg==True:\n",
    "        print(\"i will make OMELET\")\n",
    "    else:\n",
    "        print(\"i will make only tea\")\n",
    "\n"
   ]
  },
  {
   "cell_type": "markdown",
   "metadata": {},
   "source": [
    "# note : we can use (nested if ,elif, else) also (nested if else) inside  if elif and else!!!"
   ]
  },
  {
   "cell_type": "raw",
   "metadata": {},
   "source": [
    "greatest between 5 numbers"
   ]
  },
  {
   "cell_type": "code",
   "execution_count": null,
   "metadata": {},
   "outputs": [],
   "source": [
    "a=int(input(\" enter the value of a =\"))\n",
    "b=int(input(\" enter the value of b =\"))\n",
    "c=int(input(\" enter the value of c =\"))\n",
    "d=int(input(\" enter the value of d =\"))\n",
    "e=int(input(\" enter the value of e =\"))\n",
    "\n",
    "if a>b:\n",
    "    if a>c:\n",
    "        if a>d:\n",
    "            if a>e:\n",
    "                print(\"a is greatest\")\n",
    "            else:\n",
    "                print(\"e is greatest\")\n",
    "        else:\n",
    "            if d>e:\n",
    "                print(\"d is greatest\")\n",
    "            else:\n",
    "                print(\"e is greatest\")\n",
    "    else:\n",
    "        if d>c :\n",
    "            if d>e:\n",
    "                print(\"d is greatest\")  \n",
    "            else:\n",
    "                print(\"e is greatest\")\n",
    "else:\n",
    "    if b>c:\n",
    "        if b>d:\n",
    "            if b>e:\n",
    "                print(\"b is gretest\")\n",
    "            else:\n",
    "                print(\"e is greatest\")\n",
    "        else:\n",
    "            if d>e:\n",
    "                print(\"d is greatest\")\n",
    "            else:\n",
    "                print(\"e is greatest\")\n",
    "    else:\n",
    "        if c>d:\n",
    "            if c>e:\n",
    "                print(\"c is greatest\")\n",
    "            else:\n",
    "                print(\"e is greatest\")\n",
    "        else:\n",
    "            if d>e:\n",
    "                print(\"d is greatest\")\n",
    "            else:\n",
    "                print(\"e is greatest\")"
   ]
  },
  {
   "cell_type": "markdown",
   "metadata": {},
   "source": [
    "# greatest between 6 numbers"
   ]
  },
  {
   "cell_type": "code",
   "execution_count": 1,
   "metadata": {},
   "outputs": [
    {
     "name": "stdout",
     "output_type": "stream",
     "text": [
      "enter the value of a=5\n",
      "enter the value of b=68\n",
      "enter the value of c=478\n",
      "enter the value of d=98\n",
      "enter the value of e=55\n",
      "enter the value of f=4\n",
      " c is greatest\n"
     ]
    }
   ],
   "source": [
    "# greatest between 7 numbers\n",
    "\n",
    "a = int(input(\"enter the value of a=\"))\n",
    "b = int(input(\"enter the value of b=\"))\n",
    "c = int(input(\"enter the value of c=\"))\n",
    "d = int(input(\"enter the value of d=\"))\n",
    "e = int(input(\"enter the value of e=\"))\n",
    "f = int(input(\"enter the value of f=\"))\n",
    "\n",
    "if a > b:\n",
    "    if a > c:\n",
    "        if a > d:\n",
    "            if a > e:\n",
    "                if a > f:\n",
    "                    print(\"a is greatest\")\n",
    "                else:\n",
    "                    print(\"f is greatest\")\n",
    "            else:\n",
    "                if e > f:\n",
    "                    print(\"e is greatest\")\n",
    "                else:\n",
    "                    print(\"f is greatest\")\n",
    "        else:\n",
    "            if d > e:\n",
    "                if d > f:\n",
    "                    print(\"d is greatest\")\n",
    "                else:\n",
    "                    print(\"f is greatest\")\n",
    "            else:\n",
    "                if e > f:\n",
    "                    print(\"e is greatest\")\n",
    "                else:\n",
    "                    print(\"f is greatest\")\n",
    "    else:\n",
    "        if c > d:\n",
    "            if c > e:\n",
    "                if c > f:\n",
    "                    print(\"c is greatest\")\n",
    "                else:\n",
    "                    print(\"f is greatest\")\n",
    "            else:\n",
    "                if e > d:\n",
    "                    if e > f:\n",
    "                        print(\"e is gretaest\")\n",
    "                    else:\n",
    "                        print(\"f is greatest\")\n",
    "                else:\n",
    "                    if f > d:\n",
    "                        print(\"f is greatest\")\n",
    "                    else:\n",
    "                        print(\"d is greatest\")\n",
    "        else:\n",
    "            if d > f:\n",
    "                if d > e:\n",
    "                    print(\"d is greatest\")\n",
    "                else:\n",
    "                    print(\"e is greatest\")\n",
    "            else:\n",
    "                if e > f:\n",
    "                    print(\" e is greatest\")\n",
    "                else:\n",
    "                    print(\"f is greatest\")\n",
    "else:\n",
    "    if b > c:\n",
    "        if b > d:\n",
    "            if b > e:\n",
    "                if b > f:\n",
    "                    print(\"b is greatest\")\n",
    "                else:\n",
    "                    print(\"f is greatest\")\n",
    "            else:\n",
    "                if e > f:\n",
    "                    print(\"e is greatest\")\n",
    "                else:\n",
    "                    print(\"f is greatest\")\n",
    "        else:\n",
    "            if d > e:\n",
    "                if d > f:\n",
    "                    print(\"d is greatest\")\n",
    "                else:\n",
    "                    print(\"f is greatest\")\n",
    "            else:\n",
    "                if e > c:\n",
    "                    if e > f:\n",
    "                        print(\"e is greatest\")\n",
    "                    else:\n",
    "                        print(\"f is greatest\")\n",
    "                else:\n",
    "                    if c > f:\n",
    "                        print(\"c is greatest\")\n",
    "                    else:\n",
    "                        print(\"f is greatest\")\n",
    "    else:\n",
    "        if c > d:\n",
    "            if c > e:\n",
    "                if c > f:\n",
    "                    print(\" c is greatest\")\n",
    "                else:\n",
    "                    print(\" f is greatest\")\n",
    "            else:\n",
    "                if e > f:\n",
    "                    print(\"e is greatest\")\n",
    "                else:\n",
    "                    print(\"f is greatest\")\n",
    "        else:\n",
    "            if d > e:\n",
    "                if d > f:\n",
    "                    print(\"d is greatest\")\n",
    "                else:\n",
    "                    print(\"f is greatest\")\n",
    "            else:\n",
    "                if e > f:\n",
    "                    print(\"e is greatest\")\n",
    "                else:\n",
    "                    print(\"f is greatest\")"
   ]
  },
  {
   "cell_type": "code",
   "execution_count": null,
   "metadata": {},
   "outputs": [],
   "source": []
  },
  {
   "cell_type": "code",
   "execution_count": null,
   "metadata": {},
   "outputs": [],
   "source": []
  },
  {
   "cell_type": "code",
   "execution_count": null,
   "metadata": {},
   "outputs": [],
   "source": []
  },
  {
   "cell_type": "code",
   "execution_count": null,
   "metadata": {},
   "outputs": [],
   "source": []
  },
  {
   "cell_type": "code",
   "execution_count": null,
   "metadata": {},
   "outputs": [],
   "source": []
  },
  {
   "cell_type": "code",
   "execution_count": null,
   "metadata": {},
   "outputs": [],
   "source": []
  }
 ],
 "metadata": {
  "kernelspec": {
   "display_name": "Python 3",
   "language": "python",
   "name": "python3"
  },
  "language_info": {
   "codemirror_mode": {
    "name": "ipython",
    "version": 3
   },
   "file_extension": ".py",
   "mimetype": "text/x-python",
   "name": "python",
   "nbconvert_exporter": "python",
   "pygments_lexer": "ipython3",
   "version": "3.8.5"
  }
 },
 "nbformat": 4,
 "nbformat_minor": 4
}
