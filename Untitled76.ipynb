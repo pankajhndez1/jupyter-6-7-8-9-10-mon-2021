{
 "cells": [
  {
   "cell_type": "code",
   "execution_count": 3,
   "metadata": {},
   "outputs": [
    {
     "name": "stdout",
     "output_type": "stream",
     "text": [
      "you have devided a number by zero which is not allowed !!\n",
      "outside try and except\n"
     ]
    }
   ],
   "source": [
    "try:\n",
    "    a=10\n",
    "    b=0\n",
    "    print(\"result is \"+str(a/b))\n",
    "except:\n",
    "    print('you have devided a number by zero which is not allowed !!')\n",
    "    \n",
    "print(\"outside try and except\")"
   ]
  },
  {
   "cell_type": "code",
   "execution_count": 5,
   "metadata": {},
   "outputs": [
    {
     "name": "stdout",
     "output_type": "stream",
     "text": [
      "enter the numenator2\n",
      "enter the denominator y\n",
      "enter the valid values\n"
     ]
    }
   ],
   "source": [
    "try :\n",
    "    a=int(input(\"enter the numenator \"))\n",
    "    b=int(input(\"enter the denominator \"))\n",
    "    print(\"the result is \"+str(a/b))\n",
    "    \n",
    "except(ValueError,ZeroDivisionError):\n",
    "    print(\"enter the valid values\")\n",
    "    "
   ]
  },
  {
   "cell_type": "code",
   "execution_count": 6,
   "metadata": {},
   "outputs": [
    {
     "name": "stdout",
     "output_type": "stream",
     "text": [
      "enter the numenator 1\n",
      "enter the denominator 0\n",
      "entered number is not divisible by zero \n"
     ]
    }
   ],
   "source": [
    "try :\n",
    "    a=int(input(\"enter the numenator \"))\n",
    "    b=int(input(\"enter the denominator \"))\n",
    "    print(\"the result is \"+str(a/b))\n",
    "    \n",
    "except(ValueError):\n",
    "    print(\"enter the interger values\")\n",
    "    \n",
    "except(ZeroDivisionError):\n",
    "    print(\"entered number is not divisible by zero \")\n",
    "    \n",
    "except:\n",
    "    print(\"something went wrong \")"
   ]
  },
  {
   "cell_type": "code",
   "execution_count": 8,
   "metadata": {},
   "outputs": [
    {
     "name": "stdout",
     "output_type": "stream",
     "text": [
      "enter the numenator 12\n",
      "enter the denominator 45\n",
      "the result is 0.26666666666666666\n",
      "execution done !!\n"
     ]
    }
   ],
   "source": [
    "try :\n",
    "    a=int(input(\"enter the numenator \"))\n",
    "    b=int(input(\"enter the denominator \"))\n",
    "    print(\"the result is \"+str(a/b))\n",
    "    \n",
    "except(ValueError):    #prebuilt errors\n",
    "    print(\"enter the interger values\")\n",
    "    \n",
    "except(ZeroDivisionError):\n",
    "    print(\"entered number is not divisible by zero \")\n",
    "    \n",
    "except:\n",
    "    print(\"something went wrong \")\n",
    "finally:\n",
    "    print(\"execution done !!\")"
   ]
  },
  {
   "cell_type": "code",
   "execution_count": null,
   "metadata": {},
   "outputs": [],
   "source": []
  },
  {
   "cell_type": "code",
   "execution_count": null,
   "metadata": {},
   "outputs": [],
   "source": []
  }
 ],
 "metadata": {
  "kernelspec": {
   "display_name": "Python 3",
   "language": "python",
   "name": "python3"
  },
  "language_info": {
   "codemirror_mode": {
    "name": "ipython",
    "version": 3
   },
   "file_extension": ".py",
   "mimetype": "text/x-python",
   "name": "python",
   "nbconvert_exporter": "python",
   "pygments_lexer": "ipython3",
   "version": "3.8.5"
  }
 },
 "nbformat": 4,
 "nbformat_minor": 4
}
