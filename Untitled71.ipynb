{
 "cells": [
  {
   "cell_type": "markdown",
   "metadata": {},
   "source": [
    "# polymorphism"
   ]
  },
  {
   "cell_type": "code",
   "execution_count": 9,
   "metadata": {},
   "outputs": [
    {
     "name": "stdout",
     "output_type": "stream",
     "text": [
      "dog wof wof\n",
      "cat Meow Meow\n",
      "cow moow moow\n"
     ]
    }
   ],
   "source": [
    "class Dog:\n",
    "    def __init__(self,name):\n",
    "        self.name=name\n",
    "    def sound(self):\n",
    "        print(f\"{self.name} wof wof\")\n",
    "class Cat:\n",
    "    def __init__(self,name):\n",
    "        self.name=name\n",
    "    def sound(self):\n",
    "        print(f\"{self.name} Meow Meow\")\n",
    "class Cow:\n",
    "    def __init__(self,name):\n",
    "        self.name=name\n",
    "    def sound(self):\n",
    "        print(f\"{self.name} moow moow\")\n",
    "        \n",
    "d=Dog(\"dog\")\n",
    "c=Cat(\"cat\")\n",
    "co=Cow('cow')\n",
    "\n",
    "\n",
    "d.sound()\n",
    "c.sound()\n",
    "co.sound()"
   ]
  },
  {
   "cell_type": "markdown",
   "metadata": {},
   "source": [
    "# hierarichal inheritance"
   ]
  },
  {
   "cell_type": "raw",
   "metadata": {},
   "source": [
    "when multiple child is derieved from same parent class is called hierarichal inheritance"
   ]
  },
  {
   "cell_type": "code",
   "execution_count": 37,
   "metadata": {},
   "outputs": [
    {
     "name": "stdout",
     "output_type": "stream",
     "text": [
      "A class method  john \n",
      " C class Method !! abc\n"
     ]
    }
   ],
   "source": [
    "class A:\n",
    "    def __init__(self,Aname):\n",
    "        self.Aname=Aname\n",
    "        \n",
    "    def Amethod(self):\n",
    "        print(\"A class method \",self.Aname)\n",
    "        \n",
    "class B(A):\n",
    "    def __init__(self,name):\n",
    "        self.name=name\n",
    "    def Bmethod(self):\n",
    "        print(\"B class method \",self.name)\n",
    "class C(A):\n",
    "    def __init__(self,name,Aname):\n",
    "        super().__init__(Aname)\n",
    "        self.name =name\n",
    "    def Cmethod(self):\n",
    "        print(\" C class Method !!\",self.name)\n",
    "        \n",
    "c=C('abc',\"john \")\n",
    "# b=B(\"jkl\")\n",
    "# b.Amethod()\n",
    "c.Amethod()\n",
    "c.Cmethod()"
   ]
  },
  {
   "cell_type": "code",
   "execution_count": null,
   "metadata": {},
   "outputs": [],
   "source": []
  },
  {
   "cell_type": "code",
   "execution_count": null,
   "metadata": {},
   "outputs": [],
   "source": []
  }
 ],
 "metadata": {
  "kernelspec": {
   "display_name": "Python 3",
   "language": "python",
   "name": "python3"
  },
  "language_info": {
   "codemirror_mode": {
    "name": "ipython",
    "version": 3
   },
   "file_extension": ".py",
   "mimetype": "text/x-python",
   "name": "python",
   "nbconvert_exporter": "python",
   "pygments_lexer": "ipython3",
   "version": "3.8.5"
  }
 },
 "nbformat": 4,
 "nbformat_minor": 4
}
