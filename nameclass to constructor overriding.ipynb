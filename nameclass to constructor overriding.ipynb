{
 "cells": [
  {
   "cell_type": "markdown",
   "metadata": {},
   "source": [
    "\n",
    "# oops concept ( NAMESAPCE )"
   ]
  },
  {
   "cell_type": "code",
   "execution_count": 30,
   "metadata": {},
   "outputs": [
    {
     "name": "stdout",
     "output_type": "stream",
     "text": [
      "yes\n",
      "yes\n"
     ]
    }
   ],
   "source": [
    "class Mobile:\n",
    "    fp=\"yes\"   # class variable / static variable\n",
    "    \n",
    "realme=Mobile()\n",
    "\n",
    "print(Mobile.fp) # note we can access the class variable with the help of class name\n",
    "print(realme.fp) #note we can access the class variable with the help of object too !!"
   ]
  },
  {
   "cell_type": "raw",
   "metadata": {},
   "source": [
    "TOPIC :- changing the class variable with the help of classname and seeing its effect"
   ]
  },
  {
   "cell_type": "code",
   "execution_count": 31,
   "metadata": {},
   "outputs": [
    {
     "name": "stdout",
     "output_type": "stream",
     "text": [
      "yes\n",
      "yes\n",
      "yes\n",
      "\n",
      "NO\n",
      "NO\n",
      "NO\n"
     ]
    }
   ],
   "source": [
    "class Mobile:\n",
    "    fp= \"yes\"\n",
    "    \n",
    "realme=Mobile()\n",
    "redmi=Mobile()\n",
    "geek=Mobile()\n",
    "\n",
    "\n",
    "\n",
    "print(realme.fp)\n",
    "print(redmi.fp)\n",
    "print(geek.fp)\n",
    "print()\n",
    "\n",
    "Mobile.fp=\"NO\" # changing of the classvariable with the help of class name\n",
    "\n",
    "print(realme.fp)\n",
    "print(redmi.fp)\n",
    "print(geek.fp)\n",
    "\n"
   ]
  },
  {
   "cell_type": "raw",
   "metadata": {},
   "source": [
    "TOPIC :- changing the class variable with the help of objectname and seeing its effect"
   ]
  },
  {
   "cell_type": "code",
   "execution_count": 32,
   "metadata": {},
   "outputs": [
    {
     "name": "stdout",
     "output_type": "stream",
     "text": [
      "yes\n",
      "yes\n",
      "yes\n",
      "\n",
      "NO\n",
      "yes\n",
      "yes\n"
     ]
    }
   ],
   "source": [
    "class Mobile:\n",
    "    fp=\"yes\"\n",
    "    \n",
    "realme=Mobile()\n",
    "redmi=Mobile()\n",
    "geek=Mobile()\n",
    "\n",
    "print(realme.fp)\n",
    "print(redmi.fp)\n",
    "print(geek.fp)\n",
    "print()\n",
    "\n",
    "realme.fp=\"NO\" # accessing the class variable with the help of object name will allow us to change the class variable for only that particular object\n",
    "\n",
    "\n",
    "print(realme.fp)\n",
    "print(redmi.fp)\n",
    "print(geek.fp)\n",
    "\n"
   ]
  },
  {
   "cell_type": "raw",
   "metadata": {},
   "source": [
    "another example :"
   ]
  },
  {
   "cell_type": "code",
   "execution_count": 33,
   "metadata": {},
   "outputs": [
    {
     "name": "stdout",
     "output_type": "stream",
     "text": [
      "class_Fp : yes\n",
      "realme : yes\n",
      "redmi : yes\n",
      "geek : yes\n",
      "\n",
      "class_Fp : no\n",
      "realme : no\n",
      "redmi : no\n",
      "geek : no\n",
      "\n",
      "class_Fp : no\n",
      "realme : not working\n",
      "redmi : no\n",
      "geek : no\n"
     ]
    }
   ],
   "source": [
    "class Mobile:\n",
    "    fp=\"yes\"\n",
    "    \n",
    "realme=Mobile()\n",
    "redmi=Mobile()\n",
    "geek=Mobile()\n",
    "\n",
    "#accessing class variable\n",
    "\n",
    "\n",
    "print(\"class_Fp :\",Mobile.fp) # accesing with class name\n",
    "print(\"realme :\",realme.fp) #accesing with object\n",
    "print(\"redmi :\",redmi.fp) #accesing with object\n",
    "print(\"geek :\",geek.fp) #accesing with object\n",
    "print()\n",
    "\n",
    "Mobile.fp=\"no\"  # accesing the class variable with classname and then changing it\n",
    "\n",
    "\n",
    "\n",
    "print(\"class_Fp :\",Mobile.fp) # accesing with class name\n",
    "print(\"realme :\",realme.fp) #accesing with object\n",
    "print(\"redmi :\",redmi.fp) #accesing with object\n",
    "print(\"geek :\",geek.fp)\n",
    "print()\n",
    "\n",
    "# now accesing the class variable with objectname (realme ) and then changing it ! and looking after effects (will get changed for only that object only)\n",
    "\n",
    "\n",
    "realme.fp=\"not working\"\n",
    "\n",
    "print(\"class_Fp :\",Mobile.fp) # accesing with class name\n",
    "print(\"realme :\",realme.fp) #accesing with object\n",
    "print(\"redmi :\",redmi.fp) #accesing with object\n",
    "print(\"geek :\",geek.fp)"
   ]
  },
  {
   "cell_type": "markdown",
   "metadata": {},
   "source": [
    "#  ( instance method ) in detail"
   ]
  },
  {
   "cell_type": "markdown",
   "metadata": {},
   "source": [
    "# instance method :\n",
    "    1. accessor method \n",
    "    2. getter method"
   ]
  },
  {
   "cell_type": "raw",
   "metadata": {},
   "source": [
    "note :intance method's  self variable [ def show_model(self,f1,f2) ]    will always use the address of the object which we are currently using and also if instance method do have some formal argument in it then we have to pass the actual argument for the instance method's fomal argument from where it is called !!"
   ]
  },
  {
   "cell_type": "code",
   "execution_count": 36,
   "metadata": {},
   "outputs": [
    {
     "name": "stdout",
     "output_type": "stream",
     "text": [
      "model name is : realme X price : 1000\n",
      "\n",
      "model name is : realme X price : 2000\n"
     ]
    }
   ],
   "source": [
    "class Mobile:\n",
    "    def __init__(self):\n",
    "        self.model=\"realme X\"\n",
    "        \n",
    "    def show_model(self,p):\n",
    "        price=p\n",
    "        print(\"model name is :\",self.model,\"price :\",price)\n",
    "        \n",
    "        \n",
    "realme=Mobile()\n",
    "realme.show_model(1000)  # now here this method's self will be using realme object address\n",
    "print()\n",
    "\n",
    "redmi=Mobile()\n",
    "redmi.show_model(2000) # now here this method's self will be using redmi object address\n"
   ]
  },
  {
   "cell_type": "markdown",
   "metadata": {},
   "source": [
    "# (accessor method / getter method ) and ( mutator method / setter method )"
   ]
  },
  {
   "cell_type": "raw",
   "metadata": {},
   "source": [
    " to only access or get the data of instance variables we use getter method !!"
   ]
  },
  {
   "cell_type": "code",
   "execution_count": 41,
   "metadata": {},
   "outputs": [
    {
     "name": "stdout",
     "output_type": "stream",
     "text": [
      "realme X\n"
     ]
    }
   ],
   "source": [
    "class Mobile:\n",
    "    def __init__(self):\n",
    "        self.model=\"realme X\"\n",
    "    def get_model(self): # getter method is same as instance method but we just access or read the data here and return it while calling !!\n",
    "        return self.model\n",
    "\n",
    "realme=Mobile()\n",
    "\n",
    "m=realme.get_model()\n",
    "print(m)"
   ]
  },
  {
   "cell_type": "raw",
   "metadata": {},
   "source": [
    "to  access,read and modify the data of instance variables we use mutator method !!"
   ]
  },
  {
   "cell_type": "code",
   "execution_count": 43,
   "metadata": {},
   "outputs": [
    {
     "name": "stdout",
     "output_type": "stream",
     "text": [
      "real me X\n",
      "\n",
      " xiaomi\n"
     ]
    }
   ],
   "source": [
    "class Mobile:\n",
    "    def __init__(self):\n",
    "        self.model=\"real me X\"\n",
    "        \n",
    "    def set_model(self):\n",
    "        self.model=\" xiaomi\"\n",
    "        \n",
    "x=Mobile()\n",
    "print(x.model) #before setting\n",
    "print()\n",
    "\n",
    "x.set_model() #calling the setter method for changing the instance variable data\n",
    "\n",
    "print(x.model) # after setting !!"
   ]
  },
  {
   "cell_type": "markdown",
   "metadata": {},
   "source": [
    "# class method"
   ]
  },
  {
   "cell_type": "raw",
   "metadata": {},
   "source": [
    "class method is basically used for accessing the class variable or static variable . Also note before using the class method we always need to put a decorator (@classmethod) just above it !!\n",
    "\n",
    "\n",
    "so to write a class method use decorator    (@classmethod)    and while making class method always pass (cls) as the 1st parameter which basically refers to the class . \n",
    "\n",
    "and to access the class variable inside classmethod we use (cls.classvariable)"
   ]
  },
  {
   "cell_type": "markdown",
   "metadata": {},
   "source": [
    "# class method without formal argument !!"
   ]
  },
  {
   "cell_type": "code",
   "execution_count": 1,
   "metadata": {},
   "outputs": [
    {
     "name": "stdout",
     "output_type": "stream",
     "text": [
      "yes\n"
     ]
    }
   ],
   "source": [
    "class Mobile:\n",
    "    fp=\"yes\"\n",
    "    @classmethod  # decorator is used before making the class method !!\n",
    "    def show_fp(cls):  #class method w/o (without) formal argument\n",
    "        print(cls.fp)  # note we can also do reassigning, accessing ,changing of class variable too here !!\n",
    "    \n",
    "realme=Mobile()\n",
    "\n",
    "Mobile.show_fp() # always call the class variable with the help of the class\n",
    "    \n",
    "    "
   ]
  },
  {
   "cell_type": "markdown",
   "metadata": {},
   "source": [
    "# class method with the formal arguments !!"
   ]
  },
  {
   "cell_type": "code",
   "execution_count": 73,
   "metadata": {},
   "outputs": [
    {
     "name": "stdout",
     "output_type": "stream",
     "text": [
      "model is realme X battery is  4000\n",
      "finger print yes\n"
     ]
    }
   ],
   "source": [
    "class Mobile:\n",
    "    fp=\"yes\"\n",
    "    @classmethod\n",
    "    def show_fp(cls,f1,f2):\n",
    "        cls.model=f1\n",
    "        cls.battery=f2\n",
    "        print(\"model is :\",cls.model, \"battery is : \",cls.battery)\n",
    "        print(\"finger print\",cls.fp)\n",
    "        \n",
    "realme=Mobile()\n",
    "\n",
    "\n",
    "Mobile.show_fp('realme X',4000)"
   ]
  },
  {
   "cell_type": "markdown",
   "metadata": {},
   "source": [
    "# static method"
   ]
  },
  {
   "cell_type": "raw",
   "metadata": {},
   "source": [
    "# keypoints:\n",
    "    \n",
    "    1.used when we want to pass some data from outside to inside our static method but does not need class or its instance to       perform any work !!\n",
    "    \n",
    "    2.we use static method  when we want to pass some values from outside and perform some action in the static method for our     class.\n",
    "    \n",
    "    3.we always use decorator     (@staticmethod)     before writting our static method\n",
    "    \n",
    "    4.we do not need to write (cls or self) inside our static method as formal argument . \n",
    "    \n",
    "            {{ example: show_model(): }}     [ static method with no arguments inside parenthesis() ]\n",
    "            \n",
    "    5. static method get called with the help of classname !! example :  {{ Mobile.show_model()  }}\n",
    "    \n",
    "    "
   ]
  },
  {
   "cell_type": "code",
   "execution_count": 80,
   "metadata": {},
   "outputs": [
    {
     "name": "stdout",
     "output_type": "stream",
     "text": [
      "model name : real me X  : and the price is  : 4000\n"
     ]
    }
   ],
   "source": [
    "class Mobile:\n",
    "    fp=\"YES\"\n",
    "    \n",
    "    @staticmethod\n",
    "    def show_fp(m,p): # this is  the actual usage of static method as here we are using these formal arguments only just to pass the actual arguments from outside !!!!\n",
    "        model=m\n",
    "        price=p\n",
    "        print(\"model name :\",model,\" : and the price is  :\",price)\n",
    "        \n",
    "\n",
    "realme=Mobile()\n",
    "\n",
    "Mobile.show_fp(\"real me X\",4000)  # static method getting called with the help of classname\n",
    "        \n",
    "        "
   ]
  },
  {
   "cell_type": "markdown",
   "metadata": {},
   "source": [
    "# passing the members of one class to another  class (so we can see the actual usage of static method)"
   ]
  },
  {
   "cell_type": "code",
   "execution_count": 86,
   "metadata": {},
   "outputs": [
    {
     "name": "stdout",
     "output_type": "stream",
     "text": [
      "model : realme price : 8000\n",
      "\n",
      "YOUR MODEL IS : realme COST PRICE  8000\n",
      "realme\n",
      "8000\n",
      "model : realme price : 8000\n"
     ]
    }
   ],
   "source": [
    "class Mobile:\n",
    "    def __init__(self,m,p):\n",
    "            self.model=m\n",
    "            self.price=p\n",
    "    def show_model(self):\n",
    "        print(\"model :\",self.model,\"price :\",self.price)\n",
    "        \n",
    "    @staticmethod\n",
    "    def acss_clsmobile_variable(s):\n",
    "        print(\"YOUR MODEL IS :\",s.model, \"COST PRICE \",s.price)\n",
    "        print(s.model)\n",
    "        print(s.price)\n",
    "        s.show_model()\n",
    "        \n",
    "x=Mobile(\"realme\", 8000) # class mobile object !! and passing the actual arguments for formal argument {{ def __init__(self,m,p):}}\n",
    "\n",
    "x.show_model()  # accessing our instance method of Mobile class  {{ def show_model(self) }}\n",
    "print()\n",
    "\n",
    "#  (  x=s  ) here below we are passing the object (x) as actual argument  to   [[ (s) formal argument  ]]  of  {{  def acss_clsmobile_variable (s): }} to access\n",
    "# the variable and methods of class  ( Mobile ) i.e 1st class !!! \n",
    "\n",
    "   \n",
    "Mobile.acss_clsmobile_variable(x)    # accessing our static method using [ Mobile(classname).static_variable_name ] \n"
   ]
  },
  {
   "cell_type": "markdown",
   "metadata": {},
   "source": [
    "# NESTED CLASS"
   ]
  },
  {
   "cell_type": "raw",
   "metadata": {},
   "source": [
    "A class within a class is called as nested class or nesting of a class"
   ]
  },
  {
   "cell_type": "code",
   "execution_count": 13,
   "metadata": {},
   "outputs": [
    {
     "name": "stdout",
     "output_type": "stream",
     "text": [
      "rahul\n",
      "name is : rahul\n",
      "AK 47\n",
      "\n",
      "\n",
      "AK 47\n",
      "75 rounds\n",
      "34.3 inches\n",
      "\n",
      "gun name : AK 47\n",
      "capacity : 75 rounds\n",
      "length : 34.3 inches\n"
     ]
    }
   ],
   "source": [
    "class Army:                 # outer class\n",
    "    def __init__(self):     # constructor\n",
    "        self.name=\"rahul\"   # instance variable \n",
    "        self.gn=self.Gun()  #inner class object name INSIDE OUTER CLASS CONSTRUCTOR !!\n",
    "    \n",
    "    def show(self):        #  instance method\n",
    "        print(\"name is :\", self.name)   # accessing and printing the instance variable inside instance method\n",
    "        \n",
    "        \n",
    "    class Gun:             # inner class \n",
    "        def __init__(self):        # inner class constructor\n",
    "            self.name=\"AK 47\"                  # inner class instance variables\n",
    "            self.capacity= \"75 rounds\"         # inner class instance variables         \n",
    "            self.length= \"34.3 inches\"         # inner class instance variables\n",
    "            \n",
    "        def disp(self):    #  inner class instance method\n",
    "            print(\"gun name :\",self.name)\n",
    "            print(\"capacity :\",self.capacity)\n",
    "            print(\"length :\",self.length)\n",
    "\n",
    "x=Army()    # outer class object\n",
    "\n",
    "print(x.name)   # accessing and printing outer class variable\n",
    "x.show()        # # accessing outer class method\n",
    "\n",
    "print(x.gn.name)     # ******** most imp  :: accessing the inner class object and accessing its variable in this way always !!\n",
    "print()\n",
    "print()\n",
    "\n",
    "g=x.gn      # REASSIGNING THE INNER CLASS OBJECT TO  \"g\"  to make g as object of inner class\n",
    " \n",
    "print(g.name)           # now using \" g \" accessing the variables and its methods\n",
    "print(g.capacity)\n",
    "print(g.length)\n",
    "print()\n",
    "g.disp()               # now using \" g \" accessing the variables and its methods"
   ]
  },
  {
   "cell_type": "markdown",
   "metadata": {},
   "source": [
    "# NOTE  : it is not mandatory that we have to make the outer class object inside our inner class constructor"
   ]
  },
  {
   "cell_type": "raw",
   "metadata": {},
   "source": [
    "so we can always do it in this particular way to given below  !!"
   ]
  },
  {
   "cell_type": "code",
   "execution_count": 24,
   "metadata": {},
   "outputs": [
    {
     "name": "stdout",
     "output_type": "stream",
     "text": [
      "rahul\n",
      "name is : rahul\n",
      "Ak47\n",
      "75 rounds\n",
      "34.3 inches\n",
      "\n",
      "\n",
      "gun name : Ak47\n",
      "round : 75 rounds\n",
      "length is : 34.3 inches\n"
     ]
    }
   ],
   "source": [
    "class Army:\n",
    "    def __init__(self):\n",
    "        self.name =\"rahul\"\n",
    "    def show(self):\n",
    "        print(\"name is :\",self.name)\n",
    "        \n",
    "    class Gun:\n",
    "        def __init__(self):\n",
    "            self.gun=\"Ak47\"\n",
    "            self.round= \"75 rounds\"\n",
    "            self.length=\"34.3 inches\"\n",
    "         \n",
    "        def show_model(self):\n",
    "            print(\"gun name :\",self.gun)\n",
    "            print(\"round :\",self.round)\n",
    "            print(\"length is :\",self.length)\n",
    "            \n",
    "x=Army()        # outer class object\n",
    "\n",
    "print(x.name)   # accessing outer class variable\n",
    "\n",
    "x.show()        # accessing outer class instance method\n",
    "\n",
    "# now making inner class object !!\n",
    "\n",
    "g=Army().Gun()   # here 'g' is inner class object !!\n",
    "\n",
    "print(g.gun)     # accessing inner class variables\n",
    "print(g.round)   # accessing inner class variables\n",
    "print(g.length)  # accessing inner class variables\n",
    "print()\n",
    "print()\n",
    "\n",
    "g.show_model()  # accessing inner class method"
   ]
  },
  {
   "cell_type": "markdown",
   "metadata": {},
   "source": [
    "# inheritance :"
   ]
  },
  {
   "cell_type": "raw",
   "metadata": {},
   "source": [
    "the mechanism of driving a new class from an old one existing class such that new class inherit all the members (variables and methods) of old class is called inheritance  or DERIVATION"
   ]
  },
  {
   "cell_type": "raw",
   "metadata": {},
   "source": [
    "types of inheritance :\n",
    "    \n",
    "    1. single inheritance\n",
    "    2. multi level inheritance\n",
    "    3. hierarchical inheritance\n",
    "    4. multiple inheritance"
   ]
  },
  {
   "cell_type": "markdown",
   "metadata": {},
   "source": [
    "# SINGLE INHERITANCE                                                                                                                                                                                                                                                                                                                                                                                                                                                                                                                                                                                                                                                                                                                                                                                                                                                                                                                                                                                                                                                                                                                                                                                                                                                                                                                                                                                                                                                                                                                                                                                                                                                                                                                                                                                                                                                                                                                                                                                                                                                                                                                                                                                                                                                                                                                                                                                                                                                                                                                                                                                                                                                                                                                                                                                                                                                                                                                                                                                                                                                                                                                                                                                                                                                                                                                                                                                                                                                                                                                                                                                                                                                                                                                                                                                                                                                                                                                                                                                                                                                                                                                                                                                                                                                                                                                                                                                                                                                                                                                                                                                                                                                                                                                                                                                                                                                                                                                                                                                                                                                                                                                                                                                                                                                                                                                                                                                                                                                                                                                                                                                                                                                                                                                                                                                                                                                                                  "
   ]
  },
  {
   "cell_type": "raw",
   "metadata": {},
   "source": [
    "SYNTAX :  class child_classname(parent_classname):\n",
    "               members of child class\n",
    "               \n",
    "               \n",
    "NOTE : all the classes we derive , get derived from the base class (OBJECT)  which is written in between parenthesis after making a particular class !!\n",
    "  \n",
    "     \n",
    "         EXAMPLE :- class Mobile(object)\n",
    "         \n",
    "         here  : Mobile is the child class derived from the base class (object)  !!\n",
    "         "
   ]
  },
  {
   "cell_type": "code",
   "execution_count": 30,
   "metadata": {},
   "outputs": [
    {
     "name": "stdout",
     "output_type": "stream",
     "text": [
      "child class instance method\n",
      "\n",
      "parent class's classmethod \n",
      "\n",
      "parent class' classmethod  10\n",
      "\n",
      "parent class instance method !! \n",
      "\n",
      "1000\n"
     ]
    }
   ],
   "source": [
    "class Father :           # parent class    # Father\n",
    "    money =1000  # class variable\n",
    "    \n",
    "    def show(self):    #instance method of father class\n",
    "        print(\"parent class instance method !! \")\n",
    "    \n",
    "    @classmethod\n",
    "    def show_money(cls):   # parent class classmethod\n",
    "        print(\"parent class's classmethod \")\n",
    "    \n",
    "    @staticmethod       # parent class staticmethod\n",
    "    def stat_method():\n",
    "        a=10\n",
    "        print(\"parent class' classmethod \",a)  # accessing the (a) variable too !!!\n",
    "        \n",
    "class son(Father):      # child class  # son\n",
    "    def disp(self):          # child class instance method\n",
    "        print(\"child class instance method\")\n",
    "        \n",
    "s=son()     # **** NOTE: child class object \n",
    "\n",
    "s.disp()  # child class instance method\n",
    "print()\n",
    "\n",
    "s.show_money()    # accessing the classmethod of parent class using child class object  # it can be done bcoz of inheritance\n",
    "print()\n",
    "\n",
    "s.stat_method()   #  accessing the staticmethod of parent class using child class object  # it can be done bcoz of inheritance\n",
    "print()\n",
    "\n",
    "s.show()    # accessing the instance method of parent class using child class object  # it can be done bcoz of inheritance\n",
    "print()\n",
    "\n",
    "print(s.money)  # accessing the classvariable of parent class using child class object  # it can be done bcoz of inheritance\n",
    "\n",
    "        "
   ]
  },
  {
   "cell_type": "markdown",
   "metadata": {},
   "source": [
    "# constructor inheritance  :"
   ]
  },
  {
   "cell_type": "raw",
   "metadata": {},
   "source": [
    "by default ,the constructor of the parent class  is available to the child class !!"
   ]
  },
  {
   "cell_type": "code",
   "execution_count": 40,
   "metadata": {},
   "outputs": [
    {
     "name": "stdout",
     "output_type": "stream",
     "text": [
      "father class constructor !!\n",
      "\n",
      "father class instance method !!\n",
      "1000\n",
      "\n",
      "son class instance method !!\n"
     ]
    }
   ],
   "source": [
    "class Father :\n",
    "    def __init__(self):\n",
    "        self.money= 1000\n",
    "        print('father class constructor !!')\n",
    "    def show(self):\n",
    "        print('father class instance method !!')\n",
    "        \n",
    "class Son(Father):\n",
    "    def disp(self):\n",
    "        print(\"son class instance method !!\")\n",
    "        \n",
    "s=Son()   # heap memory allocation will take place and constructor will get called then variable will get initialized and [[ print('father class constructor !!')  ]] will get called !!\n",
    "print()\n",
    "s.show()  # accessing the instance method using child class object\n",
    "print(s.money)  # accessing and printing the money variable !! using child class object.\n",
    "print()\n",
    "\n",
    "s.disp()  # accessing the child class instance method !! using child class object/\n"
   ]
  },
  {
   "cell_type": "markdown",
   "metadata": {},
   "source": [
    "# constructor inheritance with formal arguments in it !!!"
   ]
  },
  {
   "cell_type": "code",
   "execution_count": 46,
   "metadata": {},
   "outputs": [
    {
     "name": "stdout",
     "output_type": "stream",
     "text": [
      "father class constructor !!\n",
      "\n",
      "1000\n",
      "father class instance method !!\n",
      "\n",
      "son class instance method !!\n"
     ]
    }
   ],
   "source": [
    "class Father :\n",
    "    def __init__(self,m):\n",
    "        self.money=m\n",
    "        print(\"father class constructor !!\")\n",
    "    def show(self):\n",
    "        print(\"father class instance method !!\")\n",
    "    \n",
    "class Son(Father):\n",
    "    def disp(self):\n",
    "        print(\"son class instance method !!\")\n",
    "        \n",
    "s=Son(1000)\n",
    "print()\n",
    "print(s.money)\n",
    "\n",
    "s.show()\n",
    "print()\n",
    "s.disp()"
   ]
  },
  {
   "cell_type": "markdown",
   "metadata": {},
   "source": [
    "# constructor overriding !!"
   ]
  },
  {
   "cell_type": "code",
   "execution_count": 5,
   "metadata": {},
   "outputs": [
    {
     "name": "stdout",
     "output_type": "stream",
     "text": [
      "child class constructor !!\n",
      "value of x is : 10\n",
      "value of y is : 50\n",
      "\n",
      "child class constructor !!\n",
      "\n",
      "parent class instance method !!\n"
     ]
    }
   ],
   "source": [
    "class Father:\n",
    "    def __init__(self):\n",
    "        self.model=1000\n",
    "        print(\"parent class constructor !!\")\n",
    "    def show_model(self):\n",
    "        print(\"parent class instance method !!\")\n",
    "        \n",
    "class Son(Father):\n",
    "    def __init__(self):\n",
    "        self.x=10\n",
    "        self.y=50\n",
    "        print(\"child class constructor !!\")\n",
    "    def show(self):\n",
    "        print(\"child class constructor !!\")\n",
    "        \n",
    "s=Son()    # making son class object will only call the Son class constructor and only those variables will be initialized which are present inside our son() class constructor!! i.e it will override the father class constructor !!\n",
    "\n",
    "print(\"value of x is :\",s.x)  # son's constructor variables\n",
    "print(\"value of y is :\",s.y)  # son's constructor variables\n",
    "print()\n",
    "s.show()  # son class instance method !!\n",
    "print()\n",
    "s.show_model()    #  father class instance method can be called too as only constructor is overrided not the instance method of the parent class"
   ]
  },
  {
   "cell_type": "raw",
   "metadata": {},
   "source": [
    "******NOTE : making son class object will only call the Son class constructor and only those variables will be initialized which are present inside our son() class constructor!! i.e it will override the father class constructor !!\n",
    " \n",
    "BUT THE INSTANCE METHOD INSIDE OUR FATHER CLASS CAN BE CALLED [[  def show_model(self)  ]] AS ONLY THE FATHER CLASS CONSTRUCTOR WILL BE OVERRIDED BY THE SON CLASS CONSTRUCTOR !! not the INSTANCE METHOD INSIDE THE PARENT CLASS !!\n"
   ]
  },
  {
   "cell_type": "markdown",
   "metadata": {},
   "source": [
    "# constructor overriding with formal arguments inside it !!"
   ]
  },
  {
   "cell_type": "code",
   "execution_count": 6,
   "metadata": {},
   "outputs": [
    {
     "name": "stdout",
     "output_type": "stream",
     "text": [
      "car name is : BMW model value is :: x4\n",
      "x4\n",
      "BMW\n",
      "\n",
      "son class instance method !!\n",
      "\n"
     ]
    }
   ],
   "source": [
    "class Father:\n",
    "    def __init__(self,m):\n",
    "        self.x=m\n",
    "        print(\"father class constructor \",self.x)\n",
    "        \n",
    "    def show(self):\n",
    "        print(\"father class instance method !! \")\n",
    "        \n",
    "class Son:\n",
    "    \n",
    "    def __init__(self,r):\n",
    "        self.model=r\n",
    "        self.car=\"BMW\"\n",
    "        print(\"car name is :\",self.car,\"model value is ::\",self.model)\n",
    "    def disp(self):\n",
    "        print(\"son class instance method !!\")\n",
    "\n",
    "sn=Son(\"x4\")\n",
    "print(sn.model)\n",
    "print(sn.car)\n",
    "print()\n",
    "sn.disp()\n",
    "\n",
    "print()\n",
    "\n"
   ]
  },
  {
   "cell_type": "code",
   "execution_count": null,
   "metadata": {},
   "outputs": [],
   "source": []
  }
 ],
 "metadata": {
  "kernelspec": {
   "display_name": "Python 3",
   "language": "python",
   "name": "python3"
  },
  "language_info": {
   "codemirror_mode": {
    "name": "ipython",
    "version": 3
   },
   "file_extension": ".py",
   "mimetype": "text/x-python",
   "name": "python",
   "nbconvert_exporter": "python",
   "pygments_lexer": "ipython3",
   "version": "3.8.5"
  }
 },
 "nbformat": 4,
 "nbformat_minor": 4
}
