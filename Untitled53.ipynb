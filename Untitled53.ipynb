{
 "cells": [
  {
   "cell_type": "markdown",
   "metadata": {},
   "source": [
    "\n",
    "# module :-"
   ]
  },
  {
   "cell_type": "raw",
   "metadata": {},
   "source": [
    "a module is a file containing python definitions and statements ."
   ]
  },
  {
   "cell_type": "raw",
   "metadata": {},
   "source": [
    "A module is a file containing group of variables , methods , function and classes etc"
   ]
  },
  {
   "cell_type": "raw",
   "metadata": {},
   "source": [
    "they are executed only the first time the module name is encountered in an import statement."
   ]
  },
  {
   "cell_type": "markdown",
   "metadata": {},
   "source": [
    "# why we use module ?"
   ]
  },
  {
   "cell_type": "raw",
   "metadata": {},
   "source": [
    "assume that u are building a very large project , it will be very difficult to manage all logics within one single file so if u \n",
    "want to separate your similar logic to a separate file, you can use module .\n",
    "\n",
    "it will not only separate your logics but also help you to debug your code easilly as u know which logic is defined in which \n",
    "module .\n",
    "\n",
    "when a module is developed , it can be reused in any program that needs that module.\n",
    "\n",
    "So different module according to our need can be created !! example :- module of calculation.  (( cal.py ))"
   ]
  },
  {
   "cell_type": "markdown",
   "metadata": {},
   "source": [
    "# how to use module :-"
   ]
  },
  {
   "cell_type": "raw",
   "metadata": {},
   "source": [
    "import statement is used to import modules .\n",
    "\n",
    "SYNTAX:-\n",
    "\n",
    "\n",
    "\n",
    "\n",
    "1)  import   module_name\n",
    "\n",
    "\n",
    "\n",
    "Ex- if we want to import (cal.py) module related to calculation then , { import cal } where (import) is a keyword and (cal) is\n",
    "the module name.\n",
    "\n",
    "\n",
    "\n",
    "\n",
    "2) import      module_name     as     alias_name\n",
    "\n",
    "\n",
    "\n",
    "\n",
    "\n",
    "3) to import multiple functions : then write all the functions name u need separated by commas.\n",
    "\n",
    "      \n",
    "      \n",
    "      Syntax : from      module_name       import      function_name1 ,function_name2 ,function_name3.......function_nameN.\n",
    "\n",
    "\n",
    "\n",
    "4) to import multiple variables : then write all the variables name u need separated by commas.\n",
    "\n",
    "     \n",
    "      \n",
    "     Syntax :        from      module_name      import      var_name1,var_name2 ,var_name3 .....var_nameN\n",
    "\n",
    "\n",
    "\n",
    "5) to import multiple classes or single class from a module .\n",
    "\n",
    "\n",
    "     syntax:         from       module_name      import       class_name1, class_name2, class_nameN\n",
    "     \n",
    "     \n",
    "6)  to import multiple things \n",
    "\n",
    "   ex:-list, tuples ,dictionaries ,variables, functions ,classmethod or any other methods then :\n",
    "   \n",
    "    \n",
    "   syntax :     from     module_name     import     var_name  , f_name ,class_name ,method_name\n",
    "   \n",
    "  \n",
    "7) if we want to import any big function name then we can always give it nick name\n",
    "\n",
    "\n",
    "  syntax :   from    module_name    import      function_name   as    alias_name \n",
    "  \n",
    "  \n",
    "8)  syntax :-  from    module_name   import*\n",
    "\n",
    "  (*) allows us to import all the members present inside the module .\n",
    "\n",
    "  ex :-  variables ,class ,functions ,tuples, dictionaries , method , etc\n",
    "\n"
   ]
  },
  {
   "cell_type": "code",
   "execution_count": null,
   "metadata": {},
   "outputs": [],
   "source": [
    "\n",
    "\n",
    "\n",
    "\n",
    "\n",
    "\n",
    "\n"
   ]
  }
 ],
 "metadata": {
  "kernelspec": {
   "display_name": "Python 3",
   "language": "python",
   "name": "python3"
  },
  "language_info": {
   "codemirror_mode": {
    "name": "ipython",
    "version": 3
   },
   "file_extension": ".py",
   "mimetype": "text/x-python",
   "name": "python",
   "nbconvert_exporter": "python",
   "pygments_lexer": "ipython3",
   "version": "3.8.5"
  }
 },
 "nbformat": 4,
 "nbformat_minor": 4
}
