{
 "cells": [
  {
   "cell_type": "markdown",
   "metadata": {},
   "source": [
    "# html :"
   ]
  },
  {
   "cell_type": "raw",
   "metadata": {},
   "source": [
    "<!DOCTYPE html>\n",
    "\n",
    "<html lang=\"en\">\n",
    "\n",
    "<head>\n",
    "    <meta charset=\"UTF-8\">\n",
    "    <title>the website\n",
    "    </title>\n",
    "</head>\n",
    "\n",
    "<body>\n",
    "    <table cellspacing='20'>\n",
    "        <tr>\n",
    "            <td><img src=\"pkj.jpg\" alt=\"\"></td>\n",
    "            <td>\n",
    "                <h1>pankaj kumar</h1>\n",
    "                <p>pankaj is an <em><strong> engineer </strong></em></p>\n",
    "                <p>hey this the 1st  website ever published by the known enginner pankaj kumar </p>\n",
    "            </td>\n",
    "        </tr>\n",
    "        \n",
    "    </table>\n",
    "    <hr size='4'>\n",
    "    <h3>education :</h3>\n",
    "    <ul>\n",
    "        <li>10th : kv 3 brd afs chd.</li>\n",
    "        <li>12th : kv 3brd afs chd.</li>\n",
    "        <li><strong>college </strong> : btkit dwarahat.</li>\n",
    "    </ul>\n",
    "    <hr>\n",
    "    <h3>skills</h3>\n",
    "    <table border='1'>\n",
    "        <tr>\n",
    "            <td>ios development 🌟🌟🌟🌟🌟<br>\n",
    "            web development 🌟🌟🌟🌟🌟</td>\n",
    "            <td>\n",
    "                photography 🌟🌟<br>\n",
    "                painting 🌟🌟🌟🌟\n",
    "            </td>\n",
    "           \n",
    "        </tr>\n",
    "        <br>\n",
    "    </table>\n",
    "    <hr size=\"3\">\n",
    "    <h3>My hobbies :</h3>\n",
    "    <ol>\n",
    "        <li>playing football</li>\n",
    "        <li><a href=\"https://en.wikipedia.org/wiki/Gym\">gym</a></li>\n",
    "        <li><a href=\"https://en.wikipedia.org/wiki/Skipping_rope\">skipping cardio</a></li>\n",
    "        <li>cooking</li>\n",
    "        <li><a href=\"https://www.w3schools.com/html/html_lists.asp\"> coding from w3 schools</a></li>\n",
    "    </ol>\n",
    "    <a href=\"contact.html\">contact file inside our main project</a><br>\n",
    "    <a href=\"https://www.appbrewery.co/p/web-development-course-resources/\"> web dev course</a>\n",
    "    <hr>\n",
    "    <h3>work experience :</h3>\n",
    "    <p>2019-2020 byjus</p>\n",
    "    <p>2020 -2021 dell</p>\n",
    "    <table border=\"6\">\n",
    "        <Thead>\n",
    "            <tr>\n",
    "                <th>years</th>\n",
    "                <th>company</th>\n",
    "            </tr>\n",
    "        </Thead>\n",
    "\n",
    "        <tbody>\n",
    "            <tr>\n",
    "                <td>2019-2020</td>\n",
    "                <td>byjus</td>\n",
    "            </tr>\n",
    "            <tr>\n",
    "                <td>2020-2021</td>\n",
    "                <td>dell</td>\n",
    "            </tr>\n",
    "        \n",
    "        </tbody>\n",
    "        <tfoot>\n",
    "\n",
    "        </tfoot>\n",
    "        \n",
    "    </table>\n",
    "\n",
    "</body>\n",
    "</html>"
   ]
  },
  {
   "cell_type": "markdown",
   "metadata": {},
   "source": [
    "# HTML <i> Tag"
   ]
  },
  {
   "cell_type": "raw",
   "metadata": {},
   "source": [
    "Definition and Usage :\n",
    "\n",
    "The <i> tag defines a part of text in an alternate voice or mood. The content inside is typically displayed in italic."
   ]
  },
  {
   "cell_type": "raw",
   "metadata": {},
   "source": [
    "HTML <em> Tag :\n",
    "    \n",
    "Definition and Usage :\n",
    "\n",
    "The <em> tag is used to define emphasized text. The content inside is typically displayed in italic.\n",
    "\n",
    "A screen reader will pronounce the words in <em> with an emphasis, using verbal stress.\n",
    "\n"
   ]
  },
  {
   "cell_type": "raw",
   "metadata": {},
   "source": []
  },
  {
   "cell_type": "code",
   "execution_count": null,
   "metadata": {},
   "outputs": [],
   "source": []
  }
 ],
 "metadata": {
  "kernelspec": {
   "display_name": "Python 3",
   "language": "python",
   "name": "python3"
  },
  "language_info": {
   "codemirror_mode": {
    "name": "ipython",
    "version": 3
   },
   "file_extension": ".py",
   "mimetype": "text/x-python",
   "name": "python",
   "nbconvert_exporter": "python",
   "pygments_lexer": "ipython3",
   "version": "3.8.5"
  }
 },
 "nbformat": 4,
 "nbformat_minor": 4
}
