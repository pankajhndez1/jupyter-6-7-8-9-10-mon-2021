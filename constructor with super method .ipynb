{
 "cells": [
  {
   "cell_type": "raw",
   "metadata": {},
   "source": [
    "                                                                                                                               KEYPOINTS:\n",
    "\n",
    "1. if we write constructor in both classes i.e parent class and child class , then the parent class constructor is not  available to the child class \n",
    "\n",
    "2. in this case only child class constructor is accessible which means child class constructor is replacing parent class constructor.\n",
    "\n",
    "now in order to call both the constructor then  {{ SUPER() method }} is used to call parent class constructor or methods from the child class . "
   ]
  },
  {
   "cell_type": "markdown",
   "metadata": {},
   "source": [
    "# constructor with super method"
   ]
  },
  {
   "cell_type": "code",
   "execution_count": 4,
   "metadata": {},
   "outputs": [
    {
     "name": "stdout",
     "output_type": "stream",
     "text": [
      "child class constructor\n",
      "parent class instance method\n"
     ]
    }
   ],
   "source": [
    "class Father:\n",
    "    def __init__(self):\n",
    "        print(\"parent class constructor \")\n",
    "    def show_model(self):\n",
    "        print(\"parent class instance method\")\n",
    "class Son(Father):\n",
    "    def __init__(self):\n",
    "        print(\"child class constructor\")\n",
    "    def show(self):\n",
    "        print(\"child class instance method\")\n",
    "    \n",
    "s=Son()\n",
    "s.show_model() # calling parent class instance method with the help child class object (inheritance !!)"
   ]
  },
  {
   "cell_type": "code",
   "execution_count": 10,
   "metadata": {},
   "outputs": [
    {
     "name": "stdout",
     "output_type": "stream",
     "text": [
      "father class constructor \n",
      "son class constructor \n"
     ]
    }
   ],
   "source": [
    "class Father :\n",
    "    def __init__(self):\n",
    "        print(\"father class constructor \")\n",
    "    def show(self):\n",
    "        print(\"father class instance method \")\n",
    "class Son(Father):\n",
    "    def __init__(self):\n",
    "        super().__init__()                     #constructor with super method \n",
    "        print(\"son class constructor \")\n",
    "    def disp(self):\n",
    "        print(\"son class instance method\")\n",
    "        \n",
    "s=Son()"
   ]
  },
  {
   "cell_type": "markdown",
   "metadata": {},
   "source": [
    "# accessing the variable of parent class in the child class !!"
   ]
  },
  {
   "cell_type": "code",
   "execution_count": 17,
   "metadata": {},
   "outputs": [
    {
     "name": "stdout",
     "output_type": "stream",
     "text": [
      "father class constructor \n",
      "child class constructor \n",
      "child class instance method  1000\n",
      "\n",
      "father class instance method \n"
     ]
    }
   ],
   "source": [
    "class Father:\n",
    "    def __init__(self):\n",
    "        self.money=1000\n",
    "        print(\"father class constructor \")\n",
    "    def show(self):\n",
    "        print(\"father class instance method \")\n",
    "class Son(Father):\n",
    "    def __init__(self):\n",
    "        super().__init__()\n",
    "        print(\"child class constructor \")\n",
    "    def disp(self):\n",
    "        print(\"child class instance method \",self.money) # we can use the instance variable of parent class inside the child class instance method\n",
    "        \n",
    "s=Son()\n",
    "s.disp()\n",
    "print()\n",
    "\n",
    "s.show()\n",
    "    "
   ]
  },
  {
   "cell_type": "markdown",
   "metadata": {},
   "source": [
    "# super method with formal argument"
   ]
  },
  {
   "cell_type": "code",
   "execution_count": 23,
   "metadata": {},
   "outputs": [
    {
     "name": "stdout",
     "output_type": "stream",
     "text": [
      "Father class constructor \n",
      "son class constructor \n",
      "\n",
      "son class instance method  1000\n",
      "\n",
      "father class instance method \n"
     ]
    }
   ],
   "source": [
    "class Father:\n",
    "    def __init__(self,m):\n",
    "        self.model=m\n",
    "        print(\"Father class constructor \")\n",
    "    def show(self):\n",
    "        print(\"father class instance method \")\n",
    "class Son(Father):\n",
    "    def __init__(self,m):\n",
    "        super().__init__(m)\n",
    "        print(\"son class constructor \")\n",
    "    def disp(self):\n",
    "        print(\"son class instance method \",self.model)\n",
    "        \n",
    "s=Son(1000)\n",
    "print()\n",
    "s.disp()\n",
    "print()\n",
    "s.show()\n"
   ]
  },
  {
   "cell_type": "markdown",
   "metadata": {},
   "source": [
    "# using the son class formal argument (m) inside our father class constructor "
   ]
  },
  {
   "cell_type": "code",
   "execution_count": 46,
   "metadata": {},
   "outputs": [
    {
     "name": "stdout",
     "output_type": "stream",
     "text": [
      "son class constructor\n",
      "father class constructor !!\n",
      "\n",
      "son class instance method  ::  10\n",
      "father class instance method !!\n"
     ]
    }
   ],
   "source": [
    "class Father:\n",
    "    def __init__(self,m):\n",
    "        self.model=m         # father class instance variable\n",
    "        print(\"father class constructor !!\")\n",
    "    def show_model(self):\n",
    "        print(\"father class instance method !!\")\n",
    "class Son(Father):\n",
    "    def __init__(self,m,j):\n",
    "        print(\"son class constructor\")\n",
    "        super().__init__(m)\n",
    "        self.mobile=j\n",
    "        \n",
    "    def disp(self):\n",
    "        print(\"son class instance method  :: \",self.model) # using father class instance variable inside the son class instance method\n",
    "        \n",
    "s=Son(10,'samsung')\n",
    "print()\n",
    "s.disp()\n",
    "s.show_model()\n",
    "\n",
    "            \n",
    "\n",
    "        "
   ]
  },
  {
   "cell_type": "markdown",
   "metadata": {},
   "source": [
    "# multiple inheritance in python"
   ]
  },
  {
   "cell_type": "code",
   "execution_count": 53,
   "metadata": {},
   "outputs": [
    {
     "name": "stdout",
     "output_type": "stream",
     "text": [
      "grandson class instance method \n",
      "\n",
      "son class instance method \n",
      "Father class instance method \n"
     ]
    }
   ],
   "source": [
    "class Father:\n",
    "    def show1(self):                                # Father class  instance method\n",
    "        print(\"Father class instance method \")   \n",
    "class Son(Father):\n",
    "    def show2(self):                                # son class instance method \n",
    "        print(\"son class instance method \")\n",
    "class Grandson(Son):\n",
    "    def show3(self):                                # grandson class instance method\n",
    "        print(\"grandson class instance method \")\n",
    "        \n",
    "g=Grandson()\n",
    "g.show3()           # bcoz of multilevel inheritance we can easilly call the intance method of different class using grandson class object\n",
    "print()\n",
    "g.show2()\n",
    "g.show1()"
   ]
  },
  {
   "cell_type": "code",
   "execution_count": 62,
   "metadata": {},
   "outputs": [
    {
     "name": "stdout",
     "output_type": "stream",
     "text": [
      "grandson class constructor\n",
      "grandson class instance method\n",
      "\n",
      "son class instance method\n",
      "father class instance method\n"
     ]
    }
   ],
   "source": [
    "class Father:\n",
    "    def __init__(self):\n",
    "        print(\"father class constructor\")\n",
    "    def show1(self):\n",
    "        print(\"father class instance method\")\n",
    "class Son(Father):\n",
    "    def __init__(self):\n",
    "        print(\"son class constructor\")\n",
    "    def show2(self):\n",
    "        print(\"son class instance method\")\n",
    "class Grandson(Son):\n",
    "    def __init__(self):\n",
    "        print(\"grandson class constructor\")\n",
    "    def show3(self):\n",
    "        print(\"grandson class instance method\")\n",
    "        \n",
    "g=Grandson()\n",
    "g.show3()    # so using grandson object we can still call other class instance method\n",
    "print()\n",
    "g.show2()    # so using grandson object we can still call other class instance method\n",
    "g.show1()    # so using grandson object we can still call other class instance method   \n"
   ]
  },
  {
   "cell_type": "markdown",
   "metadata": {},
   "source": [
    "# multilevel inheritance (with constructor in each class)"
   ]
  },
  {
   "cell_type": "code",
   "execution_count": 63,
   "metadata": {},
   "outputs": [
    {
     "name": "stdout",
     "output_type": "stream",
     "text": [
      "son class constructor\n",
      "grandson class constructor\n"
     ]
    }
   ],
   "source": [
    "class Father:\n",
    "    def __init__(self):\n",
    "        print(\"father class constructor\")\n",
    "    def show1(self):\n",
    "        print(\"father class instance method\")\n",
    "class Son(Father):\n",
    "    def __init__(self):\n",
    "        print(\"son class constructor\")\n",
    "    def show2(self):\n",
    "        print(\"son class instance method\")\n",
    "class Grandson(Son):\n",
    "    def __init__(self):\n",
    "        super().__init__()\n",
    "        print(\"grandson class constructor\")\n",
    "    def show3(self):\n",
    "        print(\"grandson class instance method\")\n",
    "        \n",
    "g=Grandson()"
   ]
  },
  {
   "cell_type": "code",
   "execution_count": 1,
   "metadata": {},
   "outputs": [
    {
     "name": "stdout",
     "output_type": "stream",
     "text": [
      "father class constructor\n",
      "son class constructor\n",
      "grandson class constructor\n",
      "\n",
      "grandson class instance method\n",
      "son class instance method\n",
      "father class instance method\n"
     ]
    }
   ],
   "source": [
    "class Father:\n",
    "    def __init__(self):\n",
    "        print(\"father class constructor\")\n",
    "    def show1(self):\n",
    "        print(\"father class instance method\")\n",
    "class Son(Father):                       # son class's parent constructor i.e Father class constructor can be called using the ( SUPER METHOD )\n",
    "    def __init__(self):\n",
    "        super().__init__()                # here we can call son class parent constructor using super method !!\n",
    "        print(\"son class constructor\")\n",
    "    def show2(self):\n",
    "        print(\"son class instance method\")\n",
    "class Grandson(Son):\n",
    "    def __init__(self):\n",
    "        super().__init__()\n",
    "        print(\"grandson class constructor\")\n",
    "    def show3(self):\n",
    "        print(\"grandson class instance method\")\n",
    "        \n",
    "g=Grandson()\n",
    "print()\n",
    "g.show3()\n",
    "g.show2()\n",
    "g.show1()"
   ]
  },
  {
   "cell_type": "markdown",
   "metadata": {},
   "source": [
    "\n",
    "# hierarchical inheritance :"
   ]
  },
  {
   "cell_type": "raw",
   "metadata": {},
   "source": [
    "when we make multiple child  class from single parent class is called hierarchical inheritance"
   ]
  },
  {
   "cell_type": "code",
   "execution_count": 5,
   "metadata": {},
   "outputs": [
    {
     "name": "stdout",
     "output_type": "stream",
     "text": [
      "father class's method\n",
      "\n",
      "Son class's method \n"
     ]
    }
   ],
   "source": [
    "class Father:\n",
    "    def showF(self):\n",
    "        print(\"father class's method\")\n",
    "class Son(Father):\n",
    "    def showS(self):\n",
    "        print(\"Son class's method \")\n",
    "class Daughter(Father):\n",
    "    def showD(self):\n",
    "        print(\"daughter class's method \")\n",
    "        \n",
    "s=Son()\n",
    "s.showF()\n",
    "print()\n",
    "s.showS()\n",
    "        "
   ]
  },
  {
   "cell_type": "code",
   "execution_count": 14,
   "metadata": {},
   "outputs": [
    {
     "name": "stdout",
     "output_type": "stream",
     "text": [
      "father class's method\n",
      "\n",
      "daughter class's method \n"
     ]
    },
    {
     "ename": "AttributeError",
     "evalue": "'Daughter' object has no attribute 'showS'",
     "output_type": "error",
     "traceback": [
      "\u001b[1;31m---------------------------------------------------------------------------\u001b[0m",
      "\u001b[1;31mAttributeError\u001b[0m                            Traceback (most recent call last)",
      "\u001b[1;32m<ipython-input-14-f4809e6fbaff>\u001b[0m in \u001b[0;36m<module>\u001b[1;34m\u001b[0m\n\u001b[0;32m     16\u001b[0m \u001b[1;31m# note we can not call the son class 's method with the help of daughter object !! vice versa example:-\u001b[0m\u001b[1;33m\u001b[0m\u001b[1;33m\u001b[0m\u001b[1;33m\u001b[0m\u001b[0m\n\u001b[0;32m     17\u001b[0m \u001b[1;33m\u001b[0m\u001b[0m\n\u001b[1;32m---> 18\u001b[1;33m \u001b[0md\u001b[0m\u001b[1;33m.\u001b[0m\u001b[0mshowS\u001b[0m\u001b[1;33m(\u001b[0m\u001b[1;33m)\u001b[0m\u001b[1;33m\u001b[0m\u001b[1;33m\u001b[0m\u001b[0m\n\u001b[0m\u001b[0;32m     19\u001b[0m \u001b[1;33m\u001b[0m\u001b[0m\n",
      "\u001b[1;31mAttributeError\u001b[0m: 'Daughter' object has no attribute 'showS'"
     ]
    }
   ],
   "source": [
    "class Father:\n",
    "    def showF(self):\n",
    "        print(\"father class's method\")\n",
    "class Son(Father):\n",
    "    def showS(self):\n",
    "        print(\"Son class's method \")\n",
    "class Daughter(Father):\n",
    "    def showD(self):\n",
    "        print(\"daughter class's method \")\n",
    "        \n",
    "d=Daughter()\n",
    "d.showF()\n",
    "print()\n",
    "d.showD()\n",
    "\n",
    "# note we can not call the son class 's method with the help of daughter object !! vice versa example:-\n",
    "\n",
    "d.showS()\n",
    "        "
   ]
  },
  {
   "cell_type": "markdown",
   "metadata": {},
   "source": [
    "# hierarchical inheritance with constructors !!"
   ]
  },
  {
   "cell_type": "code",
   "execution_count": 17,
   "metadata": {},
   "outputs": [
    {
     "name": "stdout",
     "output_type": "stream",
     "text": [
      "son's class's constructor !!\n"
     ]
    }
   ],
   "source": [
    "class Father:\n",
    "    def __init__(self):\n",
    "        print(\"father class's constructor !!\")\n",
    "    def showF(self):\n",
    "        print(\"father class's instance method \")\n",
    "class Son(Father):\n",
    "    def __init__(self):\n",
    "        print(\"son's class's constructor !!\")\n",
    "    def showS(self):\n",
    "        print(\"son's class's instance method \")\n",
    "class Daughter(Father):\n",
    "    def __init__(self):\n",
    "        print(\"daughter's class's constructor !!\")\n",
    "    def showD(self):\n",
    "        print(\"son's class's instance method \")\n",
    "        \n",
    "\n",
    "s=Son()    # it will give priority to its own constructor"
   ]
  },
  {
   "cell_type": "markdown",
   "metadata": {},
   "source": [
    "# calling parent class constructor with super method :-"
   ]
  },
  {
   "cell_type": "code",
   "execution_count": 21,
   "metadata": {},
   "outputs": [
    {
     "name": "stdout",
     "output_type": "stream",
     "text": [
      "father class's constructor !!\n",
      "son's class's constructor !!\n"
     ]
    }
   ],
   "source": [
    "class Father:\n",
    "    def __init__(self):\n",
    "        print(\"father class's constructor !!\")\n",
    "    def showF(self):\n",
    "        print(\"father class's instance method \")\n",
    "class Son(Father):\n",
    "    def __init__(self):\n",
    "        super().__init__()\n",
    "        print(\"son's class's constructor !!\")\n",
    "    def showS(self):\n",
    "        print(\"son's class's instance method \")\n",
    "class Daughter(Father):\n",
    "    def __init__(self):\n",
    "        print(\"daughter's class's constructor !!\")\n",
    "    def showD(self):\n",
    "        print(\"son's class's instance method \")\n",
    "        \n",
    "\n",
    "s=Son()    # it will give priority to its own constructor but if we want to call father class constructor we will use {  SUPER METHOD  } inside the son class constructor  !!"
   ]
  },
  {
   "cell_type": "code",
   "execution_count": 22,
   "metadata": {},
   "outputs": [
    {
     "name": "stdout",
     "output_type": "stream",
     "text": [
      "father class's constructor !!\n",
      "daughter's class's constructor !!\n"
     ]
    }
   ],
   "source": [
    "class Father:\n",
    "    def __init__(self):\n",
    "        print(\"father class's constructor !!\")\n",
    "    def showF(self):\n",
    "        print(\"father class's instance method \")\n",
    "class Son(Father):\n",
    "    def __init__(self):\n",
    "        super().__init__()\n",
    "        print(\"son's class's constructor !!\")\n",
    "    def showS(self):\n",
    "        print(\"son's class's instance method \")\n",
    "class Daughter(Father):\n",
    "    def __init__(self):\n",
    "        super().__init__()\n",
    "        print(\"daughter's class's constructor !!\")\n",
    "    def showD(self):\n",
    "        print(\"son's class's instance method \")\n",
    "        \n",
    "d=Daughter()   # it will give priority to its own constructor but if we want to call father class constructor we will use {  SUPER METHOD  } inside the son class constructor  !!"
   ]
  },
  {
   "cell_type": "markdown",
   "metadata": {},
   "source": [
    "# multiple inheritance and method resolution order !!"
   ]
  },
  {
   "cell_type": "raw",
   "metadata": {},
   "source": [
    "if a class is derieved from more than one parent class then it is called multiple inheritance"
   ]
  },
  {
   "cell_type": "code",
   "execution_count": 27,
   "metadata": {},
   "outputs": [
    {
     "name": "stdout",
     "output_type": "stream",
     "text": [
      "son class's method\n",
      "\n",
      "mother class's method \n",
      "father class's method\n"
     ]
    }
   ],
   "source": [
    "class Father:          # parent 1\n",
    "    def showF(self):\n",
    "        print(\"father class's method\")\n",
    "class Mother:         # parent 2\n",
    "    def showM(self):\n",
    "        print(\"mother class's method \")\n",
    "class Son(Father,Mother):       # deriving the son class from two parent class \n",
    "    def showS(self):\n",
    "        print(\"son class's method\")\n",
    "            \n",
    "s=Son()\n",
    "\n",
    "s.showS()\n",
    "print()\n",
    "s.showM()\n",
    "s.showF()"
   ]
  },
  {
   "cell_type": "markdown",
   "metadata": {},
   "source": [
    "# multiple inheritance with constructor in each class :-"
   ]
  },
  {
   "cell_type": "code",
   "execution_count": 28,
   "metadata": {},
   "outputs": [
    {
     "name": "stdout",
     "output_type": "stream",
     "text": [
      "son class's constructor\n"
     ]
    }
   ],
   "source": [
    "class Father:          # parent 1\n",
    "    def __init__(self):                        # father class's constructor\n",
    "        print(\"father class's constructor\")\n",
    "    def showF(self):\n",
    "        print(\"father class's method\")\n",
    "class Mother:          # parent 2\n",
    "    def __init__(self):                        # Mother class's constructor\n",
    "        print(\"Mother class's constructor\")\n",
    "    def showM(self):\n",
    "        print(\"mother class's method \")\n",
    "class Son(Father,Mother):       # deriving the son class from two parent class \n",
    "    def __init__(self):                        # son class's constructor\n",
    "        print(\"son class's constructor\")\n",
    "    def showS(self):\n",
    "        print(\"son class's method\")\n",
    "            \n",
    "s=Son()"
   ]
  },
  {
   "cell_type": "markdown",
   "metadata": {},
   "source": [
    "# calling parent class constructor with  super method"
   ]
  },
  {
   "cell_type": "code",
   "execution_count": 30,
   "metadata": {},
   "outputs": [
    {
     "name": "stdout",
     "output_type": "stream",
     "text": [
      "father class's constructor\n",
      "son class's constructor\n"
     ]
    }
   ],
   "source": [
    "class Father:          # parent 1\n",
    "    def __init__(self):                        # father class's constructor\n",
    "        print(\"father class's constructor\")\n",
    "    def showF(self):\n",
    "        print(\"father class's method\")\n",
    "class Mother:          # parent 2\n",
    "    def __init__(self):                        # Mother class's constructor\n",
    "        print(\"Mother class's constructor\")\n",
    "    def showM(self):\n",
    "        print(\"mother class's method \")\n",
    "class Son(Father,Mother):       # deriving the son class from two parent class \n",
    "    def __init__(self):                        # son class's constructor\n",
    "        super().__init__()                     # SUPER METHOD TO CALL PARENT CLASS CONSTRUCTOR !!\n",
    "        print(\"son class's constructor\")\n",
    "    def showS(self):\n",
    "        print(\"son class's method\")\n",
    "            \n",
    "s=Son()"
   ]
  },
  {
   "cell_type": "markdown",
   "metadata": {},
   "source": [
    "# now if we want to call the mother class constructor too then we will use super method in every parent class"
   ]
  },
  {
   "cell_type": "code",
   "execution_count": 32,
   "metadata": {},
   "outputs": [
    {
     "name": "stdout",
     "output_type": "stream",
     "text": [
      "Mother class's constructor\n",
      "father class's constructor\n",
      "son class's constructor\n"
     ]
    }
   ],
   "source": [
    "class Father:          # parent 1\n",
    "    def __init__(self):                        # father class's constructor\n",
    "        super().__init__()                     # SUPER METHOD TO CALL PARENT CLASS CONSTRUCTOR !!\n",
    "        print(\"father class's constructor\")\n",
    "    def showF(self):\n",
    "        print(\"father class's method\")\n",
    "class Mother:          # parent 2\n",
    "    def __init__(self):                          # Mother class's constructor\n",
    "        super().__init__()                       # SUPER METHOD TO CALL PARENT CLASS CONSTRUCTOR !!\n",
    "        print(\"Mother class's constructor\")\n",
    "    def showM(self):\n",
    "        print(\"mother class's method \")\n",
    "class Son(Father,Mother):                        # deriving the son class from two parent class \n",
    "    def __init__(self):                          # son class's constructor\n",
    "        super().__init__()                       # SUPER METHOD TO CALL PARENT CLASS CONSTRUCTOR !!\n",
    "        print(\"son class's constructor\")\n",
    "    def showS(self):\n",
    "        print(\"son class's method\")\n",
    "            \n",
    "s=Son()"
   ]
  },
  {
   "cell_type": "code",
   "execution_count": 33,
   "metadata": {},
   "outputs": [
    {
     "name": "stdout",
     "output_type": "stream",
     "text": [
      "father class's constructor\n",
      "Mother class's constructor\n",
      "son class's constructor\n"
     ]
    }
   ],
   "source": [
    "class Father:          # parent 1\n",
    "    def __init__(self):                        # father class's constructor\n",
    "        super().__init__()                     # SUPER METHOD TO CALL PARENT CLASS CONSTRUCTOR !!\n",
    "        print(\"father class's constructor\")\n",
    "    def showF(self):\n",
    "        print(\"father class's method\")\n",
    "class Mother:          # parent 2\n",
    "    def __init__(self):                          # Mother class's constructor\n",
    "        super().__init__()                       # SUPER METHOD TO CALL PARENT CLASS CONSTRUCTOR !!\n",
    "        print(\"Mother class's constructor\")\n",
    "    def showM(self):\n",
    "        print(\"mother class's method \")\n",
    "class Son(Mother,Father):                        # deriving the son class from two parent class \n",
    "    def __init__(self):                          # son class's constructor\n",
    "        super().__init__()                       # SUPER METHOD TO CALL PARENT CLASS CONSTRUCTOR !!\n",
    "        print(\"son class's constructor\")\n",
    "    def showS(self):\n",
    "        print(\"son class's method\")\n",
    "            \n",
    "s=Son()"
   ]
  },
  {
   "cell_type": "code",
   "execution_count": null,
   "metadata": {},
   "outputs": [],
   "source": []
  }
 ],
 "metadata": {
  "kernelspec": {
   "display_name": "Python 3",
   "language": "python",
   "name": "python3"
  },
  "language_info": {
   "codemirror_mode": {
    "name": "ipython",
    "version": 3
   },
   "file_extension": ".py",
   "mimetype": "text/x-python",
   "name": "python",
   "nbconvert_exporter": "python",
   "pygments_lexer": "ipython3",
   "version": "3.8.5"
  }
 },
 "nbformat": 4,
 "nbformat_minor": 4
}
