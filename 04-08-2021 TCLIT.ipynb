{
 "cells": [
  {
   "cell_type": "markdown",
   "metadata": {},
   "source": [
    "# abstraction, encapsulation and enamurate"
   ]
  },
  {
   "cell_type": "raw",
   "metadata": {},
   "source": []
  },
  {
   "cell_type": "code",
   "execution_count": 2,
   "metadata": {},
   "outputs": [
    {
     "name": "stdout",
     "output_type": "stream",
     "text": [
      "transaction of 500 is successful\n",
      "deposit amount is :1000\n",
      "your account balance is 2000\n"
     ]
    }
   ],
   "source": [
    "class Bank():\n",
    "    def __init__(self,acc_holder,acc_no,amount):\n",
    "        self.acc_holder= acc_holder\n",
    "        self.acc_no=acc_no\n",
    "        self.amount= amount\n",
    "        \n",
    "    def transaction(self,amount):\n",
    "        self.__deduct_amount=amount\n",
    "        print(f\"transaction of {amount} is successful\")\n",
    "    def __deduct_amount(self,amount):\n",
    "        self.amount=self.amount-amount\n",
    "        \n",
    "    def deposit(self,amount):\n",
    "        self._deposit=amount\n",
    "        print(f'deposit amount is :{amount}')\n",
    "    def _deposit(self,amount):\n",
    "        self.amount=self.amount+amount\n",
    "        \n",
    "    def check_acc_bal(self):\n",
    "        print(f\"your account balance is {self.amount}\")\n",
    "bank=Bank('abc',123,1000)\n",
    "bank.transaction(500)\n",
    "bank.deposit(1000)\n",
    "bank.check_acc_bal()\n"
   ]
  },
  {
   "cell_type": "code",
   "execution_count": 17,
   "metadata": {},
   "outputs": [
    {
     "name": "stdout",
     "output_type": "stream",
     "text": [
      "amount deducted :your updated balance is 5000\n",
      "amount deducted :your updated balance is 5000\n"
     ]
    }
   ],
   "source": [
    "import enum\n",
    "\n",
    "class Transaction_type(enum.Enum):\n",
    "    DEPOSIT=0,\n",
    "    DEDUCT=1\n",
    "class Bank():\n",
    "    def __init__(self,acc_holder_name,acc_no,amount):\n",
    "        self.acc_holder_name=acc_holder_name\n",
    "        self.acc_no=acc_no\n",
    "        self.amount=amount\n",
    "        \n",
    "    def __dotransaction(self,amount,type):\n",
    "        if (type==Transaction_type.DEDUCT):\n",
    "            self.amount-=amount\n",
    "        elif (type==Transaction_type.DEPOSIT):\n",
    "            self.amount+=amount\n",
    "        \n",
    "    def deduct_amount(self,amount):\n",
    "        self.__dotransaction(amount,transaction_type.DEDUCT)\n",
    "        print(f'amount deducted :your updated balance is {self.amount}')\n",
    "              \n",
    "    def deposit_amount(self,amount):\n",
    "        self.__dotransaction(amount,transaction_type.DEPOSIT)\n",
    "        print(f'amount deducted :your updated balance is {self.amount}')\n",
    "              \n",
    "    def check_acc_bal(self):\n",
    "        print(f\"your account balance is {self.amount}\")\n",
    "              \n",
    "              \n",
    "bank=Bank('abc',123,5000)\n",
    "bank.deposit_amount(1000)\n",
    "bank.deduct_amount(500)"
   ]
  },
  {
   "cell_type": "code",
   "execution_count": null,
   "metadata": {},
   "outputs": [],
   "source": []
  }
 ],
 "metadata": {
  "kernelspec": {
   "display_name": "Python 3",
   "language": "python",
   "name": "python3"
  },
  "language_info": {
   "codemirror_mode": {
    "name": "ipython",
    "version": 3
   },
   "file_extension": ".py",
   "mimetype": "text/x-python",
   "name": "python",
   "nbconvert_exporter": "python",
   "pygments_lexer": "ipython3",
   "version": "3.8.5"
  }
 },
 "nbformat": 4,
 "nbformat_minor": 4
}
