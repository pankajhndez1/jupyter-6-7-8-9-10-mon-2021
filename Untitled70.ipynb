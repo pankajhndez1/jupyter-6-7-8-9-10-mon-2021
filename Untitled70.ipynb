{
 "cells": [
  {
   "cell_type": "code",
   "execution_count": 19,
   "metadata": {},
   "outputs": [
    {
     "name": "stdout",
     "output_type": "stream",
     "text": [
      "parent class contructor called !!\n",
      "child class comnstructor called !!\n",
      "pankaj\n",
      "bsnl\n",
      "private method called !!\n",
      "house no.1\n"
     ]
    }
   ],
   "source": [
    "class Parent:\n",
    "    def __init__(self,name,comp):\n",
    "        self.name=name\n",
    "        self._comp=comp\n",
    "        print(\"parent class contructor called !!\")\n",
    "        \n",
    "class child(Parent):\n",
    "        def __init__(self,roll,add,name,comp):\n",
    "            super().__init__(name,comp)\n",
    "            self.roll=roll\n",
    "            self.__add=add\n",
    "            print(\"child class comnstructor called !!\")\n",
    "            \n",
    "        def __private(self):\n",
    "            print(\"private method called !!\")\n",
    "        def run_pvt(self):\n",
    "            self.__private()\n",
    "            self.__add\n",
    "            print(self.__add)\n",
    "            \n",
    "obj=child(25,'house no.1',\"pankaj\",\"bsnl\")\n",
    "print(obj.name) \n",
    "print(obj._comp)\n",
    "obj.run_pvt()\n"
   ]
  },
  {
   "cell_type": "code",
   "execution_count": 10,
   "metadata": {},
   "outputs": [
    {
     "name": "stdout",
     "output_type": "stream",
     "text": [
      "shubham\n"
     ]
    }
   ],
   "source": [
    "class Myclass:\n",
    "    def __init__(self,name,roll):\n",
    "        self.name=name\n",
    "        self.roll=roll\n",
    "obj=Myclass('shubham',12)\n",
    "print(obj.name)"
   ]
  },
  {
   "cell_type": "code",
   "execution_count": 20,
   "metadata": {},
   "outputs": [
    {
     "ename": "SyntaxError",
     "evalue": "invalid syntax (<ipython-input-20-72ef0ec4b796>, line 1)",
     "output_type": "error",
     "traceback": [
      "\u001b[1;36m  File \u001b[1;32m\"<ipython-input-20-72ef0ec4b796>\"\u001b[1;36m, line \u001b[1;32m1\u001b[0m\n\u001b[1;33m    class Myclass\u001b[0m\n\u001b[1;37m                 ^\u001b[0m\n\u001b[1;31mSyntaxError\u001b[0m\u001b[1;31m:\u001b[0m invalid syntax\n"
     ]
    }
   ],
   "source": [
    "class Myclass\n",
    "    def __init__(self,name,proj):\n",
    "        self.name=name\n",
    "        self._proj=proj\n",
    "        \n",
    "    def show(self):\n",
    "        print(\"the code of the company is :\",15)\n",
    "class Emp(Company):\n",
    "    def __init__(self,eName,sal,cName,proj):\n",
    "        super().__init__(cName,proj)\n",
    "        self.name=eName\n",
    "        self._sal=sal\n",
    "    \n",
    "\n",
    "    def show_sal(self):\n",
    "        print(\"the salary of \"self.name,\"is\",self.name,\"is\",self.__sal)\n",
    "        \n",
    "c=Company(\"stark industries\",'mark4')"
   ]
  },
  {
   "cell_type": "code",
   "execution_count": null,
   "metadata": {},
   "outputs": [],
   "source": []
  }
 ],
 "metadata": {
  "kernelspec": {
   "display_name": "Python 3",
   "language": "python",
   "name": "python3"
  },
  "language_info": {
   "codemirror_mode": {
    "name": "ipython",
    "version": 3
   },
   "file_extension": ".py",
   "mimetype": "text/x-python",
   "name": "python",
   "nbconvert_exporter": "python",
   "pygments_lexer": "ipython3",
   "version": "3.8.5"
  }
 },
 "nbformat": 4,
 "nbformat_minor": 4
}
