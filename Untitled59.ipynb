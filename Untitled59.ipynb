{
 "cells": [
  {
   "cell_type": "markdown",
   "metadata": {},
   "source": [
    "# multi tasking in python :"
   ]
  },
  {
   "cell_type": "raw",
   "metadata": {},
   "source": [
    "multitasking :  executing multiple task at the same time\n",
    "\n",
    "types of multitasking:\n",
    "\n",
    "1) process based multitasking\n",
    "2) thread based multitasking\n",
    "\n",
    "thread: thread is a separate flow of execution. Every thread has a task."
   ]
  },
  {
   "cell_type": "markdown",
   "metadata": {},
   "source": [
    "# main thread:"
   ]
  },
  {
   "cell_type": "raw",
   "metadata": {},
   "source": [
    "when we start any program , one thread begins running immediately, which is called Main thread of that program created by    pvm-( python virtual machine ) .\n",
    "\n",
    "The main thread is created automatically when your program is started."
   ]
  },
  {
   "cell_type": "code",
   "execution_count": 3,
   "metadata": {},
   "outputs": [
    {
     "name": "stdout",
     "output_type": "stream",
     "text": [
      "MainThread\n"
     ]
    }
   ],
   "source": [
    "import threading\n",
    "\n",
    "t=threading.current_thread().getName()\n",
    "print(t)"
   ]
  },
  {
   "cell_type": "code",
   "execution_count": 4,
   "metadata": {},
   "outputs": [
    {
     "name": "stdout",
     "output_type": "stream",
     "text": [
      "geekyshows\n",
      "MainThread\n"
     ]
    }
   ],
   "source": [
    "import threading\n",
    "\n",
    "t=threading.current_thread().getName()\n",
    "print(\"geekyshows\")\n",
    "print(t)"
   ]
  },
  {
   "cell_type": "markdown",
   "metadata": {},
   "source": [
    "# creating a thread :"
   ]
  },
  {
   "cell_type": "raw",
   "metadata": {},
   "source": [
    "1) Thread class of threading module is used to create threads .\n",
    "2) to create our own thread we need to create an object of Thread class.\n",
    "\n",
    "\n",
    "# following are the ways of creating threads:\n",
    "\n",
    "1) creating a thread without using a class  (but will use only Thread class)\n",
    "\n",
    "2) creating a thread by creating a child class to Thread class.\n",
    "\n",
    "3) creating a thread without creating child class to thread class"
   ]
  },
  {
   "cell_type": "markdown",
   "metadata": {},
   "source": [
    "# creating a thread without using a class  :"
   ]
  },
  {
   "cell_type": "raw",
   "metadata": {},
   "source": [
    "from threading import Thread\n",
    "\n",
    "thread_object=Thread(target=Function_name , args=(arg1,arg2))\n",
    "\n",
    "1) thread_object -> it represents our thread\n",
    "\n",
    "2) target -> it represents the function on which the thread will act\n",
    "\n",
    "3) args -> it represents a tuple of arguments which are passed to the function.\n",
    "\n",
    "\n",
    "example =>  \n",
    "          t=Thread(target=disp,args=(10,20))\n"
   ]
  },
  {
   "cell_type": "markdown",
   "metadata": {},
   "source": [
    "# starting a thread :-"
   ]
  },
  {
   "cell_type": "code",
   "execution_count": 9,
   "metadata": {},
   "outputs": [
    {
     "name": "stdout",
     "output_type": "stream",
     "text": [
      " thread running 10\n"
     ]
    }
   ],
   "source": [
    "from threading import Thread\n",
    "\n",
    "def disp(a):\n",
    "    print(\" thread running\",a)\n",
    "t=Thread(target=disp, args=(10,))  # args=(10,)) note while writting tuple must write (10,)  if using single element inside tuple\n",
    " \n",
    "t.start()\n"
   ]
  },
  {
   "cell_type": "code",
   "execution_count": 6,
   "metadata": {},
   "outputs": [
    {
     "name": "stdout",
     "output_type": "stream",
     "text": [
      "thread running 10 20\n",
      "thread running 10 20\n",
      "thread running 10 20\n",
      "thread running 10 20\n",
      "thread running 10 20\n"
     ]
    }
   ],
   "source": [
    "from threading import Thread\n",
    "\n",
    "def disp(a,b):\n",
    "    print(\"thread running\",a,b)\n",
    "for i in range(5):\n",
    "    t=Thread(target=disp,args=(10,20))\n",
    "    t.start()"
   ]
  },
  {
   "cell_type": "code",
   "execution_count": 12,
   "metadata": {},
   "outputs": [
    {
     "name": "stdout",
     "output_type": "stream",
     "text": [
      "0 thread running 10 20\n",
      "1 thread running 10 20\n",
      "2 thread running 10 20\n",
      "3 thread running 10 20\n",
      "4 thread running 10 20\n"
     ]
    }
   ],
   "source": [
    "from threading import Thread\n",
    "\n",
    "def disp(a,b):\n",
    "    print(i,\"thread running\",a,b)\n",
    "for i in range(5):\n",
    "    t=Thread(target=disp,args=(10,20))\n",
    "    t.start()"
   ]
  },
  {
   "cell_type": "code",
   "execution_count": 13,
   "metadata": {},
   "outputs": [
    {
     "name": "stdout",
     "output_type": "stream",
     "text": [
      "MainThread\n"
     ]
    }
   ],
   "source": [
    "import threading\n",
    "\n",
    "t=threading.current_thread().getName()\n",
    "print(t)"
   ]
  },
  {
   "cell_type": "markdown",
   "metadata": {},
   "source": [
    "# exmples of multithreading :"
   ]
  },
  {
   "cell_type": "code",
   "execution_count": 63,
   "metadata": {},
   "outputs": [
    {
     "name": "stdout",
     "output_type": "stream",
     "text": [
      " child thread  main thread \n",
      " child thread \n",
      " child thread \n",
      " child thread \n",
      " child thread \n",
      "\n",
      " main thread \n",
      " main thread \n",
      " main thread \n",
      " main thread \n"
     ]
    }
   ],
   "source": [
    "from threading import Thread\n",
    "\n",
    "def disp():\n",
    "    for i in range(5):\n",
    "        print(\" child thread \")\n",
    "t=Thread(target=disp)\n",
    "t.start()\n",
    "\n",
    "for i in range(5):\n",
    "    print(\" main thread \")\n",
    "        "
   ]
  },
  {
   "cell_type": "code",
   "execution_count": 64,
   "metadata": {},
   "outputs": [
    {
     "name": "stdout",
     "output_type": "stream",
     "text": [
      " video M video C\n",
      " video M\n",
      " video M\n",
      " video M\n",
      " video M\n",
      "\n",
      " video C\n",
      " video C\n",
      " video C\n",
      " video C\n"
     ]
    }
   ],
   "source": [
    "from threading import Thread\n",
    "\n",
    "def disp():\n",
    "    for i in range(5):\n",
    "        print(\" video M\")\n",
    "t=Thread(target=disp)\n",
    "t.start()\n",
    "\n",
    "for i in range(5):\n",
    "    print(\" video C\")"
   ]
  },
  {
   "cell_type": "code",
   "execution_count": 66,
   "metadata": {},
   "outputs": [
    {
     "name": "stdout",
     "output_type": "stream",
     "text": [
      " child thread  main thread \n",
      " child thread \n",
      " child thread \n",
      " child thread \n",
      " child thread \n",
      "\n",
      " main thread \n",
      " main thread \n",
      " main thread \n",
      " main thread \n"
     ]
    }
   ],
   "source": [
    "from threading import Thread\n",
    "\n",
    "def disp():\n",
    "    for i in range(5):\n",
    "        print(\" child thread \")\n",
    "t=Thread(target=disp)\n",
    "t.start()\n",
    "\n",
    "for i in range(5):\n",
    "    print(\" main thread \")"
   ]
  },
  {
   "cell_type": "raw",
   "metadata": {},
   "source": [
    "so if we do not use multithreading and wants to publish videos , then we can use for loop too but the for loop will take more \n",
    "time as compared to mutithreading as multithreading shows us the random output but for loop goes one by one and shows the o/p .\n",
    "so multitasking takes the lesser amount of time."
   ]
  },
  {
   "cell_type": "code",
   "execution_count": 68,
   "metadata": {},
   "outputs": [
    {
     "name": "stdout",
     "output_type": "stream",
     "text": [
      " main thread \n",
      " main thread \n",
      " main thread \n",
      " main thread \n",
      " main thread \n"
     ]
    }
   ],
   "source": [
    "for i in range(5):\n",
    "    print(\" main thread \")"
   ]
  },
  {
   "cell_type": "code",
   "execution_count": null,
   "metadata": {},
   "outputs": [],
   "source": []
  },
  {
   "cell_type": "code",
   "execution_count": null,
   "metadata": {},
   "outputs": [],
   "source": []
  },
  {
   "cell_type": "code",
   "execution_count": null,
   "metadata": {},
   "outputs": [],
   "source": []
  }
 ],
 "metadata": {
  "kernelspec": {
   "display_name": "Python 3",
   "language": "python",
   "name": "python3"
  },
  "language_info": {
   "codemirror_mode": {
    "name": "ipython",
    "version": 3
   },
   "file_extension": ".py",
   "mimetype": "text/x-python",
   "name": "python",
   "nbconvert_exporter": "python",
   "pygments_lexer": "ipython3",
   "version": "3.8.5"
  }
 },
 "nbformat": 4,
 "nbformat_minor": 4
}
