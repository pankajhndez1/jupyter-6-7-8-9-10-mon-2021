{
 "cells": [
  {
   "cell_type": "markdown",
   "metadata": {},
   "source": [
    "# 15-07-2021 tclit"
   ]
  },
  {
   "cell_type": "code",
   "execution_count": 14,
   "metadata": {},
   "outputs": [
    {
     "name": "stdout",
     "output_type": "stream",
     "text": [
      "enter the value of a=45\n",
      "enter the value of b=55\n",
      "100\n",
      "non prime\n"
     ]
    }
   ],
   "source": [
    "a=int(input(\"enter the value of a=\"))\n",
    "b=int(input(\"enter the value of b=\"))\n",
    "\n",
    "def add(a,b):\n",
    "    return a+b\n",
    "\n",
    "def square(c):\n",
    "    if c<50:\n",
    "        print(\"square is \",c**2)\n",
    "    else:\n",
    "        counter=0\n",
    "        for i in range(1,c+1):\n",
    "            if c%i==0:\n",
    "                counter=counter+1\n",
    "            else:\n",
    "                pass\n",
    "\n",
    "        if counter == 2:\n",
    "            print(\"prime\")\n",
    "        else:\n",
    "            print(\"non prime\")\n",
    "\n",
    "c=add(a,b)\n",
    "print(c)\n",
    "square(c)\n",
    "\n",
    " "
   ]
  },
  {
   "cell_type": "markdown",
   "metadata": {},
   "source": [
    "# function reciving the list"
   ]
  },
  {
   "cell_type": "code",
   "execution_count": 9,
   "metadata": {},
   "outputs": [
    {
     "name": "stdout",
     "output_type": "stream",
     "text": [
      "even list is [2, 6, 8]\n",
      "odd list is [1, 5, 7]\n"
     ]
    }
   ],
   "source": [
    "x=[1,5,2,6,7,8]\n",
    "even_list=[]\n",
    "odd_list=[]\n",
    "\n",
    "def disp(x):\n",
    "    for num in x:\n",
    "        if num %2==0:\n",
    "            even_list.append(num)\n",
    "        else:\n",
    "            odd_list.append(num)\n",
    "\n",
    "    print(\"even list is\",even_list)\n",
    "    print(\"odd list is\",odd_list)\n",
    "\n",
    "disp(x)\n",
    "     "
   ]
  },
  {
   "cell_type": "code",
   "execution_count": 4,
   "metadata": {},
   "outputs": [
    {
     "name": "stdout",
     "output_type": "stream",
     "text": [
      "child thread Thread-8\n"
     ]
    }
   ],
   "source": [
    "from threading import Thread,current_thread\n",
    "\n",
    "def myfunc():\n",
    "    print(\"child thread\",current_thread().name)\n",
    "t=Thread(target=myfunc)\n",
    "t.start()\n",
    "\n",
    "    "
   ]
  },
  {
   "cell_type": "code",
   "execution_count": null,
   "metadata": {},
   "outputs": [],
   "source": []
  }
 ],
 "metadata": {
  "kernelspec": {
   "display_name": "Python 3",
   "language": "python",
   "name": "python3"
  },
  "language_info": {
   "codemirror_mode": {
    "name": "ipython",
    "version": 3
   },
   "file_extension": ".py",
   "mimetype": "text/x-python",
   "name": "python",
   "nbconvert_exporter": "python",
   "pygments_lexer": "ipython3",
   "version": "3.8.5"
  }
 },
 "nbformat": 4,
 "nbformat_minor": 4
}
