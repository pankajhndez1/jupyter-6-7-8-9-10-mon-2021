{
 "cells": [
  {
   "cell_type": "raw",
   "metadata": {},
   "source": [
    "greatest between three nunmbers"
   ]
  },
  {
   "cell_type": "code",
   "execution_count": 12,
   "metadata": {},
   "outputs": [
    {
     "name": "stdout",
     "output_type": "stream",
     "text": [
      " enter the value of a =100\n",
      " enter the value of b =5\n",
      " enter the value of c =120\n",
      "  c is greatest\n"
     ]
    }
   ],
   "source": [
    "a=int(input(\" enter the value of a =\"))\n",
    "b=int(input(\" enter the value of b =\"))\n",
    "c=int(input(\" enter the value of c =\"))\n",
    "\n",
    "if a>b and a>c:\n",
    "    print(  \" a is greatest\")\n",
    "elif b>c:\n",
    "    print( \" b is greatest\")\n",
    "else:\n",
    "    print(\"  c is greatest\")\n",
    "    "
   ]
  },
  {
   "cell_type": "code",
   "execution_count": 9,
   "metadata": {},
   "outputs": [
    {
     "name": "stdout",
     "output_type": "stream",
     "text": [
      " enter the value of a =5\n",
      " enter the value of b =4\n",
      " enter the value of c =8\n",
      " c is greatest\n"
     ]
    }
   ],
   "source": [
    "a=int(input(\" enter the value of a =\"))\n",
    "b=int(input(\" enter the value of b =\"))\n",
    "c=int(input(\" enter the value of c =\"))\n",
    "\n",
    "if a>b and a>c:\n",
    "    print(  \" a is greatest\")\n",
    "elif c>b:\n",
    "    print( \" c is greatest\")\n",
    "else:\n",
    "    print(\"  b is greatest\")"
   ]
  },
  {
   "cell_type": "code",
   "execution_count": 6,
   "metadata": {},
   "outputs": [
    {
     "name": "stdout",
     "output_type": "stream",
     "text": [
      " enter the value of a =15\n",
      " enter the value of b =56\n",
      " enter the value of c =58\n",
      " enter the value of d =89\n",
      "d is greatest\n"
     ]
    }
   ],
   "source": [
    "a=int(input(\" enter the value of a =\"))\n",
    "b=int(input(\" enter the value of b =\"))\n",
    "c=int(input(\" enter the value of c =\"))\n",
    "\n",
    "d=int(input(\" enter the value of d =\"))\n",
    "\n",
    "if a>b and a>c and a>d:\n",
    "    print( \" a is greatest\")\n",
    "elif b>c and b>d:\n",
    "    print( \" b is greatest\")\n",
    "elif c>d and c>b:\n",
    "    print( \" c is greatest\")\n",
    "else:\n",
    "    print(\"d is greatest\")"
   ]
  },
  {
   "cell_type": "markdown",
   "metadata": {},
   "source": [
    "# now using nested if else to find greatest of three numbers"
   ]
  },
  {
   "cell_type": "code",
   "execution_count": 10,
   "metadata": {},
   "outputs": [
    {
     "name": "stdout",
     "output_type": "stream",
     "text": [
      " enter the value of a =45\n",
      " enter the value of b =24\n",
      " enter the value of c =565\n",
      " c is greatest\n"
     ]
    }
   ],
   "source": [
    "a=int(input(\" enter the value of a =\"))\n",
    "b=int(input(\" enter the value of b =\"))\n",
    "c=int(input(\" enter the value of c =\"))\n",
    "\n",
    "if a>b:\n",
    "    if a >c:\n",
    "        print(\" a is greatest\")\n",
    "    else:\n",
    "        print(\" c is greatest\")\n",
    "elif b>c:\n",
    "    print(\" b is greatest \")\n",
    "else:\n",
    "    print(\" c is greatest\")\n",
    "        \n"
   ]
  },
  {
   "cell_type": "markdown",
   "metadata": {},
   "source": [
    "# now using nested if else to find greatest of four numbers"
   ]
  },
  {
   "cell_type": "code",
   "execution_count": 10,
   "metadata": {},
   "outputs": [
    {
     "name": "stdout",
     "output_type": "stream",
     "text": [
      " enter the value of a =145\n",
      " enter the value of b =45\n",
      " enter the value of c =78\n",
      " enter the value of d =98\n",
      " a is greatest\n"
     ]
    }
   ],
   "source": [
    "# this logic works:\n",
    "\n",
    "\n",
    "a=int(input(\" enter the value of a =\"))\n",
    "b=int(input(\" enter the value of b =\"))\n",
    "c=int(input(\" enter the value of c =\"))\n",
    "d=int(input(\" enter the value of d =\"))\n",
    "\n",
    "if a>b:\n",
    "    if a >c and a>d:\n",
    "        print(\" a is greatest\")\n",
    "    elif d>a:\n",
    "        print(\" d is greatest\")\n",
    "    elif c>a:\n",
    "        print(\" c is greatest\")\n",
    "    \n",
    "elif b>c:\n",
    "    if b>d:\n",
    "        print(\" b is greatest \")\n",
    "    else:\n",
    "        print(\"d is greatest\")\n",
    "elif d>c:\n",
    "    print(\"d is greatest\")\n",
    "else:\n",
    "    print(\" c is greatest\")\n",
    "    "
   ]
  },
  {
   "cell_type": "code",
   "execution_count": 21,
   "metadata": {},
   "outputs": [
    {
     "name": "stdout",
     "output_type": "stream",
     "text": [
      " enter the value of a =14\n",
      " enter the value of b =56\n",
      " enter the value of c =478\n",
      " enter the value of d =4\n",
      " c is greatest\n"
     ]
    }
   ],
   "source": [
    "#this is correct !!  # ye use krna in future\n",
    "\n",
    "a=int(input(\" enter the value of a =\"))\n",
    "b=int(input(\" enter the value of b =\"))\n",
    "c=int(input(\" enter the value of c =\"))\n",
    "d=int(input(\" enter the value of d =\"))\n",
    "\n",
    "if a>b:\n",
    "    if a >c and a>d:                # 1st a>c condition ko galat lekr aage code krna i.e a>b,c>a --> c>a>b\n",
    "        print(\" a is greatest\")\n",
    "    elif d>c:\n",
    "        print(\"d is greatest\")\n",
    "    else:\n",
    "        print(\" c is greatest\")\n",
    "    \n",
    "elif b>c:\n",
    "    if b>d:\n",
    "        print(\" b is greatest \")\n",
    "    else:\n",
    "        print(\"d is greatest\")\n",
    "elif d>c:\n",
    "    print(\"d is greatest\")\n",
    "else:\n",
    "    print(\" c is greatest\")\n",
    "    "
   ]
  },
  {
   "cell_type": "code",
   "execution_count": 8,
   "metadata": {},
   "outputs": [
    {
     "name": "stdout",
     "output_type": "stream",
     "text": [
      " enter the age of person19\n",
      " enter weight of person54\n",
      "not eligilbe\n"
     ]
    }
   ],
   "source": [
    "# home work\n",
    "\n",
    "age= int(input(\" enter the age of person\"))\n",
    "weight=int(input(\" enter weight of person\"))\n",
    "\n",
    "if age>=18 and weight>=55:\n",
    "    print(\"yes age is greater than or equals to 18  ELIGIBLE\")\n",
    "elif age<18 and weight<55 :\n",
    "    print(\" not eligible\")\n",
    "elif age<18 and weight>55 :\n",
    "    print(\" not eligible\")\n",
    "elif age>18 and weight<55:\n",
    "    print(\"not eligilbe\")\n"
   ]
  },
  {
   "cell_type": "code",
   "execution_count": 7,
   "metadata": {},
   "outputs": [
    {
     "name": "stdout",
     "output_type": "stream",
     "text": [
      " enter the age of person54\n",
      " enter weight of person56\n",
      " enter the height of a person478\n",
      "eligible\n"
     ]
    }
   ],
   "source": [
    "# home work\n",
    "\n",
    "age=int(input(\" enter the age of person\"))\n",
    "weight=int(input(\" enter weight of person\"))\n",
    "height=int(input(\" enter the height of a person\"))\n",
    "\n",
    "if age>=18:\n",
    "    if weight>=55:\n",
    "        if height>=170:\n",
    "            print(\"eligible\")\n",
    "        else:                         # height else\n",
    "            print(\"under height\")\n",
    "    else:                          # weight else\n",
    "        print(\"under weight\")\n",
    "else:                            # age else\n",
    "    print(\"under age\")\n"
   ]
  },
  {
   "cell_type": "code",
   "execution_count": 9,
   "metadata": {},
   "outputs": [
    {
     "name": "stdout",
     "output_type": "stream",
     "text": [
      " bread and eggs are available\n",
      " i will make BREAD OMELET \n"
     ]
    }
   ],
   "source": [
    "# market\n",
    "\n",
    "bread=True\n",
    "egg=True\n",
    "\n",
    "\n",
    "if bread==True:\n",
    "    if egg==True:                           # nested if\n",
    "        print(\" bread and eggs are available\")\n",
    "        print(\" i will make BREAD OMELET \")\n",
    "    else:                                   # nested else\n",
    "        print(\" i will make SANWICH \")\n",
    "elif bread!=True:                         # elif k andr nested if else\n",
    "    \n",
    "    if egg==True:\n",
    "        print(\"i will make OMELET\")\n",
    "    else:\n",
    "        print(\"i will make only tea\")\n",
    "\n"
   ]
  },
  {
   "cell_type": "markdown",
   "metadata": {},
   "source": [
    "# note : we can use (nested if ,elif, else) also (nested if else) inside  if elif and else!!!"
   ]
  },
  {
   "cell_type": "raw",
   "metadata": {},
   "source": [
    "greatest between 5 numbers"
   ]
  },
  {
   "cell_type": "code",
   "execution_count": null,
   "metadata": {},
   "outputs": [
    {
     "name": "stdout",
     "output_type": "stream",
     "text": [
      " enter the value of a =59\n"
     ]
    }
   ],
   "source": [
    "a=int(input(\" enter the value of a =\"))\n",
    "b=int(input(\" enter the value of b =\"))\n",
    "c=int(input(\" enter the value of c =\"))\n",
    "d=int(input(\" enter the value of d =\"))\n",
    "e=int(input(\" enter the value of e =\"))\n",
    "\n",
    "if a>b:\n",
    "    if a>c:\n",
    "        if a>d:\n",
    "            if a>e:\n",
    "                print(\"a is greatest\")\n",
    "            else:\n",
    "                print(\"e is greatest\")\n",
    "        else:\n",
    "            if d>e:\n",
    "                print(\"d is greatest\")\n",
    "            else:\n",
    "                print(\"e is greatest\")\n",
    "    else:\n",
    "        if d>c :\n",
    "            if d>e:\n",
    "                print(\"d is greatest\")\n",
    "            else:\n",
    "                print(\"e is greatest\")\n",
    "else:\n",
    "    if b>c:\n",
    "        if b>d:\n",
    "            if b>e:\n",
    "                print(\"b is gretest\")\n",
    "            else:\n",
    "                print(\"e is greatest\")\n",
    "        else:\n",
    "            if d>e:\n",
    "                print(\"d is greatest\")\n",
    "            else:\n",
    "                print(\"e is greatest\")\n",
    "    else:\n",
    "        if c>d:\n",
    "            if c>e:\n",
    "                print(\"c is greatest\")\n",
    "            else:\n",
    "                print(\"e is greatest\")\n",
    "        else:\n",
    "            if d>e:\n",
    "                print(\"d is greatest\")\n",
    "            else:\n",
    "                print(\"e is greatest\")"
   ]
  },
  {
   "cell_type": "code",
   "execution_count": 3,
   "metadata": {},
   "outputs": [
    {
     "name": "stdout",
     "output_type": "stream",
     "text": [
      "hello pankaj\n",
      "30\n"
     ]
    }
   ],
   "source": [
    "class A:\n",
    "    def __init__(self,x,y):\n",
    "        self.x=x\n",
    "        self.y=y\n",
    "    def __add__(self,other):\n",
    "        print(self.x+other.c)\n",
    "        return(self.y+other.d)\n",
    "        \n",
    "        \n",
    "class B:\n",
    "    def __init__(self,c,d):\n",
    "        self.c=c\n",
    "        self.d=d\n",
    "\n",
    "a=A(\"hello \",10)\n",
    "b=B(\"pankaj\",20)\n",
    "print(a+b)"
   ]
  },
  {
   "cell_type": "code",
   "execution_count": 5,
   "metadata": {},
   "outputs": [
    {
     "name": "stdout",
     "output_type": "stream",
     "text": [
      "0\n",
      "hello\n",
      "1\n",
      "hello\n",
      "2\n",
      "hello\n",
      "3\n",
      "hello\n"
     ]
    }
   ],
   "source": [
    "for i in range(6):\n",
    "    if i>3:\n",
    "        continue\n",
    "    print(i)\n",
    "    print(\"hello\")"
   ]
  },
  {
   "cell_type": "code",
   "execution_count": 11,
   "metadata": {},
   "outputs": [
    {
     "name": "stdout",
     "output_type": "stream",
     "text": [
      "20\n",
      "weird\n"
     ]
    }
   ],
   "source": [
    "n=int(input(\"\"))\n",
    "if n%2!=0:\n",
    "    print(\"Weird\")\n",
    "elif n%2==0 and n in range(2,5):\n",
    "    print(\"Not Weird\")\n",
    "elif n%2==0 and n in range(6,20):\n",
    "    print(\"Weird\")\n",
    "elif n%2==0 and n>20:\n",
    "    print(\"Not Weird\")\n",
    "elif n%2==0:\n",
    "    print(\"weird\")\n",
    "    "
   ]
  },
  {
   "cell_type": "raw",
   "metadata": {},
   "source": [
    "Task :\n",
    "\n",
    "Given an integer, , perform the following conditional actions:\n",
    "\n",
    "If  is odd, print Weird\n",
    "If  is even and in the inclusive range of  2 to 5 , print Not Weird\n",
    "If  is even and in the inclusive range of 6 to 20, print Weird\n",
    "If  is even and greater than 20, print Not Weird\n"
   ]
  },
  {
   "cell_type": "code",
   "execution_count": 15,
   "metadata": {},
   "outputs": [
    {
     "name": "stdout",
     "output_type": "stream",
     "text": [
      "20\n",
      "Weird\n"
     ]
    }
   ],
   "source": [
    "N=int(input(\"\"))\n",
    "\n",
    "if N % 2 != 0:\n",
    "    print(\"Weird\")\n",
    "else:\n",
    "    if N >= 2 and N <= 5:\n",
    "        print(\"Not Weird\")\n",
    "    elif N >= 6 and N <= 20:\n",
    "        print(\"Weird\")\n",
    "    elif N > 20:\n",
    "        print(\"Not Weird\")"
   ]
  },
  {
   "cell_type": "raw",
   "metadata": {},
   "source": [
    "The provided code stub reads two integers from STDIN,  and . Add code to print three lines where:\n",
    "\n",
    "The first line contains the sum of the two numbers.\n",
    "The second line contains the difference of the two numbers (first - second).\n",
    "The third line contains the product of the two numbers."
   ]
  },
  {
   "cell_type": "code",
   "execution_count": null,
   "metadata": {},
   "outputs": [],
   "source": []
  },
  {
   "cell_type": "code",
   "execution_count": null,
   "metadata": {},
   "outputs": [],
   "source": []
  },
  {
   "cell_type": "code",
   "execution_count": null,
   "metadata": {},
   "outputs": [],
   "source": []
  }
 ],
 "metadata": {
  "kernelspec": {
   "display_name": "Python 3",
   "language": "python",
   "name": "python3"
  },
  "language_info": {
   "codemirror_mode": {
    "name": "ipython",
    "version": 3
   },
   "file_extension": ".py",
   "mimetype": "text/x-python",
   "name": "python",
   "nbconvert_exporter": "python",
   "pygments_lexer": "ipython3",
   "version": "3.8.5"
  },
  "widgets": {
   "application/vnd.jupyter.widget-state+json": {
    "state": {},
    "version_major": 2,
    "version_minor": 0
   }
  }
 },
 "nbformat": 4,
 "nbformat_minor": 4
}
