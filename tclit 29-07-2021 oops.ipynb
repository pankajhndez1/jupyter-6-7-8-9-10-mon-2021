{
 "cells": [
  {
   "cell_type": "markdown",
   "metadata": {},
   "source": [
    "# oops"
   ]
  },
  {
   "cell_type": "code",
   "execution_count": 3,
   "metadata": {},
   "outputs": [
    {
     "name": "stdout",
     "output_type": "stream",
     "text": [
      "pankaj and admisision number : 10\n",
      "college name is abc_college\n"
     ]
    }
   ],
   "source": [
    "class Student:\n",
    "    coll_name=\"abc_college\"\n",
    "\n",
    "    def __init__(self,name,admn):\n",
    "        self.name=name\n",
    "        self.admn=admn\n",
    "        \n",
    "    def show_variables(self):\n",
    "        print(f'{self.name} and admisision number : {self.admn}')\n",
    "    @staticmethod    \n",
    "    def college_name1():\n",
    "        print(f'college name is {Student.coll_name}')\n",
    "        \n",
    "stu=Student(\"pankaj\",10)\n",
    "stu.show_variables()\n",
    "Student.college_name1()\n",
    "\n"
   ]
  },
  {
   "cell_type": "markdown",
   "metadata": {},
   "source": [
    "# note ***"
   ]
  },
  {
   "cell_type": "raw",
   "metadata": {},
   "source": [
    "note the static /class variable are not linked to the object , so we never use self while calling the static variable or static method ...also note that the self is not used as the first parameter while making the method for class variable.\n",
    "\n",
    "and always call the static variable and static method with the class name !!!!"
   ]
  },
  {
   "cell_type": "markdown",
   "metadata": {},
   "source": [
    "# What is public/private and protected?"
   ]
  },
  {
   "cell_type": "raw",
   "metadata": {},
   "source": [
    "Broadly speaking, public means everyone is allowed to access, private means that only members of the same class are allowed to access, and protected means that members of subclasses are also allowed."
   ]
  },
  {
   "cell_type": "code",
   "execution_count": 5,
   "metadata": {},
   "outputs": [
    {
     "name": "stdout",
     "output_type": "stream",
     "text": [
      "pankaj and salary is 1000\n",
      "display method called !!\n",
      "pankaj and salary is 1000\n"
     ]
    },
    {
     "ename": "AttributeError",
     "evalue": "'My_class' object has no attribute '__display'",
     "output_type": "error",
     "traceback": [
      "\u001b[1;31m---------------------------------------------------------------------------\u001b[0m",
      "\u001b[1;31mAttributeError\u001b[0m                            Traceback (most recent call last)",
      "\u001b[1;32m<ipython-input-5-89ac4f89d5c1>\u001b[0m in \u001b[0;36m<module>\u001b[1;34m\u001b[0m\n\u001b[0;32m     15\u001b[0m \u001b[0mobj\u001b[0m\u001b[1;33m=\u001b[0m\u001b[0mMy_class\u001b[0m\u001b[1;33m(\u001b[0m\u001b[1;34m\"pankaj\"\u001b[0m\u001b[1;33m,\u001b[0m\u001b[1;36m1000\u001b[0m\u001b[1;33m)\u001b[0m\u001b[1;33m\u001b[0m\u001b[1;33m\u001b[0m\u001b[0m\n\u001b[0;32m     16\u001b[0m \u001b[0mobj\u001b[0m\u001b[1;33m.\u001b[0m\u001b[0mdemo\u001b[0m\u001b[1;33m(\u001b[0m\u001b[1;33m)\u001b[0m\u001b[1;33m\u001b[0m\u001b[1;33m\u001b[0m\u001b[0m\n\u001b[1;32m---> 17\u001b[1;33m \u001b[0mobj\u001b[0m\u001b[1;33m.\u001b[0m\u001b[0m__display\u001b[0m\u001b[1;33m(\u001b[0m\u001b[1;33m)\u001b[0m \u001b[1;31m# cannot call the private outside the class\u001b[0m\u001b[1;33m\u001b[0m\u001b[1;33m\u001b[0m\u001b[0m\n\u001b[0m",
      "\u001b[1;31mAttributeError\u001b[0m: 'My_class' object has no attribute '__display'"
     ]
    }
   ],
   "source": [
    "class My_class:\n",
    "    def __init__(self,name,sal):\n",
    "        self.name=name\n",
    "        self.sal=sal\n",
    "        self.__display()\n",
    "        #we can make any method \"private \" by following it with ( __)\n",
    "        \n",
    "    def __display(self):\n",
    "        print(f'{self.name} and salary is {self.sal}')\n",
    "    \n",
    "    def demo(self):\n",
    "        print(\"display method called !!\")\n",
    "        self.__display()\n",
    "        \n",
    "obj=My_class(\"pankaj\",1000)\n",
    "obj.demo()\n",
    "obj.__display() # cannot call the private outside the class"
   ]
  },
  {
   "cell_type": "markdown",
   "metadata": {},
   "source": [
    "# note**"
   ]
  },
  {
   "cell_type": "raw",
   "metadata": {},
   "source": [
    "private method can be called  inside the  class only  .\n",
    "\n",
    "let say the method which has accessibility outside the class :\n",
    "\n",
    "example construrctor or any method inside the class\n",
    "\n",
    "NOTE: also the private cannot be called outside the class"
   ]
  },
  {
   "cell_type": "code",
   "execution_count": null,
   "metadata": {},
   "outputs": [],
   "source": []
  }
 ],
 "metadata": {
  "kernelspec": {
   "display_name": "Python 3",
   "language": "python",
   "name": "python3"
  },
  "language_info": {
   "codemirror_mode": {
    "name": "ipython",
    "version": 3
   },
   "file_extension": ".py",
   "mimetype": "text/x-python",
   "name": "python",
   "nbconvert_exporter": "python",
   "pygments_lexer": "ipython3",
   "version": "3.8.5"
  }
 },
 "nbformat": 4,
 "nbformat_minor": 4
}
