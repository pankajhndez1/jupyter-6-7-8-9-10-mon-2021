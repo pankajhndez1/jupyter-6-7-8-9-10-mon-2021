{
 "cells": [
  {
   "cell_type": "markdown",
   "metadata": {},
   "source": [
    "# threading revision !!!"
   ]
  },
  {
   "cell_type": "code",
   "execution_count": 8,
   "metadata": {},
   "outputs": [
    {
     "name": "stdout",
     "output_type": "stream",
     "text": [
      "geekyshows\n",
      "MainThread\n"
     ]
    }
   ],
   "source": [
    "import threading\n",
    "\n",
    "t=threading.current_thread().getName()\n",
    "\n",
    "print('geekyshows')\n",
    "\n",
    "print(t)"
   ]
  },
  {
   "cell_type": "code",
   "execution_count": 27,
   "metadata": {},
   "outputs": [
    {
     "name": "stdout",
     "output_type": "stream",
     "text": [
      "child thread is runnning and the values are 10 and  20\n",
      "main thread running !!\n",
      "main thread running !!\n",
      "main thread running !!\n",
      "main thread running !!\n",
      "main thread running !!\n"
     ]
    }
   ],
   "source": [
    "# program 1\n",
    "from threading import Thread\n",
    "\n",
    "def disp(a,b):\n",
    "    print(\"child thread is runnning and the values are\",a ,\"and \",b)\n",
    "t=Thread(target=disp(10,20))\n",
    "t.start()\n",
    "\n",
    "def my_func():\n",
    "    print('main thread running !!')\n",
    "\n",
    "for i in range(5):\n",
    "    t1=Thread(target=my_func)\n",
    "    t1.start()"
   ]
  },
  {
   "cell_type": "code",
   "execution_count": 2,
   "metadata": {},
   "outputs": [
    {
     "name": "stdout",
     "output_type": "stream",
     "text": [
      "child thread is runnning and the values are 10 and  20\n",
      "child thread is runnning and the values are 10 and  20\n",
      "child thread is runnning and the values are 10 and  20\n",
      "child thread is runnning and the values are 10 and  20\n",
      "child thread is runnning and the values are 10 and  20\n",
      "main thread running !!main thread running !!\n",
      "\n",
      "main thread running !!\n",
      "main thread running !!\n",
      "main thread running !!\n"
     ]
    }
   ],
   "source": [
    "#program 2\n",
    "from threading import Thread\n",
    "\n",
    "def disp(a,b):\n",
    "    print(\"child thread is runnning and the values are\",a ,\"and \",b)\n",
    "\n",
    "for i in range(5):\n",
    "    t=Thread(target=disp(10,20))\n",
    "    t.start()\n",
    "\n",
    "def my_func():\n",
    "    print('main thread running !!')\n",
    "\n",
    "for i in range(5):\n",
    "    t1=Thread(target=my_func)\n",
    "    t1.start()"
   ]
  },
  {
   "cell_type": "code",
   "execution_count": 4,
   "metadata": {},
   "outputs": [
    {
     "name": "stdout",
     "output_type": "stream",
     "text": [
      "child thread running !!!\n",
      "child thread running !!!child thread running !!!\n",
      "\n",
      "child thread running !!!\n",
      "child thread running !!!child thread running !!!\n",
      "child thread running !!!\n",
      "\n",
      "child thread running !!!\n",
      "child thread running !!!child thread running !!!\n",
      "main thread running !!!\n",
      "main thread running !!!\n",
      "main thread running !!!\n",
      "main thread running !!!\n",
      "main thread running !!!\n",
      "main thread running !!!\n",
      "main thread running !!!\n",
      "main thread running !!!\n",
      "main thread running !!!\n",
      "main thread running !!!\n",
      "\n"
     ]
    }
   ],
   "source": [
    "#program\n",
    "\n",
    "from threading import Thread\n",
    "\n",
    "def my_method(a):\n",
    "    print(\"child thread running !!!\")\n",
    "for i in range(10):\n",
    "    t=Thread(target=my_method ,args=(10,))\n",
    "    t.start()\n",
    "\n",
    "for i in range(10):\n",
    "    print(\"main thread running !!!\")"
   ]
  },
  {
   "cell_type": "raw",
   "metadata": {},
   "source": [
    "getName and setName "
   ]
  },
  {
   "cell_type": "code",
   "execution_count": 14,
   "metadata": {},
   "outputs": [
    {
     "name": "stdout",
     "output_type": "stream",
     "text": [
      "default name of thread and it's id is   <Thread(Thread-51, started 6696)>\n"
     ]
    }
   ],
   "source": [
    "from threading import Thread,current_thread\n",
    "\n",
    "def disp():\n",
    "    print(\"default name of thread and it's id is  \",current_thread())\n",
    "t=Thread(target=disp)\n",
    "t.start()\n",
    "\n"
   ]
  },
  {
   "cell_type": "code",
   "execution_count": 25,
   "metadata": {},
   "outputs": [
    {
     "name": "stdout",
     "output_type": "stream",
     "text": [
      "default name default main thread here is  Hey thread\n",
      "new main is  Hey thread\n",
      " Thread-62\n",
      "new name   pankaj thread\n"
     ]
    }
   ],
   "source": [
    "from threading import Thread,current_thread\n",
    "\n",
    "def disp():\n",
    "    print(\"default name \",current_thread().getName())\n",
    "    current_thread().setName(\"pankaj thread\")\n",
    "    print(\"new name  \",current_thread().getName())\n",
    "\n",
    "t=Thread(target=disp)\n",
    "t.start()\n",
    "\n",
    "print(\"default main thread here is \",current_thread().getName())\n",
    "current_thread().setName('Hey thread')\n",
    "print(\"new main is \",current_thread().getName())\n"
   ]
  },
  {
   "cell_type": "code",
   "execution_count": 30,
   "metadata": {},
   "outputs": [
    {
     "name": "stdout",
     "output_type": "stream",
     "text": [
      "default name  of child thread is  Thread-67\n",
      "new name of child thread new  CHILD  thread\n"
     ]
    }
   ],
   "source": [
    "from threading import Thread,current_thread\n",
    "\n",
    "def disp():\n",
    "    print(\"default name  of child thread is \",current_thread().name)\n",
    "    current_thread().name='new  CHILD  thread'\n",
    "    print(\"new name of child thread\",current_thread().name)\n",
    "    \n",
    "t=Thread(target=disp)\n",
    "t.start()"
   ]
  },
  {
   "cell_type": "raw",
   "metadata": {},
   "source": [
    "note we can change the name of the thread outside the class too !!"
   ]
  },
  {
   "cell_type": "code",
   "execution_count": 31,
   "metadata": {},
   "outputs": [
    {
     "name": "stdout",
     "output_type": "stream",
     "text": [
      "child thread name is  Thread-68\n"
     ]
    }
   ],
   "source": [
    "from threading import Thread\n",
    "\n",
    "def disp():\n",
    "    print(\"child thread name is \",t.name)\n",
    "    \n",
    "t=Thread(target=disp)\n",
    "t.start()\n",
    "    "
   ]
  },
  {
   "cell_type": "code",
   "execution_count": 34,
   "metadata": {},
   "outputs": [
    {
     "name": "stdout",
     "output_type": "stream",
     "text": [
      "here the thread name is  Thread-71\n",
      "new name  of the thread is  pankaj thread\n"
     ]
    }
   ],
   "source": [
    "from threading import Thread\n",
    "\n",
    "def disp():\n",
    "    pass\n",
    "    \n",
    "t=Thread(target=disp)\n",
    "print(\"here the thread name is \",t.name)   # here at o/p we will not see the thread name as main thread as we are working with\n",
    "t.name=\"pankaj thread\"                     # our created thread's object !!\n",
    "print('new name  of the thread is ', t.name)"
   ]
  },
  {
   "cell_type": "markdown",
   "metadata": {},
   "source": [
    "# renaming of the thread while creating the thread !!"
   ]
  },
  {
   "cell_type": "code",
   "execution_count": 37,
   "metadata": {},
   "outputs": [
    {
     "name": "stdout",
     "output_type": "stream",
     "text": [
      " the thread name is  pankaj thread\n"
     ]
    }
   ],
   "source": [
    "from threading import Thread,current_thread\n",
    "\n",
    "def disp():\n",
    "    print(' the thread name is ',current_thread().name)\n",
    "\n",
    "t=Thread(target=disp,name='pankaj thread')\n",
    "t.start()"
   ]
  },
  {
   "cell_type": "markdown",
   "metadata": {},
   "source": [
    "# 47. creating thread by creating child class to thread class"
   ]
  },
  {
   "cell_type": "code",
   "execution_count": 39,
   "metadata": {},
   "outputs": [
    {
     "name": "stdout",
     "output_type": "stream",
     "text": [
      "run method running !! \n"
     ]
    }
   ],
   "source": [
    "from threading import Thread\n",
    "\n",
    "class Myclass(Thread):\n",
    "    def run(self):\n",
    "        print('run method running !! ')\n",
    "t=Myclass()\n",
    "t.start()\n"
   ]
  },
  {
   "cell_type": "code",
   "execution_count": 50,
   "metadata": {},
   "outputs": [
    {
     "name": "stdout",
     "output_type": "stream",
     "text": [
      "child threadmain thread\n",
      "main thread\n",
      "main thread\n",
      "main thread\n",
      "main thread\n",
      "child thread\n",
      "child thread\n",
      "child thread\n",
      "child thread\n",
      "\n"
     ]
    }
   ],
   "source": [
    "from threading import Thread\n",
    "\n",
    "class Myclass(Thread):\n",
    "    def run(self):\n",
    "        for i in range(5):\n",
    "            print('child thread')\n",
    "t=Myclass()\n",
    "t.start()\n",
    "for i in range (5):\n",
    "    print(\"main thread\")"
   ]
  },
  {
   "cell_type": "code",
   "execution_count": 49,
   "metadata": {},
   "outputs": [
    {
     "name": "stdout",
     "output_type": "stream",
     "text": [
      "child thread\n",
      "child thread\n",
      "child thread\n",
      "child thread\n",
      "child thread\n",
      "main thread\n",
      "main thread\n",
      "main thread\n",
      "main thread\n",
      "main thread\n"
     ]
    }
   ],
   "source": [
    "from threading import Thread\n",
    "\n",
    "class Myclass(Thread):\n",
    "    def run(self):\n",
    "        for i in range (5):\n",
    "            print(\"child thread\")\n",
    "t=Myclass()\n",
    "t.start()\n",
    "t.join()\n",
    "for i in range(5):\n",
    "    print(\"main thread\")"
   ]
  },
  {
   "cell_type": "code",
   "execution_count": 53,
   "metadata": {},
   "outputs": [
    {
     "name": "stdout",
     "output_type": "stream",
     "text": [
      " child class constructor called !!  10\n"
     ]
    }
   ],
   "source": [
    "from threading import Thread\n",
    "\n",
    "class Myclass(Thread):\n",
    "    def __init__(self,a):\n",
    "        Thread.__init__(self)\n",
    "        print(\" child class constructor called !! \",a)\n",
    "    def run(self):\n",
    "        pass\n",
    "    \n",
    "t=Myclass(10)\n",
    "t.start()\n"
   ]
  },
  {
   "cell_type": "markdown",
   "metadata": {},
   "source": [
    "# 49. creating a thread without creating child class to thread class"
   ]
  },
  {
   "cell_type": "code",
   "execution_count": 58,
   "metadata": {},
   "outputs": [
    {
     "name": "stdout",
     "output_type": "stream",
     "text": [
      "child class \n"
     ]
    }
   ],
   "source": [
    "from threading import Thread\n",
    "\n",
    "class Myclass:\n",
    "    def disp(self,a):\n",
    "        print(\"child class \")\n",
    "myt=Myclass()\n",
    "t=Thread(target=myt.disp,args=(10,))\n",
    "t.start()"
   ]
  },
  {
   "cell_type": "markdown",
   "metadata": {},
   "source": [
    "# 50. single tasking using a thread"
   ]
  },
  {
   "cell_type": "code",
   "execution_count": 3,
   "metadata": {},
   "outputs": [
    {
     "name": "stdout",
     "output_type": "stream",
     "text": [
      "ques 1 solved\n",
      "ques 2 solved\n",
      "ques 3 solved\n"
     ]
    }
   ],
   "source": [
    "from threading import Thread\n",
    "from time import sleep\n",
    "\n",
    "class Myclass:\n",
    "    def disp(self):\n",
    "        self.q1()\n",
    "        sleep(3)\n",
    "        self.q2()\n",
    "        sleep(3)\n",
    "        self.q3()\n",
    "    def q1(self):\n",
    "        print(\"ques 1 solved\")\n",
    "    def q2(self):\n",
    "        print(\"ques 2 solved\")\n",
    "    def q3(self):\n",
    "        print(\"ques 3 solved\")\n",
    "obj=Myclass()\n",
    "t=Thread(target=obj.disp)\n",
    "t.start()\n",
    "        "
   ]
  },
  {
   "cell_type": "markdown",
   "metadata": {},
   "source": [
    "# 51. multitasking using multiple thread"
   ]
  },
  {
   "cell_type": "code",
   "execution_count": 24,
   "metadata": {},
   "outputs": [
    {
     "name": "stdout",
     "output_type": "stream",
     "text": [
      "take order from table number 1\n",
      "take order from table number 2\n",
      "take order from table number 3\n",
      "take order from table number 4\n",
      "take order from table number 5\n",
      "serve order to table number 1\n",
      "serve order to table number 2\n",
      "serve order to table number 3\n",
      "serve order to table number 4\n",
      "serve order to table number 5\n"
     ]
    }
   ],
   "source": [
    "from threading import  Thread\n",
    "\n",
    "class Myclass:\n",
    "    def __init__(self,a):\n",
    "        self.a=a\n",
    "    def disp(self):\n",
    "        for i in range(1,6):\n",
    "            print(self.a,i)\n",
    "obj=Myclass('take order from table number')\n",
    "obj2=Myclass('serve order to table number')\n",
    "\n",
    "t1=Thread(target=obj.disp)\n",
    "t2=Thread(target=obj2.disp)\n",
    "t1.start()\n",
    "t2.start()"
   ]
  },
  {
   "cell_type": "markdown",
   "metadata": {},
   "source": [
    "# plane ticket program"
   ]
  },
  {
   "cell_type": "code",
   "execution_count": 56,
   "metadata": {},
   "outputs": [
    {
     "name": "stdout",
     "output_type": "stream",
     "text": [
      "the available number of seats are : 1\n",
      "pankaj needs 1 seats\n",
      "1 allocate to  pankaj\n",
      "now the available number of seats are:  -1\n",
      "sorry seats are not available !!\n"
     ]
    }
   ],
   "source": [
    "from threading import Thread, current_thread\n",
    "\n",
    "\n",
    "class Myclass:\n",
    "    def __init__(self, available_seats):\n",
    "        self.available_seats = available_seats\n",
    "        print(\"the available number of seats are :\", self.available_seats)\n",
    "\n",
    "    def reserving(self, need_seats):\n",
    "        if self.available_seats >= need_seats:\n",
    "            print(current_thread().getName(), 'needs', need_seats, 'seats')\n",
    "            print(need_seats, 'allocate to ', current_thread().getName())\n",
    "            self.available_seats = -need_seats\n",
    "            print('now the available number of seats are: ', self.available_seats)\n",
    "\n",
    "        else:\n",
    "            print('sorry seats are not available !!')\n",
    "\n",
    "\n",
    "obj = Myclass(1)\n",
    "t = Thread(target=obj.reserving, args=(1,), name='pankaj')\n",
    "t.start()\n",
    "\n",
    "\n",
    "t1 = Thread(target=obj.reserving, args=(1,), name='rohit')\n",
    "t1.start()\n"
   ]
  },
  {
   "cell_type": "code",
   "execution_count": 53,
   "metadata": {},
   "outputs": [
    {
     "name": "stdout",
     "output_type": "stream",
     "text": [
      "available seats right now is  2\n",
      "seats are available for  pankaj\n",
      "now the available no. of seats are  1\n",
      "seats are available for  rohit\n",
      "now the available no. of seats are  0\n",
      "sorry seats are not available !!main thread\n",
      "\n"
     ]
    }
   ],
   "source": [
    "from threading import Thread,current_thread,Lock\n",
    "from time  import sleep\n",
    "\n",
    "class Airplane:\n",
    "    def __init__(self,available_seats):\n",
    "        self.available_seats=available_seats\n",
    "        print(\"available seats right now is \",self.available_seats)\n",
    "        self.l=Lock()\n",
    "    def reserving(self,need_seats):\n",
    "        self.l.acquire()\n",
    "        if self.available_seats>=need_seats:\n",
    "            print('seats are available for ',current_thread().getName())\n",
    "            self.available_seats-=need_seats\n",
    "            print(\"now the available no. of seats are \",self.available_seats)\n",
    "        else:\n",
    "            print('sorry seats are not available !!')\n",
    "        self.l.release()\n",
    "obj=Airplane(2)\n",
    "t1=Thread(target=obj.reserving, args=(1,),name='pankaj')\n",
    "t2=Thread(target=obj.reserving, args=(1,),name='rohit')\n",
    "t3=Thread(target=obj.reserving, args=(1,),name='jignesh')\n",
    "t1.start()\n",
    "t2.start()\n",
    "t3.start()\n",
    "print(\"main thread\")\n"
   ]
  },
  {
   "cell_type": "code",
   "execution_count": 66,
   "metadata": {},
   "outputs": [
    {
     "name": "stdout",
     "output_type": "stream",
     "text": [
      "the no. of seats available ryt now are 2\n",
      "seats are avilable for  himanshu\n",
      "now total seats left are -1\n",
      "sorry no seats are available for  pankaj\n",
      "sorry no seats are available for  kabir\n"
     ]
    }
   ],
   "source": [
    "from threading import *\n",
    "\n",
    "class Myclass:\n",
    "    def __init__(self,available_seats):\n",
    "        self.available_seats=available_seats\n",
    "        print(\"the no. of seats available ryt now are\",self.available_seats)\n",
    "        self.l=RLock()\n",
    "\n",
    "    def reserving(self,need_seats):\n",
    "        self.l.acquire()\n",
    "        if self.available_seats>=need_seats:\n",
    "            print(\"seats are avilable for \",current_thread().getName())\n",
    "            self.available_seats=-need_seats\n",
    "            print(\"now total seats left are\",self.available_seats)\n",
    "        else:\n",
    "            print(\"sorry no seats are available for \",current_thread().getName())\n",
    "        self.l.release()\n",
    "obj=Myclass(2)\n",
    "t1=Thread(target=obj.reserving,args=(1,),name=\"himanshu\")\n",
    "t2=Thread(target=obj.reserving,args=(1,),name=\"pankaj\")\n",
    "t3=Thread(target=obj.reserving,args=(1,),name=\"kabir\")\n",
    "t1.start()\n",
    "t2.start()\n",
    "t3.start()\n",
    "t1.join()\n",
    "t2.join()\n",
    "t3.join()\n"
   ]
  },
  {
   "cell_type": "code",
   "execution_count": null,
   "metadata": {},
   "outputs": [],
   "source": []
  }
 ],
 "metadata": {
  "kernelspec": {
   "display_name": "Python 3",
   "language": "python",
   "name": "python3"
  },
  "language_info": {
   "codemirror_mode": {
    "name": "ipython",
    "version": 3
   },
   "file_extension": ".py",
   "mimetype": "text/x-python",
   "name": "python",
   "nbconvert_exporter": "python",
   "pygments_lexer": "ipython3",
   "version": "3.8.5"
  }
 },
 "nbformat": 4,
 "nbformat_minor": 4
}
