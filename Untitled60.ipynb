{
 "cells": [
  {
   "cell_type": "raw",
   "metadata": {},
   "source": [
    "rough"
   ]
  },
  {
   "cell_type": "code",
   "execution_count": 4,
   "metadata": {},
   "outputs": [
    {
     "name": "stdout",
     "output_type": "stream",
     "text": [
      "enter the value of n=1\n",
      "enter the value of c=1\n",
      "pankaj kumar "
     ]
    }
   ],
   "source": [
    "n=int(input(\"enter the value of n=\"))\n",
    "c=int(input(\"enter the value of c=\"))\n",
    "\n",
    "while n>0:\n",
    "    print(\"pankaj\",end=\" \")\n",
    "    n=n-1\n",
    "    \n",
    "while c>0:\n",
    "    print(\"kumar\",end=\" \")\n",
    "    c=c-1"
   ]
  },
  {
   "cell_type": "code",
   "execution_count": null,
   "metadata": {},
   "outputs": [],
   "source": []
  }
 ],
 "metadata": {
  "kernelspec": {
   "display_name": "Python 3",
   "language": "python",
   "name": "python3"
  },
  "language_info": {
   "codemirror_mode": {
    "name": "ipython",
    "version": 3
   },
   "file_extension": ".py",
   "mimetype": "text/x-python",
   "name": "python",
   "nbconvert_exporter": "python",
   "pygments_lexer": "ipython3",
   "version": "3.8.5"
  }
 },
 "nbformat": 4,
 "nbformat_minor": 4
}
