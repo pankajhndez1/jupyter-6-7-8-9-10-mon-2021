{
 "cells": [
  {
   "cell_type": "code",
   "execution_count": 31,
   "metadata": {},
   "outputs": [
    {
     "data": {
      "text/plain": [
       "'C:\\\\Users\\\\hp\\\\mydir'"
      ]
     },
     "execution_count": 31,
     "metadata": {},
     "output_type": "execute_result"
    }
   ],
   "source": [
    "pwd"
   ]
  },
  {
   "cell_type": "raw",
   "metadata": {},
   "source": [
    "cwd (current working directory)"
   ]
  },
  {
   "cell_type": "code",
   "execution_count": 32,
   "metadata": {},
   "outputs": [
    {
     "name": "stdout",
     "output_type": "stream",
     "text": [
      "C:\\Users\\hp\n"
     ]
    }
   ],
   "source": [
    "cd"
   ]
  },
  {
   "cell_type": "markdown",
   "metadata": {},
   "source": [
    "# Directory"
   ]
  },
  {
   "cell_type": "raw",
   "metadata": {},
   "source": [
    "os module – This module is used to perform simple operation on directories. This module represents operating system dependent functionality.\n",
    "\n",
    "import os"
   ]
  },
  {
   "cell_type": "markdown",
   "metadata": {},
   "source": [
    "# • getcwd()"
   ]
  },
  {
   "cell_type": "raw",
   "metadata": {},
   "source": [
    "• getcwd() – This method is used to know the currently working directory.\n",
    "\n",
    "Syntax:- os.getcwd()"
   ]
  },
  {
   "cell_type": "code",
   "execution_count": 33,
   "metadata": {},
   "outputs": [
    {
     "name": "stdout",
     "output_type": "stream",
     "text": [
      "C:\\Users\\hp\n"
     ]
    }
   ],
   "source": [
    "import os\n",
    "\n",
    "print(os.getcwd())"
   ]
  },
  {
   "cell_type": "markdown",
   "metadata": {},
   "source": [
    "# • mkdir(‘dirname’)"
   ]
  },
  {
   "cell_type": "raw",
   "metadata": {},
   "source": [
    "• mkdir(‘dirname’) – This method is used to create a directory in the present directory. \n",
    "\n",
    "Syntax:- os.mkdir(‘dirname’)"
   ]
  },
  {
   "cell_type": "code",
   "execution_count": 37,
   "metadata": {},
   "outputs": [],
   "source": [
    "import os\n",
    "\n",
    "os.mkdir(\"parentsdirs\")"
   ]
  },
  {
   "cell_type": "markdown",
   "metadata": {},
   "source": [
    "# • mkdir(‘parentdirname/childdirname’)"
   ]
  },
  {
   "cell_type": "raw",
   "metadata": {},
   "source": [
    "• mkdir(‘parentdirname/childdirname’) – This method is used to create a child directory in the parent directory. Parent directory must be exist else it will show error.\n",
    "\n",
    "Syntax:- os.mkdir(‘parentdirname/childdirname’)"
   ]
  },
  {
   "cell_type": "code",
   "execution_count": 38,
   "metadata": {},
   "outputs": [],
   "source": [
    "import os\n",
    "\n",
    "os.mkdir(\"parentdirs/childdir\")"
   ]
  },
  {
   "cell_type": "markdown",
   "metadata": {},
   "source": [
    "# • makedirs(‘parentdir/childdir/grandchilddir’)"
   ]
  },
  {
   "cell_type": "raw",
   "metadata": {},
   "source": [
    "• makedirs(‘parentdir/childdir/grandchilddir’) – This method is used to recursively create sub directories. \n",
    "\n",
    "Syntax:- os.makedirs(‘parentdir/childdir/grandchilddir’)\n"
   ]
  },
  {
   "cell_type": "code",
   "execution_count": 39,
   "metadata": {},
   "outputs": [],
   "source": [
    "import os\n",
    "\n",
    "os.mkdir(\"parentdirs/childdir/grandchilddir\")"
   ]
  },
  {
   "cell_type": "markdown",
   "metadata": {},
   "source": [
    "# • chdir(‘dirname’)"
   ]
  },
  {
   "cell_type": "raw",
   "metadata": {},
   "source": [
    "• chdir(‘dirname’) – This method is used to change current working directory.\n",
    "\n",
    "Syntax:- os.chdir(‘dirname’)"
   ]
  },
  {
   "cell_type": "code",
   "execution_count": 40,
   "metadata": {},
   "outputs": [
    {
     "name": "stdout",
     "output_type": "stream",
     "text": [
      "C:\\Users\\hp\n",
      "C:\\Users\\hp\\mydir\n"
     ]
    }
   ],
   "source": [
    "import os\n",
    "print(os.getcwd())  \n",
    "os.chdir(\"mydir\")\n",
    "print(os.getcwd())\n",
    "\n"
   ]
  },
  {
   "cell_type": "raw",
   "metadata": {},
   "source": [
    "note :note we can only change the directory inside the hp !!  i.e (C:\\Users\\hp)\n",
    "initially our directory was   C:\\Users\\hp   and   now our directory is   C:\\Users\\hp\\mydir\n",
    "now if we create any file , then the file automatically get produced inside the mydir !!"
   ]
  },
  {
   "cell_type": "markdown",
   "metadata": {},
   "source": [
    "# • rename(‘oldname’, ‘newname’)"
   ]
  },
  {
   "cell_type": "raw",
   "metadata": {},
   "source": [
    "• rename(‘oldname’, ‘newname’) – This method is used to change the directory name.\n",
    "\n",
    "Syntax:- os.rename(‘oldname’, ‘newname’)"
   ]
  },
  {
   "cell_type": "code",
   "execution_count": 58,
   "metadata": {},
   "outputs": [
    {
     "name": "stdout",
     "output_type": "stream",
     "text": [
      "C:\\Users\\hp\n"
     ]
    }
   ],
   "source": [
    "cd"
   ]
  },
  {
   "cell_type": "code",
   "execution_count": 60,
   "metadata": {},
   "outputs": [],
   "source": [
    "import os\n",
    "os.mkdir(\"createdir\")"
   ]
  },
  {
   "cell_type": "code",
   "execution_count": 63,
   "metadata": {},
   "outputs": [],
   "source": [
    "import os\n",
    "os.rename(\"createdir\",\"newnamedir\")"
   ]
  },
  {
   "cell_type": "markdown",
   "metadata": {},
   "source": [
    "# • rmdir(‘dirname’)"
   ]
  },
  {
   "cell_type": "raw",
   "metadata": {},
   "source": [
    "• rmdir(‘dirname’) – This method is used to remove a directory from the current working directory. We can also specify path for directory. \n",
    "\n",
    "Syntax:- os.rmdir(‘dirname’), os.rmdir(‘parentdirname/childdirname’)"
   ]
  },
  {
   "cell_type": "markdown",
   "metadata": {},
   "source": [
    "# note***"
   ]
  },
  {
   "cell_type": "raw",
   "metadata": {},
   "source": [
    "import os\n",
    "os.rmdir('newdir')              # It will remove newdir\n",
    "os.rmdir('yourdir/mychilddir')  # note # It will remove only mychilddir"
   ]
  },
  {
   "cell_type": "code",
   "execution_count": 64,
   "metadata": {},
   "outputs": [],
   "source": [
    "import os\n",
    "\n",
    "os.rmdir(\"newnamedir\")"
   ]
  },
  {
   "cell_type": "markdown",
   "metadata": {},
   "source": [
    "# • removedirs(‘dirname’)"
   ]
  },
  {
   "cell_type": "raw",
   "metadata": {},
   "source": [
    "• removedirs(‘dirname’) – This method is used to recursively remove all directories. \n",
    "\n",
    "Syntax:- os.removedirs(‘parentdirname/childdirname’)"
   ]
  },
  {
   "cell_type": "raw",
   "metadata": {},
   "source": [
    "import os\n",
    "os.removedirs('parentdirs/childdir/grandchilddir')    # it will remove all mentioned directories"
   ]
  },
  {
   "cell_type": "markdown",
   "metadata": {},
   "source": [
    "# • walk()"
   ]
  },
  {
   "cell_type": "raw",
   "metadata": {},
   "source": [
    "• walk() – This method is used to know contents of a directory including sub directory. It returns an iterator object whose contents can be displayed using for loop. This iterator object contains directory path, directoryname, filename found in the specified directory\n",
    "\n",
    "\n",
    "Syntax:- os.walk(path, topdown=True, onerror=None, followlinks=False)"
   ]
  },
  {
   "cell_type": "raw",
   "metadata": {},
   "source": [
    "• path – It represents the directory name. we can write dot (.) to specify current directory.\n",
    "\n",
    "• topdown – If it is True the directory and its sub directories are traversed in top-down manner. If it is False then the directory and its sub directories are traversed in bottom-up manner.\n",
    "\n",
    "• onerror – It represents what to do when an error is detected. We can give a function.\n",
    "\n",
    "• followlinks – True to visit directories pointed to by symbolic links, on system that support them. If False walk() will not walk down into symbolic links that resolve to directories."
   ]
  },
  {
   "cell_type": "code",
   "execution_count": 71,
   "metadata": {},
   "outputs": [],
   "source": [
    "import os\n",
    "\n",
    "os.chdir(\"newdirs\")"
   ]
  },
  {
   "cell_type": "code",
   "execution_count": 72,
   "metadata": {},
   "outputs": [
    {
     "data": {
      "text/plain": [
       "'C:\\\\Users\\\\hp\\\\newdirs'"
      ]
     },
     "execution_count": 72,
     "metadata": {},
     "output_type": "execute_result"
    }
   ],
   "source": [
    "pwd"
   ]
  },
  {
   "cell_type": "code",
   "execution_count": 77,
   "metadata": {},
   "outputs": [
    {
     "name": "stdout",
     "output_type": "stream",
     "text": [
      "('.', ['mydir', 'x', 'y'], [])\n",
      "('.\\\\mydir', ['a'], [])\n",
      "('.\\\\mydir\\\\a', [], ['file in a.txt'])\n",
      "('.\\\\x', [], ['file in x.txt'])\n",
      "('.\\\\y', [], ['file in y.txt'])\n"
     ]
    }
   ],
   "source": [
    "import os\n",
    "w=os.walk(\".\")  # \".\" represents newdirs i.e current directory\n",
    "for i in w:\n",
    "    print(i)"
   ]
  },
  {
   "cell_type": "raw",
   "metadata": {},
   "source": [
    "# note  ('.'  represents directory path i.e  newdirs,   ['mydir', 'x', 'y']  represents directory names, [] represents file names )\n",
    "\n",
    "'.\\\\mydir represents , that it searched '.\\\\mydir this directory and found this ['a'] directory in it and (, []) represents it has found no file in it !!\n",
    "\n",
    "('.\\\\mydir\\\\a', [],['file in a.txt'])) represents that it has now searched inside \\\\a, and only one file 'file in a.txt' found in it .\n",
    "\n",
    "so (\\\\) means it has searched that particular directory before which \\\\ has written !!"
   ]
  },
  {
   "cell_type": "code",
   "execution_count": null,
   "metadata": {},
   "outputs": [],
   "source": []
  }
 ],
 "metadata": {
  "kernelspec": {
   "display_name": "Python 3",
   "language": "python",
   "name": "python3"
  },
  "language_info": {
   "codemirror_mode": {
    "name": "ipython",
    "version": 3
   },
   "file_extension": ".py",
   "mimetype": "text/x-python",
   "name": "python",
   "nbconvert_exporter": "python",
   "pygments_lexer": "ipython3",
   "version": "3.8.5"
  }
 },
 "nbformat": 4,
 "nbformat_minor": 4
}
