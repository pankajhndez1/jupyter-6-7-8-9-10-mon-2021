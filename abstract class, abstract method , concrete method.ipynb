{
 "cells": [
  {
   "cell_type": "markdown",
   "metadata": {},
   "source": [
    "# Abstract class:-\n"
   ]
  },
  {
   "cell_type": "raw",
   "metadata": {},
   "source": [
    "A class derived from ABC class which belongs to abc module is known as abstract  class in python.\n",
    "\n",
    "ABC class is also known as meta class that defines the the behaviour of other classes. So we can say , Meta class ABC defines that the class which is derived from it becomes an abstract class\n",
    "\n",
    "Abstract class can have abstract method and concerete methods\n",
    "\n",
    "a concrete method is a method whose action is defined in the abstract class itself.\n",
    "\n",
    "if there is an abstract method in a class that class must be abstract.\n",
    "\n",
    "pvm (python virtual machine) cannot  create objects of an abstract class\n",
    "\n",
    "it is not necessary to declare  all methods abstract in a abstract class\n",
    "\n"
   ]
  },
  {
   "cell_type": "code",
   "execution_count": 1,
   "metadata": {},
   "outputs": [
    {
     "name": "stdout",
     "output_type": "stream",
     "text": [
      "child class\n",
      "defining abstract method\n",
      "concrete method\n"
     ]
    }
   ],
   "source": [
    "from abc import ABC , abstractmethod\n",
    "\n",
    "class Father(ABC):   # abstract classs\n",
    "    @abstractmethod\n",
    "    def disp(self):  # abstact method\n",
    "        pass\n",
    "    def show(self): # concrete method\n",
    "        print(\"concrete method\")\n",
    "        \n",
    "class child(Father):\n",
    "    def disp(self):      # abstract method definition\n",
    "        print(\"child class\")\n",
    "        print(\"defining abstract method\")\n",
    "        \n",
    "        \n",
    "c=child()\n",
    "c.disp()\n",
    "c.show()"
   ]
  },
  {
   "cell_type": "raw",
   "metadata": {},
   "source": [
    "NOTE : we cannot make abstract class object"
   ]
  },
  {
   "cell_type": "code",
   "execution_count": 3,
   "metadata": {},
   "outputs": [
    {
     "ename": "TypeError",
     "evalue": "Can't instantiate abstract class Father with abstract methods disp",
     "output_type": "error",
     "traceback": [
      "\u001b[1;31m---------------------------------------------------------------------------\u001b[0m",
      "\u001b[1;31mTypeError\u001b[0m                                 Traceback (most recent call last)",
      "\u001b[1;32m<ipython-input-3-45ad6f913021>\u001b[0m in \u001b[0;36m<module>\u001b[1;34m\u001b[0m\n\u001b[0;32m      8\u001b[0m         \u001b[0mprint\u001b[0m\u001b[1;33m(\u001b[0m\u001b[1;34m\"concrete method\"\u001b[0m\u001b[1;33m)\u001b[0m\u001b[1;33m\u001b[0m\u001b[1;33m\u001b[0m\u001b[0m\n\u001b[0;32m      9\u001b[0m \u001b[1;33m\u001b[0m\u001b[0m\n\u001b[1;32m---> 10\u001b[1;33m \u001b[0mmy\u001b[0m\u001b[1;33m=\u001b[0m\u001b[0mFather\u001b[0m\u001b[1;33m(\u001b[0m\u001b[1;33m)\u001b[0m\u001b[1;33m\u001b[0m\u001b[1;33m\u001b[0m\u001b[0m\n\u001b[0m\u001b[0;32m     11\u001b[0m \u001b[0mmy\u001b[0m\u001b[1;33m.\u001b[0m\u001b[0mdisp\u001b[0m\u001b[1;33m(\u001b[0m\u001b[1;33m)\u001b[0m\u001b[1;33m\u001b[0m\u001b[1;33m\u001b[0m\u001b[0m\n",
      "\u001b[1;31mTypeError\u001b[0m: Can't instantiate abstract class Father with abstract methods disp"
     ]
    }
   ],
   "source": [
    "from abc import ABC , abstractmethod\n",
    "\n",
    "class Father(ABC):   # abstract classs\n",
    "    @abstractmethod\n",
    "    def disp(self):  # abstact method\n",
    "        pass\n",
    "    def show(self): # concrete method\n",
    "        print(\"concrete method\")\n",
    "        \n",
    "my=Father()\n",
    "my.disp()"
   ]
  },
  {
   "cell_type": "code",
   "execution_count": 7,
   "metadata": {},
   "outputs": [
    {
     "name": "stdout",
     "output_type": "stream",
     "text": [
      "child class\n",
      "abstract class's abstract method\n",
      "concrete method\n"
     ]
    }
   ],
   "source": [
    "from abc import ABC\n",
    "\n",
    "class Father(ABC):   #abstract class\n",
    "    @abstractmethod\n",
    "    def disp(self):  # abstract method\n",
    "        pass\n",
    "    def show(self):    # concrete method\n",
    "        print(\"concrete method\")\n",
    "        \n",
    "    \n",
    "class Child(Father):\n",
    "    def disp(self):\n",
    "        print(\"child class\")\n",
    "        print(\"abstract class's abstract method\")\n",
    "        \n",
    "c=Child()\n",
    "c.disp()\n",
    "c.show()"
   ]
  },
  {
   "cell_type": "markdown",
   "metadata": {},
   "source": [
    "# example of abstract class and abstractmethod  :\n"
   ]
  },
  {
   "cell_type": "code",
   "execution_count": 15,
   "metadata": {},
   "outputs": [
    {
     "name": "stdout",
     "output_type": "stream",
     "text": [
      "army area is :LAND\n",
      "gun name is : AK47\n",
      "\n",
      "airforce area :AIR\n",
      "gun name is : AK47\n",
      "\n",
      "navy area is : SEA\n",
      "gun name is : AK47\n"
     ]
    }
   ],
   "source": [
    "from abc import ABC \n",
    "\n",
    "class Father(ABC): # abstract class\n",
    "    @abstractmethod\n",
    "    def area(self):\n",
    "        pass\n",
    "    def guns(self):\n",
    "        print(\"gun name is : AK47\")\n",
    "        \n",
    "class Army(Father):     # abstract method definition\n",
    "    def area(self):       \n",
    "        print(\"army area is :LAND\")\n",
    "    \n",
    "class Airforce(Father): # abstract method definition\n",
    "    def area(self):\n",
    "        print(\"airforce area :AIR\")\n",
    "        \n",
    "class Navy(Father):      # abstract method definition\n",
    "    def area(self):\n",
    "        print(\"navy area is : SEA\")\n",
    "        \n",
    "a=Army()\n",
    "a.area()\n",
    "a.guns()\n",
    "        \n",
    "    \n",
    "print()\n",
    "\n",
    "af=Airforce()\n",
    "af.area()\n",
    "af.guns()\n",
    "\n",
    "print()\n",
    "\n",
    "n=Navy()\n",
    "n.area()\n",
    "n.guns()"
   ]
  },
  {
   "cell_type": "markdown",
   "metadata": {},
   "source": [
    "# using constructor in abstract class :"
   ]
  },
  {
   "cell_type": "code",
   "execution_count": 18,
   "metadata": {},
   "outputs": [
    {
     "name": "stdout",
     "output_type": "stream",
     "text": [
      "army area is :LAND 1000\n",
      "gun name is : AK47\n",
      "\n",
      "airforce area :AIR 1000\n",
      "gun name is : AK47\n",
      "\n",
      "navy area is : SEA 1000\n",
      "gun name is : AK47\n"
     ]
    }
   ],
   "source": [
    "from abc import ABC \n",
    "\n",
    "class Father(ABC): # abstract class\n",
    "    def __init__(self):\n",
    "        self.id=1000\n",
    "    @abstractmethod\n",
    "    def area(self):\n",
    "        pass\n",
    "    def guns(self):\n",
    "        print(\"gun name is : AK47\")\n",
    "        \n",
    "class Army(Father):     # abstract method definition\n",
    "    def area(self):       \n",
    "        print(\"army area is :LAND\", self.id)\n",
    "    \n",
    "class Airforce(Father): # abstract method definition\n",
    "    def area(self):\n",
    "        print(\"airforce area :AIR\", self.id)\n",
    "        \n",
    "class Navy(Father):      # abstract method definition\n",
    "    def area(self):\n",
    "        print(\"navy area is : SEA\", self.id)\n",
    "        \n",
    "a=Army()\n",
    "a.area()\n",
    "a.guns()\n",
    "        \n",
    "    \n",
    "print()\n",
    "\n",
    "af=Airforce()\n",
    "af.area()\n",
    "af.guns()\n",
    "\n",
    "print()\n",
    "\n",
    "n=Navy()\n",
    "n.area()\n",
    "n.guns()"
   ]
  },
  {
   "cell_type": "code",
   "execution_count": 11,
   "metadata": {},
   "outputs": [
    {
     "name": "stdout",
     "output_type": "stream",
     "text": [
      "definition of father class abstract method\n",
      "definition of son class abstract method\n"
     ]
    }
   ],
   "source": [
    "from abc import ABC ,abstractmethod\n",
    "\n",
    "class Father(ABC):\n",
    "    @abstractmethod\n",
    "    def absmethod(self):\n",
    "        pass\n",
    "    def concrtmthd(self):\n",
    "        print(\"hiii\")\n",
    "        \n",
    "class Son(ABC):  # so we have not defined the parent class abstractmethod inside the child class then we have to make it as the abstract class\n",
    "    @abstractmethod\n",
    "    def abst(self):\n",
    "        pass\n",
    "        \n",
    "class Fcclass(Father):\n",
    "    def absmethod(self):\n",
    "        print(\"definition of father class abstract method\")\n",
    "class Scclass(Son):\n",
    "    def abst(self):\n",
    "        print(\"definition of son class abstract method\")\n",
    "        \n",
    "fc=Fcclass()\n",
    "sc=Scclass()\n",
    "fc.absmethod()\n",
    "sc.abst()"
   ]
  },
  {
   "cell_type": "markdown",
   "metadata": {},
   "source": [
    "# interface:"
   ]
  },
  {
   "cell_type": "code",
   "execution_count": 26,
   "metadata": {},
   "outputs": [
    {
     "name": "stdout",
     "output_type": "stream",
     "text": [
      "grand child class\n",
      "disp 2 abstract method\n",
      "child class\n",
      "disp1 abstract method\n"
     ]
    }
   ],
   "source": [
    "from abc import ABC \n",
    "\n",
    "class Father(ABC):\n",
    "    @abstractmethod\n",
    "    def disp1(self):\n",
    "        pass\n",
    "    \n",
    "    @abstractmethod\n",
    "    def disp2(self):\n",
    "        pass\n",
    "        \n",
    "        \n",
    "class Child(Father):\n",
    "    \n",
    "    def disp1(self):\n",
    "        print(\"child class\")\n",
    "        print(\"disp1 abstract method\")\n",
    "        \n",
    "class Grandchild(Child):\n",
    "    def disp2(self):\n",
    "        print(\"grand child class\")\n",
    "        print(\"disp 2 abstract method\")\n",
    "        \n",
    "        \n",
    "gc=Grandchild()\n",
    "gc.disp2()\n",
    "gc.disp1()\n",
    "        \n",
    "        "
   ]
  },
  {
   "cell_type": "raw",
   "metadata": {},
   "source": [
    " Q.making our interface with only abstract methods inside it and defining each abtractmethod seprately for different objects\n"
   ]
  },
  {
   "cell_type": "code",
   "execution_count": 38,
   "metadata": {},
   "outputs": [
    {
     "name": "stdout",
     "output_type": "stream",
     "text": [
      "area is land\n",
      "gun is AK43\n",
      "\n",
      "area is air\n",
      "gun is AK41\n",
      "\n",
      "area is sea\n",
      "gun is AK45\n"
     ]
    }
   ],
   "source": [
    "from abc import ABC\n",
    "\n",
    "class Defence(ABC): # abstract class\n",
    "    @abstractmethod\n",
    "    def area(self):    # abstractmethod\n",
    "        pass\n",
    "    def gun(self):    #abstractmethod\n",
    "        pass\n",
    "    \n",
    "    \n",
    "    \n",
    "class Army(Defence):\n",
    "    def area(self):\n",
    "        print(\"area is land\")\n",
    "    def gun(self):      \n",
    "        print(\"gun is AK43\")\n",
    "\n",
    "class Airforce(Defence):\n",
    "    def area(self):\n",
    "        print(\"area is air\")\n",
    "    def gun(self):\n",
    "        print(\"gun is AK41\")\n",
    "        \n",
    "\n",
    "class Navy(Defence):\n",
    "    def area(self):\n",
    "        print(\"area is sea\")\n",
    "    def gun(self):\n",
    "        print(\"gun is AK45\")\n",
    "        \n",
    "a=Army()\n",
    "a.area()\n",
    "a.gun()\n",
    "print()\n",
    "        \n",
    "    \n",
    "af=Airforce()\n",
    "af.area()\n",
    "af.gun()\n",
    "print()\n",
    "\n",
    "n=Navy()\n",
    "n.area()\n",
    "n.gun()"
   ]
  },
  {
   "cell_type": "code",
   "execution_count": null,
   "metadata": {},
   "outputs": [],
   "source": []
  }
 ],
 "metadata": {
  "kernelspec": {
   "display_name": "Python 3",
   "language": "python",
   "name": "python3"
  },
  "language_info": {
   "codemirror_mode": {
    "name": "ipython",
    "version": 3
   },
   "file_extension": ".py",
   "mimetype": "text/x-python",
   "name": "python",
   "nbconvert_exporter": "python",
   "pygments_lexer": "ipython3",
   "version": "3.8.5"
  }
 },
 "nbformat": 4,
 "nbformat_minor": 4
}
