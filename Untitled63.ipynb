{
 "cells": [
  {
   "cell_type": "markdown",
   "metadata": {},
   "source": [
    "# multitasking using a thread :"
   ]
  },
  {
   "cell_type": "raw",
   "metadata": {},
   "source": [
    "When multiple tasks are executed at a time, then it is called Multi-tasking. For this purpose we need more than one thread and when we use more than one thread, it is called multi threading. "
   ]
  },
  {
   "cell_type": "code",
   "execution_count": 5,
   "metadata": {},
   "outputs": [
    {
     "name": "stdout",
     "output_type": "stream",
     "text": [
      "take order from tableserve order to table 1\n",
      "serve order to table 2\n",
      "serve order to table 3\n",
      "serve order to table 4\n",
      " 1\n",
      "take order from table 2\n",
      "take order from table 3\n",
      "take order from table 4\n"
     ]
    }
   ],
   "source": [
    "from threading import Thread\n",
    "\n",
    "class Hotel:\n",
    "    def __init__(self,t):\n",
    "        self.t=t\n",
    "    def food(self):\n",
    "        for i in range(1,5):\n",
    "            print(self.t,i)\n",
    "    \n",
    "h1=Hotel(\"take order from table\")\n",
    "h2=Hotel(\"serve order to table\")\n",
    "t1=Thread(target=h1.food)\n",
    "t2=Thread(target=h2.food)\n",
    "t1.start()\n",
    "t2.start()\n",
    "\n",
    "# o/p will be different as we are using multithreading"
   ]
  },
  {
   "cell_type": "code",
   "execution_count": 8,
   "metadata": {},
   "outputs": [
    {
     "name": "stdout",
     "output_type": "stream",
     "text": [
      "take order from table 1\n",
      "take order from table 2serve order to table\n",
      " 1\n",
      "serve order to table 2\n",
      "serve order to table 3\n",
      "serve order to table 4\n",
      "take order from table 3\n",
      "take order from table 4\n"
     ]
    }
   ],
   "source": [
    "from threading import Thread\n",
    "\n",
    "class Hotel:\n",
    "    def __init__(self,t):\n",
    "        self.t=t\n",
    "    def food(self):\n",
    "        for i in range(1,5):\n",
    "            print(self.t,i)\n",
    "    \n",
    "h1=Hotel(\"take order from table\")\n",
    "t1=Thread(target=h1.food)\n",
    "t1.start()\n",
    "h2=Hotel(\"serve order to table\")\n",
    "t2=Thread(target=h2.food)\n",
    "t2.start()\n",
    "\n",
    "# o/p will be different as we are using multithreading"
   ]
  },
  {
   "cell_type": "code",
   "execution_count": 12,
   "metadata": {},
   "outputs": [
    {
     "name": "stdout",
     "output_type": "stream",
     "text": [
      "Thread-26\n",
      "take order from table 1\n",
      "take order from table 2Thread-27\n",
      "\n",
      "serve order to table 1\n",
      "serve order to table 2\n",
      "serve order to table 3\n",
      "serve order to table 4\n",
      "take order from table 3\n",
      "take order from table 4\n"
     ]
    }
   ],
   "source": [
    "from threading import Thread\n",
    "\n",
    "class Hotel:\n",
    "    def __init__(self,t):\n",
    "        self.t=t\n",
    "    def food(self):\n",
    "        for i in range(1,5):\n",
    "            print(self.t,i)\n",
    "    \n",
    "h1=Hotel(\"take order from table\")\n",
    "h2=Hotel(\"serve order to table\")\n",
    "t1=Thread(target=h1.food)\n",
    "print(t1.name)\n",
    "t1.start()                    \n",
    "t1=Thread(target=h2.food)\n",
    "print(t1.name)\n",
    "t1.start()\n",
    "\n",
    "# here using the same name thread doesnot mean that we have not created any new thread , using the same name tthread here means both\n",
    "# the threads are different from each other !! thread name -Thread-26 and Thread-27\n",
    "\n",
    "# o/p will be different as we are using multithreading"
   ]
  },
  {
   "cell_type": "markdown",
   "metadata": {},
   "source": [
    "# race condition :"
   ]
  },
  {
   "cell_type": "raw",
   "metadata": {},
   "source": [
    "Race condition is a situation that occurs when threads are acting in an unexpected sequence, thus leading to unreliable output. \n",
    "This can be eliminated using thread synchronization"
   ]
  },
  {
   "cell_type": "markdown",
   "metadata": {},
   "source": [
    "# plane ticket program"
   ]
  },
  {
   "cell_type": "code",
   "execution_count": 50,
   "metadata": {},
   "outputs": [
    {
     "name": "stdout",
     "output_type": "stream",
     "text": [
      " available seats are  1\n",
      "yes seats are available for  pankaj\n",
      "Now number of seats left are 0\n",
      " available seats are  0\n",
      "seats are not available\n"
     ]
    }
   ],
   "source": [
    "\n",
    "from threading import Thread, current_thread\n",
    "\n",
    "\n",
    "class Airplane:\n",
    "\tdef __init__(self, available_seats):\n",
    "\t\tself.available_seats = available_seats\n",
    "\n",
    "\tdef reserving_tickets(self, need_seats):\n",
    "\t\tprint(\" available seats are \", self.available_seats)\n",
    "\t\tif self.available_seats >= need_seats:\n",
    "\t\t\tprint(\"yes seats are available for \", current_thread().getName())\n",
    "\t\t\tself.available_seats -= need_seats\n",
    "\t\t\tprint(\"Now number of seats left are\", self.available_seats)\n",
    "\n",
    "\t\telse:\n",
    "\t\t\tprint(\"seats are not available\")\n",
    "\n",
    "\n",
    "air = Airplane(1)\n",
    "t1 = Thread(target=air.reserving_tickets, args=(1,), name=\"pankaj\")\n",
    "t1.start()\n",
    "t2 = Thread(target=air.reserving_tickets, args=(1,), name=\"rohit gupta\")\n",
    "t2.start()\n",
    "        \n",
    "# note here it is not like that, the completion of a particular thread ,will get completed and after that another thread will be acting\n",
    "# as multiple threads are used for multitasking  !! so o?p will be random this is called race condition"
   ]
  },
  {
   "cell_type": "markdown",
   "metadata": {},
   "source": [
    "# Thread Synchronization"
   ]
  },
  {
   "cell_type": "raw",
   "metadata": {},
   "source": [
    "Many threads trying to access the same object can lead to problems like making data inconsistent or getting unexpected output So When a thread is already accessing an object, preventing any other thread accessing the same object is called Thread Synchronization. \n",
    "\n",
    "The object on which the threads are synchronized is called Synchronized Object or Mutually Exclusive Lock(mutex).\n",
    "\n",
    "Thread Synchronization is recommended when multiple threads are acting on the same object simultaneously.\n",
    "\n",
    "There are following techniques to do Thread Synchronization:\n",
    "\n",
    "• Using Locks\n",
    "• Using RLock (Re-Entrant Lock)\n",
    "• Using Semaphores"
   ]
  },
  {
   "cell_type": "markdown",
   "metadata": {},
   "source": [
    "# Locks"
   ]
  },
  {
   "cell_type": "raw",
   "metadata": {},
   "source": [
    "Locks are typically used to synchronize access to a shared resource. Lock can be used to lock the object in which the thread is acting. A Lock has only two states,  locked and unlocked. It is created in the unlocked state."
   ]
  },
  {
   "cell_type": "markdown",
   "metadata": {},
   "source": [
    "# acquire( )"
   ]
  },
  {
   "cell_type": "raw",
   "metadata": {},
   "source": [
    "This method is used to changes the state to locked and returns immediately. When the state is locked, acquire() blocks until a call to release() in another thread changes it to unlocked, then the acquire() call resets it to locked and returns.\n",
    "\n",
    "\n",
    "\n",
    "Syntax:- acquire(blocking=True, timeout = -1)\n",
    "\n",
    "\n",
    "\n",
    "• True – It blocks until the lock is unlocked, then set it to locked and return True.\n",
    "\n",
    "• False - It does not block. If a call with blocking set to True would block, return False immediately; otherwise, set the lock to locked and return True.\n",
    "\n",
    "• Timeout - When invoked with the floating-point timeout argument set to a positive value, block for at most the number of seconds specified by timeout and as long as the lock cannot be acquired. A timeout argument of -1 specifies an unbounded wait. It is forbidden to specify a timeout when blocking is false.\n",
    "\n",
    "• The return value is True if the lock is acquired successfully, False if not (for example if the \n",
    "timeout expired)."
   ]
  },
  {
   "cell_type": "code",
   "execution_count": 5,
   "metadata": {},
   "outputs": [
    {
     "name": "stdout",
     "output_type": "stream",
     "text": [
      " available seats right now :  2\n",
      "seats available for pankaj\n",
      "now the number of available seats are 1\n",
      " available seats right now :  1\n",
      "seats available for rohit\n",
      "now the number of available seats are 0\n",
      "Sorry seats not available\n",
      "main thread\n"
     ]
    }
   ],
   "source": [
    "from threading import*\n",
    "\n",
    "class Airplane:\n",
    "    def __init__(self,av_seats):\n",
    "        self.av_seats=av_seats\n",
    "        self.l=Lock()\n",
    "        \n",
    "    def reserve_seats(self,need_seats):\n",
    "        self.l.acquire(blocking=True,timeout=-1)\n",
    "        \n",
    "        if self.av_seats>=need_seats:\n",
    "            print(\" available seats right now : \",self.av_seats)\n",
    "            name=current_thread().getName()\n",
    "            print(f\"seats available for {name}\")\n",
    "            self.av_seats-=need_seats\n",
    "            print(\"now the number of available seats are\",self.av_seats)\n",
    "        else:\n",
    "            print(\"Sorry seats not available\")\n",
    "        self.l.release()\n",
    "       \n",
    "            \n",
    "air=Airplane(2)\n",
    "t1=Thread(target=air.reserve_seats,args=(1,),name=\"pankaj\")\n",
    "t2=Thread(target=air.reserve_seats,args=(1,),name=\"rohit\")\n",
    "t3=Thread(target=air.reserve_seats,args=(1,),name=\"rupesh\")\n",
    "t1.start()\n",
    "t2.start()\n",
    "t3.start()\n",
    "t1.join()\n",
    "t2.join()\n",
    "t3.join()\n",
    "print(\"main thread\")\n",
    "\n",
    "\n",
    "# as we are using multithreading it is not neccessary that the O/P will be same each and everytime\n",
    "# as starting a thread first doesnot  neccessarily means that , the that particular thread will acts 1st\n",
    "# and after a thread is started , its corrosponding .join() method will be called !!!!\n",
    "\n",
    "\n",
    "\n",
    "# NOTE :\n",
    "\n",
    "# so O/p can also show us that the , rohit seats are allocated 1st then seats gets allocated to pankaj or rupesh !!!!\n",
    "        "
   ]
  },
  {
   "cell_type": "markdown",
   "metadata": {},
   "source": [
    "# release( )"
   ]
  },
  {
   "cell_type": "raw",
   "metadata": {},
   "source": [
    "This method is used to release a lock. This can be called from any thread, not only the thread which has acquired the lock.\n",
    "When the lock is locked, reset it to unlocked, and return. If any other threads are blocked waiting for the lock to become unlocked, allow exactly one of them to proceed.\n",
    "\n",
    "When invoked on an unlocked lock, a RuntimeError is raised.\n",
    "\n",
    "There is no return value.\n",
    "\n",
    "Syntax:- release( ) "
   ]
  },
  {
   "cell_type": "markdown",
   "metadata": {},
   "source": [
    "# note***"
   ]
  },
  {
   "cell_type": "raw",
   "metadata": {},
   "source": [
    "release() method:\n",
    "    \n",
    "\n",
    "It is used to release an acquired lock. If the lock is locked, this method will reset it to unlocked, and return. Also this method can be called from any thread.\n",
    "\n",
    "When this method is called, one out of the already waiting threads to acquire the lock is allowed to hold the lock.Also, it throws a RuntimeError if it is invoked on an unlocked lock."
   ]
  },
  {
   "cell_type": "code",
   "execution_count": 18,
   "metadata": {},
   "outputs": [
    {
     "name": "stdout",
     "output_type": "stream",
     "text": [
      "<unlocked _thread.lock object at 0x000001ACBE0918D0>\n",
      "<locked _thread.lock object at 0x000001ACBE0918D0> pankaj\n",
      " available seats right now :  2\n",
      "seats available for pankaj\n",
      "now the number of available seats are 1\n",
      "<unlocked _thread.lock object at 0x000001ACBE0918D0> <locked _thread.lock object at 0x000001ACBE0918D0> rohit\n",
      " available seats right now :  1\n",
      "seats available for rohit\n",
      "now the number of available seats are 0\n",
      "<unlocked _thread.lock object at 0x000001ACBE0918D0> rohit\n",
      "pankaj\n",
      "<locked _thread.lock object at 0x000001ACBE0918D0> rupesh\n",
      "Sorry seats not available\n",
      "<unlocked _thread.lock object at 0x000001ACBE0918D0> rupesh\n",
      "main thread\n"
     ]
    }
   ],
   "source": [
    "from threading import*\n",
    "\n",
    "class Airplane:\n",
    "    def __init__(self,av_seats):\n",
    "        self.av_seats=av_seats\n",
    "        self.l=Lock()\n",
    "        print(self.l)\n",
    "        \n",
    "    def reserve_seats(self,need_seats):\n",
    "        self.l.acquire(blocking=True,timeout=-1)\n",
    "        print(self.l,current_thread().getName())\n",
    "        if self.av_seats>=need_seats:\n",
    "            print(\" available seats right now : \",self.av_seats)\n",
    "            name=current_thread().getName()\n",
    "            print(f\"seats available for {name}\")\n",
    "            self.av_seats-=need_seats\n",
    "            print(\"now the number of available seats are\",self.av_seats)\n",
    "        else:\n",
    "            print(\"Sorry seats not available\")\n",
    "        self.l.release()\n",
    "        print(self.l,current_thread().getName())\n",
    "       \n",
    "            \n",
    "air=Airplane(2)\n",
    "t1=Thread(target=air.reserve_seats,args=(1,),name=\"pankaj\")\n",
    "t2=Thread(target=air.reserve_seats,args=(1,),name=\"rohit\")\n",
    "t3=Thread(target=air.reserve_seats,args=(1,),name=\"rupesh\")\n",
    "t1.start()\n",
    "t2.start()\n",
    "t3.start()\n",
    "t1.join()\n",
    "t2.join()\n",
    "t3.join()\n",
    "print(\"main thread\")\n",
    "\n",
    "\n",
    "# as we are using multithreading it is not neccessary that the O/P will be same each and everytime\n",
    "# as starting a thread first doesnot  neccessarily means that , the that particular thread will acts 1st\n",
    "# and after a thread is started , its corrosponding .join() method will be called !!!!\n",
    "\n",
    "\n",
    "\n",
    "# NOTE :\n",
    "\n",
    "# so O/p can also show us that the , rohit seats are allocated 1st then seats gets allocated to pankaj or rupesh !!!!\n",
    "        "
   ]
  },
  {
   "cell_type": "code",
   "execution_count": null,
   "metadata": {},
   "outputs": [],
   "source": []
  }
 ],
 "metadata": {
  "kernelspec": {
   "display_name": "Python 3",
   "language": "python",
   "name": "python3"
  },
  "language_info": {
   "codemirror_mode": {
    "name": "ipython",
    "version": 3
   },
   "file_extension": ".py",
   "mimetype": "text/x-python",
   "name": "python",
   "nbconvert_exporter": "python",
   "pygments_lexer": "ipython3",
   "version": "3.8.5"
  }
 },
 "nbformat": 4,
 "nbformat_minor": 4
}
