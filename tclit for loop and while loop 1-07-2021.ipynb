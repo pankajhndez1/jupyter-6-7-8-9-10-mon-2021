{
 "cells": [
  {
   "cell_type": "markdown",
   "metadata": {},
   "source": [
    "# for loop and while loop"
   ]
  },
  {
   "cell_type": "markdown",
   "metadata": {},
   "source": [
    "# prime numbers using break:"
   ]
  },
  {
   "cell_type": "code",
   "execution_count": 5,
   "metadata": {},
   "outputs": [
    {
     "name": "stdout",
     "output_type": "stream",
     "text": [
      "False as 16 is devided by 2\n",
      "hii\n",
      "hii\n",
      "False as 16 is devided by 4\n",
      "hii\n",
      "hii\n",
      "hii\n",
      "hii\n",
      "False as 16 is devided by 8\n",
      "hii\n",
      "hii\n",
      "hii\n",
      "hii\n",
      "hii\n",
      "hii\n",
      "hii\n",
      "hii\n",
      "not prime\n"
     ]
    }
   ],
   "source": [
    "num=16\n",
    "isprime=\"True\"\n",
    "for i  in range(2,num):\n",
    "    if num%i==0:\n",
    "        isprime=\"False\"\n",
    "        print(isprime,\"as\",num,\"is devided by\",i)    \n",
    "    elif i==2:                           # note : if and elif k case mai jha pr ek baar bhi true mila uske baad aage check he nhi karega\n",
    "        print(\"the value of i is 2\") \n",
    "    print(\"hii\")  # note :- for loop wha tk chalega jha tk uska indentation hai !!!\n",
    "    \n",
    "\n",
    "if isprime==\"True\":\n",
    "    print(\"prime\")\n",
    "else:\n",
    "    print(\"not prime\")\n"
   ]
  },
  {
   "cell_type": "markdown",
   "metadata": {},
   "source": [
    "# The break keyword is used to break out a for loop, or a while loop."
   ]
  },
  {
   "cell_type": "code",
   "execution_count": 2,
   "metadata": {},
   "outputs": [
    {
     "name": "stdout",
     "output_type": "stream",
     "text": [
      "1\n",
      "2\n",
      "3\n"
     ]
    }
   ],
   "source": [
    "for i in range(1,5):  # for and while loops wha tk chalenge jha tk unka indentation level hai\n",
    "    print(i)\n",
    "    if i==3:   # and if condition tabhi chalegi jb wo true hogi\n",
    "        \n",
    "        break"
   ]
  },
  {
   "cell_type": "code",
   "execution_count": 3,
   "metadata": {},
   "outputs": [
    {
     "name": "stdout",
     "output_type": "stream",
     "text": [
      "enter the number upto which you want to print15\n",
      "1\n",
      "2\n",
      "3\n",
      "4\n",
      "5\n",
      "6\n",
      "7\n",
      "8\n",
      "9\n",
      "10\n",
      "11\n",
      "12\n",
      "13\n",
      "14\n",
      "15\n",
      "end of the day the i will ended up having value= 16 so loop will run 16 times\n"
     ]
    }
   ],
   "source": [
    "i=1\n",
    "n=int(input(\"enter the number upto which you want to print\"))\n",
    "\n",
    "while i<=n:\n",
    "    print(i)\n",
    "    i=i+1\n",
    "print(\"end of the day the i will ended up having value=\",i,\"so loop will run\",i,\"times\")"
   ]
  },
  {
   "cell_type": "code",
   "execution_count": 1,
   "metadata": {},
   "outputs": [
    {
     "name": "stdout",
     "output_type": "stream",
     "text": [
      "enter the number upto which you want to print10\n",
      "10\n",
      "9\n",
      "8\n",
      "7\n",
      "6\n",
      "5\n",
      "4\n",
      "3\n",
      "2\n",
      "1\n"
     ]
    }
   ],
   "source": [
    "i=1\n",
    "n=int(input(\"enter the number upto which you want to print\"))\n",
    "\n",
    "while n>=i:\n",
    "    print(n)\n",
    "    n=n-1"
   ]
  },
  {
   "cell_type": "code",
   "execution_count": 5,
   "metadata": {},
   "outputs": [
    {
     "name": "stdout",
     "output_type": "stream",
     "text": [
      "enter the number your want the sum upto12\n",
      "78\n"
     ]
    }
   ],
   "source": [
    "n=int(input(\"enter the number your want the sum upto\"))\n",
    "sum=0\n",
    "i=1\n",
    "while n>=i:\n",
    "    sum=sum+i\n",
    "    i=i+1\n",
    "print(sum)"
   ]
  },
  {
   "cell_type": "markdown",
   "metadata": {},
   "source": [
    "# Q.program to find sum of square of first n natural numbers"
   ]
  },
  {
   "cell_type": "code",
   "execution_count": 6,
   "metadata": {},
   "outputs": [
    {
     "name": "stdout",
     "output_type": "stream",
     "text": [
      "enter the number upto which you want the sum =56\n",
      "sum is 1596\n"
     ]
    }
   ],
   "source": [
    "n=int(input(\"enter the number upto which you want the sum =\"))\n",
    "sum=0\n",
    "while n>=1:\n",
    "    sum=sum+n\n",
    "    n=n-1\n",
    "print(\"sum is\",sum)"
   ]
  },
  {
   "cell_type": "code",
   "execution_count": 7,
   "metadata": {},
   "outputs": [
    {
     "name": "stdout",
     "output_type": "stream",
     "text": [
      "enter the number you58\n",
      "sum of squares is  66729\n"
     ]
    }
   ],
   "source": [
    "n=int(input(\"enter the number you\"))\n",
    "sum=0\n",
    "while n>=1:\n",
    "    sum=sum+n*n\n",
    "    n=n-1\n",
    "print(\"sum of squares is \",sum)\n"
   ]
  },
  {
   "cell_type": "markdown",
   "metadata": {},
   "source": [
    "# Q. print even numbers from 1 to n"
   ]
  },
  {
   "cell_type": "code",
   "execution_count": 8,
   "metadata": {},
   "outputs": [
    {
     "name": "stdout",
     "output_type": "stream",
     "text": [
      "enter the numbers upto which you want to find the even numbers12\n",
      "odd number is 1\n",
      "even number is 2\n",
      "odd number is 3\n",
      "even number is 4\n",
      "odd number is 5\n",
      "even number is 6\n",
      "odd number is 7\n",
      "even number is 8\n",
      "odd number is 9\n",
      "even number is 10\n",
      "odd number is 11\n",
      "even number is 12\n"
     ]
    }
   ],
   "source": [
    "n=int(input(\"enter the numbers upto which you want to find the even numbers\"))\n",
    "i=1\n",
    "while i<=n:\n",
    "    if i%2==0:\n",
    "        print(\"even number is\",i)\n",
    "    else:\n",
    "        print(\"odd number is\",i)\n",
    "    i=i+1"
   ]
  },
  {
   "cell_type": "markdown",
   "metadata": {},
   "source": [
    "# Q. program to find the sum of even numbers from 1 to n."
   ]
  },
  {
   "cell_type": "code",
   "execution_count": 9,
   "metadata": {},
   "outputs": [
    {
     "name": "stdout",
     "output_type": "stream",
     "text": [
      "enter the numbers upto which you want to find the even numbers=23\n",
      "sum is  132\n"
     ]
    }
   ],
   "source": [
    "n=int(input(\"enter the numbers upto which you want to find the even numbers=\"))\n",
    "i=1\n",
    "sum=0\n",
    "\n",
    "while i<=n:\n",
    "    if i%2==0:\n",
    "        sum=sum+i\n",
    "    i=i+1\n",
    "print(\"sum is \",sum)"
   ]
  },
  {
   "cell_type": "markdown",
   "metadata": {},
   "source": [
    "# Q. to find sum of n even numbers."
   ]
  },
  {
   "cell_type": "code",
   "execution_count": 10,
   "metadata": {},
   "outputs": [
    {
     "name": "stdout",
     "output_type": "stream",
     "text": [
      "enter the numbers upto which you want to find the even numbers=55\n",
      "sum is  3080\n"
     ]
    }
   ],
   "source": [
    "n=int(input(\"enter the numbers upto which you want to find the even numbers=\"))\n",
    "i=1\n",
    "sum=0\n",
    "\n",
    "while i<=n*2:\n",
    "    if i%2==0:\n",
    "        sum=sum+i\n",
    "    i=i+1\n",
    "print(\"sum is \",sum)"
   ]
  },
  {
   "cell_type": "markdown",
   "metadata": {},
   "source": [
    "# Q. sum of digits of a given number."
   ]
  },
  {
   "cell_type": "code",
   "execution_count": 11,
   "metadata": {},
   "outputs": [
    {
     "name": "stdout",
     "output_type": "stream",
     "text": [
      "enter the number =14\n",
      "the sum is  5\n"
     ]
    }
   ],
   "source": [
    "n=int(input(\"enter the number =\"))\n",
    "sum=0\n",
    "while n>0:\n",
    "    sum=sum+n%10\n",
    "    n=n//10\n",
    "print(\"the sum is \",sum)"
   ]
  },
  {
   "cell_type": "markdown",
   "metadata": {},
   "source": [
    "# Q. multiplication of digits of a given number."
   ]
  },
  {
   "cell_type": "code",
   "execution_count": 12,
   "metadata": {},
   "outputs": [
    {
     "name": "stdout",
     "output_type": "stream",
     "text": [
      "enter the number 56\n",
      "product is 0\n"
     ]
    }
   ],
   "source": [
    "n=int(input(\"enter the number \"))\n",
    "product=1\n",
    "while n>0:\n",
    "    product=product*n%10\n",
    "    n=n//10\n",
    "print(\"product is\",product)\n",
    "    "
   ]
  },
  {
   "cell_type": "markdown",
   "metadata": {},
   "source": [
    "# Q.square of digits of a given number."
   ]
  },
  {
   "cell_type": "code",
   "execution_count": 13,
   "metadata": {},
   "outputs": [
    {
     "name": "stdout",
     "output_type": "stream",
     "text": [
      "enter the number26\n",
      "sum of squares is  40\n"
     ]
    }
   ],
   "source": [
    "n=int(input(\"enter the number\"))\n",
    "sum=0\n",
    "\n",
    "while n>0:\n",
    "    sum=sum+(n%10)**2\n",
    "    n=n//10\n",
    "print(\"sum of squares is \",sum)"
   ]
  },
  {
   "cell_type": "markdown",
   "metadata": {},
   "source": [
    "# Q.cube of digits of a given number."
   ]
  },
  {
   "cell_type": "code",
   "execution_count": 14,
   "metadata": {},
   "outputs": [
    {
     "name": "stdout",
     "output_type": "stream",
     "text": [
      "enter the number558\n",
      "sum of squares is  762\n"
     ]
    }
   ],
   "source": [
    "n=int(input(\"enter the number\"))\n",
    "sum=0\n",
    "\n",
    "while n>0:\n",
    "    sum=sum+(n%10)**3\n",
    "    n=n//10\n",
    "print(\"sum of squares is \",sum)"
   ]
  },
  {
   "cell_type": "markdown",
   "metadata": {},
   "source": [
    "# Q. Armstrong number"
   ]
  },
  {
   "cell_type": "code",
   "execution_count": 15,
   "metadata": {},
   "outputs": [
    {
     "name": "stdout",
     "output_type": "stream",
     "text": [
      "enter the number225\n",
      "not armstrong\n"
     ]
    }
   ],
   "source": [
    "n=int(input(\"enter the number\"))\n",
    "org=n\n",
    "sums=0\n",
    "while n>0:\n",
    "    sums=sums+(n%10)*(n%10)*(n%10)\n",
    "    n=n//10\n",
    "if sums==org:\n",
    "    print(\"it is an armstrong number\")\n",
    "else:\n",
    "    print(\"not armstrong\")"
   ]
  },
  {
   "cell_type": "code",
   "execution_count": 16,
   "metadata": {},
   "outputs": [
    {
     "name": "stdout",
     "output_type": "stream",
     "text": [
      "not a palindrome\n"
     ]
    }
   ],
   "source": [
    "n=12231\n",
    "x=str(n)\n",
    "\n",
    "if str(n)==x[::-1]:\n",
    "    print(\"pallindrome\")\n",
    "else:\n",
    "    print(\"not a palindrome\")"
   ]
  },
  {
   "cell_type": "markdown",
   "metadata": {},
   "source": [
    "# Q.sum and products of digits"
   ]
  },
  {
   "cell_type": "code",
   "execution_count": 17,
   "metadata": {},
   "outputs": [
    {
     "name": "stdout",
     "output_type": "stream",
     "text": [
      "enter the number125\n",
      "sum is 8\n",
      "product is  10\n"
     ]
    }
   ],
   "source": [
    "n=int(input(\"enter the number\"))\n",
    "sum=0\n",
    "product=1\n",
    "while n>0:\n",
    "    sum=sum+n%10\n",
    "    product=product*(n%10)\n",
    "    n=n//10\n",
    "    \n",
    "print(\"sum is\",sum )\n",
    "print(\"product is \",product)"
   ]
  },
  {
   "cell_type": "markdown",
   "metadata": {},
   "source": [
    "# Q.sum of even and products of odd digits"
   ]
  },
  {
   "cell_type": "code",
   "execution_count": 18,
   "metadata": {},
   "outputs": [
    {
     "name": "stdout",
     "output_type": "stream",
     "text": [
      "enter the number=15\n",
      "sum  of even is 0\n",
      "product of odd is  5\n"
     ]
    }
   ],
   "source": [
    "n=int(input(\"enter the number=\"))\n",
    "sum=0\n",
    "product=1\n",
    "while n>0:\n",
    "    x=n%10\n",
    "    if x%2==0:\n",
    "        sum=sum+x\n",
    "    else:\n",
    "        product=product*(x)\n",
    "    n=n//10\n",
    "    \n",
    "    \n",
    "print(\"sum  of even is\",sum )\n",
    "print(\"product of odd is \",product)"
   ]
  },
  {
   "cell_type": "markdown",
   "metadata": {},
   "source": [
    "# Q.handsome number"
   ]
  },
  {
   "cell_type": "code",
   "execution_count": 19,
   "metadata": {},
   "outputs": [
    {
     "name": "stdout",
     "output_type": "stream",
     "text": [
      "enter the number 26\n",
      "required sum we need 6\n",
      "we need sum of the digits in= 2\n",
      "not a handsome number\n"
     ]
    }
   ],
   "source": [
    "n=int(input(\"enter the number \"))\n",
    "sum=0\n",
    "\n",
    "while n>0:\n",
    "    sum=sum+(n%10)\n",
    "    print(\"required sum we need\",sum)\n",
    "    break\n",
    "n=n//10\n",
    "print(\"we need sum of the digits in=\",n)\n",
    "z=0\n",
    "while n>0:\n",
    "        z=z+(n%10)\n",
    "        n=n//10\n",
    "\n",
    "if z==sum:\n",
    "    print(\"yes it is a handsome number \")\n",
    "else:\n",
    "    print(\"not a handsome number\")\n",
    "        "
   ]
  },
  {
   "cell_type": "code",
   "execution_count": null,
   "metadata": {},
   "outputs": [],
   "source": []
  },
  {
   "cell_type": "code",
   "execution_count": null,
   "metadata": {},
   "outputs": [],
   "source": []
  },
  {
   "cell_type": "markdown",
   "metadata": {},
   "source": [
    "# sum of 1st 10 natural numbers"
   ]
  },
  {
   "cell_type": "code",
   "execution_count": null,
   "metadata": {},
   "outputs": [],
   "source": [
    "i=1\n",
    "a=0\n",
    "while(i<=10):\n",
    "    a=a+i\n",
    "    i=i+1\n",
    "print(a)"
   ]
  },
  {
   "cell_type": "markdown",
   "metadata": {},
   "source": [
    "# sum of 1st 10 natural numbers\n"
   ]
  },
  {
   "cell_type": "code",
   "execution_count": 21,
   "metadata": {},
   "outputs": [
    {
     "name": "stdout",
     "output_type": "stream",
     "text": [
      "1\n",
      "3\n",
      "6\n",
      "10\n",
      "15\n",
      "21\n",
      "28\n",
      "36\n",
      "45\n",
      "55\n"
     ]
    }
   ],
   "source": [
    "i=1\n",
    "a=0\n",
    "while(i<=10):\n",
    "    a=a+i\n",
    "    print(a)\n",
    "    i=i+1\n"
   ]
  },
  {
   "cell_type": "markdown",
   "metadata": {},
   "source": [
    "# multiplication of 1st 10 natural numbers"
   ]
  },
  {
   "cell_type": "code",
   "execution_count": 22,
   "metadata": {},
   "outputs": [
    {
     "name": "stdout",
     "output_type": "stream",
     "text": [
      "1\n",
      "2\n",
      "6\n",
      "24\n",
      "120\n",
      "720\n",
      "5040\n",
      "40320\n",
      "362880\n",
      "3628800\n"
     ]
    }
   ],
   "source": [
    "i=1\n",
    "a=1\n",
    "while(i<=10):\n",
    "    a=a*i\n",
    "    print(a)\n",
    "    i=i+1"
   ]
  },
  {
   "cell_type": "markdown",
   "metadata": {},
   "source": [
    "# multiplication of 1st 10 natural numbers"
   ]
  },
  {
   "cell_type": "code",
   "execution_count": 23,
   "metadata": {},
   "outputs": [
    {
     "name": "stdout",
     "output_type": "stream",
     "text": [
      "3628800\n"
     ]
    }
   ],
   "source": [
    "i=1\n",
    "a=1\n",
    "while(i<=10):\n",
    "    a=a*i\n",
    "    i=i+1\n",
    "print(a)"
   ]
  },
  {
   "cell_type": "markdown",
   "metadata": {},
   "source": [
    "# prime number program NEVER DO IT LIKE THIS !!:"
   ]
  },
  {
   "cell_type": "code",
   "execution_count": null,
   "metadata": {},
   "outputs": [],
   "source": [
    "a=17\n",
    "i=1\n",
    "counter=0\n",
    "\n",
    "while i<=a:\n",
    "    if a % i==0:\n",
    "        counter=counter+1\n",
    "        i=i+1   # it means agar if ki value true hogi tabhi i ko badana\n",
    "        \n",
    "if counter==2:\n",
    "    print(\"prime\")\n",
    "else:\n",
    "    print(\"not prime\")\n"
   ]
  },
  {
   "cell_type": "markdown",
   "metadata": {},
   "source": [
    "# prime number program"
   ]
  },
  {
   "cell_type": "code",
   "execution_count": null,
   "metadata": {},
   "outputs": [],
   "source": [
    "a=17\n",
    "i=1\n",
    "counter=0\n",
    "\n",
    "while i<=a:\n",
    "    if a % i==0:\n",
    "        counter=counter+1\n",
    "    i=i+1                                # important point, so to increase i it must be done inside while loop not inside if statement.\n",
    "    \n",
    "if counter==2:\n",
    "    print(\"prime\")\n",
    "else:\n",
    "    print(\"not prime\")\n"
   ]
  },
  {
   "cell_type": "markdown",
   "metadata": {},
   "source": [
    "# fatorial program"
   ]
  },
  {
   "cell_type": "code",
   "execution_count": null,
   "metadata": {},
   "outputs": [],
   "source": [
    "i=0\n",
    "num=int(input(\"enter the number\"))\n",
    "factorial=1\n",
    "\n",
    "while num>i:\n",
    "    factorial=factorial*(num-i)\n",
    "    i=i+1\n",
    "print(\"factorial is of num =\",num,\"is\",factorial)"
   ]
  },
  {
   "cell_type": "markdown",
   "metadata": {},
   "source": [
    "# fibonacci series"
   ]
  },
  {
   "cell_type": "code",
   "execution_count": 8,
   "metadata": {},
   "outputs": [
    {
     "name": "stdout",
     "output_type": "stream",
     "text": [
      "enter the number upto which u want fibonacci series :5\n",
      "0\n",
      "1\n",
      "1\n",
      "2\n",
      "3\n",
      "5\n",
      "8\n",
      "13\n",
      "21\n",
      "34\n",
      "55\n",
      "89\n"
     ]
    }
   ],
   "source": [
    "a=0\n",
    "b=1\n",
    "n=int(input(\"enter the number upto which u want fibonacci series :\"))\n",
    "while n>=0:\n",
    "    c=a+b\n",
    "    print(a)\n",
    "    print(b)\n",
    "\n",
    "    a=a+b\n",
    "    b=b+a\n",
    "    n=n-1\n",
    "   \n",
    "    \n",
    "    "
   ]
  },
  {
   "cell_type": "markdown",
   "metadata": {},
   "source": [
    "# pattern in nested loops"
   ]
  },
  {
   "cell_type": "code",
   "execution_count": 10,
   "metadata": {},
   "outputs": [
    {
     "name": "stdout",
     "output_type": "stream",
     "text": [
      "1\n",
      "2\n",
      "3\n",
      "4\n",
      "\n",
      "1\n",
      "2\n",
      "3\n",
      "4\n",
      "\n",
      "1\n",
      "2\n",
      "3\n",
      "4\n",
      "\n",
      "1\n",
      "2\n",
      "3\n",
      "4\n",
      "\n"
     ]
    }
   ],
   "source": [
    "i=1\n",
    "while i<5:\n",
    "    j=1\n",
    "    while j<5:\n",
    "        print(j)\n",
    "        j=j+1\n",
    "    print()\n",
    "    i=i+1"
   ]
  },
  {
   "cell_type": "code",
   "execution_count": 18,
   "metadata": {},
   "outputs": [
    {
     "name": "stdout",
     "output_type": "stream",
     "text": [
      "enter the value rows you want to print=5\n",
      "*\n",
      "**\n",
      "***\n",
      "****\n",
      "*****\n",
      "\n"
     ]
    }
   ],
   "source": [
    "i=1\n",
    "n=int(input(\"enter the value rows you want to print=\"))\n",
    "while i>=1:\n",
    "    j=1\n",
    "    while j<n+1:\n",
    "        print(j*\"*\")\n",
    "        j=j+1\n",
    "    print()\n",
    "    i=i-1"
   ]
  },
  {
   "cell_type": "code",
   "execution_count": 24,
   "metadata": {},
   "outputs": [
    {
     "data": {
      "text/plain": [
       "'23'"
      ]
     },
     "execution_count": 24,
     "metadata": {},
     "output_type": "execute_result"
    }
   ],
   "source": [
    "str(2)+str(3)"
   ]
  },
  {
   "cell_type": "code",
   "execution_count": 51,
   "metadata": {},
   "outputs": [
    {
     "data": {
      "text/plain": [
       "'          '"
      ]
     },
     "execution_count": 51,
     "metadata": {},
     "output_type": "execute_result"
    }
   ],
   "source": [
    "\" \"*10"
   ]
  },
  {
   "cell_type": "markdown",
   "metadata": {},
   "source": [
    "# PATTERNS :"
   ]
  },
  {
   "cell_type": "raw",
   "metadata": {},
   "source": [
    "Q.1\n",
    "  12\n",
    "  123\n",
    "  1234\n",
    "  12345"
   ]
  },
  {
   "cell_type": "code",
   "execution_count": 31,
   "metadata": {},
   "outputs": [
    {
     "name": "stdout",
     "output_type": "stream",
     "text": [
      "enter the number of row upto which u want to print5\n",
      "1\n",
      "12\n",
      "123\n",
      "1234\n",
      "12345\n"
     ]
    }
   ],
   "source": [
    "n=int(input(\"enter the number of row upto which u want to print\"))\n",
    "i=1\n",
    "z=\"\"\n",
    "while i>0:\n",
    "    j=0\n",
    "    while j<n:\n",
    "        z=z+str(j+1)\n",
    "        print(z)\n",
    "        j=j+1\n",
    "    i=i-1"
   ]
  },
  {
   "cell_type": "raw",
   "metadata": {},
   "source": [
    "Q.1\n",
    "  22\n",
    "  333\n",
    "  4444\n",
    "  55555"
   ]
  },
  {
   "cell_type": "code",
   "execution_count": 17,
   "metadata": {},
   "outputs": [
    {
     "name": "stdout",
     "output_type": "stream",
     "text": [
      "enter the number of row upto which u want to print=5\n",
      "1\n",
      "22\n",
      "333\n",
      "4444\n",
      "55555\n"
     ]
    }
   ],
   "source": [
    "n=int(input(\"enter the number of row upto which u want to print=\"))\n",
    "i=1\n",
    "z=\"\"\n",
    "while i>0:\n",
    "    j=0\n",
    "    while j<n:\n",
    "        z=str(j+1)\n",
    "        print(z*(j+1))\n",
    "        j=j+1\n",
    "    i=i-1"
   ]
  },
  {
   "cell_type": "code",
   "execution_count": 10,
   "metadata": {},
   "outputs": [
    {
     "name": "stdout",
     "output_type": "stream",
     "text": [
      "enter the number =5\n",
      "**** 1\n",
      "*** 12\n",
      "** 123\n",
      "* 1234\n",
      " 12345\n"
     ]
    }
   ],
   "source": [
    "n=int(input(\"enter the number =\"))\n",
    "a=n\n",
    "c=a+n\n",
    "sum=\"\"\n",
    "z=1\n",
    "while z>0:\n",
    "    i=1\n",
    "    while i<= c:\n",
    "        sum=sum+str(i)\n",
    "        print((c-6)*\"*\",sum)\n",
    "        i=i+1\n",
    "        c=c-1\n",
    "    z=z-1"
   ]
  },
  {
   "cell_type": "code",
   "execution_count": 26,
   "metadata": {},
   "outputs": [
    {
     "name": "stdout",
     "output_type": "stream",
     "text": [
      "enter the number=5\n",
      "ooooo *\n",
      "oooo **\n",
      "ooo ***\n",
      "oo ****\n",
      "o *****\n"
     ]
    }
   ],
   "source": [
    "n=int(input(\"enter the number=\"))+1\n",
    "i=1\n",
    "while i>0:\n",
    "    c=1\n",
    "    a=n\n",
    "    while a>1:\n",
    "        print((a-1)*\"o\",c*\"*\")\n",
    "        a=a-1\n",
    "        c=c+1\n",
    "        if c==n+1:\n",
    "            break\n",
    "    i=i-1"
   ]
  },
  {
   "cell_type": "code",
   "execution_count": 32,
   "metadata": {},
   "outputs": [
    {
     "name": "stdout",
     "output_type": "stream",
     "text": [
      "_ _ _ _ *\n",
      "_ _ _ *\n",
      "_ _ *\n",
      "_ *\n",
      "*\n"
     ]
    }
   ],
   "source": [
    "i=1\n",
    "while i<=5:\n",
    "    b=1\n",
    "    while b<=5-i:\n",
    "        print(\"_ \",end=\"\")\n",
    "        b=b+1\n",
    "    j=1\n",
    "    while j<=i:\n",
    "        print(\"*\",end=\"\")\n",
    "        j=j+i\n",
    "    print()\n",
    "    i=i+1\n",
    "    \n",
    "    "
   ]
  },
  {
   "cell_type": "code",
   "execution_count": 33,
   "metadata": {},
   "outputs": [
    {
     "name": "stdout",
     "output_type": "stream",
     "text": [
      "0\n",
      "1\n",
      "2\n",
      "3\n",
      "4\n"
     ]
    }
   ],
   "source": [
    "for i in range(5):\n",
    "    print(i)"
   ]
  },
  {
   "cell_type": "code",
   "execution_count": 42,
   "metadata": {},
   "outputs": [
    {
     "name": "stdout",
     "output_type": "stream",
     "text": [
      "enter the number =5\n",
      "1\n",
      "12\n",
      "123\n",
      "1234\n",
      "12345\n"
     ]
    }
   ],
   "source": [
    "x=\"\"\n",
    "n=int(input(\"enter the number =\"))\n",
    "for i in range(1,n+1):\n",
    "    x=x+str(i)\n",
    "    print(x)"
   ]
  },
  {
   "cell_type": "code",
   "execution_count": 46,
   "metadata": {},
   "outputs": [
    {
     "name": "stdout",
     "output_type": "stream",
     "text": [
      "enter the number =5\n",
      "*\n",
      "**\n",
      "***\n",
      "****\n",
      "*****\n"
     ]
    }
   ],
   "source": [
    "n=int(input(\"enter the number =\"))\n",
    "for i in range(1,n+1):\n",
    "    print(i*\"*\")"
   ]
  },
  {
   "cell_type": "code",
   "execution_count": 66,
   "metadata": {},
   "outputs": [
    {
     "name": "stdout",
     "output_type": "stream",
     "text": [
      "enter the number =3\n",
      "oo *\n",
      "o **\n",
      " ***\n"
     ]
    }
   ],
   "source": [
    "n=int(input(\"enter the number =\"))\n",
    "for i in range(1,n+1):\n",
    "    print((n-i)*\"o\",i*\"*\")\n",
    "    "
   ]
  },
  {
   "cell_type": "code",
   "execution_count": 73,
   "metadata": {},
   "outputs": [
    {
     "name": "stdout",
     "output_type": "stream",
     "text": [
      "enter the number =3\n",
      "   *\n",
      "  **\n",
      " ***\n"
     ]
    }
   ],
   "source": [
    "n=int(input(\"enter the number =\"))\n",
    "for i in range(1,n+1):\n",
    "    print((n-i)*\" \",i*\"*\")"
   ]
  },
  {
   "cell_type": "code",
   "execution_count": 68,
   "metadata": {},
   "outputs": [
    {
     "name": "stdout",
     "output_type": "stream",
     "text": [
      "enter the number =3\n",
      "   1\n",
      "  12\n",
      " 123\n"
     ]
    }
   ],
   "source": [
    "x=\"\"\n",
    "n=int(input(\"enter the number =\"))\n",
    "for i in range(1,n+1):\n",
    "    x=x+str(i)\n",
    "    print((n-i)*\" \",x)"
   ]
  },
  {
   "cell_type": "code",
   "execution_count": 72,
   "metadata": {},
   "outputs": [
    {
     "name": "stdout",
     "output_type": "stream",
     "text": [
      "enter the number =5\n",
      "     1\n",
      "    22\n",
      "   333\n",
      "  4444\n",
      " 55555\n"
     ]
    }
   ],
   "source": [
    "x=\"\"\n",
    "n=int(input(\"enter the number =\"))\n",
    "for i in range(1,n+1):\n",
    "    x=str(i)*i\n",
    "    print((n-i)*\" \",x)"
   ]
  },
  {
   "cell_type": "code",
   "execution_count": 23,
   "metadata": {},
   "outputs": [
    {
     "name": "stdout",
     "output_type": "stream",
     "text": [
      "enter the no. of rows upto which u want to print 2\n",
      "oo *\n",
      "o ***\n"
     ]
    }
   ],
   "source": [
    "n=int(input(\"enter the no. of rows upto which u want to print \"))\n",
    "b=n\n",
    "a=1\n",
    "for i in range(1,n+1):\n",
    "    print(b*\"o\",a*\"*\")\n",
    "    b=b-1\n",
    "    a=a+2"
   ]
  },
  {
   "cell_type": "code",
   "execution_count": 2,
   "metadata": {},
   "outputs": [
    {
     "data": {
      "text/plain": [
       "'*'"
      ]
     },
     "execution_count": 2,
     "metadata": {},
     "output_type": "execute_result"
    }
   ],
   "source": [
    "1*\"*\""
   ]
  },
  {
   "cell_type": "code",
   "execution_count": 5,
   "metadata": {},
   "outputs": [
    {
     "name": "stdout",
     "output_type": "stream",
     "text": [
      "* \n",
      "* * \n",
      "* * * \n",
      "* * * * \n",
      "* * * * * \n"
     ]
    }
   ],
   "source": [
    "for i in range(5):\n",
    "    for j in range(i+1):\n",
    "        print('*',end=\" \")\n",
    "    print()\n"
   ]
  },
  {
   "cell_type": "code",
   "execution_count": 20,
   "metadata": {},
   "outputs": [
    {
     "name": "stdout",
     "output_type": "stream",
     "text": [
      "* * * * * \n",
      "* * * * \n",
      "* * * \n",
      "* * \n",
      "* \n"
     ]
    }
   ],
   "source": [
    "for i in range(5):\n",
    "    for j in range(n-i):\n",
    "        print('*',end=\" \")\n",
    "    print()"
   ]
  },
  {
   "cell_type": "markdown",
   "metadata": {},
   "source": [
    "# usage of end:"
   ]
  },
  {
   "cell_type": "code",
   "execution_count": 11,
   "metadata": {},
   "outputs": [
    {
     "name": "stdout",
     "output_type": "stream",
     "text": [
      "pankaj\n",
      "pankaj\n",
      "pankaj\n",
      "pankaj\n"
     ]
    }
   ],
   "source": [
    "i=4\n",
    "while i>=1:\n",
    "    print(\"pankaj\")\n",
    "    i=i-1\n",
    "    "
   ]
  },
  {
   "cell_type": "code",
   "execution_count": 10,
   "metadata": {},
   "outputs": [
    {
     "name": "stdout",
     "output_type": "stream",
     "text": [
      "pankaj\n",
      "\n",
      "pankaj\n",
      "\n",
      "pankaj\n",
      "\n",
      "pankaj\n",
      "\n"
     ]
    }
   ],
   "source": [
    "i=4\n",
    "while i>=1:\n",
    "    print(\"pankaj\")\n",
    "    i=i-1\n",
    "    print()"
   ]
  },
  {
   "cell_type": "code",
   "execution_count": 5,
   "metadata": {},
   "outputs": [
    {
     "name": "stdout",
     "output_type": "stream",
     "text": [
      "pankaj pankaj pankaj pankaj "
     ]
    }
   ],
   "source": [
    "i=4\n",
    "while i>=1:\n",
    "    print(\"pankaj\",end=\" \")\n",
    "    i=i-1"
   ]
  },
  {
   "cell_type": "code",
   "execution_count": 4,
   "metadata": {},
   "outputs": [
    {
     "name": "stdout",
     "output_type": "stream",
     "text": [
      "pankaj *\n",
      "pankaj *\n",
      "pankaj *\n",
      "pankaj *\n"
     ]
    }
   ],
   "source": [
    "i=4\n",
    "while i>=1:\n",
    "    print(\"pankaj\",end=\" \")\n",
    "    i=i-1\n",
    "    print(\"*\")"
   ]
  },
  {
   "cell_type": "code",
   "execution_count": 12,
   "metadata": {},
   "outputs": [
    {
     "name": "stdout",
     "output_type": "stream",
     "text": [
      "pankaj * pankaj * pankaj * pankaj * "
     ]
    }
   ],
   "source": [
    "i=4\n",
    "while i>=1:\n",
    "    print(\"pankaj\",end=\" \")\n",
    "    i=i-1\n",
    "    print(\"*\",end=\" \")"
   ]
  },
  {
   "cell_type": "code",
   "execution_count": 90,
   "metadata": {},
   "outputs": [
    {
     "name": "stdout",
     "output_type": "stream",
     "text": [
      "enter the value of n=1\n",
      "enter the value of c=1\n",
      "pankaj kumar "
     ]
    }
   ],
   "source": [
    "n=int(input(\"enter the value of n=\"))       # try with n=1 and c=1\n",
    "c=int(input(\"enter the value of c=\"))\n",
    "\n",
    "while n>0:\n",
    "    print(\"pankaj\",end=\" \")\n",
    "    n=n-1\n",
    "    \n",
    "while c>0:\n",
    "    print(\"kumar\",end=\" \")\n",
    "    c=c-1"
   ]
  },
  {
   "cell_type": "code",
   "execution_count": 19,
   "metadata": {},
   "outputs": [
    {
     "name": "stdout",
     "output_type": "stream",
     "text": [
      "enter the number upto which u want to print5\n",
      "o o o o * \n",
      "o o o * * \n",
      "o o * * * \n",
      "o * * * * \n",
      "* * * * * \n"
     ]
    }
   ],
   "source": [
    "n=int(input(\"enter the number upto which u want to print\"))\n",
    "\n",
    "for i in range(n):\n",
    "    for j in range(n-(i+1)):\n",
    "        print(\"o\",end=\" \")\n",
    "    for k in range(i+1):\n",
    "        print(\"*\",end=\" \")\n",
    "    print()\n",
    "    "
   ]
  },
  {
   "cell_type": "code",
   "execution_count": 13,
   "metadata": {},
   "outputs": [
    {
     "name": "stdout",
     "output_type": "stream",
     "text": [
      "enter the number upto which u want to print5\n",
      "        * +\n",
      "      * * +\n",
      "    * * * +\n",
      "  * * * * +\n",
      "* * * * * +\n"
     ]
    }
   ],
   "source": [
    "n=int(input(\"enter the number upto which u want to print\"))\n",
    "\n",
    "for i in range(n):\n",
    "    for j in range(n-(i+1)):\n",
    "        print(\" \",end=\" \")\n",
    "    for k in range(i+1):\n",
    "        print(\"*\",end=\" \")\n",
    "    print('+')"
   ]
  },
  {
   "cell_type": "markdown",
   "metadata": {},
   "source": [
    "# pattern"
   ]
  },
  {
   "cell_type": "code",
   "execution_count": 48,
   "metadata": {},
   "outputs": [
    {
     "name": "stdout",
     "output_type": "stream",
     "text": [
      "enter the number upto which u want to print=5\n",
      "* * * * * \n",
      "o * * * * \n",
      "o o * * * \n",
      "o o o * * \n",
      "o o o o * \n"
     ]
    }
   ],
   "source": [
    "n=int(input(\"enter the number upto which u want to print=\"))\n",
    "\n",
    "for i in range(n):\n",
    "    for k in range(i):\n",
    "        print(\"o\",end=\" \")\n",
    "    for j in range(n-i):\n",
    "        print(\"*\",end=\" \")\n",
    "\n",
    "    print()"
   ]
  },
  {
   "cell_type": "code",
   "execution_count": 18,
   "metadata": {},
   "outputs": [
    {
     "name": "stdout",
     "output_type": "stream",
     "text": [
      "enter the number upto which u want to print=5\n",
      "        * \n",
      "      * * * \n",
      "    * * * * * \n",
      "  * * * * * * * \n",
      "* * * * * * * * * \n"
     ]
    }
   ],
   "source": [
    "n=int(input(\"enter the number upto which u want to print=\"))\n",
    "\n",
    "for i in range(n):\n",
    "    for k in range(n-(i+1)):\n",
    "        print(\" \",end=\" \")\n",
    "    for j in range(2*i+1):\n",
    "        print(\"*\",end=\" \")\n",
    "\n",
    "    print()"
   ]
  },
  {
   "cell_type": "code",
   "execution_count": 46,
   "metadata": {},
   "outputs": [
    {
     "name": "stdout",
     "output_type": "stream",
     "text": [
      "enter the number upto which u want to print=5\n",
      "* * * * * \n",
      "  * * * \n",
      "    * \n",
      "      \n",
      "        \n"
     ]
    }
   ],
   "source": [
    "n=int(input(\"enter the number upto which u want to print=\"))\n",
    "\n",
    "for i in range(n):\n",
    "    for j in range(i):\n",
    "        print(\" \",end=\" \")\n",
    "    for k in range(n-2*i):\n",
    "        print(\"*\",end=' ')\n",
    "    print()"
   ]
  },
  {
   "cell_type": "code",
   "execution_count": 21,
   "metadata": {},
   "outputs": [
    {
     "name": "stdout",
     "output_type": "stream",
     "text": [
      "enter the row upto which u want to print3\n",
      "* o o o * \n",
      "* * o * * \n",
      "* * * * * * \n"
     ]
    }
   ],
   "source": [
    "n=int(input(\"enter the row upto which u want to print\"))\n",
    "for i in range(n):\n",
    "    for j in range(1+i):\n",
    "        print(\"*\",end=\" \")\n",
    "    for k in range(n-(2*i)):\n",
    "        print(\"o\",end=\" \")\n",
    "    for l in range(1+i):\n",
    "        print(\"*\",end=\" \")\n",
    "    print()"
   ]
  },
  {
   "cell_type": "code",
   "execution_count": 19,
   "metadata": {},
   "outputs": [
    {
     "name": "stdout",
     "output_type": "stream",
     "text": [
      "* \n",
      "* * \n",
      "* * * \n",
      "* * * * \n",
      "* * * * * \n"
     ]
    }
   ],
   "source": [
    "for i in range(5):\n",
    "    for j in range(i+1):\n",
    "        print('*',end=\" \")\n",
    "    print()"
   ]
  },
  {
   "cell_type": "code",
   "execution_count": 31,
   "metadata": {},
   "outputs": [
    {
     "name": "stdout",
     "output_type": "stream",
     "text": [
      "* * * * * \n",
      "* * * * \n",
      "* * * \n",
      "* * \n",
      "* \n"
     ]
    }
   ],
   "source": [
    "for i in range(5):\n",
    "    for j in range(n-i):\n",
    "        print('*',end=\" \")\n",
    "    print() # j wale loop k khatam hone k baad hame next line mai aana hai i.e after completion of  j in (5-0) so j will run for j=0, j=1,j=2,j=3,j=4 then next line"
   ]
  },
  {
   "cell_type": "code",
   "execution_count": 26,
   "metadata": {},
   "outputs": [
    {
     "name": "stdout",
     "output_type": "stream",
     "text": [
      "enter the value of n=5\n",
      "* \n",
      "* * \n",
      "* * * \n",
      "* * * * \n",
      "* * * * * \n",
      "* * * * * \n",
      "* * * * \n",
      "* * * \n",
      "* * \n",
      "* \n"
     ]
    }
   ],
   "source": [
    "n=int(input(\"enter the value of n=\"))\n",
    "for i in range(n):\n",
    "    for j in range(i+1):\n",
    "        print('*',end=\" \")\n",
    "    print()\n",
    "for k in range(n):\n",
    "    for j in range(n-k):\n",
    "        print('*',end=\" \")\n",
    "    print()\n",
    "    "
   ]
  },
  {
   "cell_type": "code",
   "execution_count": 29,
   "metadata": {},
   "outputs": [
    {
     "name": "stdout",
     "output_type": "stream",
     "text": [
      "enter the value of n=5\n",
      "* \n",
      "* * \n",
      "* * * \n",
      "* * * * \n",
      "* * * * * \n",
      "* * * * * \n",
      "* * * * \n",
      "* * * \n",
      "* * \n",
      "* \n",
      "* \n",
      "* * \n",
      "* * * \n",
      "* * * * \n",
      "* * * * * \n",
      "* * * * * \n",
      "* * * * \n",
      "* * * \n",
      "* * \n",
      "* \n"
     ]
    }
   ],
   "source": [
    "n=int(input(\"enter the value of n=\"))\n",
    "c=2\n",
    "while c>0: \n",
    "    for i in range(n):\n",
    "        for j in range(i+1):\n",
    "            print('*',end=\" \")\n",
    "        print()\n",
    "    for k in range(n):\n",
    "        for j in range(n-k):\n",
    "            print('*',end=\" \")\n",
    "        print()\n",
    "    c=c-1"
   ]
  },
  {
   "cell_type": "code",
   "execution_count": 32,
   "metadata": {},
   "outputs": [
    {
     "name": "stdout",
     "output_type": "stream",
     "text": [
      "pankaj\n",
      "\n",
      "kumar\n"
     ]
    }
   ],
   "source": [
    "print(\"pankaj\")\n",
    "print()\n",
    "print(\"kumar\")"
   ]
  },
  {
   "cell_type": "code",
   "execution_count": 1,
   "metadata": {},
   "outputs": [
    {
     "name": "stdout",
     "output_type": "stream",
     "text": [
      "* -\n",
      "* * -\n",
      "* * * -\n",
      "* * * * -\n",
      "* * * * * -\n"
     ]
    }
   ],
   "source": [
    "for i in range(5):\n",
    "    for j in range(i+1):\n",
    "        print('*',end=\" \")\n",
    "    print('-')\n"
   ]
  },
  {
   "cell_type": "code",
   "execution_count": 41,
   "metadata": {},
   "outputs": [
    {
     "name": "stdout",
     "output_type": "stream",
     "text": [
      "1 \n",
      "2 2 \n",
      "3 3 3 \n",
      "4 4 4 4 \n",
      "5 5 5 5 5 \n"
     ]
    }
   ],
   "source": [
    "for i in range(5):\n",
    "    for j in range(i+1):\n",
    "        print(i+1,end=\" \")\n",
    "    print()"
   ]
  },
  {
   "cell_type": "code",
   "execution_count": 42,
   "metadata": {},
   "outputs": [
    {
     "name": "stdout",
     "output_type": "stream",
     "text": [
      " enter the value of n5\n",
      "1 1 1 1 1 \n",
      "2 2 2 2 \n",
      "3 3 3 \n",
      "4 4 \n",
      "5 \n"
     ]
    }
   ],
   "source": [
    "n=int(input(\" enter the value of n\"))\n",
    "for i in range(n):\n",
    "    for j in range(n-i):\n",
    "        print(i+1,end=\" \")\n",
    "    print()"
   ]
  },
  {
   "cell_type": "code",
   "execution_count": 43,
   "metadata": {},
   "outputs": [
    {
     "name": "stdout",
     "output_type": "stream",
     "text": [
      "1 \n",
      "1 2 \n",
      "1 2 3 \n",
      "1 2 3 4 \n",
      "1 2 3 4 5 \n"
     ]
    }
   ],
   "source": [
    "for i in range(5):\n",
    "    for j in range(i+1):\n",
    "        print(j+1,end=\" \")\n",
    "    print()"
   ]
  },
  {
   "cell_type": "code",
   "execution_count": 49,
   "metadata": {},
   "outputs": [
    {
     "name": "stdout",
     "output_type": "stream",
     "text": [
      " enter the value of n5\n",
      "0 1 2 3 4 \n",
      "0 1 2 3 \n",
      "0 1 2 \n",
      "0 1 \n",
      "0 \n"
     ]
    }
   ],
   "source": [
    "n=int(input(\" enter the value of n\"))\n",
    "for i in range(n):\n",
    "    for j in range(n-i):\n",
    "        print(j,end=\" \")\n",
    "    print()"
   ]
  },
  {
   "cell_type": "code",
   "execution_count": 24,
   "metadata": {},
   "outputs": [
    {
     "name": "stdout",
     "output_type": "stream",
     "text": [
      "hello\n",
      "hello\n",
      "hello\n",
      "hello\n",
      "hello\n"
     ]
    }
   ],
   "source": [
    "for i in range(5):\n",
    "    print(\"hello\")"
   ]
  },
  {
   "cell_type": "code",
   "execution_count": null,
   "metadata": {},
   "outputs": [],
   "source": [
    "\n"
   ]
  }
 ],
 "metadata": {
  "kernelspec": {
   "display_name": "Python 3",
   "language": "python",
   "name": "python3"
  },
  "language_info": {
   "codemirror_mode": {
    "name": "ipython",
    "version": 3
   },
   "file_extension": ".py",
   "mimetype": "text/x-python",
   "name": "python",
   "nbconvert_exporter": "python",
   "pygments_lexer": "ipython3",
   "version": "3.8.5"
  }
 },
 "nbformat": 4,
 "nbformat_minor": 4
}
