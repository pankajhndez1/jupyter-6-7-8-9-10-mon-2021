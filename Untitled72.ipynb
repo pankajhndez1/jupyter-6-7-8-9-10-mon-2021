{
 "cells": [
  {
   "cell_type": "markdown",
   "metadata": {},
   "source": [
    "# Python Access Modifiers"
   ]
  },
  {
   "cell_type": "raw",
   "metadata": {},
   "source": [
    "In most of the object-oriented languages access modifiers are used to limit the access to the variables and functions of a class. Most of the languages use three types of access modifiers, they are - private, public and protected.\n",
    "\n",
    "Just like any other object oriented programming language, access to variables or functions can also be limited in python using the access modifiers. Python makes the use of underscores to specify the access modifier for a specific data member and member function in a class.\n",
    "\n",
    "Access modifiers play an important role to protect the data from unauthorized access as well as protecting it from getting manipulated. When inheritance is implemented there is a huge risk for the data to get destroyed(manipulated) due to transfer of unwanted data from the parent class to the child class. Therefore, it is very important to provide the right access modifiers for different data members and member functions depending upon the requirements."
   ]
  },
  {
   "cell_type": "markdown",
   "metadata": {},
   "source": [
    "# Python: Types of Access Modifiers"
   ]
  },
  {
   "cell_type": "raw",
   "metadata": {},
   "source": [
    "There are 3 types of access modifiers for a class in Python. These access modifiers define how the members of the class can be accessed. Of course, any member of a class is accessible inside any member function of that same class. Moving ahead to the type of access modifiers, they are:"
   ]
  },
  {
   "cell_type": "markdown",
   "metadata": {},
   "source": [
    "# Access Modifier: Public"
   ]
  },
  {
   "cell_type": "raw",
   "metadata": {},
   "source": [
    "The members declared as Public are accessible from outside the Class through an object of the class"
   ]
  },
  {
   "cell_type": "markdown",
   "metadata": {},
   "source": [
    "# Access Modifier: Protected"
   ]
  },
  {
   "cell_type": "raw",
   "metadata": {},
   "source": [
    "The members declared as Protected are accessible from outside the class but only in a class derived from it that is in the child or subclass."
   ]
  },
  {
   "cell_type": "markdown",
   "metadata": {},
   "source": [
    "# Access Modifier: Private"
   ]
  },
  {
   "cell_type": "raw",
   "metadata": {},
   "source": [
    "These members are only accessible from within the class. No outside Access is allowed."
   ]
  },
  {
   "cell_type": "markdown",
   "metadata": {},
   "source": [
    "# examples of public Access Modifier"
   ]
  },
  {
   "cell_type": "raw",
   "metadata": {},
   "source": [
    "By default, all the variables and member functions of a class are public in a python program."
   ]
  },
  {
   "cell_type": "code",
   "execution_count": 13,
   "metadata": {},
   "outputs": [
    {
     "data": {
      "text/plain": [
       "999000"
      ]
     },
     "execution_count": 13,
     "metadata": {},
     "output_type": "execute_result"
    }
   ],
   "source": [
    "# defining a class Employee\n",
    "class Employee:\n",
    "    # constructor\n",
    "    def __init__(self, name, sal):\n",
    "        self.name = name\n",
    "        self.sal = sal\n",
    "        \n",
    "        \n",
    "emp = Employee(\"Ironman\", 999000);\n",
    "emp.sal\n"
   ]
  },
  {
   "cell_type": "markdown",
   "metadata": {},
   "source": [
    "# note***"
   ]
  },
  {
   "cell_type": "raw",
   "metadata": {},
   "source": [
    "All the member variables of the class in the above code will be by default public, hence we can access them as above !! by making the object of class !!"
   ]
  },
  {
   "cell_type": "markdown",
   "metadata": {},
   "source": [
    "# examples of protected Access Modifier"
   ]
  },
  {
   "cell_type": "raw",
   "metadata": {},
   "source": [
    "According to Python convention adding a prefix _(single underscore) to a variable name makes it protected. Yes, no additional keyword required."
   ]
  },
  {
   "cell_type": "code",
   "execution_count": 19,
   "metadata": {},
   "outputs": [
    {
     "name": "stdout",
     "output_type": "stream",
     "text": [
      "10000\n",
      "We manage Employees\n"
     ]
    }
   ],
   "source": [
    "# defining a class Employee\n",
    "class Employee:\n",
    "    # constructor\n",
    "    def __init__(self, name, sal):\n",
    "        self._name = name   # protected attribute \n",
    "        self._sal = sal     # protected attribute\n",
    "        \n",
    "# In the code above we have made the class variables \n",
    "# name and sal protected by adding an _(underscore) as a prefix, \n",
    "# so now we can access them as follows:\n",
    "\n",
    "\n",
    "emp = Employee(\"Captain\", 10000)\n",
    "emp._sal\n",
    "\n",
    "\n",
    "\n",
    "\n",
    "#Similarly if there is a child class extending the class Employee \n",
    "# then it can also access the protected member variables of the class Employee. \n",
    "#Let's have an example:\n",
    "# defining a child class\n",
    "\n",
    "\n",
    "class HR(Employee):\n",
    "    \n",
    "    # member function task\n",
    "    def task(self):\n",
    "        print (\"We manage Employees\")\n",
    "        \n",
    "        \n",
    "# Now let's try to access protected member variable of class Employee from the class HR:\n",
    "\n",
    "hrEmp = HR(\"Captain\", 10000);\n",
    "print(hrEmp._sal)     # accessing the protected variable of parent class with the help of child class object !!\n",
    "hrEmp.task()\n"
   ]
  },
  {
   "cell_type": "markdown",
   "metadata": {},
   "source": [
    "# private Access Modifier"
   ]
  },
  {
   "cell_type": "raw",
   "metadata": {},
   "source": [
    "While the addition of prefix __(double underscore) results in a member variable or function becoming private."
   ]
  },
  {
   "cell_type": "code",
   "execution_count": 20,
   "metadata": {},
   "outputs": [
    {
     "ename": "AttributeError",
     "evalue": "'Employee' object has no attribute '__sal'",
     "output_type": "error",
     "traceback": [
      "\u001b[1;31m---------------------------------------------------------------------------\u001b[0m",
      "\u001b[1;31mAttributeError\u001b[0m                            Traceback (most recent call last)",
      "\u001b[1;32m<ipython-input-20-895d3aec0665>\u001b[0m in \u001b[0;36m<module>\u001b[1;34m\u001b[0m\n\u001b[0;32m      8\u001b[0m \u001b[1;33m\u001b[0m\u001b[0m\n\u001b[0;32m      9\u001b[0m \u001b[0memp\u001b[0m \u001b[1;33m=\u001b[0m \u001b[0mEmployee\u001b[0m\u001b[1;33m(\u001b[0m\u001b[1;34m\"Bill\"\u001b[0m\u001b[1;33m,\u001b[0m \u001b[1;36m10000\u001b[0m\u001b[1;33m)\u001b[0m\u001b[1;33m\u001b[0m\u001b[1;33m\u001b[0m\u001b[0m\n\u001b[1;32m---> 10\u001b[1;33m \u001b[0memp\u001b[0m\u001b[1;33m.\u001b[0m\u001b[0m__sal\u001b[0m\u001b[1;33m\u001b[0m\u001b[1;33m\u001b[0m\u001b[0m\n\u001b[0m",
      "\u001b[1;31mAttributeError\u001b[0m: 'Employee' object has no attribute '__sal'"
     ]
    }
   ],
   "source": [
    "# defining class Employee\n",
    "class Employee:\n",
    "    def __init__(self, name, sal):\n",
    "        self.__name = name;    # private attribute \n",
    "        self.__sal = sal;      # private attribute\n",
    "\n",
    "# we want to access the private member variable, we will get an error.\n",
    "\n",
    "emp = Employee(\"Bill\", 10000)\n",
    "emp.__sal"
   ]
  },
  {
   "cell_type": "code",
   "execution_count": 27,
   "metadata": {},
   "outputs": [
    {
     "name": "stdout",
     "output_type": "stream",
     "text": [
      "Welcome to  Stark Industries\n",
      "Here Steve is working on Mark 4\n",
      "The salary of  Steve  is  9999999\n"
     ]
    }
   ],
   "source": [
    "class Company:\n",
    "    \n",
    "    def __init__(self, name, proj):\n",
    "        self.name = name      # name (name of company) is public\n",
    "        self._proj = proj     # proj (current project) is protected\n",
    "    \n",
    "    # public function to show the details\n",
    "    def show(self):\n",
    "        print(\"The code of the company is = \",self.ccode)\n",
    "\n",
    "# define child class Emp\n",
    "class Emp(Company):\n",
    "    # constructor\n",
    "    def __init__(self, eName, sal, cName, proj):\n",
    "        # calling parent class constructor\n",
    "        Company.__init__(self, cName, proj)\n",
    "        self.name = eName   # public member variable\n",
    "        self.__sal = sal    # private member variable\n",
    "    \n",
    "    # public function to show salary details\n",
    "    def show_sal(self):\n",
    "        print(\"The salary of \",self.name,\" is \",self.__sal,)\n",
    "\n",
    "# creating instance of Company class\n",
    "c = Company(\"Stark Industries\", \"Mark 4\")\n",
    "# creating instance of Employee class\n",
    "e = Emp(\"Steve\", 9999999, c.name, c._proj)\n",
    "\n",
    "print(\"Welcome to \", c.name)\n",
    "print(\"Here\",e.name,\"is working on\",e._proj)\n",
    "\n",
    "# to show the value of __sal we have created a public function show_sal()\n",
    "e.show_sal()\n",
    "\n",
    "#note we cannot call the private variable directly by writting  e.__sal i.e\n"
   ]
  },
  {
   "cell_type": "markdown",
   "metadata": {},
   "source": [
    "# note ***"
   ]
  },
  {
   "cell_type": "code",
   "execution_count": null,
   "metadata": {},
   "outputs": [],
   "source": [
    "print(e.__sal)          # note  will give error as it is private"
   ]
  },
  {
   "cell_type": "code",
   "execution_count": 34,
   "metadata": {},
   "outputs": [
    {
     "name": "stdout",
     "output_type": "stream",
     "text": [
      "company name is  byjus\n",
      "private member accessing !!    -->>   so company CEO name was BYJU RAVENDRANAM\n",
      "now accesing the protected variable of parent class !!\n",
      "so pankaj training period salary was :: \n",
      "23000\n"
     ]
    }
   ],
   "source": [
    "class Employee:\n",
    "    def __init__(self,name,sal):\n",
    "        self.name=name\n",
    "        self._sal=sal    # protected variable !!\n",
    "    def show_sal(self):\n",
    "        print(\"the protected var value is \",self._sal)\n",
    "class Company(Employee):\n",
    "    def __init__(self,cname,cceo,ename,esal):\n",
    "        super().__init__(ename,esal)\n",
    "        self.company_name=cname\n",
    "        self.__ceo_name=cceo\n",
    "    def disp(self):\n",
    "        print(\"company name is \",self.company_name)\n",
    "        print(\"private member accessing !!    -->>   so company CEO name was\",self.__ceo_name)\n",
    "  \n",
    "com=Company('byjus',\"BYJU RAVENDRANAM\",\"pankaj\",23000)\n",
    "com.disp()\n",
    "\n",
    "print(\"now accesing the protected variable of parent class !!\")\n",
    "print(\"so pankaj training period salary was :: \")\n",
    "print(com._sal)\n",
    "        "
   ]
  },
  {
   "cell_type": "markdown",
   "metadata": {},
   "source": [
    "# code with harry explanation ::"
   ]
  },
  {
   "cell_type": "markdown",
   "metadata": {},
   "source": [
    "# public , private and protected"
   ]
  },
  {
   "cell_type": "raw",
   "metadata": {},
   "source": [
    "public : which can be accessed from anywhere !!"
   ]
  },
  {
   "cell_type": "raw",
   "metadata": {},
   "source": [
    "private :   synatax ::  __private variable\n",
    "\n",
    "so when we declare a private variable we cannot use the private variable outside the class !! It can be only use INSIDE the class !!"
   ]
  },
  {
   "cell_type": "raw",
   "metadata": {},
   "source": [
    "protected :  syntax  :: _protected variable\n",
    "            \n",
    "so when we make a protected variable , then we can use this protected variable inside the class or we can use this protected variable inside the class which is derieved from our present working class !! , but no outside can use it !!\n",
    "\n",
    "so protected can be used/ accessed by the Base class (ex :- Employee ) and the class derieved from our base class !!\n",
    "so , we can always make the object of our Base class , and use it even outside the class !!"
   ]
  },
  {
   "cell_type": "markdown",
   "metadata": {},
   "source": [
    "# example :"
   ]
  },
  {
   "cell_type": "code",
   "execution_count": 11,
   "metadata": {},
   "outputs": [
    {
     "name": "stdout",
     "output_type": "stream",
     "text": [
      "9\n",
      "98\n"
     ]
    }
   ],
   "source": [
    "class Employee:\n",
    "    no_of_leaves=8  # public variable\n",
    "    var=6           # public variable \n",
    "    _protec=9       # protected variable\n",
    "    __private = 98  # private variable\n",
    "    \n",
    "    def __init__(self,name,salary,arole):\n",
    "        self.name=name\n",
    "        self.salary=salary\n",
    "        self.role=arole\n",
    "        \n",
    "    def printdetails(self):\n",
    "        return f'name of employee is {self.name} and the slary of employee is {self.salary} and role is {self.role}'\n",
    "    \n",
    "    @classmethod\n",
    "    def change_leaves(cls,newleaves):\n",
    "        cls.no_of_leaves=newleaves\n",
    "        \n",
    "    @classmethod\n",
    "    def from_dash(cls,string):\n",
    "        return cls('string.split(\"-\")')\n",
    "    \n",
    "    @staticmethod\n",
    "    def printgood(string):\n",
    "        print(\"this os  good\"+string)\n",
    "        \n",
    "emp=Employee(\"harry\",343,'programmer')\n",
    "print(emp._protec)  # so we can print/ access  this ( protected varibale ) even outside the class !! by making the class object !! \n",
    "                    # and no error will be shown to us  !!\n",
    "    \n",
    "# note we generally do not access the private variable outside the class , but if it is too neccessary for us to access the private\n",
    "# variable then we can do this in given below particular way\n",
    "\n",
    "print(emp._Employee__private)   # so python saved our private variable as (  _classname__privatevariablename ) \n",
    "                                # so that no one can easilly access the private variable outside the class even by mistake!!\n",
    "                                # this is called name mangling in python !!\n",
    "                        \n"
   ]
  },
  {
   "cell_type": "markdown",
   "metadata": {},
   "source": [
    "# abstraction, encapsulation and enamurate¶"
   ]
  },
  {
   "cell_type": "raw",
   "metadata": {},
   "source": [
    "First of all let me tell you that abstraction and encapsulation are not concept of python. These are features of Object Oriented Programming(OOP) Methodology.\n",
    "\n"
   ]
  },
  {
   "cell_type": "markdown",
   "metadata": {},
   "source": [
    "# Abstraction (hide)"
   ]
  },
  {
   "cell_type": "raw",
   "metadata": {},
   "source": [
    "\n",
    "Abstraction: Suppose you are going to an ATM to withdraw money. You simply insert your card and click some buttons and get the money. You don’t know what is happening internally on press of these buttons. Basically you are hiding unnecessary information from user. So, abstraction is a method to hide internal functionalities from user."
   ]
  },
  {
   "cell_type": "markdown",
   "metadata": {},
   "source": [
    "# Encapsulation"
   ]
  },
  {
   "cell_type": "raw",
   "metadata": {},
   "source": [
    "Encapsulation: Suppose there is a tree. Now a tree can have its components like root, stem, branches, leaves, flowers and fruits. It has some functionalities like Photosynthesis. But in a single unit we call it a tree. In same way encapsulation is a characteristic to bind data members and functions in single unit.\n",
    "\n",
    "Encapsulation is one of the fundamental concepts in object-oriented programming (OOP). It describes the idea of wrapping data and the methods that work on data within one unit. This puts restrictions on accessing variables and methods directly and can prevent the accidental modification of data. To prevent accidental change, an object’s variable can only be changed by an object’s method. Those types of variables are known as ((  private variable  )). \n",
    "A class is an example of encapsulation as it encapsulates all the data that is member functions, variables, etc.\n",
    "\n",
    "Consider a real-life example of encapsulation, in a company, there are different sections like the accounts section, finance section, sales section etc. The finance section handles all the financial transactions and keeps records of all the data related to finance. Similarly, the sales section handles all the sales-related activities and keeps records of all the sales. Now there may arise a situation when for some reason an official from the finance section needs all the data about sales in a particular month. In this case, he is not allowed to directly access the data of the sales section. He will first have to contact some other officer in the sales section and then request him to give the particular data. This is what encapsulation is. Here the data of the sales section and the employees that can manipulate them are wrapped under a single name “sales section”. Using encapsulation also hides the data. In this example, the data of the sections like sales, finance, or accounts are hidden from any other section.\n"
   ]
  },
  {
   "cell_type": "markdown",
   "metadata": {},
   "source": [
    "# enumerate"
   ]
  },
  {
   "cell_type": "code",
   "execution_count": null,
   "metadata": {},
   "outputs": [],
   "source": []
  }
 ],
 "metadata": {
  "kernelspec": {
   "display_name": "Python 3",
   "language": "python",
   "name": "python3"
  },
  "language_info": {
   "codemirror_mode": {
    "name": "ipython",
    "version": 3
   },
   "file_extension": ".py",
   "mimetype": "text/x-python",
   "name": "python",
   "nbconvert_exporter": "python",
   "pygments_lexer": "ipython3",
   "version": "3.8.5"
  }
 },
 "nbformat": 4,
 "nbformat_minor": 4
}
